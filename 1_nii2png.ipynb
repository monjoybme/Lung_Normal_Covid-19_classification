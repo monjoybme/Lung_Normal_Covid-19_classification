{
  "nbformat": 4,
  "nbformat_minor": 0,
  "metadata": {
    "colab": {
      "name": "1_nii2png.ipynb",
      "provenance": []
    },
    "kernelspec": {
      "name": "python3",
      "display_name": "Python 3"
    },
    "language_info": {
      "name": "python"
    }
  },
  "cells": [
    {
      "cell_type": "markdown",
      "metadata": {
        "id": "1dPSrdvbDfGB"
      },
      "source": [
        "# **Mounting Google Drive**\n"
      ]
    },
    {
      "cell_type": "code",
      "metadata": {
        "colab": {
          "base_uri": "https://localhost:8080/"
        },
        "id": "RWSJpsyKqHjH",
        "outputId": "726d68e0-88ae-40fa-aeac-4251066358a6"
      },
      "source": [
        "from google.colab import drive\n",
        "drive.mount('/content/drive')"
      ],
      "execution_count": 57,
      "outputs": [
        {
          "output_type": "stream",
          "text": [
            "Drive already mounted at /content/drive; to attempt to forcibly remount, call drive.mount(\"/content/drive\", force_remount=True).\n"
          ],
          "name": "stdout"
        }
      ]
    },
    {
      "cell_type": "markdown",
      "metadata": {
        "id": "xEYzMzfCQNkm"
      },
      "source": [
        "# **Load packages**"
      ]
    },
    {
      "cell_type": "code",
      "metadata": {
        "id": "b9-GoeKCCBG6"
      },
      "source": [
        "import numpy, shutil, os, nibabel\n",
        "import sys, getopt\n",
        "import argparse\n",
        "import imageio"
      ],
      "execution_count": 58,
      "outputs": []
    },
    {
      "cell_type": "markdown",
      "metadata": {
        "id": "NNd1cBV7QTDn"
      },
      "source": [
        "# **Data source and Destination paths**"
      ]
    },
    {
      "cell_type": "code",
      "metadata": {
        "id": "lVTX9rfZCLEH"
      },
      "source": [
        "input_path = '/content/drive/MyDrive/Radiology_workshop_monjoy/data_files/Normal/'\n",
        "rotation_angle = 90\n",
        "save_pngs_path = '/content/drive/MyDrive/Radiology_workshop_monjoy/save_pngs_path/Normal/'"
      ],
      "execution_count": 59,
      "outputs": []
    },
    {
      "cell_type": "markdown",
      "metadata": {
        "id": "t7d9P_icQfUr"
      },
      "source": [
        "# **Get list of nii or nii.gz source files**"
      ]
    },
    {
      "cell_type": "code",
      "metadata": {
        "colab": {
          "base_uri": "https://localhost:8080/"
        },
        "id": "BDYKZeQ2F8dv",
        "outputId": "73c19b88-8f84-4dad-efe7-bb1aa57107c4"
      },
      "source": [
        "slice_counter = 0\n",
        "source_files = os.listdir(input_path)\n",
        "#identify sample ids and get source ids \n",
        "source_ids = [files[0:10] for files in source_files if files.endswith('.nii.gz')]\n",
        "sample_ids = list(set(source_ids))\n",
        "sample_ids"
      ],
      "execution_count": 60,
      "outputs": [
        {
          "output_type": "execute_result",
          "data": {
            "text/plain": [
              "['study_0247',\n",
              " 'study_0241',\n",
              " 'study_0238',\n",
              " 'study_0245',\n",
              " 'study_0240',\n",
              " 'study_0246',\n",
              " 'study_0254',\n",
              " 'study_0233',\n",
              " 'study_0251',\n",
              " 'study_0248',\n",
              " 'study_0232',\n",
              " 'study_0249',\n",
              " 'study_0252',\n",
              " 'study_0243',\n",
              " 'study_0235',\n",
              " 'study_0242',\n",
              " 'study_0237',\n",
              " 'study_0236',\n",
              " 'study_0231',\n",
              " 'study_0234',\n",
              " 'study_0250',\n",
              " 'study_0244',\n",
              " 'study_0239']"
            ]
          },
          "metadata": {
            "tags": []
          },
          "execution_count": 60
        }
      ]
    },
    {
      "cell_type": "code",
      "metadata": {
        "colab": {
          "base_uri": "https://localhost:8080/"
        },
        "id": "kPP6GQR6GDcV",
        "outputId": "5432bf67-fdff-4e3d-e8d4-92ccf5f03e29"
      },
      "source": [
        "for file in sample_ids:\n",
        "    fname = os.path.basename(file)\n",
        "    print(fname)\n",
        "    image_array = nibabel.load(input_path + fname+'.nii.gz').get_data()\n",
        "    print(len(image_array.shape))\n",
        "    # set destination folder\n",
        "    if not os.path.exists(save_pngs_path+'/'+fname):\n",
        "        os.makedirs(save_pngs_path+'/'+fname)\n",
        "        print(\"Created ouput directory: \" + save_pngs_path+'/'+fname)\n",
        "    \n",
        "    # For 3D image    \n",
        "    if len(image_array.shape) == 3:\n",
        "        nx, ny, nz = image_array.shape\n",
        "        total_slices = image_array.shape[2]\n",
        "        print(total_slices)\n",
        "        # iterate through slices\n",
        "        for current_slice in range(0, total_slices):\n",
        "            # alternate slices\n",
        "            if (slice_counter % 1) == 0:\n",
        "                # rotate or no rotate\n",
        "                if rotation_angle == 90:\n",
        "                    data = numpy.rot90(image_array[:, :, current_slice])\n",
        "                elif rotation_angle == 180:\n",
        "                    data = numpy.rot90(numpy.rot90(image_array[:, :, current_slice]))\n",
        "                elif rotation_angle == 270:\n",
        "                    data = numpy.rot90(numpy.rot90(numpy.rot90(image_array[:, :, current_slice])))\n",
        "                 #alternate slices and save as png\n",
        "                if (slice_counter % 1) == 0:\n",
        "                    print('Saving image...')\n",
        "                    image_name = fname[:-4] + \"_z\" + \"{:0>3}\".format(str(current_slice+1))+ \".png\"\n",
        "                    imageio.imwrite(save_pngs_path+fname+'/'+image_name, data)\n",
        "                    print('Saved.')\n",
        "                    #move images to folder\n",
        "                    print('Moving image...')\n",
        "                    src = image_name\n",
        "                    slice_counter += 1\n",
        "                    print('Moved.')\n",
        "                    print('Finished converting images')\n",
        "    "
      ],
      "execution_count": 61,
      "outputs": [
        {
          "output_type": "stream",
          "text": [
            "study_0247\n"
          ],
          "name": "stdout"
        },
        {
          "output_type": "stream",
          "text": [
            "/usr/local/lib/python3.7/dist-packages/ipykernel_launcher.py:4: DeprecationWarning: get_data() is deprecated in favor of get_fdata(), which has a more predictable return type. To obtain get_data() behavior going forward, use numpy.asanyarray(img.dataobj).\n",
            "\n",
            "* deprecated from version: 3.0\n",
            "* Will raise <class 'nibabel.deprecator.ExpiredDeprecationError'> as of version: 5.0\n",
            "  after removing the cwd from sys.path.\n",
            "WARNING:root:Lossy conversion from int16 to uint8. Range [-2048, 1559]. Convert image to uint8 prior to saving to suppress this warning.\n"
          ],
          "name": "stderr"
        },
        {
          "output_type": "stream",
          "text": [
            "3\n",
            "Created ouput directory: /content/drive/MyDrive/Radiology_workshop_monjoy/save_pngs_path/Normal//study_0247\n",
            "41\n",
            "Saving image...\n"
          ],
          "name": "stdout"
        },
        {
          "output_type": "stream",
          "text": [
            "WARNING:root:Lossy conversion from int16 to uint8. Range [-2048, 1531]. Convert image to uint8 prior to saving to suppress this warning.\n"
          ],
          "name": "stderr"
        },
        {
          "output_type": "stream",
          "text": [
            "Saved.\n",
            "Moving image...\n",
            "Moved.\n",
            "Finished converting images\n",
            "Saving image...\n"
          ],
          "name": "stdout"
        },
        {
          "output_type": "stream",
          "text": [
            "WARNING:root:Lossy conversion from int16 to uint8. Range [-2048, 1362]. Convert image to uint8 prior to saving to suppress this warning.\n"
          ],
          "name": "stderr"
        },
        {
          "output_type": "stream",
          "text": [
            "Saved.\n",
            "Moving image...\n",
            "Moved.\n",
            "Finished converting images\n",
            "Saving image...\n"
          ],
          "name": "stdout"
        },
        {
          "output_type": "stream",
          "text": [
            "WARNING:root:Lossy conversion from int16 to uint8. Range [-2048, 1427]. Convert image to uint8 prior to saving to suppress this warning.\n"
          ],
          "name": "stderr"
        },
        {
          "output_type": "stream",
          "text": [
            "Saved.\n",
            "Moving image...\n",
            "Moved.\n",
            "Finished converting images\n",
            "Saving image...\n"
          ],
          "name": "stdout"
        },
        {
          "output_type": "stream",
          "text": [
            "WARNING:root:Lossy conversion from int16 to uint8. Range [-2048, 1517]. Convert image to uint8 prior to saving to suppress this warning.\n"
          ],
          "name": "stderr"
        },
        {
          "output_type": "stream",
          "text": [
            "Saved.\n",
            "Moving image...\n",
            "Moved.\n",
            "Finished converting images\n",
            "Saving image...\n",
            "Saved.\n",
            "Moving image...\n",
            "Moved.\n",
            "Finished converting images\n",
            "Saving image...\n"
          ],
          "name": "stdout"
        },
        {
          "output_type": "stream",
          "text": [
            "WARNING:root:Lossy conversion from int16 to uint8. Range [-2048, 1502]. Convert image to uint8 prior to saving to suppress this warning.\n",
            "WARNING:root:Lossy conversion from int16 to uint8. Range [-2048, 1332]. Convert image to uint8 prior to saving to suppress this warning.\n",
            "WARNING:root:Lossy conversion from int16 to uint8. Range [-2048, 1454]. Convert image to uint8 prior to saving to suppress this warning.\n"
          ],
          "name": "stderr"
        },
        {
          "output_type": "stream",
          "text": [
            "Saved.\n",
            "Moving image...\n",
            "Moved.\n",
            "Finished converting images\n",
            "Saving image...\n",
            "Saved.\n",
            "Moving image...\n",
            "Moved.\n",
            "Finished converting images\n",
            "Saving image...\n"
          ],
          "name": "stdout"
        },
        {
          "output_type": "stream",
          "text": [
            "WARNING:root:Lossy conversion from int16 to uint8. Range [-2048, 1379]. Convert image to uint8 prior to saving to suppress this warning.\n"
          ],
          "name": "stderr"
        },
        {
          "output_type": "stream",
          "text": [
            "Saved.\n",
            "Moving image...\n",
            "Moved.\n",
            "Finished converting images\n",
            "Saving image...\n"
          ],
          "name": "stdout"
        },
        {
          "output_type": "stream",
          "text": [
            "WARNING:root:Lossy conversion from int16 to uint8. Range [-2048, 1468]. Convert image to uint8 prior to saving to suppress this warning.\n"
          ],
          "name": "stderr"
        },
        {
          "output_type": "stream",
          "text": [
            "Saved.\n",
            "Moving image...\n",
            "Moved.\n",
            "Finished converting images\n",
            "Saving image...\n"
          ],
          "name": "stdout"
        },
        {
          "output_type": "stream",
          "text": [
            "WARNING:root:Lossy conversion from int16 to uint8. Range [-2048, 1422]. Convert image to uint8 prior to saving to suppress this warning.\n"
          ],
          "name": "stderr"
        },
        {
          "output_type": "stream",
          "text": [
            "Saved.\n",
            "Moving image...\n",
            "Moved.\n",
            "Finished converting images\n",
            "Saving image...\n"
          ],
          "name": "stdout"
        },
        {
          "output_type": "stream",
          "text": [
            "WARNING:root:Lossy conversion from int16 to uint8. Range [-2048, 1432]. Convert image to uint8 prior to saving to suppress this warning.\n"
          ],
          "name": "stderr"
        },
        {
          "output_type": "stream",
          "text": [
            "Saved.\n",
            "Moving image...\n",
            "Moved.\n",
            "Finished converting images\n",
            "Saving image...\n"
          ],
          "name": "stdout"
        },
        {
          "output_type": "stream",
          "text": [
            "WARNING:root:Lossy conversion from int16 to uint8. Range [-2048, 1466]. Convert image to uint8 prior to saving to suppress this warning.\n"
          ],
          "name": "stderr"
        },
        {
          "output_type": "stream",
          "text": [
            "Saved.\n",
            "Moving image...\n",
            "Moved.\n",
            "Finished converting images\n",
            "Saving image...\n"
          ],
          "name": "stdout"
        },
        {
          "output_type": "stream",
          "text": [
            "WARNING:root:Lossy conversion from int16 to uint8. Range [-2048, 1451]. Convert image to uint8 prior to saving to suppress this warning.\n"
          ],
          "name": "stderr"
        },
        {
          "output_type": "stream",
          "text": [
            "Saved.\n",
            "Moving image...\n",
            "Moved.\n",
            "Finished converting images\n",
            "Saving image...\n"
          ],
          "name": "stdout"
        },
        {
          "output_type": "stream",
          "text": [
            "WARNING:root:Lossy conversion from int16 to uint8. Range [-2048, 1325]. Convert image to uint8 prior to saving to suppress this warning.\n"
          ],
          "name": "stderr"
        },
        {
          "output_type": "stream",
          "text": [
            "Saved.\n",
            "Moving image...\n",
            "Moved.\n",
            "Finished converting images\n",
            "Saving image...\n"
          ],
          "name": "stdout"
        },
        {
          "output_type": "stream",
          "text": [
            "WARNING:root:Lossy conversion from int16 to uint8. Range [-2048, 1328]. Convert image to uint8 prior to saving to suppress this warning.\n"
          ],
          "name": "stderr"
        },
        {
          "output_type": "stream",
          "text": [
            "Saved.\n",
            "Moving image...\n",
            "Moved.\n",
            "Finished converting images\n",
            "Saving image...\n"
          ],
          "name": "stdout"
        },
        {
          "output_type": "stream",
          "text": [
            "WARNING:root:Lossy conversion from int16 to uint8. Range [-2048, 1356]. Convert image to uint8 prior to saving to suppress this warning.\n"
          ],
          "name": "stderr"
        },
        {
          "output_type": "stream",
          "text": [
            "Saved.\n",
            "Moving image...\n",
            "Moved.\n",
            "Finished converting images\n",
            "Saving image...\n"
          ],
          "name": "stdout"
        },
        {
          "output_type": "stream",
          "text": [
            "WARNING:root:Lossy conversion from int16 to uint8. Range [-2048, 1419]. Convert image to uint8 prior to saving to suppress this warning.\n"
          ],
          "name": "stderr"
        },
        {
          "output_type": "stream",
          "text": [
            "Saved.\n",
            "Moving image...\n",
            "Moved.\n",
            "Finished converting images\n",
            "Saving image...\n"
          ],
          "name": "stdout"
        },
        {
          "output_type": "stream",
          "text": [
            "WARNING:root:Lossy conversion from int16 to uint8. Range [-2048, 1352]. Convert image to uint8 prior to saving to suppress this warning.\n"
          ],
          "name": "stderr"
        },
        {
          "output_type": "stream",
          "text": [
            "Saved.\n",
            "Moving image...\n",
            "Moved.\n",
            "Finished converting images\n",
            "Saving image...\n"
          ],
          "name": "stdout"
        },
        {
          "output_type": "stream",
          "text": [
            "WARNING:root:Lossy conversion from int16 to uint8. Range [-2048, 1248]. Convert image to uint8 prior to saving to suppress this warning.\n"
          ],
          "name": "stderr"
        },
        {
          "output_type": "stream",
          "text": [
            "Saved.\n",
            "Moving image...\n",
            "Moved.\n",
            "Finished converting images\n",
            "Saving image...\n"
          ],
          "name": "stdout"
        },
        {
          "output_type": "stream",
          "text": [
            "WARNING:root:Lossy conversion from int16 to uint8. Range [-2048, 1228]. Convert image to uint8 prior to saving to suppress this warning.\n"
          ],
          "name": "stderr"
        },
        {
          "output_type": "stream",
          "text": [
            "Saved.\n",
            "Moving image...\n",
            "Moved.\n",
            "Finished converting images\n",
            "Saving image...\n"
          ],
          "name": "stdout"
        },
        {
          "output_type": "stream",
          "text": [
            "WARNING:root:Lossy conversion from int16 to uint8. Range [-2048, 1420]. Convert image to uint8 prior to saving to suppress this warning.\n"
          ],
          "name": "stderr"
        },
        {
          "output_type": "stream",
          "text": [
            "Saved.\n",
            "Moving image...\n",
            "Moved.\n",
            "Finished converting images\n",
            "Saving image...\n"
          ],
          "name": "stdout"
        },
        {
          "output_type": "stream",
          "text": [
            "WARNING:root:Lossy conversion from int16 to uint8. Range [-2048, 1246]. Convert image to uint8 prior to saving to suppress this warning.\n"
          ],
          "name": "stderr"
        },
        {
          "output_type": "stream",
          "text": [
            "Saved.\n",
            "Moving image...\n",
            "Moved.\n",
            "Finished converting images\n",
            "Saving image...\n"
          ],
          "name": "stdout"
        },
        {
          "output_type": "stream",
          "text": [
            "WARNING:root:Lossy conversion from int16 to uint8. Range [-2048, 1423]. Convert image to uint8 prior to saving to suppress this warning.\n"
          ],
          "name": "stderr"
        },
        {
          "output_type": "stream",
          "text": [
            "Saved.\n",
            "Moving image...\n",
            "Moved.\n",
            "Finished converting images\n",
            "Saving image...\n"
          ],
          "name": "stdout"
        },
        {
          "output_type": "stream",
          "text": [
            "WARNING:root:Lossy conversion from int16 to uint8. Range [-2048, 1387]. Convert image to uint8 prior to saving to suppress this warning.\n"
          ],
          "name": "stderr"
        },
        {
          "output_type": "stream",
          "text": [
            "Saved.\n",
            "Moving image...\n",
            "Moved.\n",
            "Finished converting images\n",
            "Saving image...\n"
          ],
          "name": "stdout"
        },
        {
          "output_type": "stream",
          "text": [
            "WARNING:root:Lossy conversion from int16 to uint8. Range [-2048, 1487]. Convert image to uint8 prior to saving to suppress this warning.\n"
          ],
          "name": "stderr"
        },
        {
          "output_type": "stream",
          "text": [
            "Saved.\n",
            "Moving image...\n",
            "Moved.\n",
            "Finished converting images\n",
            "Saving image...\n"
          ],
          "name": "stdout"
        },
        {
          "output_type": "stream",
          "text": [
            "WARNING:root:Lossy conversion from int16 to uint8. Range [-2048, 1637]. Convert image to uint8 prior to saving to suppress this warning.\n"
          ],
          "name": "stderr"
        },
        {
          "output_type": "stream",
          "text": [
            "Saved.\n",
            "Moving image...\n",
            "Moved.\n",
            "Finished converting images\n",
            "Saving image...\n"
          ],
          "name": "stdout"
        },
        {
          "output_type": "stream",
          "text": [
            "WARNING:root:Lossy conversion from int16 to uint8. Range [-2048, 1498]. Convert image to uint8 prior to saving to suppress this warning.\n"
          ],
          "name": "stderr"
        },
        {
          "output_type": "stream",
          "text": [
            "Saved.\n",
            "Moving image...\n",
            "Moved.\n",
            "Finished converting images\n",
            "Saving image...\n"
          ],
          "name": "stdout"
        },
        {
          "output_type": "stream",
          "text": [
            "WARNING:root:Lossy conversion from int16 to uint8. Range [-2048, 1512]. Convert image to uint8 prior to saving to suppress this warning.\n"
          ],
          "name": "stderr"
        },
        {
          "output_type": "stream",
          "text": [
            "Saved.\n",
            "Moving image...\n",
            "Moved.\n",
            "Finished converting images\n",
            "Saving image...\n"
          ],
          "name": "stdout"
        },
        {
          "output_type": "stream",
          "text": [
            "WARNING:root:Lossy conversion from int16 to uint8. Range [-2048, 1548]. Convert image to uint8 prior to saving to suppress this warning.\n"
          ],
          "name": "stderr"
        },
        {
          "output_type": "stream",
          "text": [
            "Saved.\n",
            "Moving image...\n",
            "Moved.\n",
            "Finished converting images\n",
            "Saving image...\n"
          ],
          "name": "stdout"
        },
        {
          "output_type": "stream",
          "text": [
            "WARNING:root:Lossy conversion from int16 to uint8. Range [-2048, 1416]. Convert image to uint8 prior to saving to suppress this warning.\n"
          ],
          "name": "stderr"
        },
        {
          "output_type": "stream",
          "text": [
            "Saved.\n",
            "Moving image...\n",
            "Moved.\n",
            "Finished converting images\n",
            "Saving image...\n"
          ],
          "name": "stdout"
        },
        {
          "output_type": "stream",
          "text": [
            "WARNING:root:Lossy conversion from int16 to uint8. Range [-2048, 1577]. Convert image to uint8 prior to saving to suppress this warning.\n"
          ],
          "name": "stderr"
        },
        {
          "output_type": "stream",
          "text": [
            "Saved.\n",
            "Moving image...\n",
            "Moved.\n",
            "Finished converting images\n",
            "Saving image...\n"
          ],
          "name": "stdout"
        },
        {
          "output_type": "stream",
          "text": [
            "WARNING:root:Lossy conversion from int16 to uint8. Range [-2048, 1568]. Convert image to uint8 prior to saving to suppress this warning.\n"
          ],
          "name": "stderr"
        },
        {
          "output_type": "stream",
          "text": [
            "Saved.\n",
            "Moving image...\n",
            "Moved.\n",
            "Finished converting images\n",
            "Saving image...\n"
          ],
          "name": "stdout"
        },
        {
          "output_type": "stream",
          "text": [
            "WARNING:root:Lossy conversion from int16 to uint8. Range [-2048, 1557]. Convert image to uint8 prior to saving to suppress this warning.\n"
          ],
          "name": "stderr"
        },
        {
          "output_type": "stream",
          "text": [
            "Saved.\n",
            "Moving image...\n",
            "Moved.\n",
            "Finished converting images\n",
            "Saving image...\n"
          ],
          "name": "stdout"
        },
        {
          "output_type": "stream",
          "text": [
            "WARNING:root:Lossy conversion from int16 to uint8. Range [-2048, 1682]. Convert image to uint8 prior to saving to suppress this warning.\n"
          ],
          "name": "stderr"
        },
        {
          "output_type": "stream",
          "text": [
            "Saved.\n",
            "Moving image...\n",
            "Moved.\n",
            "Finished converting images\n",
            "Saving image...\n"
          ],
          "name": "stdout"
        },
        {
          "output_type": "stream",
          "text": [
            "WARNING:root:Lossy conversion from int16 to uint8. Range [-2048, 1728]. Convert image to uint8 prior to saving to suppress this warning.\n"
          ],
          "name": "stderr"
        },
        {
          "output_type": "stream",
          "text": [
            "Saved.\n",
            "Moving image...\n",
            "Moved.\n",
            "Finished converting images\n",
            "Saving image...\n"
          ],
          "name": "stdout"
        },
        {
          "output_type": "stream",
          "text": [
            "WARNING:root:Lossy conversion from int16 to uint8. Range [-2048, 1629]. Convert image to uint8 prior to saving to suppress this warning.\n"
          ],
          "name": "stderr"
        },
        {
          "output_type": "stream",
          "text": [
            "Saved.\n",
            "Moving image...\n",
            "Moved.\n",
            "Finished converting images\n",
            "Saving image...\n"
          ],
          "name": "stdout"
        },
        {
          "output_type": "stream",
          "text": [
            "WARNING:root:Lossy conversion from int16 to uint8. Range [-2048, 1796]. Convert image to uint8 prior to saving to suppress this warning.\n"
          ],
          "name": "stderr"
        },
        {
          "output_type": "stream",
          "text": [
            "Saved.\n",
            "Moving image...\n",
            "Moved.\n",
            "Finished converting images\n",
            "Saving image...\n"
          ],
          "name": "stdout"
        },
        {
          "output_type": "stream",
          "text": [
            "WARNING:root:Lossy conversion from int16 to uint8. Range [-2048, 1686]. Convert image to uint8 prior to saving to suppress this warning.\n"
          ],
          "name": "stderr"
        },
        {
          "output_type": "stream",
          "text": [
            "Saved.\n",
            "Moving image...\n",
            "Moved.\n",
            "Finished converting images\n",
            "Saving image...\n"
          ],
          "name": "stdout"
        },
        {
          "output_type": "stream",
          "text": [
            "WARNING:root:Lossy conversion from int16 to uint8. Range [-2048, 1659]. Convert image to uint8 prior to saving to suppress this warning.\n"
          ],
          "name": "stderr"
        },
        {
          "output_type": "stream",
          "text": [
            "Saved.\n",
            "Moving image...\n",
            "Moved.\n",
            "Finished converting images\n",
            "Saving image...\n"
          ],
          "name": "stdout"
        },
        {
          "output_type": "stream",
          "text": [
            "WARNING:root:Lossy conversion from int16 to uint8. Range [-2048, 1551]. Convert image to uint8 prior to saving to suppress this warning.\n"
          ],
          "name": "stderr"
        },
        {
          "output_type": "stream",
          "text": [
            "Saved.\n",
            "Moving image...\n",
            "Moved.\n",
            "Finished converting images\n",
            "Saving image...\n",
            "Saved.\n",
            "Moving image...\n",
            "Moved.\n",
            "Finished converting images\n",
            "study_0241\n"
          ],
          "name": "stdout"
        },
        {
          "output_type": "stream",
          "text": [
            "WARNING:root:Lossy conversion from int16 to uint8. Range [-2048, 1349]. Convert image to uint8 prior to saving to suppress this warning.\n",
            "WARNING:root:Lossy conversion from int16 to uint8. Range [-2048, 2152]. Convert image to uint8 prior to saving to suppress this warning.\n"
          ],
          "name": "stderr"
        },
        {
          "output_type": "stream",
          "text": [
            "3\n",
            "Created ouput directory: /content/drive/MyDrive/Radiology_workshop_monjoy/save_pngs_path/Normal//study_0241\n",
            "45\n",
            "Saving image...\n",
            "Saved.\n",
            "Moving image...\n",
            "Moved.\n",
            "Finished converting images\n",
            "Saving image...\n",
            "Saved.\n",
            "Moving image...\n",
            "Moved.\n",
            "Finished converting images\n",
            "Saving image...\n"
          ],
          "name": "stdout"
        },
        {
          "output_type": "stream",
          "text": [
            "WARNING:root:Lossy conversion from int16 to uint8. Range [-2048, 2223]. Convert image to uint8 prior to saving to suppress this warning.\n",
            "WARNING:root:Lossy conversion from int16 to uint8. Range [-2048, 2149]. Convert image to uint8 prior to saving to suppress this warning.\n",
            "WARNING:root:Lossy conversion from int16 to uint8. Range [-2048, 1269]. Convert image to uint8 prior to saving to suppress this warning.\n",
            "WARNING:root:Lossy conversion from int16 to uint8. Range [-2048, 1258]. Convert image to uint8 prior to saving to suppress this warning.\n"
          ],
          "name": "stderr"
        },
        {
          "output_type": "stream",
          "text": [
            "Saved.\n",
            "Moving image...\n",
            "Moved.\n",
            "Finished converting images\n",
            "Saving image...\n",
            "Saved.\n",
            "Moving image...\n",
            "Moved.\n",
            "Finished converting images\n",
            "Saving image...\n",
            "Saved.\n",
            "Moving image...\n",
            "Moved.\n",
            "Finished converting images\n",
            "Saving image...\n"
          ],
          "name": "stdout"
        },
        {
          "output_type": "stream",
          "text": [
            "WARNING:root:Lossy conversion from int16 to uint8. Range [-2048, 1344]. Convert image to uint8 prior to saving to suppress this warning.\n",
            "WARNING:root:Lossy conversion from int16 to uint8. Range [-2048, 1317]. Convert image to uint8 prior to saving to suppress this warning.\n",
            "WARNING:root:Lossy conversion from int16 to uint8. Range [-2048, 1294]. Convert image to uint8 prior to saving to suppress this warning.\n"
          ],
          "name": "stderr"
        },
        {
          "output_type": "stream",
          "text": [
            "Saved.\n",
            "Moving image...\n",
            "Moved.\n",
            "Finished converting images\n",
            "Saving image...\n",
            "Saved.\n",
            "Moving image...\n",
            "Moved.\n",
            "Finished converting images\n",
            "Saving image...\n",
            "Saved.\n",
            "Moving image...\n",
            "Moved.\n",
            "Finished converting images\n",
            "Saving image...\n"
          ],
          "name": "stdout"
        },
        {
          "output_type": "stream",
          "text": [
            "WARNING:root:Lossy conversion from int16 to uint8. Range [-2048, 1317]. Convert image to uint8 prior to saving to suppress this warning.\n",
            "WARNING:root:Lossy conversion from int16 to uint8. Range [-2048, 1431]. Convert image to uint8 prior to saving to suppress this warning.\n",
            "WARNING:root:Lossy conversion from int16 to uint8. Range [-2048, 1496]. Convert image to uint8 prior to saving to suppress this warning.\n"
          ],
          "name": "stderr"
        },
        {
          "output_type": "stream",
          "text": [
            "Saved.\n",
            "Moving image...\n",
            "Moved.\n",
            "Finished converting images\n",
            "Saving image...\n",
            "Saved.\n",
            "Moving image...\n",
            "Moved.\n",
            "Finished converting images\n",
            "Saving image...\n",
            "Saved.\n",
            "Moving image...\n",
            "Moved.\n",
            "Finished converting images\n",
            "Saving image...\n"
          ],
          "name": "stdout"
        },
        {
          "output_type": "stream",
          "text": [
            "WARNING:root:Lossy conversion from int16 to uint8. Range [-2048, 1407]. Convert image to uint8 prior to saving to suppress this warning.\n",
            "WARNING:root:Lossy conversion from int16 to uint8. Range [-2048, 1319]. Convert image to uint8 prior to saving to suppress this warning.\n",
            "WARNING:root:Lossy conversion from int16 to uint8. Range [-2048, 1386]. Convert image to uint8 prior to saving to suppress this warning.\n"
          ],
          "name": "stderr"
        },
        {
          "output_type": "stream",
          "text": [
            "Saved.\n",
            "Moving image...\n",
            "Moved.\n",
            "Finished converting images\n",
            "Saving image...\n",
            "Saved.\n",
            "Moving image...\n",
            "Moved.\n",
            "Finished converting images\n",
            "Saving image...\n",
            "Saved.\n",
            "Moving image...\n",
            "Moved.\n",
            "Finished converting images\n",
            "Saving image...\n"
          ],
          "name": "stdout"
        },
        {
          "output_type": "stream",
          "text": [
            "WARNING:root:Lossy conversion from int16 to uint8. Range [-2048, 1454]. Convert image to uint8 prior to saving to suppress this warning.\n",
            "WARNING:root:Lossy conversion from int16 to uint8. Range [-2048, 1400]. Convert image to uint8 prior to saving to suppress this warning.\n"
          ],
          "name": "stderr"
        },
        {
          "output_type": "stream",
          "text": [
            "Saved.\n",
            "Moving image...\n",
            "Moved.\n",
            "Finished converting images\n",
            "Saving image...\n",
            "Saved.\n",
            "Moving image...\n",
            "Moved.\n",
            "Finished converting images\n",
            "Saving image...\n"
          ],
          "name": "stdout"
        },
        {
          "output_type": "stream",
          "text": [
            "WARNING:root:Lossy conversion from int16 to uint8. Range [-2048, 1420]. Convert image to uint8 prior to saving to suppress this warning.\n",
            "WARNING:root:Lossy conversion from int16 to uint8. Range [-2048, 1398]. Convert image to uint8 prior to saving to suppress this warning.\n"
          ],
          "name": "stderr"
        },
        {
          "output_type": "stream",
          "text": [
            "Saved.\n",
            "Moving image...\n",
            "Moved.\n",
            "Finished converting images\n",
            "Saving image...\n",
            "Saved.\n",
            "Moving image...\n",
            "Moved.\n",
            "Finished converting images\n",
            "Saving image...\n"
          ],
          "name": "stdout"
        },
        {
          "output_type": "stream",
          "text": [
            "WARNING:root:Lossy conversion from int16 to uint8. Range [-2048, 1482]. Convert image to uint8 prior to saving to suppress this warning.\n",
            "WARNING:root:Lossy conversion from int16 to uint8. Range [-2048, 1331]. Convert image to uint8 prior to saving to suppress this warning.\n"
          ],
          "name": "stderr"
        },
        {
          "output_type": "stream",
          "text": [
            "Saved.\n",
            "Moving image...\n",
            "Moved.\n",
            "Finished converting images\n",
            "Saving image...\n",
            "Saved.\n",
            "Moving image...\n",
            "Moved.\n",
            "Finished converting images\n",
            "Saving image...\n"
          ],
          "name": "stdout"
        },
        {
          "output_type": "stream",
          "text": [
            "WARNING:root:Lossy conversion from int16 to uint8. Range [-2048, 1394]. Convert image to uint8 prior to saving to suppress this warning.\n",
            "WARNING:root:Lossy conversion from int16 to uint8. Range [-2048, 1428]. Convert image to uint8 prior to saving to suppress this warning.\n"
          ],
          "name": "stderr"
        },
        {
          "output_type": "stream",
          "text": [
            "Saved.\n",
            "Moving image...\n",
            "Moved.\n",
            "Finished converting images\n",
            "Saving image...\n",
            "Saved.\n",
            "Moving image...\n",
            "Moved.\n",
            "Finished converting images\n",
            "Saving image...\n"
          ],
          "name": "stdout"
        },
        {
          "output_type": "stream",
          "text": [
            "WARNING:root:Lossy conversion from int16 to uint8. Range [-2048, 1391]. Convert image to uint8 prior to saving to suppress this warning.\n",
            "WARNING:root:Lossy conversion from int16 to uint8. Range [-2048, 1366]. Convert image to uint8 prior to saving to suppress this warning.\n"
          ],
          "name": "stderr"
        },
        {
          "output_type": "stream",
          "text": [
            "Saved.\n",
            "Moving image...\n",
            "Moved.\n",
            "Finished converting images\n",
            "Saving image...\n",
            "Saved.\n",
            "Moving image...\n",
            "Moved.\n",
            "Finished converting images\n",
            "Saving image...\n"
          ],
          "name": "stdout"
        },
        {
          "output_type": "stream",
          "text": [
            "WARNING:root:Lossy conversion from int16 to uint8. Range [-2048, 1397]. Convert image to uint8 prior to saving to suppress this warning.\n",
            "WARNING:root:Lossy conversion from int16 to uint8. Range [-2048, 1396]. Convert image to uint8 prior to saving to suppress this warning.\n"
          ],
          "name": "stderr"
        },
        {
          "output_type": "stream",
          "text": [
            "Saved.\n",
            "Moving image...\n",
            "Moved.\n",
            "Finished converting images\n",
            "Saving image...\n",
            "Saved.\n",
            "Moving image...\n",
            "Moved.\n",
            "Finished converting images\n",
            "Saving image...\n"
          ],
          "name": "stdout"
        },
        {
          "output_type": "stream",
          "text": [
            "WARNING:root:Lossy conversion from int16 to uint8. Range [-2048, 1407]. Convert image to uint8 prior to saving to suppress this warning.\n",
            "WARNING:root:Lossy conversion from int16 to uint8. Range [-2048, 1462]. Convert image to uint8 prior to saving to suppress this warning.\n"
          ],
          "name": "stderr"
        },
        {
          "output_type": "stream",
          "text": [
            "Saved.\n",
            "Moving image...\n",
            "Moved.\n",
            "Finished converting images\n",
            "Saving image...\n",
            "Saved.\n",
            "Moving image...\n",
            "Moved.\n",
            "Finished converting images\n",
            "Saving image...\n"
          ],
          "name": "stdout"
        },
        {
          "output_type": "stream",
          "text": [
            "WARNING:root:Lossy conversion from int16 to uint8. Range [-2048, 1269]. Convert image to uint8 prior to saving to suppress this warning.\n",
            "WARNING:root:Lossy conversion from int16 to uint8. Range [-2048, 1353]. Convert image to uint8 prior to saving to suppress this warning.\n"
          ],
          "name": "stderr"
        },
        {
          "output_type": "stream",
          "text": [
            "Saved.\n",
            "Moving image...\n",
            "Moved.\n",
            "Finished converting images\n",
            "Saving image...\n",
            "Saved.\n",
            "Moving image...\n",
            "Moved.\n",
            "Finished converting images\n",
            "Saving image...\n"
          ],
          "name": "stdout"
        },
        {
          "output_type": "stream",
          "text": [
            "WARNING:root:Lossy conversion from int16 to uint8. Range [-2048, 1348]. Convert image to uint8 prior to saving to suppress this warning.\n",
            "WARNING:root:Lossy conversion from int16 to uint8. Range [-2048, 1340]. Convert image to uint8 prior to saving to suppress this warning.\n"
          ],
          "name": "stderr"
        },
        {
          "output_type": "stream",
          "text": [
            "Saved.\n",
            "Moving image...\n",
            "Moved.\n",
            "Finished converting images\n",
            "Saving image...\n",
            "Saved.\n",
            "Moving image...\n",
            "Moved.\n",
            "Finished converting images\n",
            "Saving image...\n"
          ],
          "name": "stdout"
        },
        {
          "output_type": "stream",
          "text": [
            "WARNING:root:Lossy conversion from int16 to uint8. Range [-2048, 1472]. Convert image to uint8 prior to saving to suppress this warning.\n",
            "WARNING:root:Lossy conversion from int16 to uint8. Range [-2048, 1581]. Convert image to uint8 prior to saving to suppress this warning.\n"
          ],
          "name": "stderr"
        },
        {
          "output_type": "stream",
          "text": [
            "Saved.\n",
            "Moving image...\n",
            "Moved.\n",
            "Finished converting images\n",
            "Saving image...\n",
            "Saved.\n",
            "Moving image...\n",
            "Moved.\n",
            "Finished converting images\n",
            "Saving image...\n"
          ],
          "name": "stdout"
        },
        {
          "output_type": "stream",
          "text": [
            "WARNING:root:Lossy conversion from int16 to uint8. Range [-2048, 1540]. Convert image to uint8 prior to saving to suppress this warning.\n",
            "WARNING:root:Lossy conversion from int16 to uint8. Range [-2048, 1501]. Convert image to uint8 prior to saving to suppress this warning.\n"
          ],
          "name": "stderr"
        },
        {
          "output_type": "stream",
          "text": [
            "Saved.\n",
            "Moving image...\n",
            "Moved.\n",
            "Finished converting images\n",
            "Saving image...\n",
            "Saved.\n",
            "Moving image...\n",
            "Moved.\n",
            "Finished converting images\n",
            "Saving image...\n"
          ],
          "name": "stdout"
        },
        {
          "output_type": "stream",
          "text": [
            "WARNING:root:Lossy conversion from int16 to uint8. Range [-2048, 1446]. Convert image to uint8 prior to saving to suppress this warning.\n",
            "WARNING:root:Lossy conversion from int16 to uint8. Range [-2048, 1420]. Convert image to uint8 prior to saving to suppress this warning.\n"
          ],
          "name": "stderr"
        },
        {
          "output_type": "stream",
          "text": [
            "Saved.\n",
            "Moving image...\n",
            "Moved.\n",
            "Finished converting images\n",
            "Saving image...\n",
            "Saved.\n",
            "Moving image...\n",
            "Moved.\n",
            "Finished converting images\n",
            "Saving image...\n"
          ],
          "name": "stdout"
        },
        {
          "output_type": "stream",
          "text": [
            "WARNING:root:Lossy conversion from int16 to uint8. Range [-2048, 1561]. Convert image to uint8 prior to saving to suppress this warning.\n",
            "WARNING:root:Lossy conversion from int16 to uint8. Range [-2048, 1583]. Convert image to uint8 prior to saving to suppress this warning.\n"
          ],
          "name": "stderr"
        },
        {
          "output_type": "stream",
          "text": [
            "Saved.\n",
            "Moving image...\n",
            "Moved.\n",
            "Finished converting images\n",
            "Saving image...\n",
            "Saved.\n",
            "Moving image...\n",
            "Moved.\n",
            "Finished converting images\n",
            "Saving image...\n"
          ],
          "name": "stdout"
        },
        {
          "output_type": "stream",
          "text": [
            "WARNING:root:Lossy conversion from int16 to uint8. Range [-2048, 1600]. Convert image to uint8 prior to saving to suppress this warning.\n",
            "WARNING:root:Lossy conversion from int16 to uint8. Range [-2048, 1674]. Convert image to uint8 prior to saving to suppress this warning.\n"
          ],
          "name": "stderr"
        },
        {
          "output_type": "stream",
          "text": [
            "Saved.\n",
            "Moving image...\n",
            "Moved.\n",
            "Finished converting images\n",
            "Saving image...\n",
            "Saved.\n",
            "Moving image...\n",
            "Moved.\n",
            "Finished converting images\n",
            "Saving image...\n"
          ],
          "name": "stdout"
        },
        {
          "output_type": "stream",
          "text": [
            "WARNING:root:Lossy conversion from int16 to uint8. Range [-2048, 1714]. Convert image to uint8 prior to saving to suppress this warning.\n",
            "WARNING:root:Lossy conversion from int16 to uint8. Range [-2048, 1711]. Convert image to uint8 prior to saving to suppress this warning.\n"
          ],
          "name": "stderr"
        },
        {
          "output_type": "stream",
          "text": [
            "Saved.\n",
            "Moving image...\n",
            "Moved.\n",
            "Finished converting images\n",
            "Saving image...\n",
            "Saved.\n",
            "Moving image...\n",
            "Moved.\n",
            "Finished converting images\n",
            "Saving image...\n",
            "Saved.\n",
            "Moving image...\n",
            "Moved.\n",
            "Finished converting images\n",
            "study_0238\n"
          ],
          "name": "stdout"
        },
        {
          "output_type": "stream",
          "text": [
            "WARNING:root:Lossy conversion from int16 to uint8. Range [-2048, 1403]. Convert image to uint8 prior to saving to suppress this warning.\n"
          ],
          "name": "stderr"
        },
        {
          "output_type": "stream",
          "text": [
            "3\n",
            "Created ouput directory: /content/drive/MyDrive/Radiology_workshop_monjoy/save_pngs_path/Normal//study_0238\n",
            "46\n",
            "Saving image...\n"
          ],
          "name": "stdout"
        },
        {
          "output_type": "stream",
          "text": [
            "WARNING:root:Lossy conversion from int16 to uint8. Range [-2048, 1457]. Convert image to uint8 prior to saving to suppress this warning.\n"
          ],
          "name": "stderr"
        },
        {
          "output_type": "stream",
          "text": [
            "Saved.\n",
            "Moving image...\n",
            "Moved.\n",
            "Finished converting images\n",
            "Saving image...\n"
          ],
          "name": "stdout"
        },
        {
          "output_type": "stream",
          "text": [
            "WARNING:root:Lossy conversion from int16 to uint8. Range [-2048, 1478]. Convert image to uint8 prior to saving to suppress this warning.\n"
          ],
          "name": "stderr"
        },
        {
          "output_type": "stream",
          "text": [
            "Saved.\n",
            "Moving image...\n",
            "Moved.\n",
            "Finished converting images\n",
            "Saving image...\n"
          ],
          "name": "stdout"
        },
        {
          "output_type": "stream",
          "text": [
            "WARNING:root:Lossy conversion from int16 to uint8. Range [-2048, 1463]. Convert image to uint8 prior to saving to suppress this warning.\n"
          ],
          "name": "stderr"
        },
        {
          "output_type": "stream",
          "text": [
            "Saved.\n",
            "Moving image...\n",
            "Moved.\n",
            "Finished converting images\n",
            "Saving image...\n"
          ],
          "name": "stdout"
        },
        {
          "output_type": "stream",
          "text": [
            "WARNING:root:Lossy conversion from int16 to uint8. Range [-2048, 1469]. Convert image to uint8 prior to saving to suppress this warning.\n"
          ],
          "name": "stderr"
        },
        {
          "output_type": "stream",
          "text": [
            "Saved.\n",
            "Moving image...\n",
            "Moved.\n",
            "Finished converting images\n",
            "Saving image...\n"
          ],
          "name": "stdout"
        },
        {
          "output_type": "stream",
          "text": [
            "WARNING:root:Lossy conversion from int16 to uint8. Range [-2048, 1458]. Convert image to uint8 prior to saving to suppress this warning.\n"
          ],
          "name": "stderr"
        },
        {
          "output_type": "stream",
          "text": [
            "Saved.\n",
            "Moving image...\n",
            "Moved.\n",
            "Finished converting images\n",
            "Saving image...\n"
          ],
          "name": "stdout"
        },
        {
          "output_type": "stream",
          "text": [
            "WARNING:root:Lossy conversion from int16 to uint8. Range [-2048, 1414]. Convert image to uint8 prior to saving to suppress this warning.\n"
          ],
          "name": "stderr"
        },
        {
          "output_type": "stream",
          "text": [
            "Saved.\n",
            "Moving image...\n",
            "Moved.\n",
            "Finished converting images\n",
            "Saving image...\n"
          ],
          "name": "stdout"
        },
        {
          "output_type": "stream",
          "text": [
            "WARNING:root:Lossy conversion from int16 to uint8. Range [-2048, 1321]. Convert image to uint8 prior to saving to suppress this warning.\n"
          ],
          "name": "stderr"
        },
        {
          "output_type": "stream",
          "text": [
            "Saved.\n",
            "Moving image...\n",
            "Moved.\n",
            "Finished converting images\n",
            "Saving image...\n"
          ],
          "name": "stdout"
        },
        {
          "output_type": "stream",
          "text": [
            "WARNING:root:Lossy conversion from int16 to uint8. Range [-2048, 1477]. Convert image to uint8 prior to saving to suppress this warning.\n"
          ],
          "name": "stderr"
        },
        {
          "output_type": "stream",
          "text": [
            "Saved.\n",
            "Moving image...\n",
            "Moved.\n",
            "Finished converting images\n",
            "Saving image...\n"
          ],
          "name": "stdout"
        },
        {
          "output_type": "stream",
          "text": [
            "WARNING:root:Lossy conversion from int16 to uint8. Range [-2048, 1474]. Convert image to uint8 prior to saving to suppress this warning.\n"
          ],
          "name": "stderr"
        },
        {
          "output_type": "stream",
          "text": [
            "Saved.\n",
            "Moving image...\n",
            "Moved.\n",
            "Finished converting images\n",
            "Saving image...\n"
          ],
          "name": "stdout"
        },
        {
          "output_type": "stream",
          "text": [
            "WARNING:root:Lossy conversion from int16 to uint8. Range [-2048, 1431]. Convert image to uint8 prior to saving to suppress this warning.\n"
          ],
          "name": "stderr"
        },
        {
          "output_type": "stream",
          "text": [
            "Saved.\n",
            "Moving image...\n",
            "Moved.\n",
            "Finished converting images\n",
            "Saving image...\n"
          ],
          "name": "stdout"
        },
        {
          "output_type": "stream",
          "text": [
            "WARNING:root:Lossy conversion from int16 to uint8. Range [-2048, 1417]. Convert image to uint8 prior to saving to suppress this warning.\n"
          ],
          "name": "stderr"
        },
        {
          "output_type": "stream",
          "text": [
            "Saved.\n",
            "Moving image...\n",
            "Moved.\n",
            "Finished converting images\n",
            "Saving image...\n"
          ],
          "name": "stdout"
        },
        {
          "output_type": "stream",
          "text": [
            "WARNING:root:Lossy conversion from int16 to uint8. Range [-2048, 1445]. Convert image to uint8 prior to saving to suppress this warning.\n"
          ],
          "name": "stderr"
        },
        {
          "output_type": "stream",
          "text": [
            "Saved.\n",
            "Moving image...\n",
            "Moved.\n",
            "Finished converting images\n",
            "Saving image...\n"
          ],
          "name": "stdout"
        },
        {
          "output_type": "stream",
          "text": [
            "WARNING:root:Lossy conversion from int16 to uint8. Range [-2048, 1454]. Convert image to uint8 prior to saving to suppress this warning.\n"
          ],
          "name": "stderr"
        },
        {
          "output_type": "stream",
          "text": [
            "Saved.\n",
            "Moving image...\n",
            "Moved.\n",
            "Finished converting images\n",
            "Saving image...\n"
          ],
          "name": "stdout"
        },
        {
          "output_type": "stream",
          "text": [
            "WARNING:root:Lossy conversion from int16 to uint8. Range [-2048, 1544]. Convert image to uint8 prior to saving to suppress this warning.\n"
          ],
          "name": "stderr"
        },
        {
          "output_type": "stream",
          "text": [
            "Saved.\n",
            "Moving image...\n",
            "Moved.\n",
            "Finished converting images\n",
            "Saving image...\n"
          ],
          "name": "stdout"
        },
        {
          "output_type": "stream",
          "text": [
            "WARNING:root:Lossy conversion from int16 to uint8. Range [-2048, 1562]. Convert image to uint8 prior to saving to suppress this warning.\n"
          ],
          "name": "stderr"
        },
        {
          "output_type": "stream",
          "text": [
            "Saved.\n",
            "Moving image...\n",
            "Moved.\n",
            "Finished converting images\n",
            "Saving image...\n"
          ],
          "name": "stdout"
        },
        {
          "output_type": "stream",
          "text": [
            "WARNING:root:Lossy conversion from int16 to uint8. Range [-2048, 1525]. Convert image to uint8 prior to saving to suppress this warning.\n"
          ],
          "name": "stderr"
        },
        {
          "output_type": "stream",
          "text": [
            "Saved.\n",
            "Moving image...\n",
            "Moved.\n",
            "Finished converting images\n",
            "Saving image...\n"
          ],
          "name": "stdout"
        },
        {
          "output_type": "stream",
          "text": [
            "WARNING:root:Lossy conversion from int16 to uint8. Range [-2048, 1509]. Convert image to uint8 prior to saving to suppress this warning.\n"
          ],
          "name": "stderr"
        },
        {
          "output_type": "stream",
          "text": [
            "Saved.\n",
            "Moving image...\n",
            "Moved.\n",
            "Finished converting images\n",
            "Saving image...\n"
          ],
          "name": "stdout"
        },
        {
          "output_type": "stream",
          "text": [
            "WARNING:root:Lossy conversion from int16 to uint8. Range [-2048, 1423]. Convert image to uint8 prior to saving to suppress this warning.\n"
          ],
          "name": "stderr"
        },
        {
          "output_type": "stream",
          "text": [
            "Saved.\n",
            "Moving image...\n",
            "Moved.\n",
            "Finished converting images\n",
            "Saving image...\n"
          ],
          "name": "stdout"
        },
        {
          "output_type": "stream",
          "text": [
            "WARNING:root:Lossy conversion from int16 to uint8. Range [-2048, 1288]. Convert image to uint8 prior to saving to suppress this warning.\n"
          ],
          "name": "stderr"
        },
        {
          "output_type": "stream",
          "text": [
            "Saved.\n",
            "Moving image...\n",
            "Moved.\n",
            "Finished converting images\n",
            "Saving image...\n"
          ],
          "name": "stdout"
        },
        {
          "output_type": "stream",
          "text": [
            "WARNING:root:Lossy conversion from int16 to uint8. Range [-2048, 1444]. Convert image to uint8 prior to saving to suppress this warning.\n"
          ],
          "name": "stderr"
        },
        {
          "output_type": "stream",
          "text": [
            "Saved.\n",
            "Moving image...\n",
            "Moved.\n",
            "Finished converting images\n",
            "Saving image...\n"
          ],
          "name": "stdout"
        },
        {
          "output_type": "stream",
          "text": [
            "WARNING:root:Lossy conversion from int16 to uint8. Range [-2048, 1515]. Convert image to uint8 prior to saving to suppress this warning.\n"
          ],
          "name": "stderr"
        },
        {
          "output_type": "stream",
          "text": [
            "Saved.\n",
            "Moving image...\n",
            "Moved.\n",
            "Finished converting images\n",
            "Saving image...\n"
          ],
          "name": "stdout"
        },
        {
          "output_type": "stream",
          "text": [
            "WARNING:root:Lossy conversion from int16 to uint8. Range [-2048, 1423]. Convert image to uint8 prior to saving to suppress this warning.\n"
          ],
          "name": "stderr"
        },
        {
          "output_type": "stream",
          "text": [
            "Saved.\n",
            "Moving image...\n",
            "Moved.\n",
            "Finished converting images\n",
            "Saving image...\n"
          ],
          "name": "stdout"
        },
        {
          "output_type": "stream",
          "text": [
            "WARNING:root:Lossy conversion from int16 to uint8. Range [-2048, 1383]. Convert image to uint8 prior to saving to suppress this warning.\n"
          ],
          "name": "stderr"
        },
        {
          "output_type": "stream",
          "text": [
            "Saved.\n",
            "Moving image...\n",
            "Moved.\n",
            "Finished converting images\n",
            "Saving image...\n"
          ],
          "name": "stdout"
        },
        {
          "output_type": "stream",
          "text": [
            "WARNING:root:Lossy conversion from int16 to uint8. Range [-2048, 1426]. Convert image to uint8 prior to saving to suppress this warning.\n"
          ],
          "name": "stderr"
        },
        {
          "output_type": "stream",
          "text": [
            "Saved.\n",
            "Moving image...\n",
            "Moved.\n",
            "Finished converting images\n",
            "Saving image...\n"
          ],
          "name": "stdout"
        },
        {
          "output_type": "stream",
          "text": [
            "WARNING:root:Lossy conversion from int16 to uint8. Range [-2048, 1509]. Convert image to uint8 prior to saving to suppress this warning.\n"
          ],
          "name": "stderr"
        },
        {
          "output_type": "stream",
          "text": [
            "Saved.\n",
            "Moving image...\n",
            "Moved.\n",
            "Finished converting images\n",
            "Saving image...\n"
          ],
          "name": "stdout"
        },
        {
          "output_type": "stream",
          "text": [
            "WARNING:root:Lossy conversion from int16 to uint8. Range [-2048, 1375]. Convert image to uint8 prior to saving to suppress this warning.\n"
          ],
          "name": "stderr"
        },
        {
          "output_type": "stream",
          "text": [
            "Saved.\n",
            "Moving image...\n",
            "Moved.\n",
            "Finished converting images\n",
            "Saving image...\n"
          ],
          "name": "stdout"
        },
        {
          "output_type": "stream",
          "text": [
            "WARNING:root:Lossy conversion from int16 to uint8. Range [-2048, 1496]. Convert image to uint8 prior to saving to suppress this warning.\n",
            "WARNING:root:Lossy conversion from int16 to uint8. Range [-2048, 1498]. Convert image to uint8 prior to saving to suppress this warning.\n"
          ],
          "name": "stderr"
        },
        {
          "output_type": "stream",
          "text": [
            "Saved.\n",
            "Moving image...\n",
            "Moved.\n",
            "Finished converting images\n",
            "Saving image...\n",
            "Saved.\n",
            "Moving image...\n",
            "Moved.\n",
            "Finished converting images\n",
            "Saving image...\n"
          ],
          "name": "stdout"
        },
        {
          "output_type": "stream",
          "text": [
            "WARNING:root:Lossy conversion from int16 to uint8. Range [-2048, 1478]. Convert image to uint8 prior to saving to suppress this warning.\n"
          ],
          "name": "stderr"
        },
        {
          "output_type": "stream",
          "text": [
            "Saved.\n",
            "Moving image...\n",
            "Moved.\n",
            "Finished converting images\n",
            "Saving image...\n"
          ],
          "name": "stdout"
        },
        {
          "output_type": "stream",
          "text": [
            "WARNING:root:Lossy conversion from int16 to uint8. Range [-2048, 1522]. Convert image to uint8 prior to saving to suppress this warning.\n"
          ],
          "name": "stderr"
        },
        {
          "output_type": "stream",
          "text": [
            "Saved.\n",
            "Moving image...\n",
            "Moved.\n",
            "Finished converting images\n",
            "Saving image...\n"
          ],
          "name": "stdout"
        },
        {
          "output_type": "stream",
          "text": [
            "WARNING:root:Lossy conversion from int16 to uint8. Range [-2048, 1603]. Convert image to uint8 prior to saving to suppress this warning.\n"
          ],
          "name": "stderr"
        },
        {
          "output_type": "stream",
          "text": [
            "Saved.\n",
            "Moving image...\n",
            "Moved.\n",
            "Finished converting images\n",
            "Saving image...\n"
          ],
          "name": "stdout"
        },
        {
          "output_type": "stream",
          "text": [
            "WARNING:root:Lossy conversion from int16 to uint8. Range [-2048, 1654]. Convert image to uint8 prior to saving to suppress this warning.\n"
          ],
          "name": "stderr"
        },
        {
          "output_type": "stream",
          "text": [
            "Saved.\n",
            "Moving image...\n",
            "Moved.\n",
            "Finished converting images\n",
            "Saving image...\n"
          ],
          "name": "stdout"
        },
        {
          "output_type": "stream",
          "text": [
            "WARNING:root:Lossy conversion from int16 to uint8. Range [-2048, 1624]. Convert image to uint8 prior to saving to suppress this warning.\n"
          ],
          "name": "stderr"
        },
        {
          "output_type": "stream",
          "text": [
            "Saved.\n",
            "Moving image...\n",
            "Moved.\n",
            "Finished converting images\n",
            "Saving image...\n"
          ],
          "name": "stdout"
        },
        {
          "output_type": "stream",
          "text": [
            "WARNING:root:Lossy conversion from int16 to uint8. Range [-2048, 1558]. Convert image to uint8 prior to saving to suppress this warning.\n"
          ],
          "name": "stderr"
        },
        {
          "output_type": "stream",
          "text": [
            "Saved.\n",
            "Moving image...\n",
            "Moved.\n",
            "Finished converting images\n",
            "Saving image...\n"
          ],
          "name": "stdout"
        },
        {
          "output_type": "stream",
          "text": [
            "WARNING:root:Lossy conversion from int16 to uint8. Range [-2048, 1473]. Convert image to uint8 prior to saving to suppress this warning.\n"
          ],
          "name": "stderr"
        },
        {
          "output_type": "stream",
          "text": [
            "Saved.\n",
            "Moving image...\n",
            "Moved.\n",
            "Finished converting images\n",
            "Saving image...\n"
          ],
          "name": "stdout"
        },
        {
          "output_type": "stream",
          "text": [
            "WARNING:root:Lossy conversion from int16 to uint8. Range [-2048, 1543]. Convert image to uint8 prior to saving to suppress this warning.\n"
          ],
          "name": "stderr"
        },
        {
          "output_type": "stream",
          "text": [
            "Saved.\n",
            "Moving image...\n",
            "Moved.\n",
            "Finished converting images\n",
            "Saving image...\n"
          ],
          "name": "stdout"
        },
        {
          "output_type": "stream",
          "text": [
            "WARNING:root:Lossy conversion from int16 to uint8. Range [-2048, 1530]. Convert image to uint8 prior to saving to suppress this warning.\n"
          ],
          "name": "stderr"
        },
        {
          "output_type": "stream",
          "text": [
            "Saved.\n",
            "Moving image...\n",
            "Moved.\n",
            "Finished converting images\n",
            "Saving image...\n"
          ],
          "name": "stdout"
        },
        {
          "output_type": "stream",
          "text": [
            "WARNING:root:Lossy conversion from int16 to uint8. Range [-2048, 1662]. Convert image to uint8 prior to saving to suppress this warning.\n"
          ],
          "name": "stderr"
        },
        {
          "output_type": "stream",
          "text": [
            "Saved.\n",
            "Moving image...\n",
            "Moved.\n",
            "Finished converting images\n",
            "Saving image...\n"
          ],
          "name": "stdout"
        },
        {
          "output_type": "stream",
          "text": [
            "WARNING:root:Lossy conversion from int16 to uint8. Range [-2048, 1625]. Convert image to uint8 prior to saving to suppress this warning.\n"
          ],
          "name": "stderr"
        },
        {
          "output_type": "stream",
          "text": [
            "Saved.\n",
            "Moving image...\n",
            "Moved.\n",
            "Finished converting images\n",
            "Saving image...\n"
          ],
          "name": "stdout"
        },
        {
          "output_type": "stream",
          "text": [
            "WARNING:root:Lossy conversion from int16 to uint8. Range [-2048, 1616]. Convert image to uint8 prior to saving to suppress this warning.\n"
          ],
          "name": "stderr"
        },
        {
          "output_type": "stream",
          "text": [
            "Saved.\n",
            "Moving image...\n",
            "Moved.\n",
            "Finished converting images\n",
            "Saving image...\n"
          ],
          "name": "stdout"
        },
        {
          "output_type": "stream",
          "text": [
            "WARNING:root:Lossy conversion from int16 to uint8. Range [-2048, 1600]. Convert image to uint8 prior to saving to suppress this warning.\n"
          ],
          "name": "stderr"
        },
        {
          "output_type": "stream",
          "text": [
            "Saved.\n",
            "Moving image...\n",
            "Moved.\n",
            "Finished converting images\n",
            "Saving image...\n"
          ],
          "name": "stdout"
        },
        {
          "output_type": "stream",
          "text": [
            "WARNING:root:Lossy conversion from int16 to uint8. Range [-2048, 1711]. Convert image to uint8 prior to saving to suppress this warning.\n"
          ],
          "name": "stderr"
        },
        {
          "output_type": "stream",
          "text": [
            "Saved.\n",
            "Moving image...\n",
            "Moved.\n",
            "Finished converting images\n",
            "Saving image...\n"
          ],
          "name": "stdout"
        },
        {
          "output_type": "stream",
          "text": [
            "WARNING:root:Lossy conversion from int16 to uint8. Range [-2048, 1788]. Convert image to uint8 prior to saving to suppress this warning.\n"
          ],
          "name": "stderr"
        },
        {
          "output_type": "stream",
          "text": [
            "Saved.\n",
            "Moving image...\n",
            "Moved.\n",
            "Finished converting images\n",
            "Saving image...\n"
          ],
          "name": "stdout"
        },
        {
          "output_type": "stream",
          "text": [
            "WARNING:root:Lossy conversion from int16 to uint8. Range [-2048, 1754]. Convert image to uint8 prior to saving to suppress this warning.\n"
          ],
          "name": "stderr"
        },
        {
          "output_type": "stream",
          "text": [
            "Saved.\n",
            "Moving image...\n",
            "Moved.\n",
            "Finished converting images\n",
            "Saving image...\n"
          ],
          "name": "stdout"
        },
        {
          "output_type": "stream",
          "text": [
            "WARNING:root:Lossy conversion from int16 to uint8. Range [-2048, 1711]. Convert image to uint8 prior to saving to suppress this warning.\n"
          ],
          "name": "stderr"
        },
        {
          "output_type": "stream",
          "text": [
            "Saved.\n",
            "Moving image...\n",
            "Moved.\n",
            "Finished converting images\n",
            "Saving image...\n"
          ],
          "name": "stdout"
        },
        {
          "output_type": "stream",
          "text": [
            "WARNING:root:Lossy conversion from int16 to uint8. Range [-2048, 1213]. Convert image to uint8 prior to saving to suppress this warning.\n"
          ],
          "name": "stderr"
        },
        {
          "output_type": "stream",
          "text": [
            "Saved.\n",
            "Moving image...\n",
            "Moved.\n",
            "Finished converting images\n",
            "study_0245\n",
            "3\n",
            "Created ouput directory: /content/drive/MyDrive/Radiology_workshop_monjoy/save_pngs_path/Normal//study_0245\n",
            "36\n",
            "Saving image...\n"
          ],
          "name": "stdout"
        },
        {
          "output_type": "stream",
          "text": [
            "WARNING:root:Lossy conversion from int16 to uint8. Range [-2048, 1238]. Convert image to uint8 prior to saving to suppress this warning.\n"
          ],
          "name": "stderr"
        },
        {
          "output_type": "stream",
          "text": [
            "Saved.\n",
            "Moving image...\n",
            "Moved.\n",
            "Finished converting images\n",
            "Saving image...\n"
          ],
          "name": "stdout"
        },
        {
          "output_type": "stream",
          "text": [
            "WARNING:root:Lossy conversion from int16 to uint8. Range [-2048, 1177]. Convert image to uint8 prior to saving to suppress this warning.\n"
          ],
          "name": "stderr"
        },
        {
          "output_type": "stream",
          "text": [
            "Saved.\n",
            "Moving image...\n",
            "Moved.\n",
            "Finished converting images\n",
            "Saving image...\n",
            "Saved.\n",
            "Moving image...\n",
            "Moved.\n",
            "Finished converting images\n",
            "Saving image...\n"
          ],
          "name": "stdout"
        },
        {
          "output_type": "stream",
          "text": [
            "WARNING:root:Lossy conversion from int16 to uint8. Range [-2048, 1320]. Convert image to uint8 prior to saving to suppress this warning.\n",
            "WARNING:root:Lossy conversion from int16 to uint8. Range [-2048, 1356]. Convert image to uint8 prior to saving to suppress this warning.\n"
          ],
          "name": "stderr"
        },
        {
          "output_type": "stream",
          "text": [
            "Saved.\n",
            "Moving image...\n",
            "Moved.\n",
            "Finished converting images\n",
            "Saving image...\n"
          ],
          "name": "stdout"
        },
        {
          "output_type": "stream",
          "text": [
            "WARNING:root:Lossy conversion from int16 to uint8. Range [-2048, 1301]. Convert image to uint8 prior to saving to suppress this warning.\n"
          ],
          "name": "stderr"
        },
        {
          "output_type": "stream",
          "text": [
            "Saved.\n",
            "Moving image...\n",
            "Moved.\n",
            "Finished converting images\n",
            "Saving image...\n"
          ],
          "name": "stdout"
        },
        {
          "output_type": "stream",
          "text": [
            "WARNING:root:Lossy conversion from int16 to uint8. Range [-2048, 1180]. Convert image to uint8 prior to saving to suppress this warning.\n"
          ],
          "name": "stderr"
        },
        {
          "output_type": "stream",
          "text": [
            "Saved.\n",
            "Moving image...\n",
            "Moved.\n",
            "Finished converting images\n",
            "Saving image...\n"
          ],
          "name": "stdout"
        },
        {
          "output_type": "stream",
          "text": [
            "WARNING:root:Lossy conversion from int16 to uint8. Range [-2048, 1251]. Convert image to uint8 prior to saving to suppress this warning.\n"
          ],
          "name": "stderr"
        },
        {
          "output_type": "stream",
          "text": [
            "Saved.\n",
            "Moving image...\n",
            "Moved.\n",
            "Finished converting images\n",
            "Saving image...\n"
          ],
          "name": "stdout"
        },
        {
          "output_type": "stream",
          "text": [
            "WARNING:root:Lossy conversion from int16 to uint8. Range [-2048, 1352]. Convert image to uint8 prior to saving to suppress this warning.\n"
          ],
          "name": "stderr"
        },
        {
          "output_type": "stream",
          "text": [
            "Saved.\n",
            "Moving image...\n",
            "Moved.\n",
            "Finished converting images\n",
            "Saving image...\n"
          ],
          "name": "stdout"
        },
        {
          "output_type": "stream",
          "text": [
            "WARNING:root:Lossy conversion from int16 to uint8. Range [-2048, 1458]. Convert image to uint8 prior to saving to suppress this warning.\n"
          ],
          "name": "stderr"
        },
        {
          "output_type": "stream",
          "text": [
            "Saved.\n",
            "Moving image...\n",
            "Moved.\n",
            "Finished converting images\n",
            "Saving image...\n"
          ],
          "name": "stdout"
        },
        {
          "output_type": "stream",
          "text": [
            "WARNING:root:Lossy conversion from int16 to uint8. Range [-2048, 1543]. Convert image to uint8 prior to saving to suppress this warning.\n"
          ],
          "name": "stderr"
        },
        {
          "output_type": "stream",
          "text": [
            "Saved.\n",
            "Moving image...\n",
            "Moved.\n",
            "Finished converting images\n",
            "Saving image...\n"
          ],
          "name": "stdout"
        },
        {
          "output_type": "stream",
          "text": [
            "WARNING:root:Lossy conversion from int16 to uint8. Range [-2048, 1296]. Convert image to uint8 prior to saving to suppress this warning.\n"
          ],
          "name": "stderr"
        },
        {
          "output_type": "stream",
          "text": [
            "Saved.\n",
            "Moving image...\n",
            "Moved.\n",
            "Finished converting images\n",
            "Saving image...\n"
          ],
          "name": "stdout"
        },
        {
          "output_type": "stream",
          "text": [
            "WARNING:root:Lossy conversion from int16 to uint8. Range [-2048, 1314]. Convert image to uint8 prior to saving to suppress this warning.\n"
          ],
          "name": "stderr"
        },
        {
          "output_type": "stream",
          "text": [
            "Saved.\n",
            "Moving image...\n",
            "Moved.\n",
            "Finished converting images\n",
            "Saving image...\n"
          ],
          "name": "stdout"
        },
        {
          "output_type": "stream",
          "text": [
            "WARNING:root:Lossy conversion from int16 to uint8. Range [-2048, 1340]. Convert image to uint8 prior to saving to suppress this warning.\n"
          ],
          "name": "stderr"
        },
        {
          "output_type": "stream",
          "text": [
            "Saved.\n",
            "Moving image...\n",
            "Moved.\n",
            "Finished converting images\n",
            "Saving image...\n"
          ],
          "name": "stdout"
        },
        {
          "output_type": "stream",
          "text": [
            "WARNING:root:Lossy conversion from int16 to uint8. Range [-2048, 1204]. Convert image to uint8 prior to saving to suppress this warning.\n"
          ],
          "name": "stderr"
        },
        {
          "output_type": "stream",
          "text": [
            "Saved.\n",
            "Moving image...\n",
            "Moved.\n",
            "Finished converting images\n",
            "Saving image...\n"
          ],
          "name": "stdout"
        },
        {
          "output_type": "stream",
          "text": [
            "WARNING:root:Lossy conversion from int16 to uint8. Range [-2048, 1292]. Convert image to uint8 prior to saving to suppress this warning.\n"
          ],
          "name": "stderr"
        },
        {
          "output_type": "stream",
          "text": [
            "Saved.\n",
            "Moving image...\n",
            "Moved.\n",
            "Finished converting images\n",
            "Saving image...\n"
          ],
          "name": "stdout"
        },
        {
          "output_type": "stream",
          "text": [
            "WARNING:root:Lossy conversion from int16 to uint8. Range [-2048, 1337]. Convert image to uint8 prior to saving to suppress this warning.\n"
          ],
          "name": "stderr"
        },
        {
          "output_type": "stream",
          "text": [
            "Saved.\n",
            "Moving image...\n",
            "Moved.\n",
            "Finished converting images\n",
            "Saving image...\n"
          ],
          "name": "stdout"
        },
        {
          "output_type": "stream",
          "text": [
            "WARNING:root:Lossy conversion from int16 to uint8. Range [-2048, 1235]. Convert image to uint8 prior to saving to suppress this warning.\n"
          ],
          "name": "stderr"
        },
        {
          "output_type": "stream",
          "text": [
            "Saved.\n",
            "Moving image...\n",
            "Moved.\n",
            "Finished converting images\n",
            "Saving image...\n"
          ],
          "name": "stdout"
        },
        {
          "output_type": "stream",
          "text": [
            "WARNING:root:Lossy conversion from int16 to uint8. Range [-2048, 1359]. Convert image to uint8 prior to saving to suppress this warning.\n"
          ],
          "name": "stderr"
        },
        {
          "output_type": "stream",
          "text": [
            "Saved.\n",
            "Moving image...\n",
            "Moved.\n",
            "Finished converting images\n",
            "Saving image...\n"
          ],
          "name": "stdout"
        },
        {
          "output_type": "stream",
          "text": [
            "WARNING:root:Lossy conversion from int16 to uint8. Range [-2048, 1543]. Convert image to uint8 prior to saving to suppress this warning.\n"
          ],
          "name": "stderr"
        },
        {
          "output_type": "stream",
          "text": [
            "Saved.\n",
            "Moving image...\n",
            "Moved.\n",
            "Finished converting images\n",
            "Saving image...\n"
          ],
          "name": "stdout"
        },
        {
          "output_type": "stream",
          "text": [
            "WARNING:root:Lossy conversion from int16 to uint8. Range [-2048, 1543]. Convert image to uint8 prior to saving to suppress this warning.\n"
          ],
          "name": "stderr"
        },
        {
          "output_type": "stream",
          "text": [
            "Saved.\n",
            "Moving image...\n",
            "Moved.\n",
            "Finished converting images\n",
            "Saving image...\n"
          ],
          "name": "stdout"
        },
        {
          "output_type": "stream",
          "text": [
            "WARNING:root:Lossy conversion from int16 to uint8. Range [-2048, 1534]. Convert image to uint8 prior to saving to suppress this warning.\n"
          ],
          "name": "stderr"
        },
        {
          "output_type": "stream",
          "text": [
            "Saved.\n",
            "Moving image...\n",
            "Moved.\n",
            "Finished converting images\n",
            "Saving image...\n"
          ],
          "name": "stdout"
        },
        {
          "output_type": "stream",
          "text": [
            "WARNING:root:Lossy conversion from int16 to uint8. Range [-2048, 1585]. Convert image to uint8 prior to saving to suppress this warning.\n"
          ],
          "name": "stderr"
        },
        {
          "output_type": "stream",
          "text": [
            "Saved.\n",
            "Moving image...\n",
            "Moved.\n",
            "Finished converting images\n",
            "Saving image...\n"
          ],
          "name": "stdout"
        },
        {
          "output_type": "stream",
          "text": [
            "WARNING:root:Lossy conversion from int16 to uint8. Range [-2048, 1524]. Convert image to uint8 prior to saving to suppress this warning.\n"
          ],
          "name": "stderr"
        },
        {
          "output_type": "stream",
          "text": [
            "Saved.\n",
            "Moving image...\n",
            "Moved.\n",
            "Finished converting images\n",
            "Saving image...\n"
          ],
          "name": "stdout"
        },
        {
          "output_type": "stream",
          "text": [
            "WARNING:root:Lossy conversion from int16 to uint8. Range [-2048, 1496]. Convert image to uint8 prior to saving to suppress this warning.\n"
          ],
          "name": "stderr"
        },
        {
          "output_type": "stream",
          "text": [
            "Saved.\n",
            "Moving image...\n",
            "Moved.\n",
            "Finished converting images\n",
            "Saving image...\n"
          ],
          "name": "stdout"
        },
        {
          "output_type": "stream",
          "text": [
            "WARNING:root:Lossy conversion from int16 to uint8. Range [-2048, 1382]. Convert image to uint8 prior to saving to suppress this warning.\n"
          ],
          "name": "stderr"
        },
        {
          "output_type": "stream",
          "text": [
            "Saved.\n",
            "Moving image...\n",
            "Moved.\n",
            "Finished converting images\n",
            "Saving image...\n"
          ],
          "name": "stdout"
        },
        {
          "output_type": "stream",
          "text": [
            "WARNING:root:Lossy conversion from int16 to uint8. Range [-2048, 1376]. Convert image to uint8 prior to saving to suppress this warning.\n"
          ],
          "name": "stderr"
        },
        {
          "output_type": "stream",
          "text": [
            "Saved.\n",
            "Moving image...\n",
            "Moved.\n",
            "Finished converting images\n",
            "Saving image...\n"
          ],
          "name": "stdout"
        },
        {
          "output_type": "stream",
          "text": [
            "WARNING:root:Lossy conversion from int16 to uint8. Range [-2048, 1540]. Convert image to uint8 prior to saving to suppress this warning.\n"
          ],
          "name": "stderr"
        },
        {
          "output_type": "stream",
          "text": [
            "Saved.\n",
            "Moving image...\n",
            "Moved.\n",
            "Finished converting images\n",
            "Saving image...\n"
          ],
          "name": "stdout"
        },
        {
          "output_type": "stream",
          "text": [
            "WARNING:root:Lossy conversion from int16 to uint8. Range [-2048, 1509]. Convert image to uint8 prior to saving to suppress this warning.\n"
          ],
          "name": "stderr"
        },
        {
          "output_type": "stream",
          "text": [
            "Saved.\n",
            "Moving image...\n",
            "Moved.\n",
            "Finished converting images\n",
            "Saving image...\n"
          ],
          "name": "stdout"
        },
        {
          "output_type": "stream",
          "text": [
            "WARNING:root:Lossy conversion from int16 to uint8. Range [-2048, 1413]. Convert image to uint8 prior to saving to suppress this warning.\n"
          ],
          "name": "stderr"
        },
        {
          "output_type": "stream",
          "text": [
            "Saved.\n",
            "Moving image...\n",
            "Moved.\n",
            "Finished converting images\n",
            "Saving image...\n"
          ],
          "name": "stdout"
        },
        {
          "output_type": "stream",
          "text": [
            "WARNING:root:Lossy conversion from int16 to uint8. Range [-2048, 1610]. Convert image to uint8 prior to saving to suppress this warning.\n"
          ],
          "name": "stderr"
        },
        {
          "output_type": "stream",
          "text": [
            "Saved.\n",
            "Moving image...\n",
            "Moved.\n",
            "Finished converting images\n",
            "Saving image...\n"
          ],
          "name": "stdout"
        },
        {
          "output_type": "stream",
          "text": [
            "WARNING:root:Lossy conversion from int16 to uint8. Range [-2048, 1715]. Convert image to uint8 prior to saving to suppress this warning.\n"
          ],
          "name": "stderr"
        },
        {
          "output_type": "stream",
          "text": [
            "Saved.\n",
            "Moving image...\n",
            "Moved.\n",
            "Finished converting images\n",
            "Saving image...\n"
          ],
          "name": "stdout"
        },
        {
          "output_type": "stream",
          "text": [
            "WARNING:root:Lossy conversion from int16 to uint8. Range [-2048, 1703]. Convert image to uint8 prior to saving to suppress this warning.\n"
          ],
          "name": "stderr"
        },
        {
          "output_type": "stream",
          "text": [
            "Saved.\n",
            "Moving image...\n",
            "Moved.\n",
            "Finished converting images\n",
            "Saving image...\n"
          ],
          "name": "stdout"
        },
        {
          "output_type": "stream",
          "text": [
            "WARNING:root:Lossy conversion from int16 to uint8. Range [-2048, 1605]. Convert image to uint8 prior to saving to suppress this warning.\n"
          ],
          "name": "stderr"
        },
        {
          "output_type": "stream",
          "text": [
            "Saved.\n",
            "Moving image...\n",
            "Moved.\n",
            "Finished converting images\n",
            "Saving image...\n"
          ],
          "name": "stdout"
        },
        {
          "output_type": "stream",
          "text": [
            "WARNING:root:Lossy conversion from int16 to uint8. Range [-2048, 1669]. Convert image to uint8 prior to saving to suppress this warning.\n"
          ],
          "name": "stderr"
        },
        {
          "output_type": "stream",
          "text": [
            "Saved.\n",
            "Moving image...\n",
            "Moved.\n",
            "Finished converting images\n",
            "Saving image...\n"
          ],
          "name": "stdout"
        },
        {
          "output_type": "stream",
          "text": [
            "WARNING:root:Lossy conversion from int16 to uint8. Range [-2048, 1682]. Convert image to uint8 prior to saving to suppress this warning.\n"
          ],
          "name": "stderr"
        },
        {
          "output_type": "stream",
          "text": [
            "Saved.\n",
            "Moving image...\n",
            "Moved.\n",
            "Finished converting images\n",
            "Saving image...\n",
            "Saved.\n",
            "Moving image...\n",
            "Moved.\n",
            "Finished converting images\n",
            "study_0240\n"
          ],
          "name": "stdout"
        },
        {
          "output_type": "stream",
          "text": [
            "WARNING:root:Lossy conversion from int16 to uint8. Range [-2048, 1439]. Convert image to uint8 prior to saving to suppress this warning.\n"
          ],
          "name": "stderr"
        },
        {
          "output_type": "stream",
          "text": [
            "3\n",
            "Created ouput directory: /content/drive/MyDrive/Radiology_workshop_monjoy/save_pngs_path/Normal//study_0240\n",
            "45\n",
            "Saving image...\n",
            "Saved.\n",
            "Moving image...\n",
            "Moved.\n",
            "Finished converting images\n",
            "Saving image...\n"
          ],
          "name": "stdout"
        },
        {
          "output_type": "stream",
          "text": [
            "WARNING:root:Lossy conversion from int16 to uint8. Range [-2048, 1382]. Convert image to uint8 prior to saving to suppress this warning.\n",
            "WARNING:root:Lossy conversion from int16 to uint8. Range [-2048, 1309]. Convert image to uint8 prior to saving to suppress this warning.\n"
          ],
          "name": "stderr"
        },
        {
          "output_type": "stream",
          "text": [
            "Saved.\n",
            "Moving image...\n",
            "Moved.\n",
            "Finished converting images\n",
            "Saving image...\n"
          ],
          "name": "stdout"
        },
        {
          "output_type": "stream",
          "text": [
            "WARNING:root:Lossy conversion from int16 to uint8. Range [-2048, 1392]. Convert image to uint8 prior to saving to suppress this warning.\n"
          ],
          "name": "stderr"
        },
        {
          "output_type": "stream",
          "text": [
            "Saved.\n",
            "Moving image...\n",
            "Moved.\n",
            "Finished converting images\n",
            "Saving image...\n"
          ],
          "name": "stdout"
        },
        {
          "output_type": "stream",
          "text": [
            "WARNING:root:Lossy conversion from int16 to uint8. Range [-2048, 1416]. Convert image to uint8 prior to saving to suppress this warning.\n",
            "WARNING:root:Lossy conversion from int16 to uint8. Range [-2048, 1254]. Convert image to uint8 prior to saving to suppress this warning.\n"
          ],
          "name": "stderr"
        },
        {
          "output_type": "stream",
          "text": [
            "Saved.\n",
            "Moving image...\n",
            "Moved.\n",
            "Finished converting images\n",
            "Saving image...\n",
            "Saved.\n",
            "Moving image...\n",
            "Moved.\n",
            "Finished converting images\n",
            "Saving image...\n"
          ],
          "name": "stdout"
        },
        {
          "output_type": "stream",
          "text": [
            "WARNING:root:Lossy conversion from int16 to uint8. Range [-2048, 1269]. Convert image to uint8 prior to saving to suppress this warning.\n",
            "WARNING:root:Lossy conversion from int16 to uint8. Range [-2048, 1354]. Convert image to uint8 prior to saving to suppress this warning.\n"
          ],
          "name": "stderr"
        },
        {
          "output_type": "stream",
          "text": [
            "Saved.\n",
            "Moving image...\n",
            "Moved.\n",
            "Finished converting images\n",
            "Saving image...\n",
            "Saved.\n",
            "Moving image...\n",
            "Moved.\n",
            "Finished converting images\n",
            "Saving image...\n"
          ],
          "name": "stdout"
        },
        {
          "output_type": "stream",
          "text": [
            "WARNING:root:Lossy conversion from int16 to uint8. Range [-2048, 1366]. Convert image to uint8 prior to saving to suppress this warning.\n"
          ],
          "name": "stderr"
        },
        {
          "output_type": "stream",
          "text": [
            "Saved.\n",
            "Moving image...\n",
            "Moved.\n",
            "Finished converting images\n",
            "Saving image...\n"
          ],
          "name": "stdout"
        },
        {
          "output_type": "stream",
          "text": [
            "WARNING:root:Lossy conversion from int16 to uint8. Range [-2048, 1389]. Convert image to uint8 prior to saving to suppress this warning.\n",
            "WARNING:root:Lossy conversion from int16 to uint8. Range [-2048, 1390]. Convert image to uint8 prior to saving to suppress this warning.\n"
          ],
          "name": "stderr"
        },
        {
          "output_type": "stream",
          "text": [
            "Saved.\n",
            "Moving image...\n",
            "Moved.\n",
            "Finished converting images\n",
            "Saving image...\n",
            "Saved.\n",
            "Moving image...\n",
            "Moved.\n",
            "Finished converting images\n",
            "Saving image...\n"
          ],
          "name": "stdout"
        },
        {
          "output_type": "stream",
          "text": [
            "WARNING:root:Lossy conversion from int16 to uint8. Range [-2048, 1544]. Convert image to uint8 prior to saving to suppress this warning.\n"
          ],
          "name": "stderr"
        },
        {
          "output_type": "stream",
          "text": [
            "Saved.\n",
            "Moving image...\n",
            "Moved.\n",
            "Finished converting images\n",
            "Saving image...\n",
            "Saved.\n",
            "Moving image...\n",
            "Moved.\n",
            "Finished converting images\n",
            "Saving image...\n"
          ],
          "name": "stdout"
        },
        {
          "output_type": "stream",
          "text": [
            "WARNING:root:Lossy conversion from int16 to uint8. Range [-2048, 1426]. Convert image to uint8 prior to saving to suppress this warning.\n",
            "WARNING:root:Lossy conversion from int16 to uint8. Range [-2048, 1391]. Convert image to uint8 prior to saving to suppress this warning.\n"
          ],
          "name": "stderr"
        },
        {
          "output_type": "stream",
          "text": [
            "Saved.\n",
            "Moving image...\n",
            "Moved.\n",
            "Finished converting images\n",
            "Saving image...\n"
          ],
          "name": "stdout"
        },
        {
          "output_type": "stream",
          "text": [
            "WARNING:root:Lossy conversion from int16 to uint8. Range [-2048, 1268]. Convert image to uint8 prior to saving to suppress this warning.\n"
          ],
          "name": "stderr"
        },
        {
          "output_type": "stream",
          "text": [
            "Saved.\n",
            "Moving image...\n",
            "Moved.\n",
            "Finished converting images\n",
            "Saving image...\n"
          ],
          "name": "stdout"
        },
        {
          "output_type": "stream",
          "text": [
            "WARNING:root:Lossy conversion from int16 to uint8. Range [-2048, 1347]. Convert image to uint8 prior to saving to suppress this warning.\n"
          ],
          "name": "stderr"
        },
        {
          "output_type": "stream",
          "text": [
            "Saved.\n",
            "Moving image...\n",
            "Moved.\n",
            "Finished converting images\n",
            "Saving image...\n"
          ],
          "name": "stdout"
        },
        {
          "output_type": "stream",
          "text": [
            "WARNING:root:Lossy conversion from int16 to uint8. Range [-2048, 1459]. Convert image to uint8 prior to saving to suppress this warning.\n"
          ],
          "name": "stderr"
        },
        {
          "output_type": "stream",
          "text": [
            "Saved.\n",
            "Moving image...\n",
            "Moved.\n",
            "Finished converting images\n",
            "Saving image...\n"
          ],
          "name": "stdout"
        },
        {
          "output_type": "stream",
          "text": [
            "WARNING:root:Lossy conversion from int16 to uint8. Range [-2048, 1219]. Convert image to uint8 prior to saving to suppress this warning.\n",
            "WARNING:root:Lossy conversion from int16 to uint8. Range [-2048, 1369]. Convert image to uint8 prior to saving to suppress this warning.\n"
          ],
          "name": "stderr"
        },
        {
          "output_type": "stream",
          "text": [
            "Saved.\n",
            "Moving image...\n",
            "Moved.\n",
            "Finished converting images\n",
            "Saving image...\n",
            "Saved.\n",
            "Moving image...\n",
            "Moved.\n",
            "Finished converting images\n",
            "Saving image...\n"
          ],
          "name": "stdout"
        },
        {
          "output_type": "stream",
          "text": [
            "WARNING:root:Lossy conversion from int16 to uint8. Range [-2048, 1258]. Convert image to uint8 prior to saving to suppress this warning.\n"
          ],
          "name": "stderr"
        },
        {
          "output_type": "stream",
          "text": [
            "Saved.\n",
            "Moving image...\n",
            "Moved.\n",
            "Finished converting images\n",
            "Saving image...\n",
            "Saved.\n",
            "Moving image..."
          ],
          "name": "stdout"
        },
        {
          "output_type": "stream",
          "text": [
            "WARNING:root:Lossy conversion from int16 to uint8. Range [-2048, 1186]. Convert image to uint8 prior to saving to suppress this warning.\n"
          ],
          "name": "stderr"
        },
        {
          "output_type": "stream",
          "text": [
            "\n",
            "Moved.\n",
            "Finished converting images\n",
            "Saving image...\n"
          ],
          "name": "stdout"
        },
        {
          "output_type": "stream",
          "text": [
            "WARNING:root:Lossy conversion from int16 to uint8. Range [-2048, 1227]. Convert image to uint8 prior to saving to suppress this warning.\n",
            "WARNING:root:Lossy conversion from int16 to uint8. Range [-2048, 1359]. Convert image to uint8 prior to saving to suppress this warning.\n"
          ],
          "name": "stderr"
        },
        {
          "output_type": "stream",
          "text": [
            "Saved.\n",
            "Moving image...\n",
            "Moved.\n",
            "Finished converting images\n",
            "Saving image...\n",
            "Saved.\n",
            "Moving image...\n",
            "Moved.\n",
            "Finished converting images\n",
            "Saving image...\n"
          ],
          "name": "stdout"
        },
        {
          "output_type": "stream",
          "text": [
            "WARNING:root:Lossy conversion from int16 to uint8. Range [-2048, 1400]. Convert image to uint8 prior to saving to suppress this warning.\n",
            "WARNING:root:Lossy conversion from int16 to uint8. Range [-2048, 1281]. Convert image to uint8 prior to saving to suppress this warning.\n"
          ],
          "name": "stderr"
        },
        {
          "output_type": "stream",
          "text": [
            "Saved.\n",
            "Moving image...\n",
            "Moved.\n",
            "Finished converting images\n",
            "Saving image...\n",
            "Saved.\n",
            "Moving image...\n",
            "Moved.\n",
            "Finished converting images\n",
            "Saving image...\n"
          ],
          "name": "stdout"
        },
        {
          "output_type": "stream",
          "text": [
            "WARNING:root:Lossy conversion from int16 to uint8. Range [-2048, 1171]. Convert image to uint8 prior to saving to suppress this warning.\n"
          ],
          "name": "stderr"
        },
        {
          "output_type": "stream",
          "text": [
            "Saved.\n",
            "Moving image...\n",
            "Moved.\n",
            "Finished converting images\n",
            "Saving image...\n",
            "Saved.\n",
            "Moving image...\n",
            "Moved.\n",
            "Finished converting images\n",
            "Saving image...\n"
          ],
          "name": "stdout"
        },
        {
          "output_type": "stream",
          "text": [
            "WARNING:root:Lossy conversion from int16 to uint8. Range [-2048, 1326]. Convert image to uint8 prior to saving to suppress this warning.\n",
            "WARNING:root:Lossy conversion from int16 to uint8. Range [-2048, 1278]. Convert image to uint8 prior to saving to suppress this warning.\n"
          ],
          "name": "stderr"
        },
        {
          "output_type": "stream",
          "text": [
            "Saved.\n",
            "Moving image...\n",
            "Moved.\n",
            "Finished converting images\n",
            "Saving image...\n"
          ],
          "name": "stdout"
        },
        {
          "output_type": "stream",
          "text": [
            "WARNING:root:Lossy conversion from int16 to uint8. Range [-2048, 1445]. Convert image to uint8 prior to saving to suppress this warning.\n",
            "WARNING:root:Lossy conversion from int16 to uint8. Range [-2048, 1418]. Convert image to uint8 prior to saving to suppress this warning.\n"
          ],
          "name": "stderr"
        },
        {
          "output_type": "stream",
          "text": [
            "Saved.\n",
            "Moving image...\n",
            "Moved.\n",
            "Finished converting images\n",
            "Saving image...\n",
            "Saved.\n",
            "Moving image...\n",
            "Moved.\n",
            "Finished converting images\n",
            "Saving image...\n"
          ],
          "name": "stdout"
        },
        {
          "output_type": "stream",
          "text": [
            "WARNING:root:Lossy conversion from int16 to uint8. Range [-2048, 1513]. Convert image to uint8 prior to saving to suppress this warning.\n"
          ],
          "name": "stderr"
        },
        {
          "output_type": "stream",
          "text": [
            "Saved.\n",
            "Moving image...\n",
            "Moved.\n",
            "Finished converting images\n",
            "Saving image...\n",
            "Saved.\n",
            "Moving image...\n",
            "Moved.\n",
            "Finished converting images\n",
            "Saving image...\n"
          ],
          "name": "stdout"
        },
        {
          "output_type": "stream",
          "text": [
            "WARNING:root:Lossy conversion from int16 to uint8. Range [-2048, 1466]. Convert image to uint8 prior to saving to suppress this warning.\n",
            "WARNING:root:Lossy conversion from int16 to uint8. Range [-2048, 1497]. Convert image to uint8 prior to saving to suppress this warning.\n"
          ],
          "name": "stderr"
        },
        {
          "output_type": "stream",
          "text": [
            "Saved.\n",
            "Moving image...\n",
            "Moved.\n",
            "Finished converting images\n",
            "Saving image...\n"
          ],
          "name": "stdout"
        },
        {
          "output_type": "stream",
          "text": [
            "WARNING:root:Lossy conversion from int16 to uint8. Range [-2048, 1538]. Convert image to uint8 prior to saving to suppress this warning.\n"
          ],
          "name": "stderr"
        },
        {
          "output_type": "stream",
          "text": [
            "Saved.\n",
            "Moving image...\n",
            "Moved.\n",
            "Finished converting images\n",
            "Saving image...\n"
          ],
          "name": "stdout"
        },
        {
          "output_type": "stream",
          "text": [
            "WARNING:root:Lossy conversion from int16 to uint8. Range [-2048, 1420]. Convert image to uint8 prior to saving to suppress this warning.\n",
            "WARNING:root:Lossy conversion from int16 to uint8. Range [-2048, 1392]. Convert image to uint8 prior to saving to suppress this warning.\n"
          ],
          "name": "stderr"
        },
        {
          "output_type": "stream",
          "text": [
            "Saved.\n",
            "Moving image...\n",
            "Moved.\n",
            "Finished converting images\n",
            "Saving image...\n",
            "Saved.\n",
            "Moving image...\n",
            "Moved.\n",
            "Finished converting images\n",
            "Saving image...\n"
          ],
          "name": "stdout"
        },
        {
          "output_type": "stream",
          "text": [
            "WARNING:root:Lossy conversion from int16 to uint8. Range [-2048, 1551]. Convert image to uint8 prior to saving to suppress this warning.\n",
            "WARNING:root:Lossy conversion from int16 to uint8. Range [-2048, 1551]. Convert image to uint8 prior to saving to suppress this warning.\n"
          ],
          "name": "stderr"
        },
        {
          "output_type": "stream",
          "text": [
            "Saved.\n",
            "Moving image...\n",
            "Moved.\n",
            "Finished converting images\n",
            "Saving image...\n",
            "Saved.\n",
            "Moving image...\n",
            "Moved.\n",
            "Finished converting images\n",
            "Saving image...\n"
          ],
          "name": "stdout"
        },
        {
          "output_type": "stream",
          "text": [
            "WARNING:root:Lossy conversion from int16 to uint8. Range [-2048, 1618]. Convert image to uint8 prior to saving to suppress this warning.\n"
          ],
          "name": "stderr"
        },
        {
          "output_type": "stream",
          "text": [
            "Saved.\n",
            "Moving image...\n",
            "Moved.\n",
            "Finished converting images\n",
            "Saving image...\n"
          ],
          "name": "stdout"
        },
        {
          "output_type": "stream",
          "text": [
            "WARNING:root:Lossy conversion from int16 to uint8. Range [-2048, 1640]. Convert image to uint8 prior to saving to suppress this warning.\n"
          ],
          "name": "stderr"
        },
        {
          "output_type": "stream",
          "text": [
            "Saved.\n",
            "Moving image...\n",
            "Moved.\n",
            "Finished converting images\n",
            "Saving image...\n"
          ],
          "name": "stdout"
        },
        {
          "output_type": "stream",
          "text": [
            "WARNING:root:Lossy conversion from int16 to uint8. Range [-2048, 1760]. Convert image to uint8 prior to saving to suppress this warning.\n"
          ],
          "name": "stderr"
        },
        {
          "output_type": "stream",
          "text": [
            "Saved.\n",
            "Moving image...\n",
            "Moved.\n",
            "Finished converting images\n",
            "Saving image...\n"
          ],
          "name": "stdout"
        },
        {
          "output_type": "stream",
          "text": [
            "WARNING:root:Lossy conversion from int16 to uint8. Range [-2048, 1747]. Convert image to uint8 prior to saving to suppress this warning.\n"
          ],
          "name": "stderr"
        },
        {
          "output_type": "stream",
          "text": [
            "Saved.\n",
            "Moving image...\n",
            "Moved.\n",
            "Finished converting images\n",
            "Saving image...\n"
          ],
          "name": "stdout"
        },
        {
          "output_type": "stream",
          "text": [
            "WARNING:root:Lossy conversion from int16 to uint8. Range [-2048, 1640]. Convert image to uint8 prior to saving to suppress this warning.\n"
          ],
          "name": "stderr"
        },
        {
          "output_type": "stream",
          "text": [
            "Saved.\n",
            "Moving image...\n",
            "Moved.\n",
            "Finished converting images\n",
            "Saving image...\n"
          ],
          "name": "stdout"
        },
        {
          "output_type": "stream",
          "text": [
            "WARNING:root:Lossy conversion from int16 to uint8. Range [-2048, 1706]. Convert image to uint8 prior to saving to suppress this warning.\n"
          ],
          "name": "stderr"
        },
        {
          "output_type": "stream",
          "text": [
            "Saved.\n",
            "Moving image...\n",
            "Moved.\n",
            "Finished converting images\n",
            "Saving image...\n"
          ],
          "name": "stdout"
        },
        {
          "output_type": "stream",
          "text": [
            "WARNING:root:Lossy conversion from int16 to uint8. Range [-2048, 1765]. Convert image to uint8 prior to saving to suppress this warning.\n"
          ],
          "name": "stderr"
        },
        {
          "output_type": "stream",
          "text": [
            "Saved.\n",
            "Moving image...\n",
            "Moved.\n",
            "Finished converting images\n",
            "Saving image...\n",
            "Saved.\n",
            "Moving image...\n",
            "Moved.\n",
            "Finished converting images\n",
            "study_0246\n"
          ],
          "name": "stdout"
        },
        {
          "output_type": "stream",
          "text": [
            "WARNING:root:Lossy conversion from int16 to uint8. Range [-2048, 1487]. Convert image to uint8 prior to saving to suppress this warning.\n"
          ],
          "name": "stderr"
        },
        {
          "output_type": "stream",
          "text": [
            "3\n",
            "Created ouput directory: /content/drive/MyDrive/Radiology_workshop_monjoy/save_pngs_path/Normal//study_0246\n",
            "43\n",
            "Saving image...\n"
          ],
          "name": "stdout"
        },
        {
          "output_type": "stream",
          "text": [
            "WARNING:root:Lossy conversion from int16 to uint8. Range [-2048, 1344]. Convert image to uint8 prior to saving to suppress this warning.\n"
          ],
          "name": "stderr"
        },
        {
          "output_type": "stream",
          "text": [
            "Saved.\n",
            "Moving image...\n",
            "Moved.\n",
            "Finished converting images\n",
            "Saving image...\n"
          ],
          "name": "stdout"
        },
        {
          "output_type": "stream",
          "text": [
            "WARNING:root:Lossy conversion from int16 to uint8. Range [-2048, 1437]. Convert image to uint8 prior to saving to suppress this warning.\n"
          ],
          "name": "stderr"
        },
        {
          "output_type": "stream",
          "text": [
            "Saved.\n",
            "Moving image...\n",
            "Moved.\n",
            "Finished converting images\n",
            "Saving image...\n"
          ],
          "name": "stdout"
        },
        {
          "output_type": "stream",
          "text": [
            "WARNING:root:Lossy conversion from int16 to uint8. Range [-2048, 1431]. Convert image to uint8 prior to saving to suppress this warning.\n"
          ],
          "name": "stderr"
        },
        {
          "output_type": "stream",
          "text": [
            "Saved.\n",
            "Moving image...\n",
            "Moved.\n",
            "Finished converting images\n",
            "Saving image...\n"
          ],
          "name": "stdout"
        },
        {
          "output_type": "stream",
          "text": [
            "WARNING:root:Lossy conversion from int16 to uint8. Range [-2048, 1486]. Convert image to uint8 prior to saving to suppress this warning.\n"
          ],
          "name": "stderr"
        },
        {
          "output_type": "stream",
          "text": [
            "Saved.\n",
            "Moving image...\n",
            "Moved.\n",
            "Finished converting images\n",
            "Saving image...\n"
          ],
          "name": "stdout"
        },
        {
          "output_type": "stream",
          "text": [
            "WARNING:root:Lossy conversion from int16 to uint8. Range [-2048, 1428]. Convert image to uint8 prior to saving to suppress this warning.\n"
          ],
          "name": "stderr"
        },
        {
          "output_type": "stream",
          "text": [
            "Saved.\n",
            "Moving image...\n",
            "Moved.\n",
            "Finished converting images\n",
            "Saving image...\n"
          ],
          "name": "stdout"
        },
        {
          "output_type": "stream",
          "text": [
            "WARNING:root:Lossy conversion from int16 to uint8. Range [-2048, 1408]. Convert image to uint8 prior to saving to suppress this warning.\n"
          ],
          "name": "stderr"
        },
        {
          "output_type": "stream",
          "text": [
            "Saved.\n",
            "Moving image...\n",
            "Moved.\n",
            "Finished converting images\n",
            "Saving image...\n"
          ],
          "name": "stdout"
        },
        {
          "output_type": "stream",
          "text": [
            "WARNING:root:Lossy conversion from int16 to uint8. Range [-2048, 1349]. Convert image to uint8 prior to saving to suppress this warning.\n"
          ],
          "name": "stderr"
        },
        {
          "output_type": "stream",
          "text": [
            "Saved.\n",
            "Moving image...\n",
            "Moved.\n",
            "Finished converting images\n",
            "Saving image...\n"
          ],
          "name": "stdout"
        },
        {
          "output_type": "stream",
          "text": [
            "WARNING:root:Lossy conversion from int16 to uint8. Range [-2048, 1416]. Convert image to uint8 prior to saving to suppress this warning.\n"
          ],
          "name": "stderr"
        },
        {
          "output_type": "stream",
          "text": [
            "Saved.\n",
            "Moving image...\n",
            "Moved.\n",
            "Finished converting images\n",
            "Saving image...\n"
          ],
          "name": "stdout"
        },
        {
          "output_type": "stream",
          "text": [
            "WARNING:root:Lossy conversion from int16 to uint8. Range [-2048, 1253]. Convert image to uint8 prior to saving to suppress this warning.\n"
          ],
          "name": "stderr"
        },
        {
          "output_type": "stream",
          "text": [
            "Saved.\n",
            "Moving image...\n",
            "Moved.\n",
            "Finished converting images\n",
            "Saving image...\n",
            "Saved.\n",
            "Moving image...\n",
            "Moved.\n",
            "Finished converting images\n",
            "Saving image...\n"
          ],
          "name": "stdout"
        },
        {
          "output_type": "stream",
          "text": [
            "WARNING:root:Lossy conversion from int16 to uint8. Range [-2048, 1501]. Convert image to uint8 prior to saving to suppress this warning.\n",
            "WARNING:root:Lossy conversion from int16 to uint8. Range [-2048, 1409]. Convert image to uint8 prior to saving to suppress this warning.\n"
          ],
          "name": "stderr"
        },
        {
          "output_type": "stream",
          "text": [
            "Saved.\n",
            "Moving image...\n",
            "Moved.\n",
            "Finished converting images\n",
            "Saving image...\n"
          ],
          "name": "stdout"
        },
        {
          "output_type": "stream",
          "text": [
            "WARNING:root:Lossy conversion from int16 to uint8. Range [-2048, 1357]. Convert image to uint8 prior to saving to suppress this warning.\n"
          ],
          "name": "stderr"
        },
        {
          "output_type": "stream",
          "text": [
            "Saved.\n",
            "Moving image...\n",
            "Moved.\n",
            "Finished converting images\n",
            "Saving image...\n"
          ],
          "name": "stdout"
        },
        {
          "output_type": "stream",
          "text": [
            "WARNING:root:Lossy conversion from int16 to uint8. Range [-2048, 1365]. Convert image to uint8 prior to saving to suppress this warning.\n"
          ],
          "name": "stderr"
        },
        {
          "output_type": "stream",
          "text": [
            "Saved.\n",
            "Moving image...\n",
            "Moved.\n",
            "Finished converting images\n",
            "Saving image...\n"
          ],
          "name": "stdout"
        },
        {
          "output_type": "stream",
          "text": [
            "WARNING:root:Lossy conversion from int16 to uint8. Range [-2048, 1432]. Convert image to uint8 prior to saving to suppress this warning.\n"
          ],
          "name": "stderr"
        },
        {
          "output_type": "stream",
          "text": [
            "Saved.\n",
            "Moving image...\n",
            "Moved.\n",
            "Finished converting images\n",
            "Saving image...\n"
          ],
          "name": "stdout"
        },
        {
          "output_type": "stream",
          "text": [
            "WARNING:root:Lossy conversion from int16 to uint8. Range [-2048, 1311]. Convert image to uint8 prior to saving to suppress this warning.\n"
          ],
          "name": "stderr"
        },
        {
          "output_type": "stream",
          "text": [
            "Saved.\n",
            "Moving image...\n",
            "Moved.\n",
            "Finished converting images\n",
            "Saving image...\n"
          ],
          "name": "stdout"
        },
        {
          "output_type": "stream",
          "text": [
            "WARNING:root:Lossy conversion from int16 to uint8. Range [-2048, 1508]. Convert image to uint8 prior to saving to suppress this warning.\n"
          ],
          "name": "stderr"
        },
        {
          "output_type": "stream",
          "text": [
            "Saved.\n",
            "Moving image...\n",
            "Moved.\n",
            "Finished converting images\n",
            "Saving image...\n"
          ],
          "name": "stdout"
        },
        {
          "output_type": "stream",
          "text": [
            "WARNING:root:Lossy conversion from int16 to uint8. Range [-2048, 1357]. Convert image to uint8 prior to saving to suppress this warning.\n"
          ],
          "name": "stderr"
        },
        {
          "output_type": "stream",
          "text": [
            "Saved.\n",
            "Moving image...\n",
            "Moved.\n",
            "Finished converting images\n",
            "Saving image...\n"
          ],
          "name": "stdout"
        },
        {
          "output_type": "stream",
          "text": [
            "WARNING:root:Lossy conversion from int16 to uint8. Range [-2048, 1340]. Convert image to uint8 prior to saving to suppress this warning.\n"
          ],
          "name": "stderr"
        },
        {
          "output_type": "stream",
          "text": [
            "Saved.\n",
            "Moving image...\n",
            "Moved.\n",
            "Finished converting images\n",
            "Saving image...\n"
          ],
          "name": "stdout"
        },
        {
          "output_type": "stream",
          "text": [
            "WARNING:root:Lossy conversion from int16 to uint8. Range [-2048, 1369]. Convert image to uint8 prior to saving to suppress this warning.\n"
          ],
          "name": "stderr"
        },
        {
          "output_type": "stream",
          "text": [
            "Saved.\n",
            "Moving image...\n",
            "Moved.\n",
            "Finished converting images\n",
            "Saving image...\n"
          ],
          "name": "stdout"
        },
        {
          "output_type": "stream",
          "text": [
            "WARNING:root:Lossy conversion from int16 to uint8. Range [-2048, 1300]. Convert image to uint8 prior to saving to suppress this warning.\n"
          ],
          "name": "stderr"
        },
        {
          "output_type": "stream",
          "text": [
            "Saved.\n",
            "Moving image...\n",
            "Moved.\n",
            "Finished converting images\n",
            "Saving image...\n"
          ],
          "name": "stdout"
        },
        {
          "output_type": "stream",
          "text": [
            "WARNING:root:Lossy conversion from int16 to uint8. Range [-2048, 1488]. Convert image to uint8 prior to saving to suppress this warning.\n"
          ],
          "name": "stderr"
        },
        {
          "output_type": "stream",
          "text": [
            "Saved.\n",
            "Moving image...\n",
            "Moved.\n",
            "Finished converting images\n",
            "Saving image...\n",
            "Saved.\n",
            "Moving image...\n",
            "Moved.\n",
            "Finished converting images\n",
            "Saving image...\n"
          ],
          "name": "stdout"
        },
        {
          "output_type": "stream",
          "text": [
            "WARNING:root:Lossy conversion from int16 to uint8. Range [-2048, 1398]. Convert image to uint8 prior to saving to suppress this warning.\n",
            "WARNING:root:Lossy conversion from int16 to uint8. Range [-2048, 1429]. Convert image to uint8 prior to saving to suppress this warning.\n"
          ],
          "name": "stderr"
        },
        {
          "output_type": "stream",
          "text": [
            "Saved.\n",
            "Moving image...\n",
            "Moved.\n",
            "Finished converting images\n",
            "Saving image...\n"
          ],
          "name": "stdout"
        },
        {
          "output_type": "stream",
          "text": [
            "WARNING:root:Lossy conversion from int16 to uint8. Range [-2048, 1363]. Convert image to uint8 prior to saving to suppress this warning.\n"
          ],
          "name": "stderr"
        },
        {
          "output_type": "stream",
          "text": [
            "Saved.\n",
            "Moving image...\n",
            "Moved.\n",
            "Finished converting images\n",
            "Saving image...\n"
          ],
          "name": "stdout"
        },
        {
          "output_type": "stream",
          "text": [
            "WARNING:root:Lossy conversion from int16 to uint8. Range [-2048, 1334]. Convert image to uint8 prior to saving to suppress this warning.\n"
          ],
          "name": "stderr"
        },
        {
          "output_type": "stream",
          "text": [
            "Saved.\n",
            "Moving image...\n",
            "Moved.\n",
            "Finished converting images\n",
            "Saving image...\n"
          ],
          "name": "stdout"
        },
        {
          "output_type": "stream",
          "text": [
            "WARNING:root:Lossy conversion from int16 to uint8. Range [-2048, 1498]. Convert image to uint8 prior to saving to suppress this warning.\n"
          ],
          "name": "stderr"
        },
        {
          "output_type": "stream",
          "text": [
            "Saved.\n",
            "Moving image...\n",
            "Moved.\n",
            "Finished converting images\n",
            "Saving image...\n"
          ],
          "name": "stdout"
        },
        {
          "output_type": "stream",
          "text": [
            "WARNING:root:Lossy conversion from int16 to uint8. Range [-2048, 1576]. Convert image to uint8 prior to saving to suppress this warning.\n"
          ],
          "name": "stderr"
        },
        {
          "output_type": "stream",
          "text": [
            "Saved.\n",
            "Moving image...\n",
            "Moved.\n",
            "Finished converting images\n",
            "Saving image...\n"
          ],
          "name": "stdout"
        },
        {
          "output_type": "stream",
          "text": [
            "WARNING:root:Lossy conversion from int16 to uint8. Range [-2048, 1550]. Convert image to uint8 prior to saving to suppress this warning.\n"
          ],
          "name": "stderr"
        },
        {
          "output_type": "stream",
          "text": [
            "Saved.\n",
            "Moving image...\n",
            "Moved.\n",
            "Finished converting images\n",
            "Saving image...\n"
          ],
          "name": "stdout"
        },
        {
          "output_type": "stream",
          "text": [
            "WARNING:root:Lossy conversion from int16 to uint8. Range [-2048, 1474]. Convert image to uint8 prior to saving to suppress this warning.\n"
          ],
          "name": "stderr"
        },
        {
          "output_type": "stream",
          "text": [
            "Saved.\n",
            "Moving image...\n",
            "Moved.\n",
            "Finished converting images\n",
            "Saving image...\n"
          ],
          "name": "stdout"
        },
        {
          "output_type": "stream",
          "text": [
            "WARNING:root:Lossy conversion from int16 to uint8. Range [-2048, 1452]. Convert image to uint8 prior to saving to suppress this warning.\n"
          ],
          "name": "stderr"
        },
        {
          "output_type": "stream",
          "text": [
            "Saved.\n",
            "Moving image...\n",
            "Moved.\n",
            "Finished converting images\n",
            "Saving image...\n"
          ],
          "name": "stdout"
        },
        {
          "output_type": "stream",
          "text": [
            "WARNING:root:Lossy conversion from int16 to uint8. Range [-2048, 1471]. Convert image to uint8 prior to saving to suppress this warning.\n"
          ],
          "name": "stderr"
        },
        {
          "output_type": "stream",
          "text": [
            "Saved.\n",
            "Moving image...\n",
            "Moved.\n",
            "Finished converting images\n",
            "Saving image...\n"
          ],
          "name": "stdout"
        },
        {
          "output_type": "stream",
          "text": [
            "WARNING:root:Lossy conversion from int16 to uint8. Range [-2048, 1477]. Convert image to uint8 prior to saving to suppress this warning.\n"
          ],
          "name": "stderr"
        },
        {
          "output_type": "stream",
          "text": [
            "Saved.\n",
            "Moving image...\n",
            "Moved.\n",
            "Finished converting images\n",
            "Saving image...\n"
          ],
          "name": "stdout"
        },
        {
          "output_type": "stream",
          "text": [
            "WARNING:root:Lossy conversion from int16 to uint8. Range [-2048, 1510]. Convert image to uint8 prior to saving to suppress this warning.\n"
          ],
          "name": "stderr"
        },
        {
          "output_type": "stream",
          "text": [
            "Saved.\n",
            "Moving image...\n",
            "Moved.\n",
            "Finished converting images\n",
            "Saving image...\n"
          ],
          "name": "stdout"
        },
        {
          "output_type": "stream",
          "text": [
            "WARNING:root:Lossy conversion from int16 to uint8. Range [-2048, 1544]. Convert image to uint8 prior to saving to suppress this warning.\n"
          ],
          "name": "stderr"
        },
        {
          "output_type": "stream",
          "text": [
            "Saved.\n",
            "Moving image...\n",
            "Moved.\n",
            "Finished converting images\n",
            "Saving image...\n"
          ],
          "name": "stdout"
        },
        {
          "output_type": "stream",
          "text": [
            "WARNING:root:Lossy conversion from int16 to uint8. Range [-2048, 1463]. Convert image to uint8 prior to saving to suppress this warning.\n"
          ],
          "name": "stderr"
        },
        {
          "output_type": "stream",
          "text": [
            "Saved.\n",
            "Moving image...\n",
            "Moved.\n",
            "Finished converting images\n",
            "Saving image...\n"
          ],
          "name": "stdout"
        },
        {
          "output_type": "stream",
          "text": [
            "WARNING:root:Lossy conversion from int16 to uint8. Range [-2048, 1406]. Convert image to uint8 prior to saving to suppress this warning.\n"
          ],
          "name": "stderr"
        },
        {
          "output_type": "stream",
          "text": [
            "Saved.\n",
            "Moving image...\n",
            "Moved.\n",
            "Finished converting images\n",
            "Saving image...\n"
          ],
          "name": "stdout"
        },
        {
          "output_type": "stream",
          "text": [
            "WARNING:root:Lossy conversion from int16 to uint8. Range [-2048, 1580]. Convert image to uint8 prior to saving to suppress this warning.\n"
          ],
          "name": "stderr"
        },
        {
          "output_type": "stream",
          "text": [
            "Saved.\n",
            "Moving image...\n",
            "Moved.\n",
            "Finished converting images\n",
            "Saving image...\n"
          ],
          "name": "stdout"
        },
        {
          "output_type": "stream",
          "text": [
            "WARNING:root:Lossy conversion from int16 to uint8. Range [-2048, 1674]. Convert image to uint8 prior to saving to suppress this warning.\n"
          ],
          "name": "stderr"
        },
        {
          "output_type": "stream",
          "text": [
            "Saved.\n",
            "Moving image...\n",
            "Moved.\n",
            "Finished converting images\n",
            "Saving image...\n"
          ],
          "name": "stdout"
        },
        {
          "output_type": "stream",
          "text": [
            "WARNING:root:Lossy conversion from int16 to uint8. Range [-2048, 1730]. Convert image to uint8 prior to saving to suppress this warning.\n"
          ],
          "name": "stderr"
        },
        {
          "output_type": "stream",
          "text": [
            "Saved.\n",
            "Moving image...\n",
            "Moved.\n",
            "Finished converting images\n",
            "Saving image...\n"
          ],
          "name": "stdout"
        },
        {
          "output_type": "stream",
          "text": [
            "WARNING:root:Lossy conversion from int16 to uint8. Range [-2048, 1810]. Convert image to uint8 prior to saving to suppress this warning.\n"
          ],
          "name": "stderr"
        },
        {
          "output_type": "stream",
          "text": [
            "Saved.\n",
            "Moving image...\n",
            "Moved.\n",
            "Finished converting images\n",
            "Saving image...\n"
          ],
          "name": "stdout"
        },
        {
          "output_type": "stream",
          "text": [
            "WARNING:root:Lossy conversion from int16 to uint8. Range [-2048, 1750]. Convert image to uint8 prior to saving to suppress this warning.\n"
          ],
          "name": "stderr"
        },
        {
          "output_type": "stream",
          "text": [
            "Saved.\n",
            "Moving image...\n",
            "Moved.\n",
            "Finished converting images\n",
            "Saving image...\n"
          ],
          "name": "stdout"
        },
        {
          "output_type": "stream",
          "text": [
            "WARNING:root:Lossy conversion from int16 to uint8. Range [-2048, 1833]. Convert image to uint8 prior to saving to suppress this warning.\n"
          ],
          "name": "stderr"
        },
        {
          "output_type": "stream",
          "text": [
            "Saved.\n",
            "Moving image...\n",
            "Moved.\n",
            "Finished converting images\n",
            "Saving image...\n",
            "Saved.\n",
            "Moving image...\n",
            "Moved.\n",
            "Finished converting images\n",
            "study_0254\n"
          ],
          "name": "stdout"
        },
        {
          "output_type": "stream",
          "text": [
            "WARNING:root:Lossy conversion from int16 to uint8. Range [-2048, 1363]. Convert image to uint8 prior to saving to suppress this warning.\n",
            "WARNING:root:Lossy conversion from int16 to uint8. Range [-2048, 1350]. Convert image to uint8 prior to saving to suppress this warning.\n"
          ],
          "name": "stderr"
        },
        {
          "output_type": "stream",
          "text": [
            "3\n",
            "Created ouput directory: /content/drive/MyDrive/Radiology_workshop_monjoy/save_pngs_path/Normal//study_0254\n",
            "45\n",
            "Saving image...\n",
            "Saved.\n",
            "Moving image...\n",
            "Moved.\n",
            "Finished converting images\n",
            "Saving image...\n",
            "Saved."
          ],
          "name": "stdout"
        },
        {
          "output_type": "stream",
          "text": [
            "WARNING:root:Lossy conversion from int16 to uint8. Range [-2048, 1279]. Convert image to uint8 prior to saving to suppress this warning.\n",
            "WARNING:root:Lossy conversion from int16 to uint8. Range [-2048, 1280]. Convert image to uint8 prior to saving to suppress this warning.\n"
          ],
          "name": "stderr"
        },
        {
          "output_type": "stream",
          "text": [
            "\n",
            "Moving image...\n",
            "Moved.\n",
            "Finished converting images\n",
            "Saving image...\n",
            "Saved.\n",
            "Moving image...\n",
            "Moved.\n",
            "Finished converting images\n",
            "Saving image...\n",
            "Saved.\n",
            "Moving image...\n",
            "Moved.\n",
            "Finished converting images\n",
            "Saving image...\n"
          ],
          "name": "stdout"
        },
        {
          "output_type": "stream",
          "text": [
            "WARNING:root:Lossy conversion from int16 to uint8. Range [-2048, 1272]. Convert image to uint8 prior to saving to suppress this warning.\n",
            "WARNING:root:Lossy conversion from int16 to uint8. Range [-2048, 1325]. Convert image to uint8 prior to saving to suppress this warning.\n",
            "WARNING:root:Lossy conversion from int16 to uint8. Range [-2048, 1187]. Convert image to uint8 prior to saving to suppress this warning.\n",
            "WARNING:root:Lossy conversion from int16 to uint8. Range [-2048, 1304]. Convert image to uint8 prior to saving to suppress this warning.\n"
          ],
          "name": "stderr"
        },
        {
          "output_type": "stream",
          "text": [
            "Saved.\n",
            "Moving image...\n",
            "Moved.\n",
            "Finished converting images\n",
            "Saving image...\n",
            "Saved.\n",
            "Moving image...\n",
            "Moved.\n",
            "Finished converting images\n",
            "Saving image...\n",
            "Saved.\n",
            "Moving image...\n",
            "Moved.\n",
            "Finished converting images\n",
            "Saving image...\n"
          ],
          "name": "stdout"
        },
        {
          "output_type": "stream",
          "text": [
            "WARNING:root:Lossy conversion from int16 to uint8. Range [-2048, 1349]. Convert image to uint8 prior to saving to suppress this warning.\n",
            "WARNING:root:Lossy conversion from int16 to uint8. Range [-2048, 1269]. Convert image to uint8 prior to saving to suppress this warning.\n",
            "WARNING:root:Lossy conversion from int16 to uint8. Range [-2048, 1261]. Convert image to uint8 prior to saving to suppress this warning.\n"
          ],
          "name": "stderr"
        },
        {
          "output_type": "stream",
          "text": [
            "Saved.\n",
            "Moving image...\n",
            "Moved.\n",
            "Finished converting images\n",
            "Saving image...\n",
            "Saved.\n",
            "Moving image...\n",
            "Moved.\n",
            "Finished converting images\n",
            "Saving image...\n",
            "Saved.\n",
            "Moving image...\n",
            "Moved.\n",
            "Finished converting images\n",
            "Saving image...\n"
          ],
          "name": "stdout"
        },
        {
          "output_type": "stream",
          "text": [
            "WARNING:root:Lossy conversion from int16 to uint8. Range [-2048, 1444]. Convert image to uint8 prior to saving to suppress this warning.\n",
            "WARNING:root:Lossy conversion from int16 to uint8. Range [-2048, 1457]. Convert image to uint8 prior to saving to suppress this warning.\n",
            "WARNING:root:Lossy conversion from int16 to uint8. Range [-2048, 1354]. Convert image to uint8 prior to saving to suppress this warning.\n"
          ],
          "name": "stderr"
        },
        {
          "output_type": "stream",
          "text": [
            "Saved.\n",
            "Moving image...\n",
            "Moved.\n",
            "Finished converting images\n",
            "Saving image...\n",
            "Saved.\n",
            "Moving image...\n",
            "Moved.\n",
            "Finished converting images\n",
            "Saving image...\n",
            "Saved.\n",
            "Moving image...\n",
            "Moved.\n",
            "Finished converting images\n",
            "Saving image...\n"
          ],
          "name": "stdout"
        },
        {
          "output_type": "stream",
          "text": [
            "WARNING:root:Lossy conversion from int16 to uint8. Range [-2048, 1388]. Convert image to uint8 prior to saving to suppress this warning.\n",
            "WARNING:root:Lossy conversion from int16 to uint8. Range [-2048, 1350]. Convert image to uint8 prior to saving to suppress this warning.\n",
            "WARNING:root:Lossy conversion from int16 to uint8. Range [-2048, 1290]. Convert image to uint8 prior to saving to suppress this warning.\n"
          ],
          "name": "stderr"
        },
        {
          "output_type": "stream",
          "text": [
            "Saved.\n",
            "Moving image...\n",
            "Moved.\n",
            "Finished converting images\n",
            "Saving image...\n",
            "Saved.\n",
            "Moving image...\n",
            "Moved.\n",
            "Finished converting images\n",
            "Saving image...\n",
            "Saved.\n",
            "Moving image...\n",
            "Moved.\n",
            "Finished converting images\n",
            "Saving image...\n"
          ],
          "name": "stdout"
        },
        {
          "output_type": "stream",
          "text": [
            "WARNING:root:Lossy conversion from int16 to uint8. Range [-2048, 1302]. Convert image to uint8 prior to saving to suppress this warning.\n",
            "WARNING:root:Lossy conversion from int16 to uint8. Range [-2048, 1350]. Convert image to uint8 prior to saving to suppress this warning.\n"
          ],
          "name": "stderr"
        },
        {
          "output_type": "stream",
          "text": [
            "Saved.\n",
            "Moving image...\n",
            "Moved.\n",
            "Finished converting images\n",
            "Saving image...\n",
            "Saved.\n",
            "Moving image...\n",
            "Moved.\n",
            "Finished converting images\n",
            "Saving image...\n",
            "Saved.\n",
            "Moving image...\n",
            "Moved.\n",
            "Finished converting images\n",
            "Saving image...\n"
          ],
          "name": "stdout"
        },
        {
          "output_type": "stream",
          "text": [
            "WARNING:root:Lossy conversion from int16 to uint8. Range [-2048, 1376]. Convert image to uint8 prior to saving to suppress this warning.\n",
            "WARNING:root:Lossy conversion from int16 to uint8. Range [-2048, 1335]. Convert image to uint8 prior to saving to suppress this warning.\n",
            "WARNING:root:Lossy conversion from int16 to uint8. Range [-2048, 1247]. Convert image to uint8 prior to saving to suppress this warning.\n"
          ],
          "name": "stderr"
        },
        {
          "output_type": "stream",
          "text": [
            "Saved.\n",
            "Moving image...\n",
            "Moved.\n",
            "Finished converting images\n",
            "Saving image...\n",
            "Saved.\n",
            "Moving image...\n",
            "Moved.\n",
            "Finished converting images\n",
            "Saving image...\n"
          ],
          "name": "stdout"
        },
        {
          "output_type": "stream",
          "text": [
            "WARNING:root:Lossy conversion from int16 to uint8. Range [-2048, 1348]. Convert image to uint8 prior to saving to suppress this warning.\n",
            "WARNING:root:Lossy conversion from int16 to uint8. Range [-2048, 1255]. Convert image to uint8 prior to saving to suppress this warning.\n"
          ],
          "name": "stderr"
        },
        {
          "output_type": "stream",
          "text": [
            "Saved.\n",
            "Moving image...\n",
            "Moved.\n",
            "Finished converting images\n",
            "Saving image...\n",
            "Saved.\n",
            "Moving image...\n",
            "Moved.\n",
            "Finished converting images\n",
            "Saving image...\n"
          ],
          "name": "stdout"
        },
        {
          "output_type": "stream",
          "text": [
            "WARNING:root:Lossy conversion from int16 to uint8. Range [-2048, 1235]. Convert image to uint8 prior to saving to suppress this warning.\n",
            "WARNING:root:Lossy conversion from int16 to uint8. Range [-2048, 1433]. Convert image to uint8 prior to saving to suppress this warning.\n"
          ],
          "name": "stderr"
        },
        {
          "output_type": "stream",
          "text": [
            "Saved.\n",
            "Moving image...\n",
            "Moved.\n",
            "Finished converting images\n",
            "Saving image...\n",
            "Saved.\n",
            "Moving image...\n",
            "Moved.\n",
            "Finished converting images\n",
            "Saving image...\n"
          ],
          "name": "stdout"
        },
        {
          "output_type": "stream",
          "text": [
            "WARNING:root:Lossy conversion from int16 to uint8. Range [-2048, 1284]. Convert image to uint8 prior to saving to suppress this warning.\n",
            "WARNING:root:Lossy conversion from int16 to uint8. Range [-2048, 1214]. Convert image to uint8 prior to saving to suppress this warning.\n"
          ],
          "name": "stderr"
        },
        {
          "output_type": "stream",
          "text": [
            "Saved.\n",
            "Moving image...\n",
            "Moved.\n",
            "Finished converting images\n",
            "Saving image...\n",
            "Saved.\n",
            "Moving image...\n",
            "Moved.\n",
            "Finished converting images\n",
            "Saving image...\n"
          ],
          "name": "stdout"
        },
        {
          "output_type": "stream",
          "text": [
            "WARNING:root:Lossy conversion from int16 to uint8. Range [-2048, 1276]. Convert image to uint8 prior to saving to suppress this warning.\n",
            "WARNING:root:Lossy conversion from int16 to uint8. Range [-2048, 1264]. Convert image to uint8 prior to saving to suppress this warning.\n"
          ],
          "name": "stderr"
        },
        {
          "output_type": "stream",
          "text": [
            "Saved.\n",
            "Moving image...\n",
            "Moved.\n",
            "Finished converting images\n",
            "Saving image...\n",
            "Saved.\n",
            "Moving image...\n",
            "Moved.\n",
            "Finished converting images\n",
            "Saving image...\n"
          ],
          "name": "stdout"
        },
        {
          "output_type": "stream",
          "text": [
            "WARNING:root:Lossy conversion from int16 to uint8. Range [-2048, 1247]. Convert image to uint8 prior to saving to suppress this warning.\n",
            "WARNING:root:Lossy conversion from int16 to uint8. Range [-2048, 1280]. Convert image to uint8 prior to saving to suppress this warning.\n"
          ],
          "name": "stderr"
        },
        {
          "output_type": "stream",
          "text": [
            "Saved.\n",
            "Moving image...\n",
            "Moved.\n",
            "Finished converting images\n",
            "Saving image...\n",
            "Saved.\n",
            "Moving image...\n",
            "Moved.\n",
            "Finished converting images\n",
            "Saving image...\n"
          ],
          "name": "stdout"
        },
        {
          "output_type": "stream",
          "text": [
            "WARNING:root:Lossy conversion from int16 to uint8. Range [-2048, 1337]. Convert image to uint8 prior to saving to suppress this warning.\n",
            "WARNING:root:Lossy conversion from int16 to uint8. Range [-2048, 1423]. Convert image to uint8 prior to saving to suppress this warning.\n"
          ],
          "name": "stderr"
        },
        {
          "output_type": "stream",
          "text": [
            "Saved.\n",
            "Moving image...\n",
            "Moved.\n",
            "Finished converting images\n",
            "Saving image...\n",
            "Saved.\n",
            "Moving image...\n",
            "Moved.\n",
            "Finished converting images\n",
            "Saving image...\n"
          ],
          "name": "stdout"
        },
        {
          "output_type": "stream",
          "text": [
            "WARNING:root:Lossy conversion from int16 to uint8. Range [-2048, 1459]. Convert image to uint8 prior to saving to suppress this warning.\n",
            "WARNING:root:Lossy conversion from int16 to uint8. Range [-2048, 1451]. Convert image to uint8 prior to saving to suppress this warning.\n"
          ],
          "name": "stderr"
        },
        {
          "output_type": "stream",
          "text": [
            "Saved.\n",
            "Moving image...\n",
            "Moved.\n",
            "Finished converting images\n",
            "Saving image...\n",
            "Saved.\n",
            "Moving image...\n",
            "Moved.\n",
            "Finished converting images\n",
            "Saving image...\n"
          ],
          "name": "stdout"
        },
        {
          "output_type": "stream",
          "text": [
            "WARNING:root:Lossy conversion from int16 to uint8. Range [-2048, 1483]. Convert image to uint8 prior to saving to suppress this warning.\n",
            "WARNING:root:Lossy conversion from int16 to uint8. Range [-2048, 1521]. Convert image to uint8 prior to saving to suppress this warning.\n",
            "WARNING:root:Lossy conversion from int16 to uint8. Range [-2048, 1494]. Convert image to uint8 prior to saving to suppress this warning.\n"
          ],
          "name": "stderr"
        },
        {
          "output_type": "stream",
          "text": [
            "Saved.\n",
            "Moving image...\n",
            "Moved.\n",
            "Finished converting images\n",
            "Saving image...\n",
            "Saved.\n",
            "Moving image...\n",
            "Moved.\n",
            "Finished converting images\n",
            "Saving image...\n",
            "Saved.\n",
            "Moving image...\n",
            "Moved.\n",
            "Finished converting images\n",
            "Saving image...\n"
          ],
          "name": "stdout"
        },
        {
          "output_type": "stream",
          "text": [
            "WARNING:root:Lossy conversion from int16 to uint8. Range [-2048, 1601]. Convert image to uint8 prior to saving to suppress this warning.\n",
            "WARNING:root:Lossy conversion from int16 to uint8. Range [-2048, 1533]. Convert image to uint8 prior to saving to suppress this warning.\n"
          ],
          "name": "stderr"
        },
        {
          "output_type": "stream",
          "text": [
            "Saved.\n",
            "Moving image...\n",
            "Moved.\n",
            "Finished converting images\n",
            "Saving image...\n",
            "Saved.\n",
            "Moving image...\n",
            "Moved.\n",
            "Finished converting images\n",
            "Saving image...\n"
          ],
          "name": "stdout"
        },
        {
          "output_type": "stream",
          "text": [
            "WARNING:root:Lossy conversion from int16 to uint8. Range [-2048, 1495]. Convert image to uint8 prior to saving to suppress this warning.\n",
            "WARNING:root:Lossy conversion from int16 to uint8. Range [-2048, 1626]. Convert image to uint8 prior to saving to suppress this warning.\n",
            "WARNING:root:Lossy conversion from int16 to uint8. Range [-2048, 1544]. Convert image to uint8 prior to saving to suppress this warning.\n"
          ],
          "name": "stderr"
        },
        {
          "output_type": "stream",
          "text": [
            "Saved.\n",
            "Moving image...\n",
            "Moved.\n",
            "Finished converting images\n",
            "Saving image...\n",
            "Saved.\n",
            "Moving image...\n",
            "Moved.\n",
            "Finished converting images\n",
            "Saving image...\n",
            "Saved.\n",
            "Moving image...\n",
            "Moved.\n",
            "Finished converting images\n",
            "Saving image...\n"
          ],
          "name": "stdout"
        },
        {
          "output_type": "stream",
          "text": [
            "WARNING:root:Lossy conversion from int16 to uint8. Range [-2048, 1687]. Convert image to uint8 prior to saving to suppress this warning.\n"
          ],
          "name": "stderr"
        },
        {
          "output_type": "stream",
          "text": [
            "Saved.\n",
            "Moving image...\n",
            "Moved.\n",
            "Finished converting images\n",
            "Saving image...\n",
            "Saved.\n",
            "Moving image...\n",
            "Moved.\n",
            "Finished converting images\n",
            "study_0233\n"
          ],
          "name": "stdout"
        },
        {
          "output_type": "stream",
          "text": [
            "WARNING:root:Lossy conversion from int16 to uint8. Range [-2048, 1355]. Convert image to uint8 prior to saving to suppress this warning.\n"
          ],
          "name": "stderr"
        },
        {
          "output_type": "stream",
          "text": [
            "3\n",
            "Created ouput directory: /content/drive/MyDrive/Radiology_workshop_monjoy/save_pngs_path/Normal//study_0233\n",
            "50\n",
            "Saving image...\n"
          ],
          "name": "stdout"
        },
        {
          "output_type": "stream",
          "text": [
            "WARNING:root:Lossy conversion from int16 to uint8. Range [-2048, 1412]. Convert image to uint8 prior to saving to suppress this warning.\n"
          ],
          "name": "stderr"
        },
        {
          "output_type": "stream",
          "text": [
            "Saved.\n",
            "Moving image...\n",
            "Moved.\n",
            "Finished converting images\n",
            "Saving image...\n"
          ],
          "name": "stdout"
        },
        {
          "output_type": "stream",
          "text": [
            "WARNING:root:Lossy conversion from int16 to uint8. Range [-2048, 1431]. Convert image to uint8 prior to saving to suppress this warning.\n"
          ],
          "name": "stderr"
        },
        {
          "output_type": "stream",
          "text": [
            "Saved.\n",
            "Moving image...\n",
            "Moved.\n",
            "Finished converting images\n",
            "Saving image...\n",
            "Saved.\n",
            "Moving image...\n",
            "Moved.\n",
            "Finished converting images\n",
            "Saving image...\n"
          ],
          "name": "stdout"
        },
        {
          "output_type": "stream",
          "text": [
            "WARNING:root:Lossy conversion from int16 to uint8. Range [-2048, 1387]. Convert image to uint8 prior to saving to suppress this warning.\n",
            "WARNING:root:Lossy conversion from int16 to uint8. Range [-2048, 1407]. Convert image to uint8 prior to saving to suppress this warning.\n",
            "WARNING:root:Lossy conversion from int16 to uint8. Range [-2048, 1326]. Convert image to uint8 prior to saving to suppress this warning.\n"
          ],
          "name": "stderr"
        },
        {
          "output_type": "stream",
          "text": [
            "Saved.\n",
            "Moving image...\n",
            "Moved.\n",
            "Finished converting images\n",
            "Saving image...\n",
            "Saved.\n",
            "Moving image...\n",
            "Moved.\n",
            "Finished converting images\n",
            "Saving image...\n"
          ],
          "name": "stdout"
        },
        {
          "output_type": "stream",
          "text": [
            "WARNING:root:Lossy conversion from int16 to uint8. Range [-2048, 1153]. Convert image to uint8 prior to saving to suppress this warning.\n"
          ],
          "name": "stderr"
        },
        {
          "output_type": "stream",
          "text": [
            "Saved.\n",
            "Moving image...\n",
            "Moved.\n",
            "Finished converting images\n",
            "Saving image...\n",
            "Saved.\n",
            "Moving image...\n",
            "Moved.\n",
            "Finished converting images\n",
            "Saving image...\n"
          ],
          "name": "stdout"
        },
        {
          "output_type": "stream",
          "text": [
            "WARNING:root:Lossy conversion from int16 to uint8. Range [-2048, 1340]. Convert image to uint8 prior to saving to suppress this warning.\n",
            "WARNING:root:Lossy conversion from int16 to uint8. Range [-2048, 1392]. Convert image to uint8 prior to saving to suppress this warning.\n",
            "WARNING:root:Lossy conversion from int16 to uint8. Range [-2048, 1070]. Convert image to uint8 prior to saving to suppress this warning.\n"
          ],
          "name": "stderr"
        },
        {
          "output_type": "stream",
          "text": [
            "Saved.\n",
            "Moving image...\n",
            "Moved.\n",
            "Finished converting images\n",
            "Saving image...\n",
            "Saved.\n",
            "Moving image...\n",
            "Moved.\n",
            "Finished converting images\n",
            "Saving image...\n"
          ],
          "name": "stdout"
        },
        {
          "output_type": "stream",
          "text": [
            "WARNING:root:Lossy conversion from int16 to uint8. Range [-2048, 1435]. Convert image to uint8 prior to saving to suppress this warning.\n"
          ],
          "name": "stderr"
        },
        {
          "output_type": "stream",
          "text": [
            "Saved.\n",
            "Moving image...\n",
            "Moved.\n",
            "Finished converting images\n",
            "Saving image...\n"
          ],
          "name": "stdout"
        },
        {
          "output_type": "stream",
          "text": [
            "WARNING:root:Lossy conversion from int16 to uint8. Range [-2048, 1360]. Convert image to uint8 prior to saving to suppress this warning.\n"
          ],
          "name": "stderr"
        },
        {
          "output_type": "stream",
          "text": [
            "Saved.\n",
            "Moving image...\n",
            "Moved.\n",
            "Finished converting images\n",
            "Saving image...\n"
          ],
          "name": "stdout"
        },
        {
          "output_type": "stream",
          "text": [
            "WARNING:root:Lossy conversion from int16 to uint8. Range [-2048, 1429]. Convert image to uint8 prior to saving to suppress this warning.\n"
          ],
          "name": "stderr"
        },
        {
          "output_type": "stream",
          "text": [
            "Saved.\n",
            "Moving image...\n",
            "Moved.\n",
            "Finished converting images\n",
            "Saving image...\n"
          ],
          "name": "stdout"
        },
        {
          "output_type": "stream",
          "text": [
            "WARNING:root:Lossy conversion from int16 to uint8. Range [-2048, 1362]. Convert image to uint8 prior to saving to suppress this warning.\n"
          ],
          "name": "stderr"
        },
        {
          "output_type": "stream",
          "text": [
            "Saved.\n",
            "Moving image...\n",
            "Moved.\n",
            "Finished converting images\n",
            "Saving image...\n"
          ],
          "name": "stdout"
        },
        {
          "output_type": "stream",
          "text": [
            "WARNING:root:Lossy conversion from int16 to uint8. Range [-2048, 1363]. Convert image to uint8 prior to saving to suppress this warning.\n"
          ],
          "name": "stderr"
        },
        {
          "output_type": "stream",
          "text": [
            "Saved.\n",
            "Moving image...\n",
            "Moved.\n",
            "Finished converting images\n",
            "Saving image...\n"
          ],
          "name": "stdout"
        },
        {
          "output_type": "stream",
          "text": [
            "WARNING:root:Lossy conversion from int16 to uint8. Range [-2048, 1525]. Convert image to uint8 prior to saving to suppress this warning.\n"
          ],
          "name": "stderr"
        },
        {
          "output_type": "stream",
          "text": [
            "Saved.\n",
            "Moving image...\n",
            "Moved.\n",
            "Finished converting images\n",
            "Saving image...\n"
          ],
          "name": "stdout"
        },
        {
          "output_type": "stream",
          "text": [
            "WARNING:root:Lossy conversion from int16 to uint8. Range [-2048, 1424]. Convert image to uint8 prior to saving to suppress this warning.\n"
          ],
          "name": "stderr"
        },
        {
          "output_type": "stream",
          "text": [
            "Saved.\n",
            "Moving image...\n",
            "Moved.\n",
            "Finished converting images\n",
            "Saving image...\n"
          ],
          "name": "stdout"
        },
        {
          "output_type": "stream",
          "text": [
            "WARNING:root:Lossy conversion from int16 to uint8. Range [-2048, 1343]. Convert image to uint8 prior to saving to suppress this warning.\n"
          ],
          "name": "stderr"
        },
        {
          "output_type": "stream",
          "text": [
            "Saved.\n",
            "Moving image...\n",
            "Moved.\n",
            "Finished converting images\n",
            "Saving image...\n"
          ],
          "name": "stdout"
        },
        {
          "output_type": "stream",
          "text": [
            "WARNING:root:Lossy conversion from int16 to uint8. Range [-2048, 1373]. Convert image to uint8 prior to saving to suppress this warning.\n"
          ],
          "name": "stderr"
        },
        {
          "output_type": "stream",
          "text": [
            "Saved.\n",
            "Moving image...\n",
            "Moved.\n",
            "Finished converting images\n",
            "Saving image...\n"
          ],
          "name": "stdout"
        },
        {
          "output_type": "stream",
          "text": [
            "WARNING:root:Lossy conversion from int16 to uint8. Range [-2048, 1303]. Convert image to uint8 prior to saving to suppress this warning.\n"
          ],
          "name": "stderr"
        },
        {
          "output_type": "stream",
          "text": [
            "Saved.\n",
            "Moving image...\n",
            "Moved.\n",
            "Finished converting images\n",
            "Saving image...\n"
          ],
          "name": "stdout"
        },
        {
          "output_type": "stream",
          "text": [
            "WARNING:root:Lossy conversion from int16 to uint8. Range [-2048, 1262]. Convert image to uint8 prior to saving to suppress this warning.\n"
          ],
          "name": "stderr"
        },
        {
          "output_type": "stream",
          "text": [
            "Saved.\n",
            "Moving image...\n",
            "Moved.\n",
            "Finished converting images\n",
            "Saving image...\n"
          ],
          "name": "stdout"
        },
        {
          "output_type": "stream",
          "text": [
            "WARNING:root:Lossy conversion from int16 to uint8. Range [-2048, 1462]. Convert image to uint8 prior to saving to suppress this warning.\n"
          ],
          "name": "stderr"
        },
        {
          "output_type": "stream",
          "text": [
            "Saved.\n",
            "Moving image...\n",
            "Moved.\n",
            "Finished converting images\n",
            "Saving image...\n"
          ],
          "name": "stdout"
        },
        {
          "output_type": "stream",
          "text": [
            "WARNING:root:Lossy conversion from int16 to uint8. Range [-2048, 1561]. Convert image to uint8 prior to saving to suppress this warning.\n"
          ],
          "name": "stderr"
        },
        {
          "output_type": "stream",
          "text": [
            "Saved.\n",
            "Moving image...\n",
            "Moved.\n",
            "Finished converting images\n",
            "Saving image...\n"
          ],
          "name": "stdout"
        },
        {
          "output_type": "stream",
          "text": [
            "WARNING:root:Lossy conversion from int16 to uint8. Range [-2048, 1312]. Convert image to uint8 prior to saving to suppress this warning.\n"
          ],
          "name": "stderr"
        },
        {
          "output_type": "stream",
          "text": [
            "Saved.\n",
            "Moving image...\n",
            "Moved.\n",
            "Finished converting images\n",
            "Saving image...\n"
          ],
          "name": "stdout"
        },
        {
          "output_type": "stream",
          "text": [
            "WARNING:root:Lossy conversion from int16 to uint8. Range [-2048, 1275]. Convert image to uint8 prior to saving to suppress this warning.\n"
          ],
          "name": "stderr"
        },
        {
          "output_type": "stream",
          "text": [
            "Saved.\n",
            "Moving image...\n",
            "Moved.\n",
            "Finished converting images\n",
            "Saving image...\n"
          ],
          "name": "stdout"
        },
        {
          "output_type": "stream",
          "text": [
            "WARNING:root:Lossy conversion from int16 to uint8. Range [-2048, 1309]. Convert image to uint8 prior to saving to suppress this warning.\n"
          ],
          "name": "stderr"
        },
        {
          "output_type": "stream",
          "text": [
            "Saved.\n",
            "Moving image...\n",
            "Moved.\n",
            "Finished converting images\n",
            "Saving image...\n"
          ],
          "name": "stdout"
        },
        {
          "output_type": "stream",
          "text": [
            "WARNING:root:Lossy conversion from int16 to uint8. Range [-2048, 1401]. Convert image to uint8 prior to saving to suppress this warning.\n"
          ],
          "name": "stderr"
        },
        {
          "output_type": "stream",
          "text": [
            "Saved.\n",
            "Moving image...\n",
            "Moved.\n",
            "Finished converting images\n",
            "Saving image...\n"
          ],
          "name": "stdout"
        },
        {
          "output_type": "stream",
          "text": [
            "WARNING:root:Lossy conversion from int16 to uint8. Range [-2048, 1476]. Convert image to uint8 prior to saving to suppress this warning.\n"
          ],
          "name": "stderr"
        },
        {
          "output_type": "stream",
          "text": [
            "Saved.\n",
            "Moving image...\n",
            "Moved.\n",
            "Finished converting images\n",
            "Saving image...\n"
          ],
          "name": "stdout"
        },
        {
          "output_type": "stream",
          "text": [
            "WARNING:root:Lossy conversion from int16 to uint8. Range [-2048, 1513]. Convert image to uint8 prior to saving to suppress this warning.\n"
          ],
          "name": "stderr"
        },
        {
          "output_type": "stream",
          "text": [
            "Saved.\n",
            "Moving image...\n",
            "Moved.\n",
            "Finished converting images\n",
            "Saving image...\n"
          ],
          "name": "stdout"
        },
        {
          "output_type": "stream",
          "text": [
            "WARNING:root:Lossy conversion from int16 to uint8. Range [-2048, 1448]. Convert image to uint8 prior to saving to suppress this warning.\n"
          ],
          "name": "stderr"
        },
        {
          "output_type": "stream",
          "text": [
            "Saved.\n",
            "Moving image...\n",
            "Moved.\n",
            "Finished converting images\n",
            "Saving image...\n"
          ],
          "name": "stdout"
        },
        {
          "output_type": "stream",
          "text": [
            "WARNING:root:Lossy conversion from int16 to uint8. Range [-2048, 1422]. Convert image to uint8 prior to saving to suppress this warning.\n"
          ],
          "name": "stderr"
        },
        {
          "output_type": "stream",
          "text": [
            "Saved.\n",
            "Moving image...\n",
            "Moved.\n",
            "Finished converting images\n",
            "Saving image...\n"
          ],
          "name": "stdout"
        },
        {
          "output_type": "stream",
          "text": [
            "WARNING:root:Lossy conversion from int16 to uint8. Range [-2048, 1414]. Convert image to uint8 prior to saving to suppress this warning.\n"
          ],
          "name": "stderr"
        },
        {
          "output_type": "stream",
          "text": [
            "Saved.\n",
            "Moving image...\n",
            "Moved.\n",
            "Finished converting images\n",
            "Saving image...\n"
          ],
          "name": "stdout"
        },
        {
          "output_type": "stream",
          "text": [
            "WARNING:root:Lossy conversion from int16 to uint8. Range [-2048, 1459]. Convert image to uint8 prior to saving to suppress this warning.\n"
          ],
          "name": "stderr"
        },
        {
          "output_type": "stream",
          "text": [
            "Saved.\n",
            "Moving image...\n",
            "Moved.\n",
            "Finished converting images\n",
            "Saving image...\n"
          ],
          "name": "stdout"
        },
        {
          "output_type": "stream",
          "text": [
            "WARNING:root:Lossy conversion from int16 to uint8. Range [-2048, 1548]. Convert image to uint8 prior to saving to suppress this warning.\n"
          ],
          "name": "stderr"
        },
        {
          "output_type": "stream",
          "text": [
            "Saved.\n",
            "Moving image...\n",
            "Moved.\n",
            "Finished converting images\n",
            "Saving image...\n"
          ],
          "name": "stdout"
        },
        {
          "output_type": "stream",
          "text": [
            "WARNING:root:Lossy conversion from int16 to uint8. Range [-2048, 1546]. Convert image to uint8 prior to saving to suppress this warning.\n"
          ],
          "name": "stderr"
        },
        {
          "output_type": "stream",
          "text": [
            "Saved.\n",
            "Moving image...\n",
            "Moved.\n",
            "Finished converting images\n",
            "Saving image...\n"
          ],
          "name": "stdout"
        },
        {
          "output_type": "stream",
          "text": [
            "WARNING:root:Lossy conversion from int16 to uint8. Range [-2048, 1474]. Convert image to uint8 prior to saving to suppress this warning.\n"
          ],
          "name": "stderr"
        },
        {
          "output_type": "stream",
          "text": [
            "Saved.\n",
            "Moving image...\n",
            "Moved.\n",
            "Finished converting images\n",
            "Saving image...\n"
          ],
          "name": "stdout"
        },
        {
          "output_type": "stream",
          "text": [
            "WARNING:root:Lossy conversion from int16 to uint8. Range [-2048, 1475]. Convert image to uint8 prior to saving to suppress this warning.\n"
          ],
          "name": "stderr"
        },
        {
          "output_type": "stream",
          "text": [
            "Saved.\n",
            "Moving image...\n",
            "Moved.\n",
            "Finished converting images\n",
            "Saving image...\n"
          ],
          "name": "stdout"
        },
        {
          "output_type": "stream",
          "text": [
            "WARNING:root:Lossy conversion from int16 to uint8. Range [-2048, 1512]. Convert image to uint8 prior to saving to suppress this warning.\n"
          ],
          "name": "stderr"
        },
        {
          "output_type": "stream",
          "text": [
            "Saved.\n",
            "Moving image...\n",
            "Moved.\n",
            "Finished converting images\n",
            "Saving image...\n"
          ],
          "name": "stdout"
        },
        {
          "output_type": "stream",
          "text": [
            "WARNING:root:Lossy conversion from int16 to uint8. Range [-2048, 1494]. Convert image to uint8 prior to saving to suppress this warning.\n"
          ],
          "name": "stderr"
        },
        {
          "output_type": "stream",
          "text": [
            "Saved.\n",
            "Moving image...\n",
            "Moved.\n",
            "Finished converting images\n",
            "Saving image...\n"
          ],
          "name": "stdout"
        },
        {
          "output_type": "stream",
          "text": [
            "WARNING:root:Lossy conversion from int16 to uint8. Range [-2048, 1530]. Convert image to uint8 prior to saving to suppress this warning.\n"
          ],
          "name": "stderr"
        },
        {
          "output_type": "stream",
          "text": [
            "Saved.\n",
            "Moving image...\n",
            "Moved.\n",
            "Finished converting images\n",
            "Saving image...\n"
          ],
          "name": "stdout"
        },
        {
          "output_type": "stream",
          "text": [
            "WARNING:root:Lossy conversion from int16 to uint8. Range [-2048, 1544]. Convert image to uint8 prior to saving to suppress this warning.\n"
          ],
          "name": "stderr"
        },
        {
          "output_type": "stream",
          "text": [
            "Saved.\n",
            "Moving image...\n",
            "Moved.\n",
            "Finished converting images\n",
            "Saving image...\n"
          ],
          "name": "stdout"
        },
        {
          "output_type": "stream",
          "text": [
            "WARNING:root:Lossy conversion from int16 to uint8. Range [-2048, 1353]. Convert image to uint8 prior to saving to suppress this warning.\n"
          ],
          "name": "stderr"
        },
        {
          "output_type": "stream",
          "text": [
            "Saved.\n",
            "Moving image...\n",
            "Moved.\n",
            "Finished converting images\n",
            "Saving image...\n"
          ],
          "name": "stdout"
        },
        {
          "output_type": "stream",
          "text": [
            "WARNING:root:Lossy conversion from int16 to uint8. Range [-2048, 1720]. Convert image to uint8 prior to saving to suppress this warning.\n"
          ],
          "name": "stderr"
        },
        {
          "output_type": "stream",
          "text": [
            "Saved.\n",
            "Moving image...\n",
            "Moved.\n",
            "Finished converting images\n",
            "Saving image...\n"
          ],
          "name": "stdout"
        },
        {
          "output_type": "stream",
          "text": [
            "WARNING:root:Lossy conversion from int16 to uint8. Range [-2048, 1614]. Convert image to uint8 prior to saving to suppress this warning.\n"
          ],
          "name": "stderr"
        },
        {
          "output_type": "stream",
          "text": [
            "Saved.\n",
            "Moving image...\n",
            "Moved.\n",
            "Finished converting images\n",
            "Saving image...\n"
          ],
          "name": "stdout"
        },
        {
          "output_type": "stream",
          "text": [
            "WARNING:root:Lossy conversion from int16 to uint8. Range [-2048, 1597]. Convert image to uint8 prior to saving to suppress this warning.\n"
          ],
          "name": "stderr"
        },
        {
          "output_type": "stream",
          "text": [
            "Saved.\n",
            "Moving image...\n",
            "Moved.\n",
            "Finished converting images\n",
            "Saving image...\n"
          ],
          "name": "stdout"
        },
        {
          "output_type": "stream",
          "text": [
            "WARNING:root:Lossy conversion from int16 to uint8. Range [-2048, 1628]. Convert image to uint8 prior to saving to suppress this warning.\n"
          ],
          "name": "stderr"
        },
        {
          "output_type": "stream",
          "text": [
            "Saved.\n",
            "Moving image...\n",
            "Moved.\n",
            "Finished converting images\n",
            "Saving image...\n"
          ],
          "name": "stdout"
        },
        {
          "output_type": "stream",
          "text": [
            "WARNING:root:Lossy conversion from int16 to uint8. Range [-2048, 1574]. Convert image to uint8 prior to saving to suppress this warning.\n"
          ],
          "name": "stderr"
        },
        {
          "output_type": "stream",
          "text": [
            "Saved.\n",
            "Moving image...\n",
            "Moved.\n",
            "Finished converting images\n",
            "Saving image...\n"
          ],
          "name": "stdout"
        },
        {
          "output_type": "stream",
          "text": [
            "WARNING:root:Lossy conversion from int16 to uint8. Range [-2048, 1629]. Convert image to uint8 prior to saving to suppress this warning.\n"
          ],
          "name": "stderr"
        },
        {
          "output_type": "stream",
          "text": [
            "Saved.\n",
            "Moving image...\n",
            "Moved.\n",
            "Finished converting images\n",
            "Saving image...\n"
          ],
          "name": "stdout"
        },
        {
          "output_type": "stream",
          "text": [
            "WARNING:root:Lossy conversion from int16 to uint8. Range [-2048, 1476]. Convert image to uint8 prior to saving to suppress this warning.\n"
          ],
          "name": "stderr"
        },
        {
          "output_type": "stream",
          "text": [
            "Saved.\n",
            "Moving image...\n",
            "Moved.\n",
            "Finished converting images\n",
            "Saving image...\n"
          ],
          "name": "stdout"
        },
        {
          "output_type": "stream",
          "text": [
            "WARNING:root:Lossy conversion from int16 to uint8. Range [-2048, 1543]. Convert image to uint8 prior to saving to suppress this warning.\n"
          ],
          "name": "stderr"
        },
        {
          "output_type": "stream",
          "text": [
            "Saved.\n",
            "Moving image...\n",
            "Moved.\n",
            "Finished converting images\n",
            "Saving image...\n",
            "Saved.\n",
            "Moving image...\n",
            "Moved.\n",
            "Finished converting images\n",
            "study_0251\n"
          ],
          "name": "stdout"
        },
        {
          "output_type": "stream",
          "text": [
            "WARNING:root:Lossy conversion from int16 to uint8. Range [-2048, 1376]. Convert image to uint8 prior to saving to suppress this warning.\n",
            "WARNING:root:Lossy conversion from int16 to uint8. Range [-2048, 1430]. Convert image to uint8 prior to saving to suppress this warning.\n",
            "WARNING:root:Lossy conversion from int16 to uint8. Range [-2048, 1388]. Convert image to uint8 prior to saving to suppress this warning.\n"
          ],
          "name": "stderr"
        },
        {
          "output_type": "stream",
          "text": [
            "3\n",
            "Created ouput directory: /content/drive/MyDrive/Radiology_workshop_monjoy/save_pngs_path/Normal//study_0251\n",
            "40\n",
            "Saving image...\n",
            "Saved.\n",
            "Moving image...\n",
            "Moved.\n",
            "Finished converting images\n",
            "Saving image...\n",
            "Saved.\n",
            "Moving image...\n",
            "Moved.\n",
            "Finished converting images\n",
            "Saving image...\n"
          ],
          "name": "stdout"
        },
        {
          "output_type": "stream",
          "text": [
            "WARNING:root:Lossy conversion from int16 to uint8. Range [-2048, 1383]. Convert image to uint8 prior to saving to suppress this warning.\n",
            "WARNING:root:Lossy conversion from int16 to uint8. Range [-2048, 3090]. Convert image to uint8 prior to saving to suppress this warning.\n"
          ],
          "name": "stderr"
        },
        {
          "output_type": "stream",
          "text": [
            "Saved.\n",
            "Moving image...\n",
            "Moved.\n",
            "Finished converting images\n",
            "Saving image...\n",
            "Saved.\n",
            "Moving image...\n",
            "Moved.\n",
            "Finished converting images\n",
            "Saving image...\n"
          ],
          "name": "stdout"
        },
        {
          "output_type": "stream",
          "text": [
            "WARNING:root:Lossy conversion from int16 to uint8. Range [-2048, 3376]. Convert image to uint8 prior to saving to suppress this warning.\n",
            "WARNING:root:Lossy conversion from int16 to uint8. Range [-2048, 1494]. Convert image to uint8 prior to saving to suppress this warning.\n"
          ],
          "name": "stderr"
        },
        {
          "output_type": "stream",
          "text": [
            "Saved.\n",
            "Moving image...\n",
            "Moved.\n",
            "Finished converting images\n",
            "Saving image...\n",
            "Saved.\n",
            "Moving image...\n",
            "Moved.\n",
            "Finished converting images\n",
            "Saving image...\n"
          ],
          "name": "stdout"
        },
        {
          "output_type": "stream",
          "text": [
            "WARNING:root:Lossy conversion from int16 to uint8. Range [-2048, 1349]. Convert image to uint8 prior to saving to suppress this warning.\n",
            "WARNING:root:Lossy conversion from int16 to uint8. Range [-2048, 1322]. Convert image to uint8 prior to saving to suppress this warning.\n"
          ],
          "name": "stderr"
        },
        {
          "output_type": "stream",
          "text": [
            "Saved.\n",
            "Moving image...\n",
            "Moved.\n",
            "Finished converting images\n",
            "Saving image...\n",
            "Saved.\n",
            "Moving image...\n",
            "Moved.\n",
            "Finished converting images\n",
            "Saving image...\n",
            "Saved.\n",
            "Moving image...\n",
            "Moved.\n",
            "Finished converting images\n",
            "Saving image...\n"
          ],
          "name": "stdout"
        },
        {
          "output_type": "stream",
          "text": [
            "WARNING:root:Lossy conversion from int16 to uint8. Range [-2048, 1363]. Convert image to uint8 prior to saving to suppress this warning.\n",
            "WARNING:root:Lossy conversion from int16 to uint8. Range [-2048, 1313]. Convert image to uint8 prior to saving to suppress this warning.\n",
            "WARNING:root:Lossy conversion from int16 to uint8. Range [-2048, 1451]. Convert image to uint8 prior to saving to suppress this warning.\n"
          ],
          "name": "stderr"
        },
        {
          "output_type": "stream",
          "text": [
            "Saved.\n",
            "Moving image...\n",
            "Moved.\n",
            "Finished converting images\n",
            "Saving image...\n",
            "Saved.\n",
            "Moving image...\n",
            "Moved.\n",
            "Finished converting images\n",
            "Saving image...\n"
          ],
          "name": "stdout"
        },
        {
          "output_type": "stream",
          "text": [
            "WARNING:root:Lossy conversion from int16 to uint8. Range [-2048, 1331]. Convert image to uint8 prior to saving to suppress this warning.\n",
            "WARNING:root:Lossy conversion from int16 to uint8. Range [-2048, 1374]. Convert image to uint8 prior to saving to suppress this warning.\n"
          ],
          "name": "stderr"
        },
        {
          "output_type": "stream",
          "text": [
            "Saved.\n",
            "Moving image...\n",
            "Moved.\n",
            "Finished converting images\n",
            "Saving image...\n",
            "Saved.\n",
            "Moving image...\n",
            "Moved.\n",
            "Finished converting images\n",
            "Saving image...\n"
          ],
          "name": "stdout"
        },
        {
          "output_type": "stream",
          "text": [
            "WARNING:root:Lossy conversion from int16 to uint8. Range [-2048, 1365]. Convert image to uint8 prior to saving to suppress this warning.\n",
            "WARNING:root:Lossy conversion from int16 to uint8. Range [-2048, 1368]. Convert image to uint8 prior to saving to suppress this warning.\n"
          ],
          "name": "stderr"
        },
        {
          "output_type": "stream",
          "text": [
            "Saved.\n",
            "Moving image...\n",
            "Moved.\n",
            "Finished converting images\n",
            "Saving image...\n",
            "Saved.\n",
            "Moving image...\n",
            "Moved.\n",
            "Finished converting images\n",
            "Saving image...\n"
          ],
          "name": "stdout"
        },
        {
          "output_type": "stream",
          "text": [
            "WARNING:root:Lossy conversion from int16 to uint8. Range [-2048, 1429]. Convert image to uint8 prior to saving to suppress this warning.\n",
            "WARNING:root:Lossy conversion from int16 to uint8. Range [-2048, 1422]. Convert image to uint8 prior to saving to suppress this warning.\n"
          ],
          "name": "stderr"
        },
        {
          "output_type": "stream",
          "text": [
            "Saved.\n",
            "Moving image...\n",
            "Moved.\n",
            "Finished converting images\n",
            "Saving image...\n",
            "Saved.\n",
            "Moving image...\n",
            "Moved.\n",
            "Finished converting images\n",
            "Saving image...\n"
          ],
          "name": "stdout"
        },
        {
          "output_type": "stream",
          "text": [
            "WARNING:root:Lossy conversion from int16 to uint8. Range [-2048, 1497]. Convert image to uint8 prior to saving to suppress this warning.\n",
            "WARNING:root:Lossy conversion from int16 to uint8. Range [-2048, 1313]. Convert image to uint8 prior to saving to suppress this warning.\n"
          ],
          "name": "stderr"
        },
        {
          "output_type": "stream",
          "text": [
            "Saved.\n",
            "Moving image...\n",
            "Moved.\n",
            "Finished converting images\n",
            "Saving image...\n",
            "Saved.\n",
            "Moving image...\n",
            "Moved.\n",
            "Finished converting images\n",
            "Saving image...\n"
          ],
          "name": "stdout"
        },
        {
          "output_type": "stream",
          "text": [
            "WARNING:root:Lossy conversion from int16 to uint8. Range [-2048, 1368]. Convert image to uint8 prior to saving to suppress this warning.\n",
            "WARNING:root:Lossy conversion from int16 to uint8. Range [-2048, 1339]. Convert image to uint8 prior to saving to suppress this warning.\n"
          ],
          "name": "stderr"
        },
        {
          "output_type": "stream",
          "text": [
            "Saved.\n",
            "Moving image...\n",
            "Moved.\n",
            "Finished converting images\n",
            "Saving image...\n",
            "Saved.\n",
            "Moving image...\n",
            "Moved.\n",
            "Finished converting images\n",
            "Saving image...\n"
          ],
          "name": "stdout"
        },
        {
          "output_type": "stream",
          "text": [
            "WARNING:root:Lossy conversion from int16 to uint8. Range [-2048, 1332]. Convert image to uint8 prior to saving to suppress this warning.\n",
            "WARNING:root:Lossy conversion from int16 to uint8. Range [-2048, 1452]. Convert image to uint8 prior to saving to suppress this warning.\n"
          ],
          "name": "stderr"
        },
        {
          "output_type": "stream",
          "text": [
            "Saved.\n",
            "Moving image...\n",
            "Moved.\n",
            "Finished converting images\n",
            "Saving image...\n",
            "Saved.\n",
            "Moving image...\n",
            "Moved.\n",
            "Finished converting images\n",
            "Saving image...\n"
          ],
          "name": "stdout"
        },
        {
          "output_type": "stream",
          "text": [
            "WARNING:root:Lossy conversion from int16 to uint8. Range [-2048, 1391]. Convert image to uint8 prior to saving to suppress this warning.\n",
            "WARNING:root:Lossy conversion from int16 to uint8. Range [-2048, 1380]. Convert image to uint8 prior to saving to suppress this warning.\n"
          ],
          "name": "stderr"
        },
        {
          "output_type": "stream",
          "text": [
            "Saved.\n",
            "Moving image...\n",
            "Moved.\n",
            "Finished converting images\n",
            "Saving image...\n",
            "Saved.\n",
            "Moving image...\n",
            "Moved.\n",
            "Finished converting images\n",
            "Saving image...\n"
          ],
          "name": "stdout"
        },
        {
          "output_type": "stream",
          "text": [
            "WARNING:root:Lossy conversion from int16 to uint8. Range [-2048, 1415]. Convert image to uint8 prior to saving to suppress this warning.\n",
            "WARNING:root:Lossy conversion from int16 to uint8. Range [-2048, 1348]. Convert image to uint8 prior to saving to suppress this warning.\n"
          ],
          "name": "stderr"
        },
        {
          "output_type": "stream",
          "text": [
            "Saved.\n",
            "Moving image...\n",
            "Moved.\n",
            "Finished converting images\n",
            "Saving image...\n",
            "Saved.\n",
            "Moving image...\n",
            "Moved.\n",
            "Finished converting images\n",
            "Saving image...\n"
          ],
          "name": "stdout"
        },
        {
          "output_type": "stream",
          "text": [
            "WARNING:root:Lossy conversion from int16 to uint8. Range [-2048, 1398]. Convert image to uint8 prior to saving to suppress this warning.\n",
            "WARNING:root:Lossy conversion from int16 to uint8. Range [-2048, 1578]. Convert image to uint8 prior to saving to suppress this warning.\n"
          ],
          "name": "stderr"
        },
        {
          "output_type": "stream",
          "text": [
            "Saved.\n",
            "Moving image...\n",
            "Moved.\n",
            "Finished converting images\n",
            "Saving image...\n",
            "Saved.\n",
            "Moving image...\n",
            "Moved.\n",
            "Finished converting images\n",
            "Saving image...\n"
          ],
          "name": "stdout"
        },
        {
          "output_type": "stream",
          "text": [
            "WARNING:root:Lossy conversion from int16 to uint8. Range [-2048, 1533]. Convert image to uint8 prior to saving to suppress this warning.\n",
            "WARNING:root:Lossy conversion from int16 to uint8. Range [-2048, 1669]. Convert image to uint8 prior to saving to suppress this warning.\n"
          ],
          "name": "stderr"
        },
        {
          "output_type": "stream",
          "text": [
            "Saved.\n",
            "Moving image...\n",
            "Moved.\n",
            "Finished converting images\n",
            "Saving image...\n",
            "Saved.\n",
            "Moving image...\n",
            "Moved.\n",
            "Finished converting images\n",
            "Saving image...\n"
          ],
          "name": "stdout"
        },
        {
          "output_type": "stream",
          "text": [
            "WARNING:root:Lossy conversion from int16 to uint8. Range [-2048, 1620]. Convert image to uint8 prior to saving to suppress this warning.\n"
          ],
          "name": "stderr"
        },
        {
          "output_type": "stream",
          "text": [
            "Saved.\n",
            "Moving image...\n",
            "Moved.\n",
            "Finished converting images\n",
            "Saving image...\n"
          ],
          "name": "stdout"
        },
        {
          "output_type": "stream",
          "text": [
            "WARNING:root:Lossy conversion from int16 to uint8. Range [-2048, 1468]. Convert image to uint8 prior to saving to suppress this warning.\n",
            "WARNING:root:Lossy conversion from int16 to uint8. Range [-2048, 1529]. Convert image to uint8 prior to saving to suppress this warning.\n"
          ],
          "name": "stderr"
        },
        {
          "output_type": "stream",
          "text": [
            "Saved.\n",
            "Moving image...\n",
            "Moved.\n",
            "Finished converting images\n",
            "Saving image...\n",
            "Saved.\n",
            "Moving image...\n",
            "Moved.\n",
            "Finished converting images\n",
            "Saving image...\n"
          ],
          "name": "stdout"
        },
        {
          "output_type": "stream",
          "text": [
            "WARNING:root:Lossy conversion from int16 to uint8. Range [-2048, 1637]. Convert image to uint8 prior to saving to suppress this warning.\n",
            "WARNING:root:Lossy conversion from int16 to uint8. Range [-2048, 1608]. Convert image to uint8 prior to saving to suppress this warning.\n"
          ],
          "name": "stderr"
        },
        {
          "output_type": "stream",
          "text": [
            "Saved.\n",
            "Moving image...\n",
            "Moved.\n",
            "Finished converting images\n",
            "Saving image...\n",
            "Saved.\n",
            "Moving image...\n",
            "Moved.\n",
            "Finished converting images\n",
            "Saving image...\n"
          ],
          "name": "stdout"
        },
        {
          "output_type": "stream",
          "text": [
            "WARNING:root:Lossy conversion from int16 to uint8. Range [-2048, 1599]. Convert image to uint8 prior to saving to suppress this warning.\n",
            "WARNING:root:Lossy conversion from int16 to uint8. Range [-2048, 1680]. Convert image to uint8 prior to saving to suppress this warning.\n"
          ],
          "name": "stderr"
        },
        {
          "output_type": "stream",
          "text": [
            "Saved.\n",
            "Moving image...\n",
            "Moved.\n",
            "Finished converting images\n",
            "Saving image...\n",
            "Saved.\n",
            "Moving image...\n",
            "Moved.\n",
            "Finished converting images\n",
            "Saving image...\n"
          ],
          "name": "stdout"
        },
        {
          "output_type": "stream",
          "text": [
            "WARNING:root:Lossy conversion from int16 to uint8. Range [-2048, 1559]. Convert image to uint8 prior to saving to suppress this warning.\n"
          ],
          "name": "stderr"
        },
        {
          "output_type": "stream",
          "text": [
            "Saved.\n",
            "Moving image...\n",
            "Moved.\n",
            "Finished converting images\n",
            "Saving image...\n",
            "Saved.\n",
            "Moving image...\n",
            "Moved.\n",
            "Finished converting images\n",
            "study_0248\n"
          ],
          "name": "stdout"
        },
        {
          "output_type": "stream",
          "text": [
            "WARNING:root:Lossy conversion from int16 to uint8. Range [-2048, 1405]. Convert image to uint8 prior to saving to suppress this warning.\n"
          ],
          "name": "stderr"
        },
        {
          "output_type": "stream",
          "text": [
            "3\n",
            "Created ouput directory: /content/drive/MyDrive/Radiology_workshop_monjoy/save_pngs_path/Normal//study_0248\n",
            "41\n",
            "Saving image...\n"
          ],
          "name": "stdout"
        },
        {
          "output_type": "stream",
          "text": [
            "WARNING:root:Lossy conversion from int16 to uint8. Range [-2048, 1568]. Convert image to uint8 prior to saving to suppress this warning.\n"
          ],
          "name": "stderr"
        },
        {
          "output_type": "stream",
          "text": [
            "Saved.\n",
            "Moving image...\n",
            "Moved.\n",
            "Finished converting images\n",
            "Saving image...\n",
            "Saved.\n",
            "Moving image...\n",
            "Moved.\n",
            "Finished converting images\n",
            "Saving image..."
          ],
          "name": "stdout"
        },
        {
          "output_type": "stream",
          "text": [
            "WARNING:root:Lossy conversion from int16 to uint8. Range [-2048, 1543]. Convert image to uint8 prior to saving to suppress this warning.\n"
          ],
          "name": "stderr"
        },
        {
          "output_type": "stream",
          "text": [
            "\n"
          ],
          "name": "stdout"
        },
        {
          "output_type": "stream",
          "text": [
            "WARNING:root:Lossy conversion from int16 to uint8. Range [-2048, 1312]. Convert image to uint8 prior to saving to suppress this warning.\n"
          ],
          "name": "stderr"
        },
        {
          "output_type": "stream",
          "text": [
            "Saved.\n",
            "Moving image...\n",
            "Moved.\n",
            "Finished converting images\n",
            "Saving image...\n",
            "Saved.\n"
          ],
          "name": "stdout"
        },
        {
          "output_type": "stream",
          "text": [
            "WARNING:root:Lossy conversion from int16 to uint8. Range [-2048, 1237]. Convert image to uint8 prior to saving to suppress this warning.\n"
          ],
          "name": "stderr"
        },
        {
          "output_type": "stream",
          "text": [
            "Moving image...\n",
            "Moved.\n",
            "Finished converting images\n",
            "Saving image...\n",
            "Saved.\n",
            "Moving image...\n",
            "Moved.\n",
            "Finished converting images\n",
            "Saving image...\n"
          ],
          "name": "stdout"
        },
        {
          "output_type": "stream",
          "text": [
            "WARNING:root:Lossy conversion from int16 to uint8. Range [-2048, 1504]. Convert image to uint8 prior to saving to suppress this warning.\n",
            "WARNING:root:Lossy conversion from int16 to uint8. Range [-2048, 1278]. Convert image to uint8 prior to saving to suppress this warning.\n"
          ],
          "name": "stderr"
        },
        {
          "output_type": "stream",
          "text": [
            "Saved.\n",
            "Moving image...\n",
            "Moved.\n",
            "Finished converting images\n",
            "Saving image...\n"
          ],
          "name": "stdout"
        },
        {
          "output_type": "stream",
          "text": [
            "WARNING:root:Lossy conversion from int16 to uint8. Range [-2048, 1453]. Convert image to uint8 prior to saving to suppress this warning.\n"
          ],
          "name": "stderr"
        },
        {
          "output_type": "stream",
          "text": [
            "Saved.\n",
            "Moving image...\n",
            "Moved.\n",
            "Finished converting images\n",
            "Saving image...\n"
          ],
          "name": "stdout"
        },
        {
          "output_type": "stream",
          "text": [
            "WARNING:root:Lossy conversion from int16 to uint8. Range [-2048, 1380]. Convert image to uint8 prior to saving to suppress this warning.\n"
          ],
          "name": "stderr"
        },
        {
          "output_type": "stream",
          "text": [
            "Saved.\n",
            "Moving image...\n",
            "Moved.\n",
            "Finished converting images\n",
            "Saving image...\n"
          ],
          "name": "stdout"
        },
        {
          "output_type": "stream",
          "text": [
            "WARNING:root:Lossy conversion from int16 to uint8. Range [-2048, 1579]. Convert image to uint8 prior to saving to suppress this warning.\n"
          ],
          "name": "stderr"
        },
        {
          "output_type": "stream",
          "text": [
            "Saved.\n",
            "Moving image...\n",
            "Moved.\n",
            "Finished converting images\n",
            "Saving image...\n"
          ],
          "name": "stdout"
        },
        {
          "output_type": "stream",
          "text": [
            "WARNING:root:Lossy conversion from int16 to uint8. Range [-2048, 1240]. Convert image to uint8 prior to saving to suppress this warning.\n"
          ],
          "name": "stderr"
        },
        {
          "output_type": "stream",
          "text": [
            "Saved.\n",
            "Moving image...\n",
            "Moved.\n",
            "Finished converting images\n",
            "Saving image...\n"
          ],
          "name": "stdout"
        },
        {
          "output_type": "stream",
          "text": [
            "WARNING:root:Lossy conversion from int16 to uint8. Range [-2048, 1518]. Convert image to uint8 prior to saving to suppress this warning.\n"
          ],
          "name": "stderr"
        },
        {
          "output_type": "stream",
          "text": [
            "Saved.\n",
            "Moving image...\n",
            "Moved.\n",
            "Finished converting images\n",
            "Saving image...\n"
          ],
          "name": "stdout"
        },
        {
          "output_type": "stream",
          "text": [
            "WARNING:root:Lossy conversion from int16 to uint8. Range [-2048, 1406]. Convert image to uint8 prior to saving to suppress this warning.\n"
          ],
          "name": "stderr"
        },
        {
          "output_type": "stream",
          "text": [
            "Saved.\n",
            "Moving image...\n",
            "Moved.\n",
            "Finished converting images\n",
            "Saving image...\n"
          ],
          "name": "stdout"
        },
        {
          "output_type": "stream",
          "text": [
            "WARNING:root:Lossy conversion from int16 to uint8. Range [-2048, 1628]. Convert image to uint8 prior to saving to suppress this warning.\n"
          ],
          "name": "stderr"
        },
        {
          "output_type": "stream",
          "text": [
            "Saved.\n",
            "Moving image...\n",
            "Moved.\n",
            "Finished converting images\n",
            "Saving image...\n"
          ],
          "name": "stdout"
        },
        {
          "output_type": "stream",
          "text": [
            "WARNING:root:Lossy conversion from int16 to uint8. Range [-2048, 1542]. Convert image to uint8 prior to saving to suppress this warning.\n"
          ],
          "name": "stderr"
        },
        {
          "output_type": "stream",
          "text": [
            "Saved.\n",
            "Moving image...\n",
            "Moved.\n",
            "Finished converting images\n",
            "Saving image...\n"
          ],
          "name": "stdout"
        },
        {
          "output_type": "stream",
          "text": [
            "WARNING:root:Lossy conversion from int16 to uint8. Range [-2048, 1386]. Convert image to uint8 prior to saving to suppress this warning.\n"
          ],
          "name": "stderr"
        },
        {
          "output_type": "stream",
          "text": [
            "Saved.\n",
            "Moving image...\n",
            "Moved.\n",
            "Finished converting images\n",
            "Saving image...\n"
          ],
          "name": "stdout"
        },
        {
          "output_type": "stream",
          "text": [
            "WARNING:root:Lossy conversion from int16 to uint8. Range [-2048, 1588]. Convert image to uint8 prior to saving to suppress this warning.\n"
          ],
          "name": "stderr"
        },
        {
          "output_type": "stream",
          "text": [
            "Saved.\n",
            "Moving image...\n",
            "Moved.\n",
            "Finished converting images\n",
            "Saving image...\n"
          ],
          "name": "stdout"
        },
        {
          "output_type": "stream",
          "text": [
            "WARNING:root:Lossy conversion from int16 to uint8. Range [-2048, 1315]. Convert image to uint8 prior to saving to suppress this warning.\n"
          ],
          "name": "stderr"
        },
        {
          "output_type": "stream",
          "text": [
            "Saved.\n",
            "Moving image...\n",
            "Moved.\n",
            "Finished converting images\n",
            "Saving image...\n"
          ],
          "name": "stdout"
        },
        {
          "output_type": "stream",
          "text": [
            "WARNING:root:Lossy conversion from int16 to uint8. Range [-2048, 1468]. Convert image to uint8 prior to saving to suppress this warning.\n"
          ],
          "name": "stderr"
        },
        {
          "output_type": "stream",
          "text": [
            "Saved.\n",
            "Moving image...\n",
            "Moved.\n",
            "Finished converting images\n",
            "Saving image...\n"
          ],
          "name": "stdout"
        },
        {
          "output_type": "stream",
          "text": [
            "WARNING:root:Lossy conversion from int16 to uint8. Range [-2048, 1393]. Convert image to uint8 prior to saving to suppress this warning.\n"
          ],
          "name": "stderr"
        },
        {
          "output_type": "stream",
          "text": [
            "Saved.\n",
            "Moving image...\n",
            "Moved.\n",
            "Finished converting images\n",
            "Saving image...\n"
          ],
          "name": "stdout"
        },
        {
          "output_type": "stream",
          "text": [
            "WARNING:root:Lossy conversion from int16 to uint8. Range [-2048, 1358]. Convert image to uint8 prior to saving to suppress this warning.\n"
          ],
          "name": "stderr"
        },
        {
          "output_type": "stream",
          "text": [
            "Saved.\n",
            "Moving image...\n",
            "Moved.\n",
            "Finished converting images\n",
            "Saving image...\n"
          ],
          "name": "stdout"
        },
        {
          "output_type": "stream",
          "text": [
            "WARNING:root:Lossy conversion from int16 to uint8. Range [-2048, 1499]. Convert image to uint8 prior to saving to suppress this warning.\n"
          ],
          "name": "stderr"
        },
        {
          "output_type": "stream",
          "text": [
            "Saved.\n",
            "Moving image...\n",
            "Moved.\n",
            "Finished converting images\n",
            "Saving image...\n"
          ],
          "name": "stdout"
        },
        {
          "output_type": "stream",
          "text": [
            "WARNING:root:Lossy conversion from int16 to uint8. Range [-2048, 1306]. Convert image to uint8 prior to saving to suppress this warning.\n"
          ],
          "name": "stderr"
        },
        {
          "output_type": "stream",
          "text": [
            "Saved.\n",
            "Moving image...\n",
            "Moved.\n",
            "Finished converting images\n",
            "Saving image...\n"
          ],
          "name": "stdout"
        },
        {
          "output_type": "stream",
          "text": [
            "WARNING:root:Lossy conversion from int16 to uint8. Range [-2048, 1433]. Convert image to uint8 prior to saving to suppress this warning.\n"
          ],
          "name": "stderr"
        },
        {
          "output_type": "stream",
          "text": [
            "Saved.\n",
            "Moving image...\n",
            "Moved.\n",
            "Finished converting images\n",
            "Saving image...\n"
          ],
          "name": "stdout"
        },
        {
          "output_type": "stream",
          "text": [
            "WARNING:root:Lossy conversion from int16 to uint8. Range [-2048, 1605]. Convert image to uint8 prior to saving to suppress this warning.\n"
          ],
          "name": "stderr"
        },
        {
          "output_type": "stream",
          "text": [
            "Saved.\n",
            "Moving image...\n",
            "Moved.\n",
            "Finished converting images\n",
            "Saving image...\n"
          ],
          "name": "stdout"
        },
        {
          "output_type": "stream",
          "text": [
            "WARNING:root:Lossy conversion from int16 to uint8. Range [-2048, 1547]. Convert image to uint8 prior to saving to suppress this warning.\n"
          ],
          "name": "stderr"
        },
        {
          "output_type": "stream",
          "text": [
            "Saved.\n",
            "Moving image...\n",
            "Moved.\n",
            "Finished converting images\n",
            "Saving image...\n"
          ],
          "name": "stdout"
        },
        {
          "output_type": "stream",
          "text": [
            "WARNING:root:Lossy conversion from int16 to uint8. Range [-2048, 1547]. Convert image to uint8 prior to saving to suppress this warning.\n"
          ],
          "name": "stderr"
        },
        {
          "output_type": "stream",
          "text": [
            "Saved.\n",
            "Moving image...\n",
            "Moved.\n",
            "Finished converting images\n",
            "Saving image...\n"
          ],
          "name": "stdout"
        },
        {
          "output_type": "stream",
          "text": [
            "WARNING:root:Lossy conversion from int16 to uint8. Range [-2048, 1588]. Convert image to uint8 prior to saving to suppress this warning.\n"
          ],
          "name": "stderr"
        },
        {
          "output_type": "stream",
          "text": [
            "Saved.\n",
            "Moving image...\n",
            "Moved.\n",
            "Finished converting images\n",
            "Saving image...\n"
          ],
          "name": "stdout"
        },
        {
          "output_type": "stream",
          "text": [
            "WARNING:root:Lossy conversion from int16 to uint8. Range [-2048, 1689]. Convert image to uint8 prior to saving to suppress this warning.\n"
          ],
          "name": "stderr"
        },
        {
          "output_type": "stream",
          "text": [
            "Saved.\n",
            "Moving image...\n",
            "Moved.\n",
            "Finished converting images\n",
            "Saving image...\n"
          ],
          "name": "stdout"
        },
        {
          "output_type": "stream",
          "text": [
            "WARNING:root:Lossy conversion from int16 to uint8. Range [-2048, 1578]. Convert image to uint8 prior to saving to suppress this warning.\n"
          ],
          "name": "stderr"
        },
        {
          "output_type": "stream",
          "text": [
            "Saved.\n",
            "Moving image...\n",
            "Moved.\n",
            "Finished converting images\n",
            "Saving image...\n"
          ],
          "name": "stdout"
        },
        {
          "output_type": "stream",
          "text": [
            "WARNING:root:Lossy conversion from int16 to uint8. Range [-2048, 1613]. Convert image to uint8 prior to saving to suppress this warning.\n"
          ],
          "name": "stderr"
        },
        {
          "output_type": "stream",
          "text": [
            "Saved.\n",
            "Moving image...\n",
            "Moved.\n",
            "Finished converting images\n",
            "Saving image...\n"
          ],
          "name": "stdout"
        },
        {
          "output_type": "stream",
          "text": [
            "WARNING:root:Lossy conversion from int16 to uint8. Range [-2048, 1491]. Convert image to uint8 prior to saving to suppress this warning.\n"
          ],
          "name": "stderr"
        },
        {
          "output_type": "stream",
          "text": [
            "Saved.\n",
            "Moving image...\n",
            "Moved.\n",
            "Finished converting images\n",
            "Saving image...\n"
          ],
          "name": "stdout"
        },
        {
          "output_type": "stream",
          "text": [
            "WARNING:root:Lossy conversion from int16 to uint8. Range [-2048, 1525]. Convert image to uint8 prior to saving to suppress this warning.\n"
          ],
          "name": "stderr"
        },
        {
          "output_type": "stream",
          "text": [
            "Saved.\n",
            "Moving image...\n",
            "Moved.\n",
            "Finished converting images\n",
            "Saving image...\n"
          ],
          "name": "stdout"
        },
        {
          "output_type": "stream",
          "text": [
            "WARNING:root:Lossy conversion from int16 to uint8. Range [-2048, 1553]. Convert image to uint8 prior to saving to suppress this warning.\n"
          ],
          "name": "stderr"
        },
        {
          "output_type": "stream",
          "text": [
            "Saved.\n",
            "Moving image...\n",
            "Moved.\n",
            "Finished converting images\n",
            "Saving image...\n"
          ],
          "name": "stdout"
        },
        {
          "output_type": "stream",
          "text": [
            "WARNING:root:Lossy conversion from int16 to uint8. Range [-2048, 1594]. Convert image to uint8 prior to saving to suppress this warning.\n"
          ],
          "name": "stderr"
        },
        {
          "output_type": "stream",
          "text": [
            "Saved.\n",
            "Moving image...\n",
            "Moved.\n",
            "Finished converting images\n",
            "Saving image...\n"
          ],
          "name": "stdout"
        },
        {
          "output_type": "stream",
          "text": [
            "WARNING:root:Lossy conversion from int16 to uint8. Range [-2048, 1625]. Convert image to uint8 prior to saving to suppress this warning.\n"
          ],
          "name": "stderr"
        },
        {
          "output_type": "stream",
          "text": [
            "Saved.\n",
            "Moving image...\n",
            "Moved.\n",
            "Finished converting images\n",
            "Saving image...\n"
          ],
          "name": "stdout"
        },
        {
          "output_type": "stream",
          "text": [
            "WARNING:root:Lossy conversion from int16 to uint8. Range [-2048, 1708]. Convert image to uint8 prior to saving to suppress this warning.\n"
          ],
          "name": "stderr"
        },
        {
          "output_type": "stream",
          "text": [
            "Saved.\n",
            "Moving image...\n",
            "Moved.\n",
            "Finished converting images\n",
            "Saving image...\n"
          ],
          "name": "stdout"
        },
        {
          "output_type": "stream",
          "text": [
            "WARNING:root:Lossy conversion from int16 to uint8. Range [-2048, 1774]. Convert image to uint8 prior to saving to suppress this warning.\n"
          ],
          "name": "stderr"
        },
        {
          "output_type": "stream",
          "text": [
            "Saved.\n",
            "Moving image...\n",
            "Moved.\n",
            "Finished converting images\n",
            "Saving image...\n"
          ],
          "name": "stdout"
        },
        {
          "output_type": "stream",
          "text": [
            "WARNING:root:Lossy conversion from int16 to uint8. Range [-2048, 1752]. Convert image to uint8 prior to saving to suppress this warning.\n"
          ],
          "name": "stderr"
        },
        {
          "output_type": "stream",
          "text": [
            "Saved.\n",
            "Moving image...\n",
            "Moved.\n",
            "Finished converting images\n",
            "Saving image...\n"
          ],
          "name": "stdout"
        },
        {
          "output_type": "stream",
          "text": [
            "WARNING:root:Lossy conversion from int16 to uint8. Range [-2048, 1733]. Convert image to uint8 prior to saving to suppress this warning.\n"
          ],
          "name": "stderr"
        },
        {
          "output_type": "stream",
          "text": [
            "Saved.\n",
            "Moving image...\n",
            "Moved.\n",
            "Finished converting images\n",
            "Saving image...\n"
          ],
          "name": "stdout"
        },
        {
          "output_type": "stream",
          "text": [
            "WARNING:root:Lossy conversion from int16 to uint8. Range [-2048, 1840]. Convert image to uint8 prior to saving to suppress this warning.\n"
          ],
          "name": "stderr"
        },
        {
          "output_type": "stream",
          "text": [
            "Saved.\n",
            "Moving image...\n",
            "Moved.\n",
            "Finished converting images\n",
            "Saving image...\n",
            "Saved.\n",
            "Moving image...\n",
            "Moved.\n",
            "Finished converting images\n",
            "study_0232\n"
          ],
          "name": "stdout"
        },
        {
          "output_type": "stream",
          "text": [
            "WARNING:root:Lossy conversion from int16 to uint8. Range [-2048, 1545]. Convert image to uint8 prior to saving to suppress this warning.\n"
          ],
          "name": "stderr"
        },
        {
          "output_type": "stream",
          "text": [
            "3\n",
            "Created ouput directory: /content/drive/MyDrive/Radiology_workshop_monjoy/save_pngs_path/Normal//study_0232\n",
            "44\n",
            "Saving image...\n"
          ],
          "name": "stdout"
        },
        {
          "output_type": "stream",
          "text": [
            "WARNING:root:Lossy conversion from int16 to uint8. Range [-2048, 1523]. Convert image to uint8 prior to saving to suppress this warning.\n"
          ],
          "name": "stderr"
        },
        {
          "output_type": "stream",
          "text": [
            "Saved.\n",
            "Moving image...\n",
            "Moved.\n",
            "Finished converting images\n",
            "Saving image...\n"
          ],
          "name": "stdout"
        },
        {
          "output_type": "stream",
          "text": [
            "WARNING:root:Lossy conversion from int16 to uint8. Range [-2048, 1532]. Convert image to uint8 prior to saving to suppress this warning.\n"
          ],
          "name": "stderr"
        },
        {
          "output_type": "stream",
          "text": [
            "Saved.\n",
            "Moving image...\n",
            "Moved.\n",
            "Finished converting images\n",
            "Saving image...\n"
          ],
          "name": "stdout"
        },
        {
          "output_type": "stream",
          "text": [
            "WARNING:root:Lossy conversion from int16 to uint8. Range [-2048, 1439]. Convert image to uint8 prior to saving to suppress this warning.\n"
          ],
          "name": "stderr"
        },
        {
          "output_type": "stream",
          "text": [
            "Saved.\n",
            "Moving image...\n",
            "Moved.\n",
            "Finished converting images\n",
            "Saving image...\n"
          ],
          "name": "stdout"
        },
        {
          "output_type": "stream",
          "text": [
            "WARNING:root:Lossy conversion from int16 to uint8. Range [-2048, 1518]. Convert image to uint8 prior to saving to suppress this warning.\n"
          ],
          "name": "stderr"
        },
        {
          "output_type": "stream",
          "text": [
            "Saved.\n",
            "Moving image...\n",
            "Moved.\n",
            "Finished converting images\n",
            "Saving image...\n"
          ],
          "name": "stdout"
        },
        {
          "output_type": "stream",
          "text": [
            "WARNING:root:Lossy conversion from int16 to uint8. Range [-2048, 1551]. Convert image to uint8 prior to saving to suppress this warning.\n"
          ],
          "name": "stderr"
        },
        {
          "output_type": "stream",
          "text": [
            "Saved.\n",
            "Moving image...\n",
            "Moved.\n",
            "Finished converting images\n",
            "Saving image...\n"
          ],
          "name": "stdout"
        },
        {
          "output_type": "stream",
          "text": [
            "WARNING:root:Lossy conversion from int16 to uint8. Range [-2048, 1517]. Convert image to uint8 prior to saving to suppress this warning.\n"
          ],
          "name": "stderr"
        },
        {
          "output_type": "stream",
          "text": [
            "Saved.\n",
            "Moving image...\n",
            "Moved.\n",
            "Finished converting images\n",
            "Saving image...\n"
          ],
          "name": "stdout"
        },
        {
          "output_type": "stream",
          "text": [
            "WARNING:root:Lossy conversion from int16 to uint8. Range [-2048, 1468]. Convert image to uint8 prior to saving to suppress this warning.\n"
          ],
          "name": "stderr"
        },
        {
          "output_type": "stream",
          "text": [
            "Saved.\n",
            "Moving image...\n",
            "Moved.\n",
            "Finished converting images\n",
            "Saving image...\n"
          ],
          "name": "stdout"
        },
        {
          "output_type": "stream",
          "text": [
            "WARNING:root:Lossy conversion from int16 to uint8. Range [-2048, 1437]. Convert image to uint8 prior to saving to suppress this warning.\n"
          ],
          "name": "stderr"
        },
        {
          "output_type": "stream",
          "text": [
            "Saved.\n",
            "Moving image...\n",
            "Moved.\n",
            "Finished converting images\n",
            "Saving image...\n"
          ],
          "name": "stdout"
        },
        {
          "output_type": "stream",
          "text": [
            "WARNING:root:Lossy conversion from int16 to uint8. Range [-2048, 1495]. Convert image to uint8 prior to saving to suppress this warning.\n"
          ],
          "name": "stderr"
        },
        {
          "output_type": "stream",
          "text": [
            "Saved.\n",
            "Moving image...\n",
            "Moved.\n",
            "Finished converting images\n",
            "Saving image...\n"
          ],
          "name": "stdout"
        },
        {
          "output_type": "stream",
          "text": [
            "WARNING:root:Lossy conversion from int16 to uint8. Range [-2048, 1534]. Convert image to uint8 prior to saving to suppress this warning.\n"
          ],
          "name": "stderr"
        },
        {
          "output_type": "stream",
          "text": [
            "Saved.\n",
            "Moving image...\n",
            "Moved.\n",
            "Finished converting images\n",
            "Saving image...\n"
          ],
          "name": "stdout"
        },
        {
          "output_type": "stream",
          "text": [
            "WARNING:root:Lossy conversion from int16 to uint8. Range [-2048, 1644]. Convert image to uint8 prior to saving to suppress this warning.\n"
          ],
          "name": "stderr"
        },
        {
          "output_type": "stream",
          "text": [
            "Saved.\n",
            "Moving image...\n",
            "Moved.\n",
            "Finished converting images\n",
            "Saving image...\n"
          ],
          "name": "stdout"
        },
        {
          "output_type": "stream",
          "text": [
            "WARNING:root:Lossy conversion from int16 to uint8. Range [-2048, 1500]. Convert image to uint8 prior to saving to suppress this warning.\n"
          ],
          "name": "stderr"
        },
        {
          "output_type": "stream",
          "text": [
            "Saved.\n",
            "Moving image...\n",
            "Moved.\n",
            "Finished converting images\n",
            "Saving image...\n"
          ],
          "name": "stdout"
        },
        {
          "output_type": "stream",
          "text": [
            "WARNING:root:Lossy conversion from int16 to uint8. Range [-2048, 1579]. Convert image to uint8 prior to saving to suppress this warning.\n"
          ],
          "name": "stderr"
        },
        {
          "output_type": "stream",
          "text": [
            "Saved.\n",
            "Moving image...\n",
            "Moved.\n",
            "Finished converting images\n",
            "Saving image...\n"
          ],
          "name": "stdout"
        },
        {
          "output_type": "stream",
          "text": [
            "WARNING:root:Lossy conversion from int16 to uint8. Range [-2048, 1641]. Convert image to uint8 prior to saving to suppress this warning.\n"
          ],
          "name": "stderr"
        },
        {
          "output_type": "stream",
          "text": [
            "Saved.\n",
            "Moving image...\n",
            "Moved.\n",
            "Finished converting images\n",
            "Saving image...\n"
          ],
          "name": "stdout"
        },
        {
          "output_type": "stream",
          "text": [
            "WARNING:root:Lossy conversion from int16 to uint8. Range [-2048, 1639]. Convert image to uint8 prior to saving to suppress this warning.\n"
          ],
          "name": "stderr"
        },
        {
          "output_type": "stream",
          "text": [
            "Saved.\n",
            "Moving image...\n",
            "Moved.\n",
            "Finished converting images\n",
            "Saving image...\n"
          ],
          "name": "stdout"
        },
        {
          "output_type": "stream",
          "text": [
            "WARNING:root:Lossy conversion from int16 to uint8. Range [-2048, 1421]. Convert image to uint8 prior to saving to suppress this warning.\n"
          ],
          "name": "stderr"
        },
        {
          "output_type": "stream",
          "text": [
            "Saved.\n",
            "Moving image...\n",
            "Moved.\n",
            "Finished converting images\n",
            "Saving image...\n"
          ],
          "name": "stdout"
        },
        {
          "output_type": "stream",
          "text": [
            "WARNING:root:Lossy conversion from int16 to uint8. Range [-2048, 1594]. Convert image to uint8 prior to saving to suppress this warning.\n"
          ],
          "name": "stderr"
        },
        {
          "output_type": "stream",
          "text": [
            "Saved.\n",
            "Moving image...\n",
            "Moved.\n",
            "Finished converting images\n",
            "Saving image...\n"
          ],
          "name": "stdout"
        },
        {
          "output_type": "stream",
          "text": [
            "WARNING:root:Lossy conversion from int16 to uint8. Range [-2048, 1669]. Convert image to uint8 prior to saving to suppress this warning.\n"
          ],
          "name": "stderr"
        },
        {
          "output_type": "stream",
          "text": [
            "Saved.\n",
            "Moving image...\n",
            "Moved.\n",
            "Finished converting images\n",
            "Saving image...\n"
          ],
          "name": "stdout"
        },
        {
          "output_type": "stream",
          "text": [
            "WARNING:root:Lossy conversion from int16 to uint8. Range [-2048, 1652]. Convert image to uint8 prior to saving to suppress this warning.\n"
          ],
          "name": "stderr"
        },
        {
          "output_type": "stream",
          "text": [
            "Saved.\n",
            "Moving image...\n",
            "Moved.\n",
            "Finished converting images\n",
            "Saving image...\n"
          ],
          "name": "stdout"
        },
        {
          "output_type": "stream",
          "text": [
            "WARNING:root:Lossy conversion from int16 to uint8. Range [-2048, 1520]. Convert image to uint8 prior to saving to suppress this warning.\n"
          ],
          "name": "stderr"
        },
        {
          "output_type": "stream",
          "text": [
            "Saved.\n",
            "Moving image...\n",
            "Moved.\n",
            "Finished converting images\n",
            "Saving image...\n"
          ],
          "name": "stdout"
        },
        {
          "output_type": "stream",
          "text": [
            "WARNING:root:Lossy conversion from int16 to uint8. Range [-2048, 1561]. Convert image to uint8 prior to saving to suppress this warning.\n"
          ],
          "name": "stderr"
        },
        {
          "output_type": "stream",
          "text": [
            "Saved.\n",
            "Moving image...\n",
            "Moved.\n",
            "Finished converting images\n",
            "Saving image...\n"
          ],
          "name": "stdout"
        },
        {
          "output_type": "stream",
          "text": [
            "WARNING:root:Lossy conversion from int16 to uint8. Range [-2048, 1587]. Convert image to uint8 prior to saving to suppress this warning.\n"
          ],
          "name": "stderr"
        },
        {
          "output_type": "stream",
          "text": [
            "Saved.\n",
            "Moving image...\n",
            "Moved.\n",
            "Finished converting images\n",
            "Saving image...\n"
          ],
          "name": "stdout"
        },
        {
          "output_type": "stream",
          "text": [
            "WARNING:root:Lossy conversion from int16 to uint8. Range [-2048, 1600]. Convert image to uint8 prior to saving to suppress this warning.\n"
          ],
          "name": "stderr"
        },
        {
          "output_type": "stream",
          "text": [
            "Saved.\n",
            "Moving image...\n",
            "Moved.\n",
            "Finished converting images\n",
            "Saving image...\n"
          ],
          "name": "stdout"
        },
        {
          "output_type": "stream",
          "text": [
            "WARNING:root:Lossy conversion from int16 to uint8. Range [-2048, 1589]. Convert image to uint8 prior to saving to suppress this warning.\n"
          ],
          "name": "stderr"
        },
        {
          "output_type": "stream",
          "text": [
            "Saved.\n",
            "Moving image...\n",
            "Moved.\n",
            "Finished converting images\n",
            "Saving image...\n"
          ],
          "name": "stdout"
        },
        {
          "output_type": "stream",
          "text": [
            "WARNING:root:Lossy conversion from int16 to uint8. Range [-2048, 1480]. Convert image to uint8 prior to saving to suppress this warning.\n"
          ],
          "name": "stderr"
        },
        {
          "output_type": "stream",
          "text": [
            "Saved.\n",
            "Moving image...\n",
            "Moved.\n",
            "Finished converting images\n",
            "Saving image...\n"
          ],
          "name": "stdout"
        },
        {
          "output_type": "stream",
          "text": [
            "WARNING:root:Lossy conversion from int16 to uint8. Range [-2048, 1526]. Convert image to uint8 prior to saving to suppress this warning.\n"
          ],
          "name": "stderr"
        },
        {
          "output_type": "stream",
          "text": [
            "Saved.\n",
            "Moving image...\n",
            "Moved.\n",
            "Finished converting images\n",
            "Saving image...\n"
          ],
          "name": "stdout"
        },
        {
          "output_type": "stream",
          "text": [
            "WARNING:root:Lossy conversion from int16 to uint8. Range [-2048, 1592]. Convert image to uint8 prior to saving to suppress this warning.\n"
          ],
          "name": "stderr"
        },
        {
          "output_type": "stream",
          "text": [
            "Saved.\n",
            "Moving image...\n",
            "Moved.\n",
            "Finished converting images\n",
            "Saving image...\n"
          ],
          "name": "stdout"
        },
        {
          "output_type": "stream",
          "text": [
            "WARNING:root:Lossy conversion from int16 to uint8. Range [-2048, 1508]. Convert image to uint8 prior to saving to suppress this warning.\n"
          ],
          "name": "stderr"
        },
        {
          "output_type": "stream",
          "text": [
            "Saved.\n",
            "Moving image...\n",
            "Moved.\n",
            "Finished converting images\n",
            "Saving image...\n"
          ],
          "name": "stdout"
        },
        {
          "output_type": "stream",
          "text": [
            "WARNING:root:Lossy conversion from int16 to uint8. Range [-2048, 1599]. Convert image to uint8 prior to saving to suppress this warning.\n"
          ],
          "name": "stderr"
        },
        {
          "output_type": "stream",
          "text": [
            "Saved.\n",
            "Moving image...\n",
            "Moved.\n",
            "Finished converting images\n",
            "Saving image...\n"
          ],
          "name": "stdout"
        },
        {
          "output_type": "stream",
          "text": [
            "WARNING:root:Lossy conversion from int16 to uint8. Range [-2048, 1670]. Convert image to uint8 prior to saving to suppress this warning.\n"
          ],
          "name": "stderr"
        },
        {
          "output_type": "stream",
          "text": [
            "Saved.\n",
            "Moving image...\n",
            "Moved.\n",
            "Finished converting images\n",
            "Saving image...\n"
          ],
          "name": "stdout"
        },
        {
          "output_type": "stream",
          "text": [
            "WARNING:root:Lossy conversion from int16 to uint8. Range [-2048, 1505]. Convert image to uint8 prior to saving to suppress this warning.\n"
          ],
          "name": "stderr"
        },
        {
          "output_type": "stream",
          "text": [
            "Saved.\n",
            "Moving image...\n",
            "Moved.\n",
            "Finished converting images\n",
            "Saving image...\n"
          ],
          "name": "stdout"
        },
        {
          "output_type": "stream",
          "text": [
            "WARNING:root:Lossy conversion from int16 to uint8. Range [-2048, 1543]. Convert image to uint8 prior to saving to suppress this warning.\n"
          ],
          "name": "stderr"
        },
        {
          "output_type": "stream",
          "text": [
            "Saved.\n",
            "Moving image...\n",
            "Moved.\n",
            "Finished converting images\n",
            "Saving image...\n"
          ],
          "name": "stdout"
        },
        {
          "output_type": "stream",
          "text": [
            "WARNING:root:Lossy conversion from int16 to uint8. Range [-2048, 1638]. Convert image to uint8 prior to saving to suppress this warning.\n"
          ],
          "name": "stderr"
        },
        {
          "output_type": "stream",
          "text": [
            "Saved.\n",
            "Moving image...\n",
            "Moved.\n",
            "Finished converting images\n",
            "Saving image...\n"
          ],
          "name": "stdout"
        },
        {
          "output_type": "stream",
          "text": [
            "WARNING:root:Lossy conversion from int16 to uint8. Range [-2048, 1545]. Convert image to uint8 prior to saving to suppress this warning.\n"
          ],
          "name": "stderr"
        },
        {
          "output_type": "stream",
          "text": [
            "Saved.\n",
            "Moving image...\n",
            "Moved.\n",
            "Finished converting images\n",
            "Saving image...\n"
          ],
          "name": "stdout"
        },
        {
          "output_type": "stream",
          "text": [
            "WARNING:root:Lossy conversion from int16 to uint8. Range [-2048, 1590]. Convert image to uint8 prior to saving to suppress this warning.\n"
          ],
          "name": "stderr"
        },
        {
          "output_type": "stream",
          "text": [
            "Saved.\n",
            "Moving image...\n",
            "Moved.\n",
            "Finished converting images\n",
            "Saving image...\n"
          ],
          "name": "stdout"
        },
        {
          "output_type": "stream",
          "text": [
            "WARNING:root:Lossy conversion from int16 to uint8. Range [-2048, 1559]. Convert image to uint8 prior to saving to suppress this warning.\n"
          ],
          "name": "stderr"
        },
        {
          "output_type": "stream",
          "text": [
            "Saved.\n",
            "Moving image...\n",
            "Moved.\n",
            "Finished converting images\n",
            "Saving image...\n"
          ],
          "name": "stdout"
        },
        {
          "output_type": "stream",
          "text": [
            "WARNING:root:Lossy conversion from int16 to uint8. Range [-2048, 1619]. Convert image to uint8 prior to saving to suppress this warning.\n"
          ],
          "name": "stderr"
        },
        {
          "output_type": "stream",
          "text": [
            "Saved.\n",
            "Moving image...\n",
            "Moved.\n",
            "Finished converting images\n",
            "Saving image...\n"
          ],
          "name": "stdout"
        },
        {
          "output_type": "stream",
          "text": [
            "WARNING:root:Lossy conversion from int16 to uint8. Range [-2048, 1594]. Convert image to uint8 prior to saving to suppress this warning.\n"
          ],
          "name": "stderr"
        },
        {
          "output_type": "stream",
          "text": [
            "Saved.\n",
            "Moving image...\n",
            "Moved.\n",
            "Finished converting images\n",
            "Saving image...\n"
          ],
          "name": "stdout"
        },
        {
          "output_type": "stream",
          "text": [
            "WARNING:root:Lossy conversion from int16 to uint8. Range [-2048, 1726]. Convert image to uint8 prior to saving to suppress this warning.\n"
          ],
          "name": "stderr"
        },
        {
          "output_type": "stream",
          "text": [
            "Saved.\n",
            "Moving image...\n",
            "Moved.\n",
            "Finished converting images\n",
            "Saving image...\n"
          ],
          "name": "stdout"
        },
        {
          "output_type": "stream",
          "text": [
            "WARNING:root:Lossy conversion from int16 to uint8. Range [-2048, 1702]. Convert image to uint8 prior to saving to suppress this warning.\n"
          ],
          "name": "stderr"
        },
        {
          "output_type": "stream",
          "text": [
            "Saved.\n",
            "Moving image...\n",
            "Moved.\n",
            "Finished converting images\n",
            "Saving image...\n"
          ],
          "name": "stdout"
        },
        {
          "output_type": "stream",
          "text": [
            "WARNING:root:Lossy conversion from int16 to uint8. Range [-2048, 1582]. Convert image to uint8 prior to saving to suppress this warning.\n"
          ],
          "name": "stderr"
        },
        {
          "output_type": "stream",
          "text": [
            "Saved.\n",
            "Moving image...\n",
            "Moved.\n",
            "Finished converting images\n",
            "Saving image...\n"
          ],
          "name": "stdout"
        },
        {
          "output_type": "stream",
          "text": [
            "WARNING:root:Lossy conversion from int16 to uint8. Range [-2048, 1444]. Convert image to uint8 prior to saving to suppress this warning.\n"
          ],
          "name": "stderr"
        },
        {
          "output_type": "stream",
          "text": [
            "Saved.\n",
            "Moving image...\n",
            "Moved.\n",
            "Finished converting images\n",
            "Saving image...\n"
          ],
          "name": "stdout"
        },
        {
          "output_type": "stream",
          "text": [
            "WARNING:root:Lossy conversion from int16 to uint8. Range [-2048, 1478]. Convert image to uint8 prior to saving to suppress this warning.\n"
          ],
          "name": "stderr"
        },
        {
          "output_type": "stream",
          "text": [
            "Saved.\n",
            "Moving image...\n",
            "Moved.\n",
            "Finished converting images\n",
            "Saving image...\n",
            "Saved.\n",
            "Moving image...\n",
            "Moved.\n",
            "Finished converting images\n",
            "study_0249\n"
          ],
          "name": "stdout"
        },
        {
          "output_type": "stream",
          "text": [
            "WARNING:root:Lossy conversion from int16 to uint8. Range [-2048, 1345]. Convert image to uint8 prior to saving to suppress this warning.\n"
          ],
          "name": "stderr"
        },
        {
          "output_type": "stream",
          "text": [
            "3\n",
            "Created ouput directory: /content/drive/MyDrive/Radiology_workshop_monjoy/save_pngs_path/Normal//study_0249\n",
            "46\n",
            "Saving image...\n"
          ],
          "name": "stdout"
        },
        {
          "output_type": "stream",
          "text": [
            "WARNING:root:Lossy conversion from int16 to uint8. Range [-2048, 1383]. Convert image to uint8 prior to saving to suppress this warning.\n"
          ],
          "name": "stderr"
        },
        {
          "output_type": "stream",
          "text": [
            "Saved.\n",
            "Moving image...\n",
            "Moved.\n",
            "Finished converting images\n",
            "Saving image...\n"
          ],
          "name": "stdout"
        },
        {
          "output_type": "stream",
          "text": [
            "WARNING:root:Lossy conversion from int16 to uint8. Range [-2048, 1383]. Convert image to uint8 prior to saving to suppress this warning.\n"
          ],
          "name": "stderr"
        },
        {
          "output_type": "stream",
          "text": [
            "Saved.\n",
            "Moving image...\n",
            "Moved.\n",
            "Finished converting images\n",
            "Saving image...\n",
            "Saved.\n",
            "Moving image...\n",
            "Moved.\n",
            "Finished converting images\n",
            "Saving image...\n"
          ],
          "name": "stdout"
        },
        {
          "output_type": "stream",
          "text": [
            "WARNING:root:Lossy conversion from int16 to uint8. Range [-2048, 1301]. Convert image to uint8 prior to saving to suppress this warning.\n",
            "WARNING:root:Lossy conversion from int16 to uint8. Range [-2048, 1315]. Convert image to uint8 prior to saving to suppress this warning.\n"
          ],
          "name": "stderr"
        },
        {
          "output_type": "stream",
          "text": [
            "Saved.\n",
            "Moving image...\n",
            "Moved.\n",
            "Finished converting images\n",
            "Saving image...\n"
          ],
          "name": "stdout"
        },
        {
          "output_type": "stream",
          "text": [
            "WARNING:root:Lossy conversion from int16 to uint8. Range [-2048, 1304]. Convert image to uint8 prior to saving to suppress this warning.\n"
          ],
          "name": "stderr"
        },
        {
          "output_type": "stream",
          "text": [
            "Saved.\n",
            "Moving image...\n",
            "Moved.\n",
            "Finished converting images\n",
            "Saving image...\n"
          ],
          "name": "stdout"
        },
        {
          "output_type": "stream",
          "text": [
            "WARNING:root:Lossy conversion from int16 to uint8. Range [-2048, 1344]. Convert image to uint8 prior to saving to suppress this warning.\n"
          ],
          "name": "stderr"
        },
        {
          "output_type": "stream",
          "text": [
            "Saved.\n",
            "Moving image...\n",
            "Moved.\n",
            "Finished converting images\n",
            "Saving image...\n"
          ],
          "name": "stdout"
        },
        {
          "output_type": "stream",
          "text": [
            "WARNING:root:Lossy conversion from int16 to uint8. Range [-2048, 1425]. Convert image to uint8 prior to saving to suppress this warning.\n"
          ],
          "name": "stderr"
        },
        {
          "output_type": "stream",
          "text": [
            "Saved.\n",
            "Moving image...\n",
            "Moved.\n",
            "Finished converting images\n",
            "Saving image...\n"
          ],
          "name": "stdout"
        },
        {
          "output_type": "stream",
          "text": [
            "WARNING:root:Lossy conversion from int16 to uint8. Range [-2048, 1366]. Convert image to uint8 prior to saving to suppress this warning.\n"
          ],
          "name": "stderr"
        },
        {
          "output_type": "stream",
          "text": [
            "Saved.\n",
            "Moving image...\n",
            "Moved.\n",
            "Finished converting images\n",
            "Saving image...\n"
          ],
          "name": "stdout"
        },
        {
          "output_type": "stream",
          "text": [
            "WARNING:root:Lossy conversion from int16 to uint8. Range [-2048, 1417]. Convert image to uint8 prior to saving to suppress this warning.\n"
          ],
          "name": "stderr"
        },
        {
          "output_type": "stream",
          "text": [
            "Saved.\n",
            "Moving image...\n",
            "Moved.\n",
            "Finished converting images\n",
            "Saving image...\n"
          ],
          "name": "stdout"
        },
        {
          "output_type": "stream",
          "text": [
            "WARNING:root:Lossy conversion from int16 to uint8. Range [-2048, 1427]. Convert image to uint8 prior to saving to suppress this warning.\n"
          ],
          "name": "stderr"
        },
        {
          "output_type": "stream",
          "text": [
            "Saved.\n",
            "Moving image...\n",
            "Moved.\n",
            "Finished converting images\n",
            "Saving image...\n"
          ],
          "name": "stdout"
        },
        {
          "output_type": "stream",
          "text": [
            "WARNING:root:Lossy conversion from int16 to uint8. Range [-2048, 1346]. Convert image to uint8 prior to saving to suppress this warning.\n"
          ],
          "name": "stderr"
        },
        {
          "output_type": "stream",
          "text": [
            "Saved.\n",
            "Moving image...\n",
            "Moved.\n",
            "Finished converting images\n",
            "Saving image...\n"
          ],
          "name": "stdout"
        },
        {
          "output_type": "stream",
          "text": [
            "WARNING:root:Lossy conversion from int16 to uint8. Range [-2048, 1444]. Convert image to uint8 prior to saving to suppress this warning.\n"
          ],
          "name": "stderr"
        },
        {
          "output_type": "stream",
          "text": [
            "Saved.\n",
            "Moving image...\n",
            "Moved.\n",
            "Finished converting images\n",
            "Saving image...\n"
          ],
          "name": "stdout"
        },
        {
          "output_type": "stream",
          "text": [
            "WARNING:root:Lossy conversion from int16 to uint8. Range [-2048, 1385]. Convert image to uint8 prior to saving to suppress this warning.\n"
          ],
          "name": "stderr"
        },
        {
          "output_type": "stream",
          "text": [
            "Saved.\n",
            "Moving image...\n",
            "Moved.\n",
            "Finished converting images\n",
            "Saving image...\n"
          ],
          "name": "stdout"
        },
        {
          "output_type": "stream",
          "text": [
            "WARNING:root:Lossy conversion from int16 to uint8. Range [-2048, 1504]. Convert image to uint8 prior to saving to suppress this warning.\n"
          ],
          "name": "stderr"
        },
        {
          "output_type": "stream",
          "text": [
            "Saved.\n",
            "Moving image...\n",
            "Moved.\n",
            "Finished converting images\n",
            "Saving image...\n"
          ],
          "name": "stdout"
        },
        {
          "output_type": "stream",
          "text": [
            "WARNING:root:Lossy conversion from int16 to uint8. Range [-2048, 1444]. Convert image to uint8 prior to saving to suppress this warning.\n"
          ],
          "name": "stderr"
        },
        {
          "output_type": "stream",
          "text": [
            "Saved.\n",
            "Moving image...\n",
            "Moved.\n",
            "Finished converting images\n",
            "Saving image...\n"
          ],
          "name": "stdout"
        },
        {
          "output_type": "stream",
          "text": [
            "WARNING:root:Lossy conversion from int16 to uint8. Range [-2048, 1397]. Convert image to uint8 prior to saving to suppress this warning.\n"
          ],
          "name": "stderr"
        },
        {
          "output_type": "stream",
          "text": [
            "Saved.\n",
            "Moving image...\n",
            "Moved.\n",
            "Finished converting images\n",
            "Saving image...\n"
          ],
          "name": "stdout"
        },
        {
          "output_type": "stream",
          "text": [
            "WARNING:root:Lossy conversion from int16 to uint8. Range [-2048, 1482]. Convert image to uint8 prior to saving to suppress this warning.\n"
          ],
          "name": "stderr"
        },
        {
          "output_type": "stream",
          "text": [
            "Saved.\n",
            "Moving image...\n",
            "Moved.\n",
            "Finished converting images\n",
            "Saving image...\n"
          ],
          "name": "stdout"
        },
        {
          "output_type": "stream",
          "text": [
            "WARNING:root:Lossy conversion from int16 to uint8. Range [-2048, 1276]. Convert image to uint8 prior to saving to suppress this warning.\n"
          ],
          "name": "stderr"
        },
        {
          "output_type": "stream",
          "text": [
            "Saved.\n",
            "Moving image...\n",
            "Moved.\n",
            "Finished converting images\n",
            "Saving image...\n"
          ],
          "name": "stdout"
        },
        {
          "output_type": "stream",
          "text": [
            "WARNING:root:Lossy conversion from int16 to uint8. Range [-2048, 1436]. Convert image to uint8 prior to saving to suppress this warning.\n"
          ],
          "name": "stderr"
        },
        {
          "output_type": "stream",
          "text": [
            "Saved.\n",
            "Moving image...\n",
            "Moved.\n",
            "Finished converting images\n",
            "Saving image...\n"
          ],
          "name": "stdout"
        },
        {
          "output_type": "stream",
          "text": [
            "WARNING:root:Lossy conversion from int16 to uint8. Range [-2048, 1411]. Convert image to uint8 prior to saving to suppress this warning.\n",
            "WARNING:root:Lossy conversion from int16 to uint8. Range [-2048, 1508]. Convert image to uint8 prior to saving to suppress this warning.\n"
          ],
          "name": "stderr"
        },
        {
          "output_type": "stream",
          "text": [
            "Saved.\n",
            "Moving image...\n",
            "Moved.\n",
            "Finished converting images\n",
            "Saving image...\n",
            "Saved.\n",
            "Moving image...\n",
            "Moved.\n",
            "Finished converting images\n",
            "Saving image...\n"
          ],
          "name": "stdout"
        },
        {
          "output_type": "stream",
          "text": [
            "WARNING:root:Lossy conversion from int16 to uint8. Range [-2048, 1313]. Convert image to uint8 prior to saving to suppress this warning.\n"
          ],
          "name": "stderr"
        },
        {
          "output_type": "stream",
          "text": [
            "Saved.\n",
            "Moving image...\n",
            "Moved.\n",
            "Finished converting images\n",
            "Saving image...\n",
            "Saved.\n",
            "Moving image...\n",
            "Moved.\n",
            "Finished converting images\n",
            "Saving image...\n"
          ],
          "name": "stdout"
        },
        {
          "output_type": "stream",
          "text": [
            "WARNING:root:Lossy conversion from int16 to uint8. Range [-2048, 1349]. Convert image to uint8 prior to saving to suppress this warning.\n",
            "WARNING:root:Lossy conversion from int16 to uint8. Range [-2048, 1415]. Convert image to uint8 prior to saving to suppress this warning.\n"
          ],
          "name": "stderr"
        },
        {
          "output_type": "stream",
          "text": [
            "Saved.\n",
            "Moving image...\n",
            "Moved.\n",
            "Finished converting images\n",
            "Saving image...\n",
            "Saved.\n",
            "Moving image...\n",
            "Moved.\n",
            "Finished converting images\n",
            "Saving image...\n"
          ],
          "name": "stdout"
        },
        {
          "output_type": "stream",
          "text": [
            "WARNING:root:Lossy conversion from int16 to uint8. Range [-2048, 1379]. Convert image to uint8 prior to saving to suppress this warning.\n",
            "WARNING:root:Lossy conversion from int16 to uint8. Range [-2048, 1372]. Convert image to uint8 prior to saving to suppress this warning.\n"
          ],
          "name": "stderr"
        },
        {
          "output_type": "stream",
          "text": [
            "Saved.\n",
            "Moving image...\n",
            "Moved.\n",
            "Finished converting images\n",
            "Saving image...\n",
            "Saved.\n",
            "Moving image...\n",
            "Moved.\n",
            "Finished converting images\n",
            "Saving image...\n"
          ],
          "name": "stdout"
        },
        {
          "output_type": "stream",
          "text": [
            "WARNING:root:Lossy conversion from int16 to uint8. Range [-2048, 1425]. Convert image to uint8 prior to saving to suppress this warning.\n",
            "WARNING:root:Lossy conversion from int16 to uint8. Range [-2048, 1453]. Convert image to uint8 prior to saving to suppress this warning.\n"
          ],
          "name": "stderr"
        },
        {
          "output_type": "stream",
          "text": [
            "Saved.\n",
            "Moving image...\n",
            "Moved.\n",
            "Finished converting images\n",
            "Saving image...\n"
          ],
          "name": "stdout"
        },
        {
          "output_type": "stream",
          "text": [
            "WARNING:root:Lossy conversion from int16 to uint8. Range [-2048, 1361]. Convert image to uint8 prior to saving to suppress this warning.\n"
          ],
          "name": "stderr"
        },
        {
          "output_type": "stream",
          "text": [
            "Saved.\n",
            "Moving image...\n",
            "Moved.\n",
            "Finished converting images\n",
            "Saving image...\n"
          ],
          "name": "stdout"
        },
        {
          "output_type": "stream",
          "text": [
            "WARNING:root:Lossy conversion from int16 to uint8. Range [-2048, 1432]. Convert image to uint8 prior to saving to suppress this warning.\n"
          ],
          "name": "stderr"
        },
        {
          "output_type": "stream",
          "text": [
            "Saved.\n",
            "Moving image...\n",
            "Moved.\n",
            "Finished converting images\n",
            "Saving image...\n"
          ],
          "name": "stdout"
        },
        {
          "output_type": "stream",
          "text": [
            "WARNING:root:Lossy conversion from int16 to uint8. Range [-2048, 1556]. Convert image to uint8 prior to saving to suppress this warning.\n"
          ],
          "name": "stderr"
        },
        {
          "output_type": "stream",
          "text": [
            "Saved.\n",
            "Moving image...\n",
            "Moved.\n",
            "Finished converting images\n",
            "Saving image...\n"
          ],
          "name": "stdout"
        },
        {
          "output_type": "stream",
          "text": [
            "WARNING:root:Lossy conversion from int16 to uint8. Range [-2048, 1555]. Convert image to uint8 prior to saving to suppress this warning.\n"
          ],
          "name": "stderr"
        },
        {
          "output_type": "stream",
          "text": [
            "Saved.\n",
            "Moving image...\n",
            "Moved.\n",
            "Finished converting images\n",
            "Saving image...\n",
            "Saved."
          ],
          "name": "stdout"
        },
        {
          "output_type": "stream",
          "text": [
            "WARNING:root:Lossy conversion from int16 to uint8. Range [-2048, 1449]. Convert image to uint8 prior to saving to suppress this warning.\n"
          ],
          "name": "stderr"
        },
        {
          "output_type": "stream",
          "text": [
            "\n",
            "Moving image...\n",
            "Moved.\n",
            "Finished converting images\n",
            "Saving image...\n"
          ],
          "name": "stdout"
        },
        {
          "output_type": "stream",
          "text": [
            "WARNING:root:Lossy conversion from int16 to uint8. Range [-2048, 1551]. Convert image to uint8 prior to saving to suppress this warning.\n"
          ],
          "name": "stderr"
        },
        {
          "output_type": "stream",
          "text": [
            "Saved.\n",
            "Moving image...\n",
            "Moved.\n",
            "Finished converting images\n",
            "Saving image...\n"
          ],
          "name": "stdout"
        },
        {
          "output_type": "stream",
          "text": [
            "WARNING:root:Lossy conversion from int16 to uint8. Range [-2048, 1420]. Convert image to uint8 prior to saving to suppress this warning.\n"
          ],
          "name": "stderr"
        },
        {
          "output_type": "stream",
          "text": [
            "Saved.\n",
            "Moving image...\n",
            "Moved.\n",
            "Finished converting images\n",
            "Saving image...\n"
          ],
          "name": "stdout"
        },
        {
          "output_type": "stream",
          "text": [
            "WARNING:root:Lossy conversion from int16 to uint8. Range [-2048, 1472]. Convert image to uint8 prior to saving to suppress this warning.\n"
          ],
          "name": "stderr"
        },
        {
          "output_type": "stream",
          "text": [
            "Saved.\n",
            "Moving image...\n",
            "Moved.\n",
            "Finished converting images\n",
            "Saving image...\n"
          ],
          "name": "stdout"
        },
        {
          "output_type": "stream",
          "text": [
            "WARNING:root:Lossy conversion from int16 to uint8. Range [-2048, 1544]. Convert image to uint8 prior to saving to suppress this warning.\n"
          ],
          "name": "stderr"
        },
        {
          "output_type": "stream",
          "text": [
            "Saved.\n",
            "Moving image...\n",
            "Moved.\n",
            "Finished converting images\n",
            "Saving image...\n",
            "Saved.\n",
            "Moving image...\n",
            "Moved.\n",
            "Finished converting images\n",
            "Saving image...\n"
          ],
          "name": "stdout"
        },
        {
          "output_type": "stream",
          "text": [
            "WARNING:root:Lossy conversion from int16 to uint8. Range [-2048, 1631]. Convert image to uint8 prior to saving to suppress this warning.\n",
            "WARNING:root:Lossy conversion from int16 to uint8. Range [-2048, 1541]. Convert image to uint8 prior to saving to suppress this warning.\n"
          ],
          "name": "stderr"
        },
        {
          "output_type": "stream",
          "text": [
            "Saved.\n",
            "Moving image...\n",
            "Moved.\n",
            "Finished converting images\n",
            "Saving image...\n"
          ],
          "name": "stdout"
        },
        {
          "output_type": "stream",
          "text": [
            "WARNING:root:Lossy conversion from int16 to uint8. Range [-2048, 1561]. Convert image to uint8 prior to saving to suppress this warning.\n"
          ],
          "name": "stderr"
        },
        {
          "output_type": "stream",
          "text": [
            "Saved.\n",
            "Moving image...\n",
            "Moved.\n",
            "Finished converting images\n",
            "Saving image...\n"
          ],
          "name": "stdout"
        },
        {
          "output_type": "stream",
          "text": [
            "WARNING:root:Lossy conversion from int16 to uint8. Range [-2048, 1604]. Convert image to uint8 prior to saving to suppress this warning.\n"
          ],
          "name": "stderr"
        },
        {
          "output_type": "stream",
          "text": [
            "Saved.\n",
            "Moving image...\n",
            "Moved.\n",
            "Finished converting images\n",
            "Saving image...\n"
          ],
          "name": "stdout"
        },
        {
          "output_type": "stream",
          "text": [
            "WARNING:root:Lossy conversion from int16 to uint8. Range [-2048, 1596]. Convert image to uint8 prior to saving to suppress this warning.\n"
          ],
          "name": "stderr"
        },
        {
          "output_type": "stream",
          "text": [
            "Saved.\n",
            "Moving image...\n",
            "Moved.\n",
            "Finished converting images\n",
            "Saving image...\n"
          ],
          "name": "stdout"
        },
        {
          "output_type": "stream",
          "text": [
            "WARNING:root:Lossy conversion from int16 to uint8. Range [-2048, 1662]. Convert image to uint8 prior to saving to suppress this warning.\n"
          ],
          "name": "stderr"
        },
        {
          "output_type": "stream",
          "text": [
            "Saved.\n",
            "Moving image...\n",
            "Moved.\n",
            "Finished converting images\n",
            "Saving image...\n"
          ],
          "name": "stdout"
        },
        {
          "output_type": "stream",
          "text": [
            "WARNING:root:Lossy conversion from int16 to uint8. Range [-2048, 1642]. Convert image to uint8 prior to saving to suppress this warning.\n"
          ],
          "name": "stderr"
        },
        {
          "output_type": "stream",
          "text": [
            "Saved.\n",
            "Moving image...\n",
            "Moved.\n",
            "Finished converting images\n",
            "Saving image...\n"
          ],
          "name": "stdout"
        },
        {
          "output_type": "stream",
          "text": [
            "WARNING:root:Lossy conversion from int16 to uint8. Range [-2048, 1674]. Convert image to uint8 prior to saving to suppress this warning.\n"
          ],
          "name": "stderr"
        },
        {
          "output_type": "stream",
          "text": [
            "Saved.\n",
            "Moving image...\n",
            "Moved.\n",
            "Finished converting images\n",
            "Saving image...\n",
            "Saved.\n",
            "Moving image...\n",
            "Moved.\n",
            "Finished converting images\n",
            "study_0252\n",
            "3\n"
          ],
          "name": "stdout"
        },
        {
          "output_type": "stream",
          "text": [
            "WARNING:root:Lossy conversion from int16 to uint8. Range [-2048, 1264]. Convert image to uint8 prior to saving to suppress this warning.\n",
            "WARNING:root:Lossy conversion from int16 to uint8. Range [-2048, 1049]. Convert image to uint8 prior to saving to suppress this warning.\n"
          ],
          "name": "stderr"
        },
        {
          "output_type": "stream",
          "text": [
            "Created ouput directory: /content/drive/MyDrive/Radiology_workshop_monjoy/save_pngs_path/Normal//study_0252\n",
            "38\n",
            "Saving image...\n",
            "Saved.\n",
            "Moving image...\n",
            "Moved.\n",
            "Finished converting images\n",
            "Saving image...\n"
          ],
          "name": "stdout"
        },
        {
          "output_type": "stream",
          "text": [
            "WARNING:root:Lossy conversion from int16 to uint8. Range [-2048, 1374]. Convert image to uint8 prior to saving to suppress this warning.\n",
            "WARNING:root:Lossy conversion from int16 to uint8. Range [-2048, 1098]. Convert image to uint8 prior to saving to suppress this warning.\n",
            "WARNING:root:Lossy conversion from int16 to uint8. Range [-2048, 1437]. Convert image to uint8 prior to saving to suppress this warning.\n"
          ],
          "name": "stderr"
        },
        {
          "output_type": "stream",
          "text": [
            "Saved.\n",
            "Moving image...\n",
            "Moved.\n",
            "Finished converting images\n",
            "Saving image...\n",
            "Saved.\n",
            "Moving image...\n",
            "Moved.\n",
            "Finished converting images\n",
            "Saving image...\n",
            "Saved.\n",
            "Moving image...\n",
            "Moved.\n",
            "Finished converting images\n",
            "Saving image...\n"
          ],
          "name": "stdout"
        },
        {
          "output_type": "stream",
          "text": [
            "WARNING:root:Lossy conversion from int16 to uint8. Range [-2048, 1370]. Convert image to uint8 prior to saving to suppress this warning.\n",
            "WARNING:root:Lossy conversion from int16 to uint8. Range [-2048, 1276]. Convert image to uint8 prior to saving to suppress this warning.\n"
          ],
          "name": "stderr"
        },
        {
          "output_type": "stream",
          "text": [
            "Saved.\n",
            "Moving image...\n",
            "Moved.\n",
            "Finished converting images\n",
            "Saving image...\n",
            "Saved.\n",
            "Moving image...\n",
            "Moved.\n",
            "Finished converting images\n",
            "Saving image...\n"
          ],
          "name": "stdout"
        },
        {
          "output_type": "stream",
          "text": [
            "WARNING:root:Lossy conversion from int16 to uint8. Range [-2048, 1173]. Convert image to uint8 prior to saving to suppress this warning.\n",
            "WARNING:root:Lossy conversion from int16 to uint8. Range [-2048, 1327]. Convert image to uint8 prior to saving to suppress this warning.\n"
          ],
          "name": "stderr"
        },
        {
          "output_type": "stream",
          "text": [
            "Saved.\n",
            "Moving image...\n",
            "Moved.\n",
            "Finished converting images\n",
            "Saving image...\n",
            "Saved.\n",
            "Moving image...\n",
            "Moved.\n",
            "Finished converting images\n",
            "Saving image...\n"
          ],
          "name": "stdout"
        },
        {
          "output_type": "stream",
          "text": [
            "WARNING:root:Lossy conversion from int16 to uint8. Range [-2048, 1335]. Convert image to uint8 prior to saving to suppress this warning.\n",
            "WARNING:root:Lossy conversion from int16 to uint8. Range [-2048, 1430]. Convert image to uint8 prior to saving to suppress this warning.\n"
          ],
          "name": "stderr"
        },
        {
          "output_type": "stream",
          "text": [
            "Saved.\n",
            "Moving image...\n",
            "Moved.\n",
            "Finished converting images\n",
            "Saving image...\n",
            "Saved.\n",
            "Moving image...\n",
            "Moved.\n",
            "Finished converting images\n",
            "Saving image...\n"
          ],
          "name": "stdout"
        },
        {
          "output_type": "stream",
          "text": [
            "WARNING:root:Lossy conversion from int16 to uint8. Range [-2048, 1250]. Convert image to uint8 prior to saving to suppress this warning.\n"
          ],
          "name": "stderr"
        },
        {
          "output_type": "stream",
          "text": [
            "Saved.\n",
            "Moving image...\n",
            "Moved.\n",
            "Finished converting images\n",
            "Saving image...\n"
          ],
          "name": "stdout"
        },
        {
          "output_type": "stream",
          "text": [
            "WARNING:root:Lossy conversion from int16 to uint8. Range [-2048, 1421]. Convert image to uint8 prior to saving to suppress this warning.\n"
          ],
          "name": "stderr"
        },
        {
          "output_type": "stream",
          "text": [
            "Saved.\n",
            "Moving image...\n",
            "Moved.\n",
            "Finished converting images\n",
            "Saving image...\n"
          ],
          "name": "stdout"
        },
        {
          "output_type": "stream",
          "text": [
            "WARNING:root:Lossy conversion from int16 to uint8. Range [-2048, 1428]. Convert image to uint8 prior to saving to suppress this warning.\n"
          ],
          "name": "stderr"
        },
        {
          "output_type": "stream",
          "text": [
            "Saved.\n",
            "Moving image...\n",
            "Moved.\n",
            "Finished converting images\n",
            "Saving image...\n"
          ],
          "name": "stdout"
        },
        {
          "output_type": "stream",
          "text": [
            "WARNING:root:Lossy conversion from int16 to uint8. Range [-2048, 1226]. Convert image to uint8 prior to saving to suppress this warning.\n",
            "WARNING:root:Lossy conversion from int16 to uint8. Range [-2048, 1090]. Convert image to uint8 prior to saving to suppress this warning.\n"
          ],
          "name": "stderr"
        },
        {
          "output_type": "stream",
          "text": [
            "Saved.\n",
            "Moving image...\n",
            "Moved.\n",
            "Finished converting images\n",
            "Saving image...\n",
            "Saved.\n",
            "Moving image...\n",
            "Moved.\n",
            "Finished converting images\n",
            "Saving image...\n"
          ],
          "name": "stdout"
        },
        {
          "output_type": "stream",
          "text": [
            "WARNING:root:Lossy conversion from int16 to uint8. Range [-2048, 1453]. Convert image to uint8 prior to saving to suppress this warning.\n"
          ],
          "name": "stderr"
        },
        {
          "output_type": "stream",
          "text": [
            "Saved.\n",
            "Moving image...\n",
            "Moved.\n",
            "Finished converting images\n",
            "Saving image...\n"
          ],
          "name": "stdout"
        },
        {
          "output_type": "stream",
          "text": [
            "WARNING:root:Lossy conversion from int16 to uint8. Range [-2048, 1075]. Convert image to uint8 prior to saving to suppress this warning.\n",
            "WARNING:root:Lossy conversion from int16 to uint8. Range [-2048, 1413]. Convert image to uint8 prior to saving to suppress this warning.\n"
          ],
          "name": "stderr"
        },
        {
          "output_type": "stream",
          "text": [
            "Saved.\n",
            "Moving image...\n",
            "Moved.\n",
            "Finished converting images\n",
            "Saving image...\n",
            "Saved.\n",
            "Moving image...\n",
            "Moved.\n",
            "Finished converting images\n",
            "Saving image...\n"
          ],
          "name": "stdout"
        },
        {
          "output_type": "stream",
          "text": [
            "WARNING:root:Lossy conversion from int16 to uint8. Range [-2048, 1876]. Convert image to uint8 prior to saving to suppress this warning.\n"
          ],
          "name": "stderr"
        },
        {
          "output_type": "stream",
          "text": [
            "Saved.\n",
            "Moving image...\n",
            "Moved.\n",
            "Finished converting images\n",
            "Saving image...\n"
          ],
          "name": "stdout"
        },
        {
          "output_type": "stream",
          "text": [
            "WARNING:root:Lossy conversion from int16 to uint8. Range [-2048, 1170]. Convert image to uint8 prior to saving to suppress this warning.\n",
            "WARNING:root:Lossy conversion from int16 to uint8. Range [-2048, 1291]. Convert image to uint8 prior to saving to suppress this warning.\n"
          ],
          "name": "stderr"
        },
        {
          "output_type": "stream",
          "text": [
            "Saved.\n",
            "Moving image...\n",
            "Moved.\n",
            "Finished converting images\n",
            "Saving image...\n",
            "Saved.\n",
            "Moving image...\n",
            "Moved.\n",
            "Finished converting images\n",
            "Saving image...\n"
          ],
          "name": "stdout"
        },
        {
          "output_type": "stream",
          "text": [
            "WARNING:root:Lossy conversion from int16 to uint8. Range [-2048, 1180]. Convert image to uint8 prior to saving to suppress this warning.\n",
            "WARNING:root:Lossy conversion from int16 to uint8. Range [-2048, 1081]. Convert image to uint8 prior to saving to suppress this warning.\n"
          ],
          "name": "stderr"
        },
        {
          "output_type": "stream",
          "text": [
            "Saved.\n",
            "Moving image...\n",
            "Moved.\n",
            "Finished converting images\n",
            "Saving image...\n",
            "Saved.\n",
            "Moving image...\n",
            "Moved.\n",
            "Finished converting images\n",
            "Saving image...\n"
          ],
          "name": "stdout"
        },
        {
          "output_type": "stream",
          "text": [
            "WARNING:root:Lossy conversion from int16 to uint8. Range [-2048, 1166]. Convert image to uint8 prior to saving to suppress this warning.\n",
            "WARNING:root:Lossy conversion from int16 to uint8. Range [-2048, 1307]. Convert image to uint8 prior to saving to suppress this warning.\n"
          ],
          "name": "stderr"
        },
        {
          "output_type": "stream",
          "text": [
            "Saved.\n",
            "Moving image...\n",
            "Moved.\n",
            "Finished converting images\n",
            "Saving image...\n",
            "Saved.\n",
            "Moving image...\n",
            "Moved.\n",
            "Finished converting images\n",
            "Saving image...\n"
          ],
          "name": "stdout"
        },
        {
          "output_type": "stream",
          "text": [
            "WARNING:root:Lossy conversion from int16 to uint8. Range [-2048, 1509]. Convert image to uint8 prior to saving to suppress this warning.\n",
            "WARNING:root:Lossy conversion from int16 to uint8. Range [-2048, 1426]. Convert image to uint8 prior to saving to suppress this warning.\n"
          ],
          "name": "stderr"
        },
        {
          "output_type": "stream",
          "text": [
            "Saved.\n",
            "Moving image...\n",
            "Moved.\n",
            "Finished converting images\n",
            "Saving image...\n",
            "Saved.\n",
            "Moving image...\n",
            "Moved.\n",
            "Finished converting images\n",
            "Saving image...\n"
          ],
          "name": "stdout"
        },
        {
          "output_type": "stream",
          "text": [
            "WARNING:root:Lossy conversion from int16 to uint8. Range [-2048, 1400]. Convert image to uint8 prior to saving to suppress this warning.\n",
            "WARNING:root:Lossy conversion from int16 to uint8. Range [-2048, 1373]. Convert image to uint8 prior to saving to suppress this warning.\n"
          ],
          "name": "stderr"
        },
        {
          "output_type": "stream",
          "text": [
            "Saved.\n",
            "Moving image...\n",
            "Moved.\n",
            "Finished converting images\n",
            "Saving image...\n",
            "Saved.\n",
            "Moving image...\n",
            "Moved.\n",
            "Finished converting images\n",
            "Saving image...\n"
          ],
          "name": "stdout"
        },
        {
          "output_type": "stream",
          "text": [
            "WARNING:root:Lossy conversion from int16 to uint8. Range [-2048, 1399]. Convert image to uint8 prior to saving to suppress this warning.\n",
            "WARNING:root:Lossy conversion from int16 to uint8. Range [-2048, 1421]. Convert image to uint8 prior to saving to suppress this warning.\n"
          ],
          "name": "stderr"
        },
        {
          "output_type": "stream",
          "text": [
            "Saved.\n",
            "Moving image...\n",
            "Moved.\n",
            "Finished converting images\n",
            "Saving image...\n",
            "Saved.\n",
            "Moving image...\n",
            "Moved.\n",
            "Finished converting images\n",
            "Saving image...\n"
          ],
          "name": "stdout"
        },
        {
          "output_type": "stream",
          "text": [
            "WARNING:root:Lossy conversion from int16 to uint8. Range [-2048, 1369]. Convert image to uint8 prior to saving to suppress this warning.\n",
            "WARNING:root:Lossy conversion from int16 to uint8. Range [-2048, 1529]. Convert image to uint8 prior to saving to suppress this warning.\n"
          ],
          "name": "stderr"
        },
        {
          "output_type": "stream",
          "text": [
            "Saved.\n",
            "Moving image...\n",
            "Moved.\n",
            "Finished converting images\n",
            "Saving image...\n",
            "Saved.\n",
            "Moving image...\n",
            "Moved.\n",
            "Finished converting images\n",
            "Saving image...\n"
          ],
          "name": "stdout"
        },
        {
          "output_type": "stream",
          "text": [
            "WARNING:root:Lossy conversion from int16 to uint8. Range [-2048, 1580]. Convert image to uint8 prior to saving to suppress this warning.\n",
            "WARNING:root:Lossy conversion from int16 to uint8. Range [-2048, 1615]. Convert image to uint8 prior to saving to suppress this warning.\n"
          ],
          "name": "stderr"
        },
        {
          "output_type": "stream",
          "text": [
            "Saved.\n",
            "Moving image...\n",
            "Moved.\n",
            "Finished converting images\n",
            "Saving image...\n",
            "Saved.\n",
            "Moving image...\n",
            "Moved.\n",
            "Finished converting images\n",
            "Saving image...\n"
          ],
          "name": "stdout"
        },
        {
          "output_type": "stream",
          "text": [
            "WARNING:root:Lossy conversion from int16 to uint8. Range [-2048, 1579]. Convert image to uint8 prior to saving to suppress this warning.\n",
            "WARNING:root:Lossy conversion from int16 to uint8. Range [-2048, 1683]. Convert image to uint8 prior to saving to suppress this warning.\n"
          ],
          "name": "stderr"
        },
        {
          "output_type": "stream",
          "text": [
            "Saved.\n",
            "Moving image...\n",
            "Moved.\n",
            "Finished converting images\n",
            "Saving image...\n",
            "Saved.\n",
            "Moving image...\n",
            "Moved.\n",
            "Finished converting images\n",
            "Saving image...\n",
            "Saved.\n",
            "Moving image...\n",
            "Moved.\n",
            "Finished converting images\n",
            "study_0243\n"
          ],
          "name": "stdout"
        },
        {
          "output_type": "stream",
          "text": [
            "WARNING:root:Lossy conversion from int16 to uint8. Range [-2048, 1574]. Convert image to uint8 prior to saving to suppress this warning.\n",
            "WARNING:root:Lossy conversion from int16 to uint8. Range [-2048, 1389]. Convert image to uint8 prior to saving to suppress this warning.\n",
            "WARNING:root:Lossy conversion from int16 to uint8. Range [-2048, 1389]. Convert image to uint8 prior to saving to suppress this warning.\n"
          ],
          "name": "stderr"
        },
        {
          "output_type": "stream",
          "text": [
            "3\n",
            "Created ouput directory: /content/drive/MyDrive/Radiology_workshop_monjoy/save_pngs_path/Normal//study_0243\n",
            "45\n",
            "Saving image...\n",
            "Saved.\n",
            "Moving image...\n",
            "Moved.\n",
            "Finished converting images\n",
            "Saving image...\n",
            "Saved.\n",
            "Moving image...\n",
            "Moved.\n",
            "Finished converting images\n",
            "Saving image...\n"
          ],
          "name": "stdout"
        },
        {
          "output_type": "stream",
          "text": [
            "WARNING:root:Lossy conversion from int16 to uint8. Range [-2048, 1173]. Convert image to uint8 prior to saving to suppress this warning.\n",
            "WARNING:root:Lossy conversion from int16 to uint8. Range [-2048, 1385]. Convert image to uint8 prior to saving to suppress this warning.\n",
            "WARNING:root:Lossy conversion from int16 to uint8. Range [-2048, 1488]. Convert image to uint8 prior to saving to suppress this warning.\n"
          ],
          "name": "stderr"
        },
        {
          "output_type": "stream",
          "text": [
            "Saved.\n",
            "Moving image...\n",
            "Moved.\n",
            "Finished converting images\n",
            "Saving image...\n",
            "Saved.\n",
            "Moving image...\n",
            "Moved.\n",
            "Finished converting images\n",
            "Saving image...\n",
            "Saved.\n",
            "Moving image...\n",
            "Moved.\n",
            "Finished converting images\n",
            "Saving image...\n"
          ],
          "name": "stdout"
        },
        {
          "output_type": "stream",
          "text": [
            "WARNING:root:Lossy conversion from int16 to uint8. Range [-2048, 1418]. Convert image to uint8 prior to saving to suppress this warning.\n",
            "WARNING:root:Lossy conversion from int16 to uint8. Range [-2048, 1118]. Convert image to uint8 prior to saving to suppress this warning.\n"
          ],
          "name": "stderr"
        },
        {
          "output_type": "stream",
          "text": [
            "Saved.\n",
            "Moving image...\n",
            "Moved.\n",
            "Finished converting images\n",
            "Saving image...\n",
            "Saved.\n",
            "Moving image...\n",
            "Moved.\n",
            "Finished converting images\n",
            "Saving image...\n"
          ],
          "name": "stdout"
        },
        {
          "output_type": "stream",
          "text": [
            "WARNING:root:Lossy conversion from int16 to uint8. Range [-2048, 1243]. Convert image to uint8 prior to saving to suppress this warning.\n",
            "WARNING:root:Lossy conversion from int16 to uint8. Range [-2048, 1307]. Convert image to uint8 prior to saving to suppress this warning.\n"
          ],
          "name": "stderr"
        },
        {
          "output_type": "stream",
          "text": [
            "Saved.\n",
            "Moving image...\n",
            "Moved.\n",
            "Finished converting images\n",
            "Saving image...\n",
            "Saved.\n",
            "Moving image...\n",
            "Moved.\n",
            "Finished converting images\n",
            "Saving image...\n"
          ],
          "name": "stdout"
        },
        {
          "output_type": "stream",
          "text": [
            "WARNING:root:Lossy conversion from int16 to uint8. Range [-2048, 1347]. Convert image to uint8 prior to saving to suppress this warning.\n"
          ],
          "name": "stderr"
        },
        {
          "output_type": "stream",
          "text": [
            "Saved.\n",
            "Moving image...\n",
            "Moved.\n",
            "Finished converting images\n",
            "Saving image...\n"
          ],
          "name": "stdout"
        },
        {
          "output_type": "stream",
          "text": [
            "WARNING:root:Lossy conversion from int16 to uint8. Range [-2048, 1462]. Convert image to uint8 prior to saving to suppress this warning.\n"
          ],
          "name": "stderr"
        },
        {
          "output_type": "stream",
          "text": [
            "Saved.\n",
            "Moving image...\n",
            "Moved.\n",
            "Finished converting images\n",
            "Saving image...\n"
          ],
          "name": "stdout"
        },
        {
          "output_type": "stream",
          "text": [
            "WARNING:root:Lossy conversion from int16 to uint8. Range [-2048, 1250]. Convert image to uint8 prior to saving to suppress this warning.\n"
          ],
          "name": "stderr"
        },
        {
          "output_type": "stream",
          "text": [
            "Saved.\n",
            "Moving image...\n",
            "Moved.\n",
            "Finished converting images\n",
            "Saving image...\n"
          ],
          "name": "stdout"
        },
        {
          "output_type": "stream",
          "text": [
            "WARNING:root:Lossy conversion from int16 to uint8. Range [-2048, 1587]. Convert image to uint8 prior to saving to suppress this warning.\n"
          ],
          "name": "stderr"
        },
        {
          "output_type": "stream",
          "text": [
            "Saved.\n",
            "Moving image...\n",
            "Moved.\n",
            "Finished converting images\n",
            "Saving image...\n"
          ],
          "name": "stdout"
        },
        {
          "output_type": "stream",
          "text": [
            "WARNING:root:Lossy conversion from int16 to uint8. Range [-2048, 1381]. Convert image to uint8 prior to saving to suppress this warning.\n"
          ],
          "name": "stderr"
        },
        {
          "output_type": "stream",
          "text": [
            "Saved.\n",
            "Moving image...\n",
            "Moved.\n",
            "Finished converting images\n",
            "Saving image...\n"
          ],
          "name": "stdout"
        },
        {
          "output_type": "stream",
          "text": [
            "WARNING:root:Lossy conversion from int16 to uint8. Range [-2048, 1328]. Convert image to uint8 prior to saving to suppress this warning.\n",
            "WARNING:root:Lossy conversion from int16 to uint8. Range [-2048, 1364]. Convert image to uint8 prior to saving to suppress this warning.\n"
          ],
          "name": "stderr"
        },
        {
          "output_type": "stream",
          "text": [
            "Saved.\n",
            "Moving image...\n",
            "Moved.\n",
            "Finished converting images\n",
            "Saving image...\n",
            "Saved.\n",
            "Moving image...\n",
            "Moved.\n",
            "Finished converting images\n",
            "Saving image...\n"
          ],
          "name": "stdout"
        },
        {
          "output_type": "stream",
          "text": [
            "WARNING:root:Lossy conversion from int16 to uint8. Range [-2048, 1467]. Convert image to uint8 prior to saving to suppress this warning.\n",
            "WARNING:root:Lossy conversion from int16 to uint8. Range [-2048, 1380]. Convert image to uint8 prior to saving to suppress this warning.\n"
          ],
          "name": "stderr"
        },
        {
          "output_type": "stream",
          "text": [
            "Saved.\n",
            "Moving image...\n",
            "Moved.\n",
            "Finished converting images\n",
            "Saving image...\n",
            "Saved.\n",
            "Moving image...\n",
            "Moved.\n",
            "Finished converting images\n",
            "Saving image...\n"
          ],
          "name": "stdout"
        },
        {
          "output_type": "stream",
          "text": [
            "WARNING:root:Lossy conversion from int16 to uint8. Range [-2048, 1302]. Convert image to uint8 prior to saving to suppress this warning.\n"
          ],
          "name": "stderr"
        },
        {
          "output_type": "stream",
          "text": [
            "Saved.\n",
            "Moving image...\n",
            "Moved.\n",
            "Finished converting images\n",
            "Saving image...\n",
            "Saved.\n",
            "Moving image...\n",
            "Moved.\n",
            "Finished converting images\n",
            "Saving image...\n"
          ],
          "name": "stdout"
        },
        {
          "output_type": "stream",
          "text": [
            "WARNING:root:Lossy conversion from int16 to uint8. Range [-2048, 1665]. Convert image to uint8 prior to saving to suppress this warning.\n",
            "WARNING:root:Lossy conversion from int16 to uint8. Range [-2048, 1415]. Convert image to uint8 prior to saving to suppress this warning.\n",
            "WARNING:root:Lossy conversion from int16 to uint8. Range [-2048, 1473]. Convert image to uint8 prior to saving to suppress this warning.\n"
          ],
          "name": "stderr"
        },
        {
          "output_type": "stream",
          "text": [
            "Saved.\n",
            "Moving image...\n",
            "Moved.\n",
            "Finished converting images\n",
            "Saving image...\n",
            "Saved.\n",
            "Moving image...\n",
            "Moved.\n",
            "Finished converting images\n",
            "Saving image...\n"
          ],
          "name": "stdout"
        },
        {
          "output_type": "stream",
          "text": [
            "WARNING:root:Lossy conversion from int16 to uint8. Range [-2048, 1312]. Convert image to uint8 prior to saving to suppress this warning.\n",
            "WARNING:root:Lossy conversion from int16 to uint8. Range [-2048, 1369]. Convert image to uint8 prior to saving to suppress this warning.\n"
          ],
          "name": "stderr"
        },
        {
          "output_type": "stream",
          "text": [
            "Saved.\n",
            "Moving image...\n",
            "Moved.\n",
            "Finished converting images\n",
            "Saving image...\n",
            "Saved.\n",
            "Moving image...\n",
            "Moved.\n",
            "Finished converting images\n",
            "Saving image...\n"
          ],
          "name": "stdout"
        },
        {
          "output_type": "stream",
          "text": [
            "WARNING:root:Lossy conversion from int16 to uint8. Range [-2048, 1509]. Convert image to uint8 prior to saving to suppress this warning.\n",
            "WARNING:root:Lossy conversion from int16 to uint8. Range [-2048, 1256]. Convert image to uint8 prior to saving to suppress this warning.\n"
          ],
          "name": "stderr"
        },
        {
          "output_type": "stream",
          "text": [
            "Saved.\n",
            "Moving image...\n",
            "Moved.\n",
            "Finished converting images\n",
            "Saving image...\n",
            "Saved.\n",
            "Moving image...\n",
            "Moved.\n",
            "Finished converting images\n",
            "Saving image...\n"
          ],
          "name": "stdout"
        },
        {
          "output_type": "stream",
          "text": [
            "WARNING:root:Lossy conversion from int16 to uint8. Range [-2048, 1370]. Convert image to uint8 prior to saving to suppress this warning.\n",
            "WARNING:root:Lossy conversion from int16 to uint8. Range [-2048, 1295]. Convert image to uint8 prior to saving to suppress this warning.\n"
          ],
          "name": "stderr"
        },
        {
          "output_type": "stream",
          "text": [
            "Saved.\n",
            "Moving image...\n",
            "Moved.\n",
            "Finished converting images\n",
            "Saving image...\n",
            "Saved.\n",
            "Moving image...\n",
            "Moved.\n",
            "Finished converting images\n",
            "Saving image...\n"
          ],
          "name": "stdout"
        },
        {
          "output_type": "stream",
          "text": [
            "WARNING:root:Lossy conversion from int16 to uint8. Range [-2048, 1321]. Convert image to uint8 prior to saving to suppress this warning.\n",
            "WARNING:root:Lossy conversion from int16 to uint8. Range [-2048, 1270]. Convert image to uint8 prior to saving to suppress this warning.\n"
          ],
          "name": "stderr"
        },
        {
          "output_type": "stream",
          "text": [
            "Saved.\n",
            "Moving image...\n",
            "Moved.\n",
            "Finished converting images\n",
            "Saving image...\n",
            "Saved.\n",
            "Moving image...\n",
            "Moved.\n",
            "Finished converting images\n",
            "Saving image...\n"
          ],
          "name": "stdout"
        },
        {
          "output_type": "stream",
          "text": [
            "WARNING:root:Lossy conversion from int16 to uint8. Range [-2048, 1449]. Convert image to uint8 prior to saving to suppress this warning.\n"
          ],
          "name": "stderr"
        },
        {
          "output_type": "stream",
          "text": [
            "Saved.\n",
            "Moving image...\n",
            "Moved.\n",
            "Finished converting images\n",
            "Saving image...\n",
            "Saved.\n",
            "Moving image...\n",
            "Moved.\n",
            "Finished converting images\n",
            "Saving image...\n"
          ],
          "name": "stdout"
        },
        {
          "output_type": "stream",
          "text": [
            "WARNING:root:Lossy conversion from int16 to uint8. Range [-2048, 1345]. Convert image to uint8 prior to saving to suppress this warning.\n",
            "WARNING:root:Lossy conversion from int16 to uint8. Range [-2048, 1555]. Convert image to uint8 prior to saving to suppress this warning.\n",
            "WARNING:root:Lossy conversion from int16 to uint8. Range [-2048, 1602]. Convert image to uint8 prior to saving to suppress this warning.\n"
          ],
          "name": "stderr"
        },
        {
          "output_type": "stream",
          "text": [
            "Saved.\n",
            "Moving image...\n",
            "Moved.\n",
            "Finished converting images\n",
            "Saving image...\n",
            "Saved.\n",
            "Moving image...\n",
            "Moved.\n",
            "Finished converting images\n",
            "Saving image...\n"
          ],
          "name": "stdout"
        },
        {
          "output_type": "stream",
          "text": [
            "WARNING:root:Lossy conversion from int16 to uint8. Range [-2048, 1579]. Convert image to uint8 prior to saving to suppress this warning.\n",
            "WARNING:root:Lossy conversion from int16 to uint8. Range [-2048, 1564]. Convert image to uint8 prior to saving to suppress this warning.\n"
          ],
          "name": "stderr"
        },
        {
          "output_type": "stream",
          "text": [
            "Saved.\n",
            "Moving image...\n",
            "Moved.\n",
            "Finished converting images\n",
            "Saving image...\n",
            "Saved.\n",
            "Moving image...\n",
            "Moved.\n",
            "Finished converting images\n",
            "Saving image...\n"
          ],
          "name": "stdout"
        },
        {
          "output_type": "stream",
          "text": [
            "WARNING:root:Lossy conversion from int16 to uint8. Range [-2048, 1464]. Convert image to uint8 prior to saving to suppress this warning.\n",
            "WARNING:root:Lossy conversion from int16 to uint8. Range [-2048, 1457]. Convert image to uint8 prior to saving to suppress this warning.\n"
          ],
          "name": "stderr"
        },
        {
          "output_type": "stream",
          "text": [
            "Saved.\n",
            "Moving image...\n",
            "Moved.\n",
            "Finished converting images\n",
            "Saving image...\n",
            "Saved.\n",
            "Moving image...\n",
            "Moved.\n",
            "Finished converting images\n",
            "Saving image...\n"
          ],
          "name": "stdout"
        },
        {
          "output_type": "stream",
          "text": [
            "WARNING:root:Lossy conversion from int16 to uint8. Range [-2048, 1570]. Convert image to uint8 prior to saving to suppress this warning.\n",
            "WARNING:root:Lossy conversion from int16 to uint8. Range [-2048, 1830]. Convert image to uint8 prior to saving to suppress this warning.\n"
          ],
          "name": "stderr"
        },
        {
          "output_type": "stream",
          "text": [
            "Saved.\n",
            "Moving image...\n",
            "Moved.\n",
            "Finished converting images\n",
            "Saving image...\n",
            "Saved.\n",
            "Moving image...\n",
            "Moved.\n",
            "Finished converting images\n",
            "Saving image...\n"
          ],
          "name": "stdout"
        },
        {
          "output_type": "stream",
          "text": [
            "WARNING:root:Lossy conversion from int16 to uint8. Range [-2048, 1656]. Convert image to uint8 prior to saving to suppress this warning.\n",
            "WARNING:root:Lossy conversion from int16 to uint8. Range [-2048, 1797]. Convert image to uint8 prior to saving to suppress this warning.\n"
          ],
          "name": "stderr"
        },
        {
          "output_type": "stream",
          "text": [
            "Saved.\n",
            "Moving image...\n",
            "Moved.\n",
            "Finished converting images\n",
            "Saving image...\n",
            "Saved.\n",
            "Moving image...\n",
            "Moved.\n",
            "Finished converting images\n",
            "Saving image...\n"
          ],
          "name": "stdout"
        },
        {
          "output_type": "stream",
          "text": [
            "WARNING:root:Lossy conversion from int16 to uint8. Range [-2048, 1774]. Convert image to uint8 prior to saving to suppress this warning.\n"
          ],
          "name": "stderr"
        },
        {
          "output_type": "stream",
          "text": [
            "Saved.\n",
            "Moving image...\n",
            "Moved.\n",
            "Finished converting images\n",
            "Saving image...\n",
            "Saved.\n",
            "Moving image...\n",
            "Moved.\n",
            "Finished converting images\n",
            "Saving image...\n"
          ],
          "name": "stdout"
        },
        {
          "output_type": "stream",
          "text": [
            "WARNING:root:Lossy conversion from int16 to uint8. Range [-2048, 1798]. Convert image to uint8 prior to saving to suppress this warning.\n"
          ],
          "name": "stderr"
        },
        {
          "output_type": "stream",
          "text": [
            "Saved.\n",
            "Moving image...\n",
            "Moved.\n",
            "Finished converting images\n",
            "study_0235\n"
          ],
          "name": "stdout"
        },
        {
          "output_type": "stream",
          "text": [
            "WARNING:root:Lossy conversion from int16 to uint8. Range [-2048, 1481]. Convert image to uint8 prior to saving to suppress this warning.\n"
          ],
          "name": "stderr"
        },
        {
          "output_type": "stream",
          "text": [
            "3\n",
            "Created ouput directory: /content/drive/MyDrive/Radiology_workshop_monjoy/save_pngs_path/Normal//study_0235\n",
            "54\n",
            "Saving image...\n"
          ],
          "name": "stdout"
        },
        {
          "output_type": "stream",
          "text": [
            "WARNING:root:Lossy conversion from int16 to uint8. Range [-2048, 1430]. Convert image to uint8 prior to saving to suppress this warning.\n"
          ],
          "name": "stderr"
        },
        {
          "output_type": "stream",
          "text": [
            "Saved.\n",
            "Moving image...\n",
            "Moved.\n",
            "Finished converting images\n",
            "Saving image...\n"
          ],
          "name": "stdout"
        },
        {
          "output_type": "stream",
          "text": [
            "WARNING:root:Lossy conversion from int16 to uint8. Range [-2048, 1354]. Convert image to uint8 prior to saving to suppress this warning.\n"
          ],
          "name": "stderr"
        },
        {
          "output_type": "stream",
          "text": [
            "Saved.\n",
            "Moving image...\n",
            "Moved.\n",
            "Finished converting images\n",
            "Saving image...\n"
          ],
          "name": "stdout"
        },
        {
          "output_type": "stream",
          "text": [
            "WARNING:root:Lossy conversion from int16 to uint8. Range [-2048, 1390]. Convert image to uint8 prior to saving to suppress this warning.\n"
          ],
          "name": "stderr"
        },
        {
          "output_type": "stream",
          "text": [
            "Saved.\n",
            "Moving image...\n",
            "Moved.\n",
            "Finished converting images\n",
            "Saving image...\n"
          ],
          "name": "stdout"
        },
        {
          "output_type": "stream",
          "text": [
            "WARNING:root:Lossy conversion from int16 to uint8. Range [-2048, 1429]. Convert image to uint8 prior to saving to suppress this warning.\n"
          ],
          "name": "stderr"
        },
        {
          "output_type": "stream",
          "text": [
            "Saved.\n",
            "Moving image...\n",
            "Moved.\n",
            "Finished converting images\n",
            "Saving image...\n",
            "Saved.\n",
            "Moving image...\n",
            "Moved.\n",
            "Finished converting images\n",
            "Saving image...\n"
          ],
          "name": "stdout"
        },
        {
          "output_type": "stream",
          "text": [
            "WARNING:root:Lossy conversion from int16 to uint8. Range [-2048, 1428]. Convert image to uint8 prior to saving to suppress this warning.\n",
            "WARNING:root:Lossy conversion from int16 to uint8. Range [-2048, 1398]. Convert image to uint8 prior to saving to suppress this warning.\n",
            "WARNING:root:Lossy conversion from int16 to uint8. Range [-2048, 1412]. Convert image to uint8 prior to saving to suppress this warning.\n"
          ],
          "name": "stderr"
        },
        {
          "output_type": "stream",
          "text": [
            "Saved.\n",
            "Moving image...\n",
            "Moved.\n",
            "Finished converting images\n",
            "Saving image...\n",
            "Saved.\n",
            "Moving image...\n",
            "Moved.\n",
            "Finished converting images\n",
            "Saving image...\n"
          ],
          "name": "stdout"
        },
        {
          "output_type": "stream",
          "text": [
            "WARNING:root:Lossy conversion from int16 to uint8. Range [-2048, 1396]. Convert image to uint8 prior to saving to suppress this warning.\n",
            "WARNING:root:Lossy conversion from int16 to uint8. Range [-2048, 1393]. Convert image to uint8 prior to saving to suppress this warning.\n"
          ],
          "name": "stderr"
        },
        {
          "output_type": "stream",
          "text": [
            "Saved.\n",
            "Moving image...\n",
            "Moved.\n",
            "Finished converting images\n",
            "Saving image...\n",
            "Saved.\n",
            "Moving image...\n",
            "Moved.\n",
            "Finished converting images\n",
            "Saving image...\n"
          ],
          "name": "stdout"
        },
        {
          "output_type": "stream",
          "text": [
            "WARNING:root:Lossy conversion from int16 to uint8. Range [-2048, 1321]. Convert image to uint8 prior to saving to suppress this warning.\n",
            "WARNING:root:Lossy conversion from int16 to uint8. Range [-2048, 1309]. Convert image to uint8 prior to saving to suppress this warning.\n"
          ],
          "name": "stderr"
        },
        {
          "output_type": "stream",
          "text": [
            "Saved.\n",
            "Moving image...\n",
            "Moved.\n",
            "Finished converting images\n",
            "Saving image...\n",
            "Saved.\n",
            "Moving image...\n",
            "Moved.\n",
            "Finished converting images\n",
            "Saving image...\n"
          ],
          "name": "stdout"
        },
        {
          "output_type": "stream",
          "text": [
            "WARNING:root:Lossy conversion from int16 to uint8. Range [-2048, 1408]. Convert image to uint8 prior to saving to suppress this warning.\n"
          ],
          "name": "stderr"
        },
        {
          "output_type": "stream",
          "text": [
            "Saved.\n",
            "Moving image...\n",
            "Moved.\n",
            "Finished converting images\n",
            "Saving image...\n",
            "Saved.\n",
            "Moving image...\n",
            "Moved.\n",
            "Finished converting images\n",
            "Saving image...\n"
          ],
          "name": "stdout"
        },
        {
          "output_type": "stream",
          "text": [
            "WARNING:root:Lossy conversion from int16 to uint8. Range [-2048, 1430]. Convert image to uint8 prior to saving to suppress this warning.\n",
            "WARNING:root:Lossy conversion from int16 to uint8. Range [-2048, 1320]. Convert image to uint8 prior to saving to suppress this warning.\n"
          ],
          "name": "stderr"
        },
        {
          "output_type": "stream",
          "text": [
            "Saved.\n",
            "Moving image...\n",
            "Moved.\n",
            "Finished converting images\n",
            "Saving image...\n"
          ],
          "name": "stdout"
        },
        {
          "output_type": "stream",
          "text": [
            "WARNING:root:Lossy conversion from int16 to uint8. Range [-2048, 1355]. Convert image to uint8 prior to saving to suppress this warning.\n"
          ],
          "name": "stderr"
        },
        {
          "output_type": "stream",
          "text": [
            "Saved.\n",
            "Moving image...\n",
            "Moved.\n",
            "Finished converting images\n",
            "Saving image...\n"
          ],
          "name": "stdout"
        },
        {
          "output_type": "stream",
          "text": [
            "WARNING:root:Lossy conversion from int16 to uint8. Range [-2048, 1435]. Convert image to uint8 prior to saving to suppress this warning.\n"
          ],
          "name": "stderr"
        },
        {
          "output_type": "stream",
          "text": [
            "Saved.\n",
            "Moving image...\n",
            "Moved.\n",
            "Finished converting images\n",
            "Saving image...\n"
          ],
          "name": "stdout"
        },
        {
          "output_type": "stream",
          "text": [
            "WARNING:root:Lossy conversion from int16 to uint8. Range [-2048, 1515]. Convert image to uint8 prior to saving to suppress this warning.\n"
          ],
          "name": "stderr"
        },
        {
          "output_type": "stream",
          "text": [
            "Saved.\n",
            "Moving image...\n",
            "Moved.\n",
            "Finished converting images\n",
            "Saving image...\n"
          ],
          "name": "stdout"
        },
        {
          "output_type": "stream",
          "text": [
            "WARNING:root:Lossy conversion from int16 to uint8. Range [-2048, 1552]. Convert image to uint8 prior to saving to suppress this warning.\n"
          ],
          "name": "stderr"
        },
        {
          "output_type": "stream",
          "text": [
            "Saved.\n",
            "Moving image...\n",
            "Moved.\n",
            "Finished converting images\n",
            "Saving image...\n"
          ],
          "name": "stdout"
        },
        {
          "output_type": "stream",
          "text": [
            "WARNING:root:Lossy conversion from int16 to uint8. Range [-2048, 1440]. Convert image to uint8 prior to saving to suppress this warning.\n"
          ],
          "name": "stderr"
        },
        {
          "output_type": "stream",
          "text": [
            "Saved.\n",
            "Moving image...\n",
            "Moved.\n",
            "Finished converting images\n",
            "Saving image...\n"
          ],
          "name": "stdout"
        },
        {
          "output_type": "stream",
          "text": [
            "WARNING:root:Lossy conversion from int16 to uint8. Range [-2048, 1489]. Convert image to uint8 prior to saving to suppress this warning.\n"
          ],
          "name": "stderr"
        },
        {
          "output_type": "stream",
          "text": [
            "Saved.\n",
            "Moving image...\n",
            "Moved.\n",
            "Finished converting images\n",
            "Saving image...\n"
          ],
          "name": "stdout"
        },
        {
          "output_type": "stream",
          "text": [
            "WARNING:root:Lossy conversion from int16 to uint8. Range [-2048, 1477]. Convert image to uint8 prior to saving to suppress this warning.\n"
          ],
          "name": "stderr"
        },
        {
          "output_type": "stream",
          "text": [
            "Saved.\n",
            "Moving image...\n",
            "Moved.\n",
            "Finished converting images\n",
            "Saving image...\n"
          ],
          "name": "stdout"
        },
        {
          "output_type": "stream",
          "text": [
            "WARNING:root:Lossy conversion from int16 to uint8. Range [-2048, 1391]. Convert image to uint8 prior to saving to suppress this warning.\n"
          ],
          "name": "stderr"
        },
        {
          "output_type": "stream",
          "text": [
            "Saved.\n",
            "Moving image...\n",
            "Moved.\n",
            "Finished converting images\n",
            "Saving image...\n"
          ],
          "name": "stdout"
        },
        {
          "output_type": "stream",
          "text": [
            "WARNING:root:Lossy conversion from int16 to uint8. Range [-2048, 1523]. Convert image to uint8 prior to saving to suppress this warning.\n"
          ],
          "name": "stderr"
        },
        {
          "output_type": "stream",
          "text": [
            "Saved.\n",
            "Moving image...\n",
            "Moved.\n",
            "Finished converting images\n",
            "Saving image...\n"
          ],
          "name": "stdout"
        },
        {
          "output_type": "stream",
          "text": [
            "WARNING:root:Lossy conversion from int16 to uint8. Range [-2048, 1451]. Convert image to uint8 prior to saving to suppress this warning.\n"
          ],
          "name": "stderr"
        },
        {
          "output_type": "stream",
          "text": [
            "Saved.\n",
            "Moving image...\n",
            "Moved.\n",
            "Finished converting images\n",
            "Saving image...\n"
          ],
          "name": "stdout"
        },
        {
          "output_type": "stream",
          "text": [
            "WARNING:root:Lossy conversion from int16 to uint8. Range [-2048, 1506]. Convert image to uint8 prior to saving to suppress this warning.\n"
          ],
          "name": "stderr"
        },
        {
          "output_type": "stream",
          "text": [
            "Saved.\n",
            "Moving image...\n",
            "Moved.\n",
            "Finished converting images\n",
            "Saving image...\n"
          ],
          "name": "stdout"
        },
        {
          "output_type": "stream",
          "text": [
            "WARNING:root:Lossy conversion from int16 to uint8. Range [-2048, 1461]. Convert image to uint8 prior to saving to suppress this warning.\n"
          ],
          "name": "stderr"
        },
        {
          "output_type": "stream",
          "text": [
            "Saved.\n",
            "Moving image...\n",
            "Moved.\n",
            "Finished converting images\n",
            "Saving image...\n"
          ],
          "name": "stdout"
        },
        {
          "output_type": "stream",
          "text": [
            "WARNING:root:Lossy conversion from int16 to uint8. Range [-2048, 1483]. Convert image to uint8 prior to saving to suppress this warning.\n"
          ],
          "name": "stderr"
        },
        {
          "output_type": "stream",
          "text": [
            "Saved.\n",
            "Moving image...\n",
            "Moved.\n",
            "Finished converting images\n",
            "Saving image...\n"
          ],
          "name": "stdout"
        },
        {
          "output_type": "stream",
          "text": [
            "WARNING:root:Lossy conversion from int16 to uint8. Range [-2048, 1464]. Convert image to uint8 prior to saving to suppress this warning.\n"
          ],
          "name": "stderr"
        },
        {
          "output_type": "stream",
          "text": [
            "Saved.\n",
            "Moving image...\n",
            "Moved.\n",
            "Finished converting images\n",
            "Saving image...\n"
          ],
          "name": "stdout"
        },
        {
          "output_type": "stream",
          "text": [
            "WARNING:root:Lossy conversion from int16 to uint8. Range [-2048, 1438]. Convert image to uint8 prior to saving to suppress this warning.\n"
          ],
          "name": "stderr"
        },
        {
          "output_type": "stream",
          "text": [
            "Saved.\n",
            "Moving image...\n",
            "Moved.\n",
            "Finished converting images\n",
            "Saving image...\n"
          ],
          "name": "stdout"
        },
        {
          "output_type": "stream",
          "text": [
            "WARNING:root:Lossy conversion from int16 to uint8. Range [-2048, 1523]. Convert image to uint8 prior to saving to suppress this warning.\n"
          ],
          "name": "stderr"
        },
        {
          "output_type": "stream",
          "text": [
            "Saved.\n",
            "Moving image...\n",
            "Moved.\n",
            "Finished converting images\n",
            "Saving image...\n"
          ],
          "name": "stdout"
        },
        {
          "output_type": "stream",
          "text": [
            "WARNING:root:Lossy conversion from int16 to uint8. Range [-2048, 1560]. Convert image to uint8 prior to saving to suppress this warning.\n"
          ],
          "name": "stderr"
        },
        {
          "output_type": "stream",
          "text": [
            "Saved.\n",
            "Moving image...\n",
            "Moved.\n",
            "Finished converting images\n",
            "Saving image...\n"
          ],
          "name": "stdout"
        },
        {
          "output_type": "stream",
          "text": [
            "WARNING:root:Lossy conversion from int16 to uint8. Range [-2048, 1479]. Convert image to uint8 prior to saving to suppress this warning.\n",
            "WARNING:root:Lossy conversion from int16 to uint8. Range [-2048, 1378]. Convert image to uint8 prior to saving to suppress this warning.\n"
          ],
          "name": "stderr"
        },
        {
          "output_type": "stream",
          "text": [
            "Saved.\n",
            "Moving image...\n",
            "Moved.\n",
            "Finished converting images\n",
            "Saving image...\n",
            "Saved.\n",
            "Moving image...\n",
            "Moved.\n",
            "Finished converting images\n",
            "Saving image...\n"
          ],
          "name": "stdout"
        },
        {
          "output_type": "stream",
          "text": [
            "WARNING:root:Lossy conversion from int16 to uint8. Range [-2048, 1456]. Convert image to uint8 prior to saving to suppress this warning.\n"
          ],
          "name": "stderr"
        },
        {
          "output_type": "stream",
          "text": [
            "Saved.\n",
            "Moving image...\n",
            "Moved.\n",
            "Finished converting images\n",
            "Saving image...\n"
          ],
          "name": "stdout"
        },
        {
          "output_type": "stream",
          "text": [
            "WARNING:root:Lossy conversion from int16 to uint8. Range [-2048, 1415]. Convert image to uint8 prior to saving to suppress this warning.\n"
          ],
          "name": "stderr"
        },
        {
          "output_type": "stream",
          "text": [
            "Saved.\n",
            "Moving image...\n",
            "Moved.\n",
            "Finished converting images\n",
            "Saving image...\n",
            "Saved.\n",
            "Moving image...\n",
            "Moved.\n",
            "Finished converting images\n",
            "Saving image...\n"
          ],
          "name": "stdout"
        },
        {
          "output_type": "stream",
          "text": [
            "WARNING:root:Lossy conversion from int16 to uint8. Range [-2048, 1433]. Convert image to uint8 prior to saving to suppress this warning.\n",
            "WARNING:root:Lossy conversion from int16 to uint8. Range [-2048, 1530]. Convert image to uint8 prior to saving to suppress this warning.\n"
          ],
          "name": "stderr"
        },
        {
          "output_type": "stream",
          "text": [
            "Saved.\n",
            "Moving image...\n",
            "Moved.\n",
            "Finished converting images\n",
            "Saving image...\n",
            "Saved.\n",
            "Moving image...\n",
            "Moved.\n",
            "Finished converting images\n",
            "Saving image...\n"
          ],
          "name": "stdout"
        },
        {
          "output_type": "stream",
          "text": [
            "WARNING:root:Lossy conversion from int16 to uint8. Range [-2048, 1541]. Convert image to uint8 prior to saving to suppress this warning.\n",
            "WARNING:root:Lossy conversion from int16 to uint8. Range [-2048, 1586]. Convert image to uint8 prior to saving to suppress this warning.\n"
          ],
          "name": "stderr"
        },
        {
          "output_type": "stream",
          "text": [
            "Saved.\n",
            "Moving image...\n",
            "Moved.\n",
            "Finished converting images\n",
            "Saving image...\n"
          ],
          "name": "stdout"
        },
        {
          "output_type": "stream",
          "text": [
            "WARNING:root:Lossy conversion from int16 to uint8. Range [-2048, 1502]. Convert image to uint8 prior to saving to suppress this warning.\n"
          ],
          "name": "stderr"
        },
        {
          "output_type": "stream",
          "text": [
            "Saved.\n",
            "Moving image...\n",
            "Moved.\n",
            "Finished converting images\n",
            "Saving image...\n"
          ],
          "name": "stdout"
        },
        {
          "output_type": "stream",
          "text": [
            "WARNING:root:Lossy conversion from int16 to uint8. Range [-2048, 1543]. Convert image to uint8 prior to saving to suppress this warning.\n",
            "WARNING:root:Lossy conversion from int16 to uint8. Range [-2048, 1516]. Convert image to uint8 prior to saving to suppress this warning.\n"
          ],
          "name": "stderr"
        },
        {
          "output_type": "stream",
          "text": [
            "Saved.\n",
            "Moving image...\n",
            "Moved.\n",
            "Finished converting images\n",
            "Saving image...\n",
            "Saved.\n",
            "Moving image...\n",
            "Moved.\n",
            "Finished converting images\n",
            "Saving image...\n"
          ],
          "name": "stdout"
        },
        {
          "output_type": "stream",
          "text": [
            "WARNING:root:Lossy conversion from int16 to uint8. Range [-2048, 1482]. Convert image to uint8 prior to saving to suppress this warning.\n",
            "WARNING:root:Lossy conversion from int16 to uint8. Range [-2048, 1468]. Convert image to uint8 prior to saving to suppress this warning.\n"
          ],
          "name": "stderr"
        },
        {
          "output_type": "stream",
          "text": [
            "Saved.\n",
            "Moving image...\n",
            "Moved.\n",
            "Finished converting images\n",
            "Saving image...\n",
            "Saved.\n",
            "Moving image...\n",
            "Moved.\n",
            "Finished converting images\n",
            "Saving image...\n"
          ],
          "name": "stdout"
        },
        {
          "output_type": "stream",
          "text": [
            "WARNING:root:Lossy conversion from int16 to uint8. Range [-2048, 1519]. Convert image to uint8 prior to saving to suppress this warning.\n",
            "WARNING:root:Lossy conversion from int16 to uint8. Range [-2048, 1604]. Convert image to uint8 prior to saving to suppress this warning.\n"
          ],
          "name": "stderr"
        },
        {
          "output_type": "stream",
          "text": [
            "Saved.\n",
            "Moving image...\n",
            "Moved.\n",
            "Finished converting images\n",
            "Saving image...\n",
            "Saved.\n",
            "Moving image...\n",
            "Moved.\n",
            "Finished converting images\n",
            "Saving image...\n"
          ],
          "name": "stdout"
        },
        {
          "output_type": "stream",
          "text": [
            "WARNING:root:Lossy conversion from int16 to uint8. Range [-2048, 1545]. Convert image to uint8 prior to saving to suppress this warning.\n",
            "WARNING:root:Lossy conversion from int16 to uint8. Range [-2048, 1630]. Convert image to uint8 prior to saving to suppress this warning.\n"
          ],
          "name": "stderr"
        },
        {
          "output_type": "stream",
          "text": [
            "Saved.\n",
            "Moving image...\n",
            "Moved.\n",
            "Finished converting images\n",
            "Saving image...\n",
            "Saved.\n",
            "Moving image...\n",
            "Moved.\n",
            "Finished converting images\n",
            "Saving image...\n"
          ],
          "name": "stdout"
        },
        {
          "output_type": "stream",
          "text": [
            "WARNING:root:Lossy conversion from int16 to uint8. Range [-2048, 1675]. Convert image to uint8 prior to saving to suppress this warning.\n"
          ],
          "name": "stderr"
        },
        {
          "output_type": "stream",
          "text": [
            "Saved.\n",
            "Moving image...\n",
            "Moved.\n",
            "Finished converting images\n",
            "Saving image...\n",
            "Saved.\n",
            "Moving image...\n",
            "Moved.\n",
            "Finished converting images\n",
            "Saving image...\n"
          ],
          "name": "stdout"
        },
        {
          "output_type": "stream",
          "text": [
            "WARNING:root:Lossy conversion from int16 to uint8. Range [-2048, 1692]. Convert image to uint8 prior to saving to suppress this warning.\n",
            "WARNING:root:Lossy conversion from int16 to uint8. Range [-2048, 1610]. Convert image to uint8 prior to saving to suppress this warning.\n"
          ],
          "name": "stderr"
        },
        {
          "output_type": "stream",
          "text": [
            "Saved.\n",
            "Moving image...\n",
            "Moved.\n",
            "Finished converting images\n",
            "Saving image...\n"
          ],
          "name": "stdout"
        },
        {
          "output_type": "stream",
          "text": [
            "WARNING:root:Lossy conversion from int16 to uint8. Range [-2048, 1673]. Convert image to uint8 prior to saving to suppress this warning.\n"
          ],
          "name": "stderr"
        },
        {
          "output_type": "stream",
          "text": [
            "Saved.\n",
            "Moving image...\n",
            "Moved.\n",
            "Finished converting images\n",
            "Saving image...\n"
          ],
          "name": "stdout"
        },
        {
          "output_type": "stream",
          "text": [
            "WARNING:root:Lossy conversion from int16 to uint8. Range [-2048, 1660]. Convert image to uint8 prior to saving to suppress this warning.\n"
          ],
          "name": "stderr"
        },
        {
          "output_type": "stream",
          "text": [
            "Saved.\n",
            "Moving image...\n",
            "Moved.\n",
            "Finished converting images\n",
            "Saving image...\n",
            "Saved.\n",
            "Moving image...\n",
            "Moved.\n",
            "Finished converting images\n",
            "study_0242\n"
          ],
          "name": "stdout"
        },
        {
          "output_type": "stream",
          "text": [
            "WARNING:root:Lossy conversion from int16 to uint8. Range [-2048, 1547]. Convert image to uint8 prior to saving to suppress this warning.\n",
            "WARNING:root:Lossy conversion from int16 to uint8. Range [-2048, 1457]. Convert image to uint8 prior to saving to suppress this warning.\n"
          ],
          "name": "stderr"
        },
        {
          "output_type": "stream",
          "text": [
            "3\n",
            "Created ouput directory: /content/drive/MyDrive/Radiology_workshop_monjoy/save_pngs_path/Normal//study_0242\n",
            "36\n",
            "Saving image...\n",
            "Saved.\n",
            "Moving image...\n",
            "Moved.\n",
            "Finished converting images\n",
            "Saving image...\n"
          ],
          "name": "stdout"
        },
        {
          "output_type": "stream",
          "text": [
            "WARNING:root:Lossy conversion from int16 to uint8. Range [-2048, 1452]. Convert image to uint8 prior to saving to suppress this warning.\n",
            "WARNING:root:Lossy conversion from int16 to uint8. Range [-2048, 1566]. Convert image to uint8 prior to saving to suppress this warning.\n"
          ],
          "name": "stderr"
        },
        {
          "output_type": "stream",
          "text": [
            "Saved.\n",
            "Moving image...\n",
            "Moved.\n",
            "Finished converting images\n",
            "Saving image...\n",
            "Saved.\n",
            "Moving image...\n",
            "Moved.\n",
            "Finished converting images\n",
            "Saving image...\n"
          ],
          "name": "stdout"
        },
        {
          "output_type": "stream",
          "text": [
            "WARNING:root:Lossy conversion from int16 to uint8. Range [-2048, 1587]. Convert image to uint8 prior to saving to suppress this warning.\n",
            "WARNING:root:Lossy conversion from int16 to uint8. Range [-2048, 1578]. Convert image to uint8 prior to saving to suppress this warning.\n"
          ],
          "name": "stderr"
        },
        {
          "output_type": "stream",
          "text": [
            "Saved.\n",
            "Moving image...\n",
            "Moved.\n",
            "Finished converting images\n",
            "Saving image...\n",
            "Saved.\n",
            "Moving image...\n",
            "Moved.\n",
            "Finished converting images\n",
            "Saving image...\n"
          ],
          "name": "stdout"
        },
        {
          "output_type": "stream",
          "text": [
            "WARNING:root:Lossy conversion from int16 to uint8. Range [-2048, 1487]. Convert image to uint8 prior to saving to suppress this warning.\n",
            "WARNING:root:Lossy conversion from int16 to uint8. Range [-2048, 1838]. Convert image to uint8 prior to saving to suppress this warning.\n"
          ],
          "name": "stderr"
        },
        {
          "output_type": "stream",
          "text": [
            "Saved.\n",
            "Moving image...\n",
            "Moved.\n",
            "Finished converting images\n",
            "Saving image...\n",
            "Saved.\n",
            "Moving image...\n",
            "Moved.\n",
            "Finished converting images\n",
            "Saving image...\n"
          ],
          "name": "stdout"
        },
        {
          "output_type": "stream",
          "text": [
            "WARNING:root:Lossy conversion from int16 to uint8. Range [-2048, 1572]. Convert image to uint8 prior to saving to suppress this warning.\n",
            "WARNING:root:Lossy conversion from int16 to uint8. Range [-2048, 1436]. Convert image to uint8 prior to saving to suppress this warning.\n"
          ],
          "name": "stderr"
        },
        {
          "output_type": "stream",
          "text": [
            "Saved.\n",
            "Moving image...\n",
            "Moved.\n",
            "Finished converting images\n",
            "Saving image...\n",
            "Saved.\n",
            "Moving image...\n",
            "Moved.\n",
            "Finished converting images\n",
            "Saving image...\n"
          ],
          "name": "stdout"
        },
        {
          "output_type": "stream",
          "text": [
            "WARNING:root:Lossy conversion from int16 to uint8. Range [-2048, 2261]. Convert image to uint8 prior to saving to suppress this warning.\n",
            "WARNING:root:Lossy conversion from int16 to uint8. Range [-2048, 1570]. Convert image to uint8 prior to saving to suppress this warning.\n"
          ],
          "name": "stderr"
        },
        {
          "output_type": "stream",
          "text": [
            "Saved.\n",
            "Moving image...\n",
            "Moved.\n",
            "Finished converting images\n",
            "Saving image...\n",
            "Saved.\n",
            "Moving image...\n",
            "Moved.\n",
            "Finished converting images\n",
            "Saving image...\n"
          ],
          "name": "stdout"
        },
        {
          "output_type": "stream",
          "text": [
            "WARNING:root:Lossy conversion from int16 to uint8. Range [-2048, 1448]. Convert image to uint8 prior to saving to suppress this warning.\n",
            "WARNING:root:Lossy conversion from int16 to uint8. Range [-2048, 1639]. Convert image to uint8 prior to saving to suppress this warning.\n"
          ],
          "name": "stderr"
        },
        {
          "output_type": "stream",
          "text": [
            "Saved.\n",
            "Moving image...\n",
            "Moved.\n",
            "Finished converting images\n",
            "Saving image...\n",
            "Saved.\n",
            "Moving image...\n",
            "Moved.\n",
            "Finished converting images\n",
            "Saving image...\n"
          ],
          "name": "stdout"
        },
        {
          "output_type": "stream",
          "text": [
            "WARNING:root:Lossy conversion from int16 to uint8. Range [-2048, 1646]. Convert image to uint8 prior to saving to suppress this warning.\n"
          ],
          "name": "stderr"
        },
        {
          "output_type": "stream",
          "text": [
            "Saved.\n",
            "Moving image...\n",
            "Moved.\n",
            "Finished converting images\n",
            "Saving image...\n"
          ],
          "name": "stdout"
        },
        {
          "output_type": "stream",
          "text": [
            "WARNING:root:Lossy conversion from int16 to uint8. Range [-2048, 1538]. Convert image to uint8 prior to saving to suppress this warning.\n",
            "WARNING:root:Lossy conversion from int16 to uint8. Range [-2048, 1416]. Convert image to uint8 prior to saving to suppress this warning.\n"
          ],
          "name": "stderr"
        },
        {
          "output_type": "stream",
          "text": [
            "Saved.\n",
            "Moving image...\n",
            "Moved.\n",
            "Finished converting images\n",
            "Saving image...\n",
            "Saved.\n",
            "Moving image...\n",
            "Moved.\n",
            "Finished converting images\n",
            "Saving image...\n"
          ],
          "name": "stdout"
        },
        {
          "output_type": "stream",
          "text": [
            "WARNING:root:Lossy conversion from int16 to uint8. Range [-2048, 1365]. Convert image to uint8 prior to saving to suppress this warning.\n",
            "WARNING:root:Lossy conversion from int16 to uint8. Range [-2048, 1563]. Convert image to uint8 prior to saving to suppress this warning.\n"
          ],
          "name": "stderr"
        },
        {
          "output_type": "stream",
          "text": [
            "Saved.\n",
            "Moving image...\n",
            "Moved.\n",
            "Finished converting images\n",
            "Saving image...\n",
            "Saved.\n",
            "Moving image...\n",
            "Moved.\n",
            "Finished converting images\n",
            "Saving image...\n"
          ],
          "name": "stdout"
        },
        {
          "output_type": "stream",
          "text": [
            "WARNING:root:Lossy conversion from int16 to uint8. Range [-2048, 1429]. Convert image to uint8 prior to saving to suppress this warning.\n",
            "WARNING:root:Lossy conversion from int16 to uint8. Range [-2048, 1701]. Convert image to uint8 prior to saving to suppress this warning.\n"
          ],
          "name": "stderr"
        },
        {
          "output_type": "stream",
          "text": [
            "Saved.\n",
            "Moving image...\n",
            "Moved.\n",
            "Finished converting images\n",
            "Saving image...\n",
            "Saved.\n",
            "Moving image...\n",
            "Moved.\n",
            "Finished converting images\n",
            "Saving image...\n"
          ],
          "name": "stdout"
        },
        {
          "output_type": "stream",
          "text": [
            "WARNING:root:Lossy conversion from int16 to uint8. Range [-2048, 1485]. Convert image to uint8 prior to saving to suppress this warning.\n",
            "WARNING:root:Lossy conversion from int16 to uint8. Range [-2048, 1176]. Convert image to uint8 prior to saving to suppress this warning.\n"
          ],
          "name": "stderr"
        },
        {
          "output_type": "stream",
          "text": [
            "Saved.\n",
            "Moving image...\n",
            "Moved.\n",
            "Finished converting images\n",
            "Saving image...\n",
            "Saved.\n",
            "Moving image...\n",
            "Moved.\n",
            "Finished converting images\n",
            "Saving image...\n"
          ],
          "name": "stdout"
        },
        {
          "output_type": "stream",
          "text": [
            "WARNING:root:Lossy conversion from int16 to uint8. Range [-2048, 1538]. Convert image to uint8 prior to saving to suppress this warning.\n",
            "WARNING:root:Lossy conversion from int16 to uint8. Range [-2048, 1499]. Convert image to uint8 prior to saving to suppress this warning.\n"
          ],
          "name": "stderr"
        },
        {
          "output_type": "stream",
          "text": [
            "Saved.\n",
            "Moving image...\n",
            "Moved.\n",
            "Finished converting images\n",
            "Saving image...\n",
            "Saved.\n",
            "Moving image...\n",
            "Moved.\n",
            "Finished converting images\n",
            "Saving image...\n"
          ],
          "name": "stdout"
        },
        {
          "output_type": "stream",
          "text": [
            "WARNING:root:Lossy conversion from int16 to uint8. Range [-2048, 1636]. Convert image to uint8 prior to saving to suppress this warning.\n",
            "WARNING:root:Lossy conversion from int16 to uint8. Range [-2048, 1653]. Convert image to uint8 prior to saving to suppress this warning.\n"
          ],
          "name": "stderr"
        },
        {
          "output_type": "stream",
          "text": [
            "Saved.\n",
            "Moving image...\n",
            "Moved.\n",
            "Finished converting images\n",
            "Saving image...\n",
            "Saved.\n",
            "Moving image...\n",
            "Moved.\n",
            "Finished converting images\n",
            "Saving image...\n"
          ],
          "name": "stdout"
        },
        {
          "output_type": "stream",
          "text": [
            "WARNING:root:Lossy conversion from int16 to uint8. Range [-2048, 1727]. Convert image to uint8 prior to saving to suppress this warning.\n",
            "WARNING:root:Lossy conversion from int16 to uint8. Range [-2048, 1635]. Convert image to uint8 prior to saving to suppress this warning.\n"
          ],
          "name": "stderr"
        },
        {
          "output_type": "stream",
          "text": [
            "Saved.\n",
            "Moving image...\n",
            "Moved.\n",
            "Finished converting images\n",
            "Saving image...\n",
            "Saved.\n",
            "Moving image...\n",
            "Moved.\n",
            "Finished converting images\n",
            "Saving image...\n"
          ],
          "name": "stdout"
        },
        {
          "output_type": "stream",
          "text": [
            "WARNING:root:Lossy conversion from int16 to uint8. Range [-2048, 1550]. Convert image to uint8 prior to saving to suppress this warning.\n",
            "WARNING:root:Lossy conversion from int16 to uint8. Range [-2048, 1623]. Convert image to uint8 prior to saving to suppress this warning.\n"
          ],
          "name": "stderr"
        },
        {
          "output_type": "stream",
          "text": [
            "Saved.\n",
            "Moving image...\n",
            "Moved.\n",
            "Finished converting images\n",
            "Saving image...\n",
            "Saved.\n",
            "Moving image...\n",
            "Moved.\n",
            "Finished converting images\n",
            "Saving image...\n"
          ],
          "name": "stdout"
        },
        {
          "output_type": "stream",
          "text": [
            "WARNING:root:Lossy conversion from int16 to uint8. Range [-2048, 1645]. Convert image to uint8 prior to saving to suppress this warning.\n"
          ],
          "name": "stderr"
        },
        {
          "output_type": "stream",
          "text": [
            "Saved.\n",
            "Moving image...\n",
            "Moved.\n",
            "Finished converting images\n",
            "Saving image...\n",
            "Saved.\n",
            "Moving image...\n",
            "Moved.\n",
            "Finished converting images\n",
            "Saving image...\n"
          ],
          "name": "stdout"
        },
        {
          "output_type": "stream",
          "text": [
            "WARNING:root:Lossy conversion from int16 to uint8. Range [-2048, 1713]. Convert image to uint8 prior to saving to suppress this warning.\n",
            "WARNING:root:Lossy conversion from int16 to uint8. Range [-2048, 1643]. Convert image to uint8 prior to saving to suppress this warning.\n"
          ],
          "name": "stderr"
        },
        {
          "output_type": "stream",
          "text": [
            "Saved.\n",
            "Moving image...\n",
            "Moved.\n",
            "Finished converting images\n",
            "Saving image...\n"
          ],
          "name": "stdout"
        },
        {
          "output_type": "stream",
          "text": [
            "WARNING:root:Lossy conversion from int16 to uint8. Range [-2048, 1703]. Convert image to uint8 prior to saving to suppress this warning.\n",
            "WARNING:root:Lossy conversion from int16 to uint8. Range [-2048, 1600]. Convert image to uint8 prior to saving to suppress this warning.\n"
          ],
          "name": "stderr"
        },
        {
          "output_type": "stream",
          "text": [
            "Saved.\n",
            "Moving image...\n",
            "Moved.\n",
            "Finished converting images\n",
            "Saving image...\n",
            "Saved.\n",
            "Moving image...\n",
            "Moved.\n",
            "Finished converting images\n",
            "Saving image...\n",
            "Saved.\n",
            "Moving image...\n",
            "Moved.\n",
            "Finished converting images\n",
            "study_0237\n",
            "3\n",
            "Created ouput directory: /content/drive/MyDrive/Radiology_workshop_monjoy/save_pngs_path/Normal//study_0237\n",
            "35\n",
            "Saving image..."
          ],
          "name": "stdout"
        },
        {
          "output_type": "stream",
          "text": [
            "WARNING:root:Lossy conversion from int16 to uint8. Range [-2048, 1377]. Convert image to uint8 prior to saving to suppress this warning.\n"
          ],
          "name": "stderr"
        },
        {
          "output_type": "stream",
          "text": [
            "\n"
          ],
          "name": "stdout"
        },
        {
          "output_type": "stream",
          "text": [
            "WARNING:root:Lossy conversion from int16 to uint8. Range [-2048, 1439]. Convert image to uint8 prior to saving to suppress this warning.\n"
          ],
          "name": "stderr"
        },
        {
          "output_type": "stream",
          "text": [
            "Saved.\n",
            "Moving image...\n",
            "Moved.\n",
            "Finished converting images\n",
            "Saving image...\n"
          ],
          "name": "stdout"
        },
        {
          "output_type": "stream",
          "text": [
            "WARNING:root:Lossy conversion from int16 to uint8. Range [-2048, 1290]. Convert image to uint8 prior to saving to suppress this warning.\n",
            "WARNING:root:Lossy conversion from int16 to uint8. Range [-2048, 1348]. Convert image to uint8 prior to saving to suppress this warning.\n"
          ],
          "name": "stderr"
        },
        {
          "output_type": "stream",
          "text": [
            "Saved.\n",
            "Moving image...\n",
            "Moved.\n",
            "Finished converting images\n",
            "Saving image...\n",
            "Saved.\n",
            "Moving image...\n",
            "Moved.\n",
            "Finished converting images\n",
            "Saving image...\n"
          ],
          "name": "stdout"
        },
        {
          "output_type": "stream",
          "text": [
            "WARNING:root:Lossy conversion from int16 to uint8. Range [-2048, 1296]. Convert image to uint8 prior to saving to suppress this warning.\n"
          ],
          "name": "stderr"
        },
        {
          "output_type": "stream",
          "text": [
            "Saved.\n",
            "Moving image...\n",
            "Moved.\n",
            "Finished converting images\n",
            "Saving image...\n",
            "Saved.\n",
            "Moving image...\n",
            "Moved.\n",
            "Finished converting images\n",
            "Saving image...\n"
          ],
          "name": "stdout"
        },
        {
          "output_type": "stream",
          "text": [
            "WARNING:root:Lossy conversion from int16 to uint8. Range [-2048, 1349]. Convert image to uint8 prior to saving to suppress this warning.\n",
            "WARNING:root:Lossy conversion from int16 to uint8. Range [-2048, 1322]. Convert image to uint8 prior to saving to suppress this warning.\n"
          ],
          "name": "stderr"
        },
        {
          "output_type": "stream",
          "text": [
            "Saved.\n",
            "Moving image...\n",
            "Moved.\n",
            "Finished converting images\n",
            "Saving image...\n"
          ],
          "name": "stdout"
        },
        {
          "output_type": "stream",
          "text": [
            "WARNING:root:Lossy conversion from int16 to uint8. Range [-2048, 1356]. Convert image to uint8 prior to saving to suppress this warning.\n"
          ],
          "name": "stderr"
        },
        {
          "output_type": "stream",
          "text": [
            "Saved.\n",
            "Moving image...\n",
            "Moved.\n",
            "Finished converting images\n",
            "Saving image...\n"
          ],
          "name": "stdout"
        },
        {
          "output_type": "stream",
          "text": [
            "WARNING:root:Lossy conversion from int16 to uint8. Range [-2048, 1449]. Convert image to uint8 prior to saving to suppress this warning.\n",
            "WARNING:root:Lossy conversion from int16 to uint8. Range [-2048, 1522]. Convert image to uint8 prior to saving to suppress this warning.\n"
          ],
          "name": "stderr"
        },
        {
          "output_type": "stream",
          "text": [
            "Saved.\n",
            "Moving image...\n",
            "Moved.\n",
            "Finished converting images\n",
            "Saving image...\n",
            "Saved.\n",
            "Moving image...\n",
            "Moved.\n",
            "Finished converting images\n",
            "Saving image...\n"
          ],
          "name": "stdout"
        },
        {
          "output_type": "stream",
          "text": [
            "WARNING:root:Lossy conversion from int16 to uint8. Range [-2048, 1377]. Convert image to uint8 prior to saving to suppress this warning.\n"
          ],
          "name": "stderr"
        },
        {
          "output_type": "stream",
          "text": [
            "Saved.\n",
            "Moving image...\n",
            "Moved.\n",
            "Finished converting images\n",
            "Saving image...\n"
          ],
          "name": "stdout"
        },
        {
          "output_type": "stream",
          "text": [
            "WARNING:root:Lossy conversion from int16 to uint8. Range [-2048, 1342]. Convert image to uint8 prior to saving to suppress this warning.\n"
          ],
          "name": "stderr"
        },
        {
          "output_type": "stream",
          "text": [
            "Saved.\n",
            "Moving image...\n",
            "Moved.\n",
            "Finished converting images\n",
            "Saving image...\n"
          ],
          "name": "stdout"
        },
        {
          "output_type": "stream",
          "text": [
            "WARNING:root:Lossy conversion from int16 to uint8. Range [-2048, 1334]. Convert image to uint8 prior to saving to suppress this warning.\n"
          ],
          "name": "stderr"
        },
        {
          "output_type": "stream",
          "text": [
            "Saved.\n",
            "Moving image...\n",
            "Moved.\n",
            "Finished converting images\n",
            "Saving image...\n"
          ],
          "name": "stdout"
        },
        {
          "output_type": "stream",
          "text": [
            "WARNING:root:Lossy conversion from int16 to uint8. Range [-2048, 1396]. Convert image to uint8 prior to saving to suppress this warning.\n"
          ],
          "name": "stderr"
        },
        {
          "output_type": "stream",
          "text": [
            "Saved.\n",
            "Moving image...\n",
            "Moved.\n",
            "Finished converting images\n",
            "Saving image...\n"
          ],
          "name": "stdout"
        },
        {
          "output_type": "stream",
          "text": [
            "WARNING:root:Lossy conversion from int16 to uint8. Range [-2048, 1371]. Convert image to uint8 prior to saving to suppress this warning.\n"
          ],
          "name": "stderr"
        },
        {
          "output_type": "stream",
          "text": [
            "Saved.\n",
            "Moving image...\n",
            "Moved.\n",
            "Finished converting images\n",
            "Saving image...\n"
          ],
          "name": "stdout"
        },
        {
          "output_type": "stream",
          "text": [
            "WARNING:root:Lossy conversion from int16 to uint8. Range [-2048, 1517]. Convert image to uint8 prior to saving to suppress this warning.\n"
          ],
          "name": "stderr"
        },
        {
          "output_type": "stream",
          "text": [
            "Saved.\n",
            "Moving image...\n",
            "Moved.\n",
            "Finished converting images\n",
            "Saving image...\n"
          ],
          "name": "stdout"
        },
        {
          "output_type": "stream",
          "text": [
            "WARNING:root:Lossy conversion from int16 to uint8. Range [-2048, 1477]. Convert image to uint8 prior to saving to suppress this warning.\n"
          ],
          "name": "stderr"
        },
        {
          "output_type": "stream",
          "text": [
            "Saved.\n",
            "Moving image...\n",
            "Moved.\n",
            "Finished converting images\n",
            "Saving image...\n"
          ],
          "name": "stdout"
        },
        {
          "output_type": "stream",
          "text": [
            "WARNING:root:Lossy conversion from int16 to uint8. Range [-2048, 1240]. Convert image to uint8 prior to saving to suppress this warning.\n"
          ],
          "name": "stderr"
        },
        {
          "output_type": "stream",
          "text": [
            "Saved.\n",
            "Moving image...\n",
            "Moved.\n",
            "Finished converting images\n",
            "Saving image...\n"
          ],
          "name": "stdout"
        },
        {
          "output_type": "stream",
          "text": [
            "WARNING:root:Lossy conversion from int16 to uint8. Range [-2048, 1417]. Convert image to uint8 prior to saving to suppress this warning.\n"
          ],
          "name": "stderr"
        },
        {
          "output_type": "stream",
          "text": [
            "Saved.\n",
            "Moving image...\n",
            "Moved.\n",
            "Finished converting images\n",
            "Saving image...\n"
          ],
          "name": "stdout"
        },
        {
          "output_type": "stream",
          "text": [
            "WARNING:root:Lossy conversion from int16 to uint8. Range [-2048, 1389]. Convert image to uint8 prior to saving to suppress this warning.\n"
          ],
          "name": "stderr"
        },
        {
          "output_type": "stream",
          "text": [
            "Saved.\n",
            "Moving image...\n",
            "Moved.\n",
            "Finished converting images\n",
            "Saving image...\n"
          ],
          "name": "stdout"
        },
        {
          "output_type": "stream",
          "text": [
            "WARNING:root:Lossy conversion from int16 to uint8. Range [-2048, 1326]. Convert image to uint8 prior to saving to suppress this warning.\n"
          ],
          "name": "stderr"
        },
        {
          "output_type": "stream",
          "text": [
            "Saved.\n",
            "Moving image...\n",
            "Moved.\n",
            "Finished converting images\n",
            "Saving image...\n"
          ],
          "name": "stdout"
        },
        {
          "output_type": "stream",
          "text": [
            "WARNING:root:Lossy conversion from int16 to uint8. Range [-2048, 1382]. Convert image to uint8 prior to saving to suppress this warning.\n"
          ],
          "name": "stderr"
        },
        {
          "output_type": "stream",
          "text": [
            "Saved.\n",
            "Moving image...\n",
            "Moved.\n",
            "Finished converting images\n",
            "Saving image...\n"
          ],
          "name": "stdout"
        },
        {
          "output_type": "stream",
          "text": [
            "WARNING:root:Lossy conversion from int16 to uint8. Range [-2048, 1426]. Convert image to uint8 prior to saving to suppress this warning.\n"
          ],
          "name": "stderr"
        },
        {
          "output_type": "stream",
          "text": [
            "Saved.\n",
            "Moving image...\n",
            "Moved.\n",
            "Finished converting images\n",
            "Saving image...\n"
          ],
          "name": "stdout"
        },
        {
          "output_type": "stream",
          "text": [
            "WARNING:root:Lossy conversion from int16 to uint8. Range [-2048, 1458]. Convert image to uint8 prior to saving to suppress this warning.\n"
          ],
          "name": "stderr"
        },
        {
          "output_type": "stream",
          "text": [
            "Saved.\n",
            "Moving image...\n",
            "Moved.\n",
            "Finished converting images\n",
            "Saving image...\n"
          ],
          "name": "stdout"
        },
        {
          "output_type": "stream",
          "text": [
            "WARNING:root:Lossy conversion from int16 to uint8. Range [-2048, 1519]. Convert image to uint8 prior to saving to suppress this warning.\n"
          ],
          "name": "stderr"
        },
        {
          "output_type": "stream",
          "text": [
            "Saved.\n",
            "Moving image...\n",
            "Moved.\n",
            "Finished converting images\n",
            "Saving image...\n"
          ],
          "name": "stdout"
        },
        {
          "output_type": "stream",
          "text": [
            "WARNING:root:Lossy conversion from int16 to uint8. Range [-2048, 1502]. Convert image to uint8 prior to saving to suppress this warning.\n"
          ],
          "name": "stderr"
        },
        {
          "output_type": "stream",
          "text": [
            "Saved.\n",
            "Moving image...\n",
            "Moved.\n",
            "Finished converting images\n",
            "Saving image...\n"
          ],
          "name": "stdout"
        },
        {
          "output_type": "stream",
          "text": [
            "WARNING:root:Lossy conversion from int16 to uint8. Range [-2048, 1444]. Convert image to uint8 prior to saving to suppress this warning.\n"
          ],
          "name": "stderr"
        },
        {
          "output_type": "stream",
          "text": [
            "Saved.\n",
            "Moving image...\n",
            "Moved.\n",
            "Finished converting images\n",
            "Saving image...\n"
          ],
          "name": "stdout"
        },
        {
          "output_type": "stream",
          "text": [
            "WARNING:root:Lossy conversion from int16 to uint8. Range [-2048, 1443]. Convert image to uint8 prior to saving to suppress this warning.\n"
          ],
          "name": "stderr"
        },
        {
          "output_type": "stream",
          "text": [
            "Saved.\n",
            "Moving image...\n",
            "Moved.\n",
            "Finished converting images\n",
            "Saving image...\n"
          ],
          "name": "stdout"
        },
        {
          "output_type": "stream",
          "text": [
            "WARNING:root:Lossy conversion from int16 to uint8. Range [-2048, 1430]. Convert image to uint8 prior to saving to suppress this warning.\n"
          ],
          "name": "stderr"
        },
        {
          "output_type": "stream",
          "text": [
            "Saved.\n",
            "Moving image...\n",
            "Moved.\n",
            "Finished converting images\n",
            "Saving image...\n"
          ],
          "name": "stdout"
        },
        {
          "output_type": "stream",
          "text": [
            "WARNING:root:Lossy conversion from int16 to uint8. Range [-2048, 1527]. Convert image to uint8 prior to saving to suppress this warning.\n"
          ],
          "name": "stderr"
        },
        {
          "output_type": "stream",
          "text": [
            "Saved.\n",
            "Moving image...\n",
            "Moved.\n",
            "Finished converting images\n",
            "Saving image...\n"
          ],
          "name": "stdout"
        },
        {
          "output_type": "stream",
          "text": [
            "WARNING:root:Lossy conversion from int16 to uint8. Range [-2048, 1493]. Convert image to uint8 prior to saving to suppress this warning.\n"
          ],
          "name": "stderr"
        },
        {
          "output_type": "stream",
          "text": [
            "Saved.\n",
            "Moving image...\n",
            "Moved.\n",
            "Finished converting images\n",
            "Saving image...\n"
          ],
          "name": "stdout"
        },
        {
          "output_type": "stream",
          "text": [
            "WARNING:root:Lossy conversion from int16 to uint8. Range [-2048, 1466]. Convert image to uint8 prior to saving to suppress this warning.\n"
          ],
          "name": "stderr"
        },
        {
          "output_type": "stream",
          "text": [
            "Saved.\n",
            "Moving image...\n",
            "Moved.\n",
            "Finished converting images\n",
            "Saving image...\n"
          ],
          "name": "stdout"
        },
        {
          "output_type": "stream",
          "text": [
            "WARNING:root:Lossy conversion from int16 to uint8. Range [-2048, 1611]. Convert image to uint8 prior to saving to suppress this warning.\n"
          ],
          "name": "stderr"
        },
        {
          "output_type": "stream",
          "text": [
            "Saved.\n",
            "Moving image...\n",
            "Moved.\n",
            "Finished converting images\n",
            "Saving image...\n"
          ],
          "name": "stdout"
        },
        {
          "output_type": "stream",
          "text": [
            "WARNING:root:Lossy conversion from int16 to uint8. Range [-2048, 1631]. Convert image to uint8 prior to saving to suppress this warning.\n"
          ],
          "name": "stderr"
        },
        {
          "output_type": "stream",
          "text": [
            "Saved.\n",
            "Moving image...\n",
            "Moved.\n",
            "Finished converting images\n",
            "Saving image...\n"
          ],
          "name": "stdout"
        },
        {
          "output_type": "stream",
          "text": [
            "WARNING:root:Lossy conversion from int16 to uint8. Range [-2048, 1658]. Convert image to uint8 prior to saving to suppress this warning.\n"
          ],
          "name": "stderr"
        },
        {
          "output_type": "stream",
          "text": [
            "Saved.\n",
            "Moving image...\n",
            "Moved.\n",
            "Finished converting images\n",
            "Saving image...\n",
            "Saved.\n",
            "Moving image...\n",
            "Moved.\n",
            "Finished converting images\n",
            "study_0236\n"
          ],
          "name": "stdout"
        },
        {
          "output_type": "stream",
          "text": [
            "WARNING:root:Lossy conversion from int16 to uint8. Range [-2048, 1417]. Convert image to uint8 prior to saving to suppress this warning.\n"
          ],
          "name": "stderr"
        },
        {
          "output_type": "stream",
          "text": [
            "3\n",
            "Created ouput directory: /content/drive/MyDrive/Radiology_workshop_monjoy/save_pngs_path/Normal//study_0236\n",
            "53\n",
            "Saving image...\n"
          ],
          "name": "stdout"
        },
        {
          "output_type": "stream",
          "text": [
            "WARNING:root:Lossy conversion from int16 to uint8. Range [-2048, 1392]. Convert image to uint8 prior to saving to suppress this warning.\n",
            "WARNING:root:Lossy conversion from int16 to uint8. Range [-2048, 1377]. Convert image to uint8 prior to saving to suppress this warning.\n"
          ],
          "name": "stderr"
        },
        {
          "output_type": "stream",
          "text": [
            "Saved.\n",
            "Moving image...\n",
            "Moved.\n",
            "Finished converting images\n",
            "Saving image...\n",
            "Saved.\n",
            "Moving image...\n",
            "Moved.\n",
            "Finished converting images\n",
            "Saving image...\n"
          ],
          "name": "stdout"
        },
        {
          "output_type": "stream",
          "text": [
            "WARNING:root:Lossy conversion from int16 to uint8. Range [-2048, 1395]. Convert image to uint8 prior to saving to suppress this warning.\n",
            "WARNING:root:Lossy conversion from int16 to uint8. Range [-2048, 1390]. Convert image to uint8 prior to saving to suppress this warning.\n"
          ],
          "name": "stderr"
        },
        {
          "output_type": "stream",
          "text": [
            "Saved.\n",
            "Moving image...\n",
            "Moved.\n",
            "Finished converting images\n",
            "Saving image...\n",
            "Saved.\n",
            "Moving image...\n",
            "Moved.\n",
            "Finished converting images\n",
            "Saving image...\n"
          ],
          "name": "stdout"
        },
        {
          "output_type": "stream",
          "text": [
            "WARNING:root:Lossy conversion from int16 to uint8. Range [-2048, 1362]. Convert image to uint8 prior to saving to suppress this warning.\n",
            "WARNING:root:Lossy conversion from int16 to uint8. Range [-2048, 1387]. Convert image to uint8 prior to saving to suppress this warning.\n"
          ],
          "name": "stderr"
        },
        {
          "output_type": "stream",
          "text": [
            "Saved.\n",
            "Moving image...\n",
            "Moved.\n",
            "Finished converting images\n",
            "Saving image...\n",
            "Saved.\n",
            "Moving image...\n",
            "Moved.\n",
            "Finished converting images\n",
            "Saving image...\n"
          ],
          "name": "stdout"
        },
        {
          "output_type": "stream",
          "text": [
            "WARNING:root:Lossy conversion from int16 to uint8. Range [-2048, 1436]. Convert image to uint8 prior to saving to suppress this warning.\n",
            "WARNING:root:Lossy conversion from int16 to uint8. Range [-2048, 1348]. Convert image to uint8 prior to saving to suppress this warning.\n"
          ],
          "name": "stderr"
        },
        {
          "output_type": "stream",
          "text": [
            "Saved.\n",
            "Moving image...\n",
            "Moved.\n",
            "Finished converting images\n",
            "Saving image...\n",
            "Saved.\n",
            "Moving image...\n",
            "Moved.\n",
            "Finished converting images\n",
            "Saving image...\n"
          ],
          "name": "stdout"
        },
        {
          "output_type": "stream",
          "text": [
            "WARNING:root:Lossy conversion from int16 to uint8. Range [-2048, 1266]. Convert image to uint8 prior to saving to suppress this warning.\n",
            "WARNING:root:Lossy conversion from int16 to uint8. Range [-2048, 1375]. Convert image to uint8 prior to saving to suppress this warning.\n"
          ],
          "name": "stderr"
        },
        {
          "output_type": "stream",
          "text": [
            "Saved.\n",
            "Moving image...\n",
            "Moved.\n",
            "Finished converting images\n",
            "Saving image...\n",
            "Saved.\n",
            "Moving image...\n",
            "Moved.\n",
            "Finished converting images\n",
            "Saving image...\n"
          ],
          "name": "stdout"
        },
        {
          "output_type": "stream",
          "text": [
            "WARNING:root:Lossy conversion from int16 to uint8. Range [-2048, 1460]. Convert image to uint8 prior to saving to suppress this warning.\n",
            "WARNING:root:Lossy conversion from int16 to uint8. Range [-2048, 1159]. Convert image to uint8 prior to saving to suppress this warning.\n"
          ],
          "name": "stderr"
        },
        {
          "output_type": "stream",
          "text": [
            "Saved.\n",
            "Moving image...\n",
            "Moved.\n",
            "Finished converting images\n",
            "Saving image...\n",
            "Saved.\n",
            "Moving image...\n",
            "Moved.\n",
            "Finished converting images\n",
            "Saving image...\n"
          ],
          "name": "stdout"
        },
        {
          "output_type": "stream",
          "text": [
            "WARNING:root:Lossy conversion from int16 to uint8. Range [-2048, 1450]. Convert image to uint8 prior to saving to suppress this warning.\n",
            "WARNING:root:Lossy conversion from int16 to uint8. Range [-2048, 1403]. Convert image to uint8 prior to saving to suppress this warning.\n"
          ],
          "name": "stderr"
        },
        {
          "output_type": "stream",
          "text": [
            "Saved.\n",
            "Moving image...\n",
            "Moved.\n",
            "Finished converting images\n",
            "Saving image...\n",
            "Saved.\n",
            "Moving image...\n",
            "Moved.\n",
            "Finished converting images\n",
            "Saving image...\n"
          ],
          "name": "stdout"
        },
        {
          "output_type": "stream",
          "text": [
            "WARNING:root:Lossy conversion from int16 to uint8. Range [-2048, 1250]. Convert image to uint8 prior to saving to suppress this warning.\n",
            "WARNING:root:Lossy conversion from int16 to uint8. Range [-2048, 1325]. Convert image to uint8 prior to saving to suppress this warning.\n"
          ],
          "name": "stderr"
        },
        {
          "output_type": "stream",
          "text": [
            "Saved.\n",
            "Moving image...\n",
            "Moved.\n",
            "Finished converting images\n",
            "Saving image...\n",
            "Saved.\n",
            "Moving image...\n",
            "Moved.\n",
            "Finished converting images\n",
            "Saving image...\n"
          ],
          "name": "stdout"
        },
        {
          "output_type": "stream",
          "text": [
            "WARNING:root:Lossy conversion from int16 to uint8. Range [-2048, 1328]. Convert image to uint8 prior to saving to suppress this warning.\n",
            "WARNING:root:Lossy conversion from int16 to uint8. Range [-2048, 1315]. Convert image to uint8 prior to saving to suppress this warning.\n"
          ],
          "name": "stderr"
        },
        {
          "output_type": "stream",
          "text": [
            "Saved.\n",
            "Moving image...\n",
            "Moved.\n",
            "Finished converting images\n",
            "Saving image...\n",
            "Saved.\n",
            "Moving image...\n",
            "Moved.\n",
            "Finished converting images\n",
            "Saving image...\n"
          ],
          "name": "stdout"
        },
        {
          "output_type": "stream",
          "text": [
            "WARNING:root:Lossy conversion from int16 to uint8. Range [-2048, 1330]. Convert image to uint8 prior to saving to suppress this warning.\n",
            "WARNING:root:Lossy conversion from int16 to uint8. Range [-2048, 1263]. Convert image to uint8 prior to saving to suppress this warning.\n"
          ],
          "name": "stderr"
        },
        {
          "output_type": "stream",
          "text": [
            "Saved.\n",
            "Moving image...\n",
            "Moved.\n",
            "Finished converting images\n",
            "Saving image...\n",
            "Saved.\n",
            "Moving image...\n",
            "Moved.\n",
            "Finished converting images\n",
            "Saving image...\n"
          ],
          "name": "stdout"
        },
        {
          "output_type": "stream",
          "text": [
            "WARNING:root:Lossy conversion from int16 to uint8. Range [-2048, 1252]. Convert image to uint8 prior to saving to suppress this warning.\n",
            "WARNING:root:Lossy conversion from int16 to uint8. Range [-2048, 1329]. Convert image to uint8 prior to saving to suppress this warning.\n"
          ],
          "name": "stderr"
        },
        {
          "output_type": "stream",
          "text": [
            "Saved.\n",
            "Moving image...\n",
            "Moved.\n",
            "Finished converting images\n",
            "Saving image...\n",
            "Saved.\n",
            "Moving image...\n",
            "Moved.\n",
            "Finished converting images\n",
            "Saving image...\n"
          ],
          "name": "stdout"
        },
        {
          "output_type": "stream",
          "text": [
            "WARNING:root:Lossy conversion from int16 to uint8. Range [-2048, 1430]. Convert image to uint8 prior to saving to suppress this warning.\n"
          ],
          "name": "stderr"
        },
        {
          "output_type": "stream",
          "text": [
            "Saved.\n",
            "Moving image...\n",
            "Moved.\n",
            "Finished converting images\n",
            "Saving image...\n"
          ],
          "name": "stdout"
        },
        {
          "output_type": "stream",
          "text": [
            "WARNING:root:Lossy conversion from int16 to uint8. Range [-2048, 1528]. Convert image to uint8 prior to saving to suppress this warning.\n"
          ],
          "name": "stderr"
        },
        {
          "output_type": "stream",
          "text": [
            "Saved.\n",
            "Moving image...\n",
            "Moved.\n",
            "Finished converting images\n",
            "Saving image...\n"
          ],
          "name": "stdout"
        },
        {
          "output_type": "stream",
          "text": [
            "WARNING:root:Lossy conversion from int16 to uint8. Range [-2048, 1291]. Convert image to uint8 prior to saving to suppress this warning.\n"
          ],
          "name": "stderr"
        },
        {
          "output_type": "stream",
          "text": [
            "Saved.\n",
            "Moving image...\n",
            "Moved.\n",
            "Finished converting images\n",
            "Saving image...\n"
          ],
          "name": "stdout"
        },
        {
          "output_type": "stream",
          "text": [
            "WARNING:root:Lossy conversion from int16 to uint8. Range [-2048, 1288]. Convert image to uint8 prior to saving to suppress this warning.\n"
          ],
          "name": "stderr"
        },
        {
          "output_type": "stream",
          "text": [
            "Saved.\n",
            "Moving image...\n",
            "Moved.\n",
            "Finished converting images\n",
            "Saving image...\n"
          ],
          "name": "stdout"
        },
        {
          "output_type": "stream",
          "text": [
            "WARNING:root:Lossy conversion from int16 to uint8. Range [-2048, 1346]. Convert image to uint8 prior to saving to suppress this warning.\n"
          ],
          "name": "stderr"
        },
        {
          "output_type": "stream",
          "text": [
            "Saved.\n",
            "Moving image...\n",
            "Moved.\n",
            "Finished converting images\n",
            "Saving image...\n"
          ],
          "name": "stdout"
        },
        {
          "output_type": "stream",
          "text": [
            "WARNING:root:Lossy conversion from int16 to uint8. Range [-2048, 1356]. Convert image to uint8 prior to saving to suppress this warning.\n"
          ],
          "name": "stderr"
        },
        {
          "output_type": "stream",
          "text": [
            "Saved.\n",
            "Moving image...\n",
            "Moved.\n",
            "Finished converting images\n",
            "Saving image...\n"
          ],
          "name": "stdout"
        },
        {
          "output_type": "stream",
          "text": [
            "WARNING:root:Lossy conversion from int16 to uint8. Range [-2048, 1321]. Convert image to uint8 prior to saving to suppress this warning.\n"
          ],
          "name": "stderr"
        },
        {
          "output_type": "stream",
          "text": [
            "Saved.\n",
            "Moving image...\n",
            "Moved.\n",
            "Finished converting images\n",
            "Saving image...\n"
          ],
          "name": "stdout"
        },
        {
          "output_type": "stream",
          "text": [
            "WARNING:root:Lossy conversion from int16 to uint8. Range [-2048, 1355]. Convert image to uint8 prior to saving to suppress this warning.\n"
          ],
          "name": "stderr"
        },
        {
          "output_type": "stream",
          "text": [
            "Saved.\n",
            "Moving image...\n",
            "Moved.\n",
            "Finished converting images\n",
            "Saving image...\n"
          ],
          "name": "stdout"
        },
        {
          "output_type": "stream",
          "text": [
            "WARNING:root:Lossy conversion from int16 to uint8. Range [-2048, 1354]. Convert image to uint8 prior to saving to suppress this warning.\n"
          ],
          "name": "stderr"
        },
        {
          "output_type": "stream",
          "text": [
            "Saved.\n",
            "Moving image...\n",
            "Moved.\n",
            "Finished converting images\n",
            "Saving image...\n"
          ],
          "name": "stdout"
        },
        {
          "output_type": "stream",
          "text": [
            "WARNING:root:Lossy conversion from int16 to uint8. Range [-2048, 1388]. Convert image to uint8 prior to saving to suppress this warning.\n"
          ],
          "name": "stderr"
        },
        {
          "output_type": "stream",
          "text": [
            "Saved.\n",
            "Moving image...\n",
            "Moved.\n",
            "Finished converting images\n",
            "Saving image...\n"
          ],
          "name": "stdout"
        },
        {
          "output_type": "stream",
          "text": [
            "WARNING:root:Lossy conversion from int16 to uint8. Range [-2048, 1374]. Convert image to uint8 prior to saving to suppress this warning.\n"
          ],
          "name": "stderr"
        },
        {
          "output_type": "stream",
          "text": [
            "Saved.\n",
            "Moving image...\n",
            "Moved.\n",
            "Finished converting images\n",
            "Saving image...\n"
          ],
          "name": "stdout"
        },
        {
          "output_type": "stream",
          "text": [
            "WARNING:root:Lossy conversion from int16 to uint8. Range [-2048, 1325]. Convert image to uint8 prior to saving to suppress this warning.\n"
          ],
          "name": "stderr"
        },
        {
          "output_type": "stream",
          "text": [
            "Saved.\n",
            "Moving image...\n",
            "Moved.\n",
            "Finished converting images\n",
            "Saving image...\n"
          ],
          "name": "stdout"
        },
        {
          "output_type": "stream",
          "text": [
            "WARNING:root:Lossy conversion from int16 to uint8. Range [-2048, 1461]. Convert image to uint8 prior to saving to suppress this warning.\n"
          ],
          "name": "stderr"
        },
        {
          "output_type": "stream",
          "text": [
            "Saved.\n",
            "Moving image...\n",
            "Moved.\n",
            "Finished converting images\n",
            "Saving image...\n"
          ],
          "name": "stdout"
        },
        {
          "output_type": "stream",
          "text": [
            "WARNING:root:Lossy conversion from int16 to uint8. Range [-2048, 1458]. Convert image to uint8 prior to saving to suppress this warning.\n"
          ],
          "name": "stderr"
        },
        {
          "output_type": "stream",
          "text": [
            "Saved.\n",
            "Moving image...\n",
            "Moved.\n",
            "Finished converting images\n",
            "Saving image...\n"
          ],
          "name": "stdout"
        },
        {
          "output_type": "stream",
          "text": [
            "WARNING:root:Lossy conversion from int16 to uint8. Range [-2048, 1520]. Convert image to uint8 prior to saving to suppress this warning.\n"
          ],
          "name": "stderr"
        },
        {
          "output_type": "stream",
          "text": [
            "Saved.\n",
            "Moving image...\n",
            "Moved.\n",
            "Finished converting images\n",
            "Saving image...\n"
          ],
          "name": "stdout"
        },
        {
          "output_type": "stream",
          "text": [
            "WARNING:root:Lossy conversion from int16 to uint8. Range [-2048, 1511]. Convert image to uint8 prior to saving to suppress this warning.\n"
          ],
          "name": "stderr"
        },
        {
          "output_type": "stream",
          "text": [
            "Saved.\n",
            "Moving image...\n",
            "Moved.\n",
            "Finished converting images\n",
            "Saving image...\n"
          ],
          "name": "stdout"
        },
        {
          "output_type": "stream",
          "text": [
            "WARNING:root:Lossy conversion from int16 to uint8. Range [-2048, 1387]. Convert image to uint8 prior to saving to suppress this warning.\n"
          ],
          "name": "stderr"
        },
        {
          "output_type": "stream",
          "text": [
            "Saved.\n",
            "Moving image...\n",
            "Moved.\n",
            "Finished converting images\n",
            "Saving image...\n"
          ],
          "name": "stdout"
        },
        {
          "output_type": "stream",
          "text": [
            "WARNING:root:Lossy conversion from int16 to uint8. Range [-2048, 1372]. Convert image to uint8 prior to saving to suppress this warning.\n"
          ],
          "name": "stderr"
        },
        {
          "output_type": "stream",
          "text": [
            "Saved.\n",
            "Moving image...\n",
            "Moved.\n",
            "Finished converting images\n",
            "Saving image...\n"
          ],
          "name": "stdout"
        },
        {
          "output_type": "stream",
          "text": [
            "WARNING:root:Lossy conversion from int16 to uint8. Range [-2048, 1469]. Convert image to uint8 prior to saving to suppress this warning.\n"
          ],
          "name": "stderr"
        },
        {
          "output_type": "stream",
          "text": [
            "Saved.\n",
            "Moving image...\n",
            "Moved.\n",
            "Finished converting images\n",
            "Saving image...\n"
          ],
          "name": "stdout"
        },
        {
          "output_type": "stream",
          "text": [
            "WARNING:root:Lossy conversion from int16 to uint8. Range [-2048, 1645]. Convert image to uint8 prior to saving to suppress this warning.\n"
          ],
          "name": "stderr"
        },
        {
          "output_type": "stream",
          "text": [
            "Saved.\n",
            "Moving image...\n",
            "Moved.\n",
            "Finished converting images\n",
            "Saving image...\n"
          ],
          "name": "stdout"
        },
        {
          "output_type": "stream",
          "text": [
            "WARNING:root:Lossy conversion from int16 to uint8. Range [-2048, 1518]. Convert image to uint8 prior to saving to suppress this warning.\n"
          ],
          "name": "stderr"
        },
        {
          "output_type": "stream",
          "text": [
            "Saved.\n",
            "Moving image...\n",
            "Moved.\n",
            "Finished converting images\n",
            "Saving image...\n",
            "Saved."
          ],
          "name": "stdout"
        },
        {
          "output_type": "stream",
          "text": [
            "WARNING:root:Lossy conversion from int16 to uint8. Range [-2048, 1536]. Convert image to uint8 prior to saving to suppress this warning.\n"
          ],
          "name": "stderr"
        },
        {
          "output_type": "stream",
          "text": [
            "\n",
            "Moving image...\n",
            "Moved.\n",
            "Finished converting images\n",
            "Saving image...\n"
          ],
          "name": "stdout"
        },
        {
          "output_type": "stream",
          "text": [
            "WARNING:root:Lossy conversion from int16 to uint8. Range [-2048, 1420]. Convert image to uint8 prior to saving to suppress this warning.\n"
          ],
          "name": "stderr"
        },
        {
          "output_type": "stream",
          "text": [
            "Saved.\n",
            "Moving image...\n",
            "Moved.\n",
            "Finished converting images\n",
            "Saving image...\n"
          ],
          "name": "stdout"
        },
        {
          "output_type": "stream",
          "text": [
            "WARNING:root:Lossy conversion from int16 to uint8. Range [-2048, 1509]. Convert image to uint8 prior to saving to suppress this warning.\n"
          ],
          "name": "stderr"
        },
        {
          "output_type": "stream",
          "text": [
            "Saved.\n",
            "Moving image...\n",
            "Moved.\n",
            "Finished converting images\n",
            "Saving image...\n"
          ],
          "name": "stdout"
        },
        {
          "output_type": "stream",
          "text": [
            "WARNING:root:Lossy conversion from int16 to uint8. Range [-2048, 1653]. Convert image to uint8 prior to saving to suppress this warning.\n"
          ],
          "name": "stderr"
        },
        {
          "output_type": "stream",
          "text": [
            "Saved.\n",
            "Moving image...\n",
            "Moved.\n",
            "Finished converting images\n",
            "Saving image...\n"
          ],
          "name": "stdout"
        },
        {
          "output_type": "stream",
          "text": [
            "WARNING:root:Lossy conversion from int16 to uint8. Range [-2048, 1564]. Convert image to uint8 prior to saving to suppress this warning.\n"
          ],
          "name": "stderr"
        },
        {
          "output_type": "stream",
          "text": [
            "Saved.\n",
            "Moving image...\n",
            "Moved.\n",
            "Finished converting images\n",
            "Saving image...\n"
          ],
          "name": "stdout"
        },
        {
          "output_type": "stream",
          "text": [
            "WARNING:root:Lossy conversion from int16 to uint8. Range [-2048, 1591]. Convert image to uint8 prior to saving to suppress this warning.\n"
          ],
          "name": "stderr"
        },
        {
          "output_type": "stream",
          "text": [
            "Saved.\n",
            "Moving image...\n",
            "Moved.\n",
            "Finished converting images\n",
            "Saving image...\n"
          ],
          "name": "stdout"
        },
        {
          "output_type": "stream",
          "text": [
            "WARNING:root:Lossy conversion from int16 to uint8. Range [-2048, 1681]. Convert image to uint8 prior to saving to suppress this warning.\n"
          ],
          "name": "stderr"
        },
        {
          "output_type": "stream",
          "text": [
            "Saved.\n",
            "Moving image...\n",
            "Moved.\n",
            "Finished converting images\n",
            "Saving image...\n"
          ],
          "name": "stdout"
        },
        {
          "output_type": "stream",
          "text": [
            "WARNING:root:Lossy conversion from int16 to uint8. Range [-2048, 1638]. Convert image to uint8 prior to saving to suppress this warning.\n"
          ],
          "name": "stderr"
        },
        {
          "output_type": "stream",
          "text": [
            "Saved.\n",
            "Moving image...\n",
            "Moved.\n",
            "Finished converting images\n",
            "Saving image...\n"
          ],
          "name": "stdout"
        },
        {
          "output_type": "stream",
          "text": [
            "WARNING:root:Lossy conversion from int16 to uint8. Range [-2048, 1683]. Convert image to uint8 prior to saving to suppress this warning.\n"
          ],
          "name": "stderr"
        },
        {
          "output_type": "stream",
          "text": [
            "Saved.\n",
            "Moving image...\n",
            "Moved.\n",
            "Finished converting images\n",
            "Saving image...\n",
            "Saved.\n",
            "Moving image...\n",
            "Moved.\n",
            "Finished converting images\n",
            "study_0231\n"
          ],
          "name": "stdout"
        },
        {
          "output_type": "stream",
          "text": [
            "WARNING:root:Lossy conversion from int16 to uint8. Range [-2048, 1544]. Convert image to uint8 prior to saving to suppress this warning.\n",
            "WARNING:root:Lossy conversion from int16 to uint8. Range [-2048, 1615]. Convert image to uint8 prior to saving to suppress this warning.\n"
          ],
          "name": "stderr"
        },
        {
          "output_type": "stream",
          "text": [
            "3\n",
            "Created ouput directory: /content/drive/MyDrive/Radiology_workshop_monjoy/save_pngs_path/Normal//study_0231\n",
            "45\n",
            "Saving image...\n",
            "Saved.\n",
            "Moving image...\n",
            "Moved.\n",
            "Finished converting images\n",
            "Saving image...\n"
          ],
          "name": "stdout"
        },
        {
          "output_type": "stream",
          "text": [
            "WARNING:root:Lossy conversion from int16 to uint8. Range [-2048, 1461]. Convert image to uint8 prior to saving to suppress this warning.\n",
            "WARNING:root:Lossy conversion from int16 to uint8. Range [-2048, 1428]. Convert image to uint8 prior to saving to suppress this warning.\n"
          ],
          "name": "stderr"
        },
        {
          "output_type": "stream",
          "text": [
            "Saved.\n",
            "Moving image...\n",
            "Moved.\n",
            "Finished converting images\n",
            "Saving image...\n",
            "Saved.\n",
            "Moving image...\n",
            "Moved.\n",
            "Finished converting images\n",
            "Saving image...\n"
          ],
          "name": "stdout"
        },
        {
          "output_type": "stream",
          "text": [
            "WARNING:root:Lossy conversion from int16 to uint8. Range [-2048, 1541]. Convert image to uint8 prior to saving to suppress this warning.\n",
            "WARNING:root:Lossy conversion from int16 to uint8. Range [-2048, 1363]. Convert image to uint8 prior to saving to suppress this warning.\n"
          ],
          "name": "stderr"
        },
        {
          "output_type": "stream",
          "text": [
            "Saved.\n",
            "Moving image...\n",
            "Moved.\n",
            "Finished converting images\n",
            "Saving image...\n",
            "Saved.\n",
            "Moving image...\n",
            "Moved.\n",
            "Finished converting images\n",
            "Saving image...\n"
          ],
          "name": "stdout"
        },
        {
          "output_type": "stream",
          "text": [
            "WARNING:root:Lossy conversion from int16 to uint8. Range [-2048, 1245]. Convert image to uint8 prior to saving to suppress this warning.\n",
            "WARNING:root:Lossy conversion from int16 to uint8. Range [-2048, 1244]. Convert image to uint8 prior to saving to suppress this warning.\n"
          ],
          "name": "stderr"
        },
        {
          "output_type": "stream",
          "text": [
            "Saved.\n",
            "Moving image...\n",
            "Moved.\n",
            "Finished converting images\n",
            "Saving image...\n",
            "Saved.\n",
            "Moving image...\n",
            "Moved.\n",
            "Finished converting images\n",
            "Saving image...\n"
          ],
          "name": "stdout"
        },
        {
          "output_type": "stream",
          "text": [
            "WARNING:root:Lossy conversion from int16 to uint8. Range [-2048, 1320]. Convert image to uint8 prior to saving to suppress this warning.\n",
            "WARNING:root:Lossy conversion from int16 to uint8. Range [-2048, 1428]. Convert image to uint8 prior to saving to suppress this warning.\n"
          ],
          "name": "stderr"
        },
        {
          "output_type": "stream",
          "text": [
            "Saved.\n",
            "Moving image...\n",
            "Moved.\n",
            "Finished converting images\n",
            "Saving image...\n",
            "Saved.\n",
            "Moving image...\n",
            "Moved.\n",
            "Finished converting images\n",
            "Saving image...\n"
          ],
          "name": "stdout"
        },
        {
          "output_type": "stream",
          "text": [
            "WARNING:root:Lossy conversion from int16 to uint8. Range [-2048, 1399]. Convert image to uint8 prior to saving to suppress this warning.\n",
            "WARNING:root:Lossy conversion from int16 to uint8. Range [-2048, 1378]. Convert image to uint8 prior to saving to suppress this warning.\n"
          ],
          "name": "stderr"
        },
        {
          "output_type": "stream",
          "text": [
            "Saved.\n",
            "Moving image...\n",
            "Moved.\n",
            "Finished converting images\n",
            "Saving image...\n",
            "Saved.\n",
            "Moving image...\n",
            "Moved.\n",
            "Finished converting images\n",
            "Saving image...\n"
          ],
          "name": "stdout"
        },
        {
          "output_type": "stream",
          "text": [
            "WARNING:root:Lossy conversion from int16 to uint8. Range [-2048, 1531]. Convert image to uint8 prior to saving to suppress this warning.\n",
            "WARNING:root:Lossy conversion from int16 to uint8. Range [-2048, 1245]. Convert image to uint8 prior to saving to suppress this warning.\n"
          ],
          "name": "stderr"
        },
        {
          "output_type": "stream",
          "text": [
            "Saved.\n",
            "Moving image...\n",
            "Moved.\n",
            "Finished converting images\n",
            "Saving image...\n",
            "Saved.\n",
            "Moving image...\n",
            "Moved.\n",
            "Finished converting images\n",
            "Saving image...\n"
          ],
          "name": "stdout"
        },
        {
          "output_type": "stream",
          "text": [
            "WARNING:root:Lossy conversion from int16 to uint8. Range [-2048, 1466]. Convert image to uint8 prior to saving to suppress this warning.\n",
            "WARNING:root:Lossy conversion from int16 to uint8. Range [-2048, 1502]. Convert image to uint8 prior to saving to suppress this warning.\n"
          ],
          "name": "stderr"
        },
        {
          "output_type": "stream",
          "text": [
            "Saved.\n",
            "Moving image...\n",
            "Moved.\n",
            "Finished converting images\n",
            "Saving image...\n",
            "Saved.\n",
            "Moving image...\n",
            "Moved.\n",
            "Finished converting images\n",
            "Saving image...\n"
          ],
          "name": "stdout"
        },
        {
          "output_type": "stream",
          "text": [
            "WARNING:root:Lossy conversion from int16 to uint8. Range [-2048, 1231]. Convert image to uint8 prior to saving to suppress this warning.\n"
          ],
          "name": "stderr"
        },
        {
          "output_type": "stream",
          "text": [
            "Saved.\n",
            "Moving image...\n",
            "Moved.\n",
            "Finished converting images\n",
            "Saving image...\n"
          ],
          "name": "stdout"
        },
        {
          "output_type": "stream",
          "text": [
            "WARNING:root:Lossy conversion from int16 to uint8. Range [-2048, 1240]. Convert image to uint8 prior to saving to suppress this warning.\n"
          ],
          "name": "stderr"
        },
        {
          "output_type": "stream",
          "text": [
            "Saved.\n",
            "Moving image...\n",
            "Moved.\n",
            "Finished converting images\n",
            "Saving image...\n",
            "Saved.\n",
            "Moving image...\n",
            "Moved.\n",
            "Finished converting images\n",
            "Saving image...\n"
          ],
          "name": "stdout"
        },
        {
          "output_type": "stream",
          "text": [
            "WARNING:root:Lossy conversion from int16 to uint8. Range [-2048, 1417]. Convert image to uint8 prior to saving to suppress this warning.\n",
            "WARNING:root:Lossy conversion from int16 to uint8. Range [-2048, 1386]. Convert image to uint8 prior to saving to suppress this warning.\n",
            "WARNING:root:Lossy conversion from int16 to uint8. Range [-2048, 1288]. Convert image to uint8 prior to saving to suppress this warning.\n"
          ],
          "name": "stderr"
        },
        {
          "output_type": "stream",
          "text": [
            "Saved.\n",
            "Moving image...\n",
            "Moved.\n",
            "Finished converting images\n",
            "Saving image...\n",
            "Saved.\n",
            "Moving image...\n",
            "Moved.\n",
            "Finished converting images\n",
            "Saving image...\n"
          ],
          "name": "stdout"
        },
        {
          "output_type": "stream",
          "text": [
            "WARNING:root:Lossy conversion from int16 to uint8. Range [-2048, 1341]. Convert image to uint8 prior to saving to suppress this warning.\n"
          ],
          "name": "stderr"
        },
        {
          "output_type": "stream",
          "text": [
            "Saved.\n",
            "Moving image...\n",
            "Moved.\n",
            "Finished converting images\n",
            "Saving image...\n",
            "Saved.\n",
            "Moving image...\n",
            "Moved.\n",
            "Finished converting images\n",
            "Saving image...\n"
          ],
          "name": "stdout"
        },
        {
          "output_type": "stream",
          "text": [
            "WARNING:root:Lossy conversion from int16 to uint8. Range [-2048, 1279]. Convert image to uint8 prior to saving to suppress this warning.\n",
            "WARNING:root:Lossy conversion from int16 to uint8. Range [-2048, 1063]. Convert image to uint8 prior to saving to suppress this warning.\n",
            "WARNING:root:Lossy conversion from int16 to uint8. Range [-2211, 9613]. Convert image to uint8 prior to saving to suppress this warning.\n"
          ],
          "name": "stderr"
        },
        {
          "output_type": "stream",
          "text": [
            "Saved.\n",
            "Moving image...\n",
            "Moved.\n",
            "Finished converting images\n",
            "Saving image...\n",
            "Saved.\n",
            "Moving image...\n",
            "Moved.\n",
            "Finished converting images\n",
            "Saving image...\n"
          ],
          "name": "stdout"
        },
        {
          "output_type": "stream",
          "text": [
            "WARNING:root:Lossy conversion from int16 to uint8. Range [-2048, 7589]. Convert image to uint8 prior to saving to suppress this warning.\n"
          ],
          "name": "stderr"
        },
        {
          "output_type": "stream",
          "text": [
            "Saved.\n",
            "Moving image...\n",
            "Moved.\n",
            "Finished converting images\n",
            "Saving image...\n"
          ],
          "name": "stdout"
        },
        {
          "output_type": "stream",
          "text": [
            "WARNING:root:Lossy conversion from int16 to uint8. Range [-2048, 1246]. Convert image to uint8 prior to saving to suppress this warning.\n",
            "WARNING:root:Lossy conversion from int16 to uint8. Range [-2048, 1399]. Convert image to uint8 prior to saving to suppress this warning.\n"
          ],
          "name": "stderr"
        },
        {
          "output_type": "stream",
          "text": [
            "Saved.\n",
            "Moving image...\n",
            "Moved.\n",
            "Finished converting images\n",
            "Saving image...\n",
            "Saved.\n",
            "Moving image...\n",
            "Moved.\n",
            "Finished converting images\n",
            "Saving image...\n"
          ],
          "name": "stdout"
        },
        {
          "output_type": "stream",
          "text": [
            "WARNING:root:Lossy conversion from int16 to uint8. Range [-2048, 1428]. Convert image to uint8 prior to saving to suppress this warning.\n"
          ],
          "name": "stderr"
        },
        {
          "output_type": "stream",
          "text": [
            "Saved.\n",
            "Moving image...\n",
            "Moved.\n",
            "Finished converting images\n",
            "Saving image...\n"
          ],
          "name": "stdout"
        },
        {
          "output_type": "stream",
          "text": [
            "WARNING:root:Lossy conversion from int16 to uint8. Range [-2048, 1403]. Convert image to uint8 prior to saving to suppress this warning.\n"
          ],
          "name": "stderr"
        },
        {
          "output_type": "stream",
          "text": [
            "Saved.\n",
            "Moving image...\n",
            "Moved.\n",
            "Finished converting images\n",
            "Saving image...\n"
          ],
          "name": "stdout"
        },
        {
          "output_type": "stream",
          "text": [
            "WARNING:root:Lossy conversion from int16 to uint8. Range [-2048, 1626]. Convert image to uint8 prior to saving to suppress this warning.\n"
          ],
          "name": "stderr"
        },
        {
          "output_type": "stream",
          "text": [
            "Saved.\n",
            "Moving image...\n",
            "Moved.\n",
            "Finished converting images\n",
            "Saving image...\n"
          ],
          "name": "stdout"
        },
        {
          "output_type": "stream",
          "text": [
            "WARNING:root:Lossy conversion from int16 to uint8. Range [-2247, 4807]. Convert image to uint8 prior to saving to suppress this warning.\n"
          ],
          "name": "stderr"
        },
        {
          "output_type": "stream",
          "text": [
            "Saved.\n",
            "Moving image...\n",
            "Moved.\n",
            "Finished converting images\n",
            "Saving image...\n"
          ],
          "name": "stdout"
        },
        {
          "output_type": "stream",
          "text": [
            "WARNING:root:Lossy conversion from int16 to uint8. Range [-2943, 7572]. Convert image to uint8 prior to saving to suppress this warning.\n"
          ],
          "name": "stderr"
        },
        {
          "output_type": "stream",
          "text": [
            "Saved.\n",
            "Moving image...\n",
            "Moved.\n",
            "Finished converting images\n",
            "Saving image...\n"
          ],
          "name": "stdout"
        },
        {
          "output_type": "stream",
          "text": [
            "WARNING:root:Lossy conversion from int16 to uint8. Range [-2048, 2266]. Convert image to uint8 prior to saving to suppress this warning.\n"
          ],
          "name": "stderr"
        },
        {
          "output_type": "stream",
          "text": [
            "Saved.\n",
            "Moving image...\n",
            "Moved.\n",
            "Finished converting images\n",
            "Saving image...\n"
          ],
          "name": "stdout"
        },
        {
          "output_type": "stream",
          "text": [
            "WARNING:root:Lossy conversion from int16 to uint8. Range [-2048, 2093]. Convert image to uint8 prior to saving to suppress this warning.\n"
          ],
          "name": "stderr"
        },
        {
          "output_type": "stream",
          "text": [
            "Saved.\n",
            "Moving image...\n",
            "Moved.\n",
            "Finished converting images\n",
            "Saving image...\n"
          ],
          "name": "stdout"
        },
        {
          "output_type": "stream",
          "text": [
            "WARNING:root:Lossy conversion from int16 to uint8. Range [-2048, 5319]. Convert image to uint8 prior to saving to suppress this warning.\n"
          ],
          "name": "stderr"
        },
        {
          "output_type": "stream",
          "text": [
            "Saved.\n",
            "Moving image...\n",
            "Moved.\n",
            "Finished converting images\n",
            "Saving image...\n"
          ],
          "name": "stdout"
        },
        {
          "output_type": "stream",
          "text": [
            "WARNING:root:Lossy conversion from int16 to uint8. Range [-2048, 1572]. Convert image to uint8 prior to saving to suppress this warning.\n",
            "WARNING:root:Lossy conversion from int16 to uint8. Range [-2048, 1559]. Convert image to uint8 prior to saving to suppress this warning.\n"
          ],
          "name": "stderr"
        },
        {
          "output_type": "stream",
          "text": [
            "Saved.\n",
            "Moving image...\n",
            "Moved.\n",
            "Finished converting images\n",
            "Saving image...\n",
            "Saved.\n",
            "Moving image...\n",
            "Moved.\n",
            "Finished converting images\n",
            "Saving image...\n"
          ],
          "name": "stdout"
        },
        {
          "output_type": "stream",
          "text": [
            "WARNING:root:Lossy conversion from int16 to uint8. Range [-2048, 1796]. Convert image to uint8 prior to saving to suppress this warning.\n"
          ],
          "name": "stderr"
        },
        {
          "output_type": "stream",
          "text": [
            "Saved.\n",
            "Moving image...\n",
            "Moved.\n",
            "Finished converting images\n",
            "Saving image...\n"
          ],
          "name": "stdout"
        },
        {
          "output_type": "stream",
          "text": [
            "WARNING:root:Lossy conversion from int16 to uint8. Range [-2048, 1782]. Convert image to uint8 prior to saving to suppress this warning.\n"
          ],
          "name": "stderr"
        },
        {
          "output_type": "stream",
          "text": [
            "Saved.\n",
            "Moving image...\n",
            "Moved.\n",
            "Finished converting images\n",
            "Saving image...\n"
          ],
          "name": "stdout"
        },
        {
          "output_type": "stream",
          "text": [
            "WARNING:root:Lossy conversion from int16 to uint8. Range [-2048, 1672]. Convert image to uint8 prior to saving to suppress this warning.\n"
          ],
          "name": "stderr"
        },
        {
          "output_type": "stream",
          "text": [
            "Saved.\n",
            "Moving image...\n",
            "Moved.\n",
            "Finished converting images\n",
            "Saving image...\n"
          ],
          "name": "stdout"
        },
        {
          "output_type": "stream",
          "text": [
            "WARNING:root:Lossy conversion from int16 to uint8. Range [-2048, 1726]. Convert image to uint8 prior to saving to suppress this warning.\n"
          ],
          "name": "stderr"
        },
        {
          "output_type": "stream",
          "text": [
            "Saved.\n",
            "Moving image...\n",
            "Moved.\n",
            "Finished converting images\n",
            "Saving image...\n"
          ],
          "name": "stdout"
        },
        {
          "output_type": "stream",
          "text": [
            "WARNING:root:Lossy conversion from int16 to uint8. Range [-2048, 1819]. Convert image to uint8 prior to saving to suppress this warning.\n"
          ],
          "name": "stderr"
        },
        {
          "output_type": "stream",
          "text": [
            "Saved.\n",
            "Moving image...\n",
            "Moved.\n",
            "Finished converting images\n",
            "Saving image...\n"
          ],
          "name": "stdout"
        },
        {
          "output_type": "stream",
          "text": [
            "WARNING:root:Lossy conversion from int16 to uint8. Range [-2048, 1743]. Convert image to uint8 prior to saving to suppress this warning.\n"
          ],
          "name": "stderr"
        },
        {
          "output_type": "stream",
          "text": [
            "Saved.\n",
            "Moving image...\n",
            "Moved.\n",
            "Finished converting images\n",
            "Saving image...\n"
          ],
          "name": "stdout"
        },
        {
          "output_type": "stream",
          "text": [
            "WARNING:root:Lossy conversion from int16 to uint8. Range [-2048, 1752]. Convert image to uint8 prior to saving to suppress this warning.\n"
          ],
          "name": "stderr"
        },
        {
          "output_type": "stream",
          "text": [
            "Saved.\n",
            "Moving image...\n",
            "Moved.\n",
            "Finished converting images\n",
            "Saving image...\n",
            "Saved.\n",
            "Moving image...\n",
            "Moved.\n",
            "Finished converting images\n",
            "study_0234\n"
          ],
          "name": "stdout"
        },
        {
          "output_type": "stream",
          "text": [
            "WARNING:root:Lossy conversion from int16 to uint8. Range [-2048, 1453]. Convert image to uint8 prior to saving to suppress this warning.\n"
          ],
          "name": "stderr"
        },
        {
          "output_type": "stream",
          "text": [
            "3\n",
            "Created ouput directory: /content/drive/MyDrive/Radiology_workshop_monjoy/save_pngs_path/Normal//study_0234\n",
            "45\n",
            "Saving image...\n"
          ],
          "name": "stdout"
        },
        {
          "output_type": "stream",
          "text": [
            "WARNING:root:Lossy conversion from int16 to uint8. Range [-2048, 1407]. Convert image to uint8 prior to saving to suppress this warning.\n"
          ],
          "name": "stderr"
        },
        {
          "output_type": "stream",
          "text": [
            "Saved.\n",
            "Moving image...\n",
            "Moved.\n",
            "Finished converting images\n",
            "Saving image...\n"
          ],
          "name": "stdout"
        },
        {
          "output_type": "stream",
          "text": [
            "WARNING:root:Lossy conversion from int16 to uint8. Range [-2048, 1401]. Convert image to uint8 prior to saving to suppress this warning.\n"
          ],
          "name": "stderr"
        },
        {
          "output_type": "stream",
          "text": [
            "Saved.\n",
            "Moving image...\n",
            "Moved.\n",
            "Finished converting images\n",
            "Saving image...\n"
          ],
          "name": "stdout"
        },
        {
          "output_type": "stream",
          "text": [
            "WARNING:root:Lossy conversion from int16 to uint8. Range [-2048, 1464]. Convert image to uint8 prior to saving to suppress this warning.\n"
          ],
          "name": "stderr"
        },
        {
          "output_type": "stream",
          "text": [
            "Saved.\n",
            "Moving image...\n",
            "Moved.\n",
            "Finished converting images\n",
            "Saving image...\n"
          ],
          "name": "stdout"
        },
        {
          "output_type": "stream",
          "text": [
            "WARNING:root:Lossy conversion from int16 to uint8. Range [-2048, 1395]. Convert image to uint8 prior to saving to suppress this warning.\n"
          ],
          "name": "stderr"
        },
        {
          "output_type": "stream",
          "text": [
            "Saved.\n",
            "Moving image...\n",
            "Moved.\n",
            "Finished converting images\n",
            "Saving image...\n"
          ],
          "name": "stdout"
        },
        {
          "output_type": "stream",
          "text": [
            "WARNING:root:Lossy conversion from int16 to uint8. Range [-2048, 1402]. Convert image to uint8 prior to saving to suppress this warning.\n"
          ],
          "name": "stderr"
        },
        {
          "output_type": "stream",
          "text": [
            "Saved.\n",
            "Moving image...\n",
            "Moved.\n",
            "Finished converting images\n",
            "Saving image...\n"
          ],
          "name": "stdout"
        },
        {
          "output_type": "stream",
          "text": [
            "WARNING:root:Lossy conversion from int16 to uint8. Range [-2048, 1469]. Convert image to uint8 prior to saving to suppress this warning.\n"
          ],
          "name": "stderr"
        },
        {
          "output_type": "stream",
          "text": [
            "Saved.\n",
            "Moving image...\n",
            "Moved.\n",
            "Finished converting images\n",
            "Saving image...\n"
          ],
          "name": "stdout"
        },
        {
          "output_type": "stream",
          "text": [
            "WARNING:root:Lossy conversion from int16 to uint8. Range [-2048, 1401]. Convert image to uint8 prior to saving to suppress this warning.\n"
          ],
          "name": "stderr"
        },
        {
          "output_type": "stream",
          "text": [
            "Saved.\n",
            "Moving image...\n",
            "Moved.\n",
            "Finished converting images\n",
            "Saving image...\n"
          ],
          "name": "stdout"
        },
        {
          "output_type": "stream",
          "text": [
            "WARNING:root:Lossy conversion from int16 to uint8. Range [-2048, 1489]. Convert image to uint8 prior to saving to suppress this warning.\n"
          ],
          "name": "stderr"
        },
        {
          "output_type": "stream",
          "text": [
            "Saved.\n",
            "Moving image...\n",
            "Moved.\n",
            "Finished converting images\n",
            "Saving image...\n"
          ],
          "name": "stdout"
        },
        {
          "output_type": "stream",
          "text": [
            "WARNING:root:Lossy conversion from int16 to uint8. Range [-2048, 1534]. Convert image to uint8 prior to saving to suppress this warning.\n"
          ],
          "name": "stderr"
        },
        {
          "output_type": "stream",
          "text": [
            "Saved.\n",
            "Moving image...\n",
            "Moved.\n",
            "Finished converting images\n",
            "Saving image...\n"
          ],
          "name": "stdout"
        },
        {
          "output_type": "stream",
          "text": [
            "WARNING:root:Lossy conversion from int16 to uint8. Range [-2048, 1594]. Convert image to uint8 prior to saving to suppress this warning.\n"
          ],
          "name": "stderr"
        },
        {
          "output_type": "stream",
          "text": [
            "Saved.\n",
            "Moving image...\n",
            "Moved.\n",
            "Finished converting images\n",
            "Saving image...\n"
          ],
          "name": "stdout"
        },
        {
          "output_type": "stream",
          "text": [
            "WARNING:root:Lossy conversion from int16 to uint8. Range [-2048, 1659]. Convert image to uint8 prior to saving to suppress this warning.\n"
          ],
          "name": "stderr"
        },
        {
          "output_type": "stream",
          "text": [
            "Saved.\n",
            "Moving image...\n",
            "Moved.\n",
            "Finished converting images\n",
            "Saving image...\n"
          ],
          "name": "stdout"
        },
        {
          "output_type": "stream",
          "text": [
            "WARNING:root:Lossy conversion from int16 to uint8. Range [-2048, 1592]. Convert image to uint8 prior to saving to suppress this warning.\n"
          ],
          "name": "stderr"
        },
        {
          "output_type": "stream",
          "text": [
            "Saved.\n",
            "Moving image...\n",
            "Moved.\n",
            "Finished converting images\n",
            "Saving image...\n"
          ],
          "name": "stdout"
        },
        {
          "output_type": "stream",
          "text": [
            "WARNING:root:Lossy conversion from int16 to uint8. Range [-2048, 1497]. Convert image to uint8 prior to saving to suppress this warning.\n"
          ],
          "name": "stderr"
        },
        {
          "output_type": "stream",
          "text": [
            "Saved.\n",
            "Moving image...\n",
            "Moved.\n",
            "Finished converting images\n",
            "Saving image...\n"
          ],
          "name": "stdout"
        },
        {
          "output_type": "stream",
          "text": [
            "WARNING:root:Lossy conversion from int16 to uint8. Range [-2048, 1491]. Convert image to uint8 prior to saving to suppress this warning.\n"
          ],
          "name": "stderr"
        },
        {
          "output_type": "stream",
          "text": [
            "Saved.\n",
            "Moving image...\n",
            "Moved.\n",
            "Finished converting images\n",
            "Saving image...\n"
          ],
          "name": "stdout"
        },
        {
          "output_type": "stream",
          "text": [
            "WARNING:root:Lossy conversion from int16 to uint8. Range [-2048, 1630]. Convert image to uint8 prior to saving to suppress this warning.\n"
          ],
          "name": "stderr"
        },
        {
          "output_type": "stream",
          "text": [
            "Saved.\n",
            "Moving image...\n",
            "Moved.\n",
            "Finished converting images\n",
            "Saving image...\n"
          ],
          "name": "stdout"
        },
        {
          "output_type": "stream",
          "text": [
            "WARNING:root:Lossy conversion from int16 to uint8. Range [-2048, 1485]. Convert image to uint8 prior to saving to suppress this warning.\n"
          ],
          "name": "stderr"
        },
        {
          "output_type": "stream",
          "text": [
            "Saved.\n",
            "Moving image...\n",
            "Moved.\n",
            "Finished converting images\n",
            "Saving image...\n"
          ],
          "name": "stdout"
        },
        {
          "output_type": "stream",
          "text": [
            "WARNING:root:Lossy conversion from int16 to uint8. Range [-2048, 1563]. Convert image to uint8 prior to saving to suppress this warning.\n"
          ],
          "name": "stderr"
        },
        {
          "output_type": "stream",
          "text": [
            "Saved.\n",
            "Moving image...\n",
            "Moved.\n",
            "Finished converting images\n",
            "Saving image...\n"
          ],
          "name": "stdout"
        },
        {
          "output_type": "stream",
          "text": [
            "WARNING:root:Lossy conversion from int16 to uint8. Range [-2048, 1441]. Convert image to uint8 prior to saving to suppress this warning.\n"
          ],
          "name": "stderr"
        },
        {
          "output_type": "stream",
          "text": [
            "Saved.\n",
            "Moving image...\n",
            "Moved.\n",
            "Finished converting images\n",
            "Saving image...\n"
          ],
          "name": "stdout"
        },
        {
          "output_type": "stream",
          "text": [
            "WARNING:root:Lossy conversion from int16 to uint8. Range [-2048, 1584]. Convert image to uint8 prior to saving to suppress this warning.\n"
          ],
          "name": "stderr"
        },
        {
          "output_type": "stream",
          "text": [
            "Saved.\n",
            "Moving image...\n",
            "Moved.\n",
            "Finished converting images\n",
            "Saving image...\n"
          ],
          "name": "stdout"
        },
        {
          "output_type": "stream",
          "text": [
            "WARNING:root:Lossy conversion from int16 to uint8. Range [-2048, 1429]. Convert image to uint8 prior to saving to suppress this warning.\n"
          ],
          "name": "stderr"
        },
        {
          "output_type": "stream",
          "text": [
            "Saved.\n",
            "Moving image...\n",
            "Moved.\n",
            "Finished converting images\n",
            "Saving image...\n"
          ],
          "name": "stdout"
        },
        {
          "output_type": "stream",
          "text": [
            "WARNING:root:Lossy conversion from int16 to uint8. Range [-2048, 1394]. Convert image to uint8 prior to saving to suppress this warning.\n"
          ],
          "name": "stderr"
        },
        {
          "output_type": "stream",
          "text": [
            "Saved.\n",
            "Moving image...\n",
            "Moved.\n",
            "Finished converting images\n",
            "Saving image...\n"
          ],
          "name": "stdout"
        },
        {
          "output_type": "stream",
          "text": [
            "WARNING:root:Lossy conversion from int16 to uint8. Range [-2048, 1564]. Convert image to uint8 prior to saving to suppress this warning.\n"
          ],
          "name": "stderr"
        },
        {
          "output_type": "stream",
          "text": [
            "Saved.\n",
            "Moving image...\n",
            "Moved.\n",
            "Finished converting images\n",
            "Saving image...\n"
          ],
          "name": "stdout"
        },
        {
          "output_type": "stream",
          "text": [
            "WARNING:root:Lossy conversion from int16 to uint8. Range [-2048, 1464]. Convert image to uint8 prior to saving to suppress this warning.\n"
          ],
          "name": "stderr"
        },
        {
          "output_type": "stream",
          "text": [
            "Saved.\n",
            "Moving image...\n",
            "Moved.\n",
            "Finished converting images\n",
            "Saving image...\n"
          ],
          "name": "stdout"
        },
        {
          "output_type": "stream",
          "text": [
            "WARNING:root:Lossy conversion from int16 to uint8. Range [-2048, 1507]. Convert image to uint8 prior to saving to suppress this warning.\n"
          ],
          "name": "stderr"
        },
        {
          "output_type": "stream",
          "text": [
            "Saved.\n",
            "Moving image...\n",
            "Moved.\n",
            "Finished converting images\n",
            "Saving image...\n"
          ],
          "name": "stdout"
        },
        {
          "output_type": "stream",
          "text": [
            "WARNING:root:Lossy conversion from int16 to uint8. Range [-2048, 1438]. Convert image to uint8 prior to saving to suppress this warning.\n"
          ],
          "name": "stderr"
        },
        {
          "output_type": "stream",
          "text": [
            "Saved.\n",
            "Moving image...\n",
            "Moved.\n",
            "Finished converting images\n",
            "Saving image...\n"
          ],
          "name": "stdout"
        },
        {
          "output_type": "stream",
          "text": [
            "WARNING:root:Lossy conversion from int16 to uint8. Range [-2048, 1394]. Convert image to uint8 prior to saving to suppress this warning.\n"
          ],
          "name": "stderr"
        },
        {
          "output_type": "stream",
          "text": [
            "Saved.\n",
            "Moving image...\n",
            "Moved.\n",
            "Finished converting images\n",
            "Saving image...\n"
          ],
          "name": "stdout"
        },
        {
          "output_type": "stream",
          "text": [
            "WARNING:root:Lossy conversion from int16 to uint8. Range [-2048, 1489]. Convert image to uint8 prior to saving to suppress this warning.\n"
          ],
          "name": "stderr"
        },
        {
          "output_type": "stream",
          "text": [
            "Saved.\n",
            "Moving image...\n",
            "Moved.\n",
            "Finished converting images\n",
            "Saving image...\n"
          ],
          "name": "stdout"
        },
        {
          "output_type": "stream",
          "text": [
            "WARNING:root:Lossy conversion from int16 to uint8. Range [-2048, 1503]. Convert image to uint8 prior to saving to suppress this warning.\n"
          ],
          "name": "stderr"
        },
        {
          "output_type": "stream",
          "text": [
            "Saved.\n",
            "Moving image...\n",
            "Moved.\n",
            "Finished converting images\n",
            "Saving image...\n"
          ],
          "name": "stdout"
        },
        {
          "output_type": "stream",
          "text": [
            "WARNING:root:Lossy conversion from int16 to uint8. Range [-2048, 1697]. Convert image to uint8 prior to saving to suppress this warning.\n"
          ],
          "name": "stderr"
        },
        {
          "output_type": "stream",
          "text": [
            "Saved.\n",
            "Moving image...\n",
            "Moved.\n",
            "Finished converting images\n",
            "Saving image...\n"
          ],
          "name": "stdout"
        },
        {
          "output_type": "stream",
          "text": [
            "WARNING:root:Lossy conversion from int16 to uint8. Range [-2048, 1582]. Convert image to uint8 prior to saving to suppress this warning.\n"
          ],
          "name": "stderr"
        },
        {
          "output_type": "stream",
          "text": [
            "Saved.\n",
            "Moving image...\n",
            "Moved.\n",
            "Finished converting images\n",
            "Saving image...\n"
          ],
          "name": "stdout"
        },
        {
          "output_type": "stream",
          "text": [
            "WARNING:root:Lossy conversion from int16 to uint8. Range [-2048, 1535]. Convert image to uint8 prior to saving to suppress this warning.\n"
          ],
          "name": "stderr"
        },
        {
          "output_type": "stream",
          "text": [
            "Saved.\n",
            "Moving image...\n",
            "Moved.\n",
            "Finished converting images\n",
            "Saving image...\n"
          ],
          "name": "stdout"
        },
        {
          "output_type": "stream",
          "text": [
            "WARNING:root:Lossy conversion from int16 to uint8. Range [-2048, 1514]. Convert image to uint8 prior to saving to suppress this warning.\n"
          ],
          "name": "stderr"
        },
        {
          "output_type": "stream",
          "text": [
            "Saved.\n",
            "Moving image...\n",
            "Moved.\n",
            "Finished converting images\n",
            "Saving image...\n"
          ],
          "name": "stdout"
        },
        {
          "output_type": "stream",
          "text": [
            "WARNING:root:Lossy conversion from int16 to uint8. Range [-2048, 1510]. Convert image to uint8 prior to saving to suppress this warning.\n"
          ],
          "name": "stderr"
        },
        {
          "output_type": "stream",
          "text": [
            "Saved.\n",
            "Moving image...\n",
            "Moved.\n",
            "Finished converting images\n",
            "Saving image...\n"
          ],
          "name": "stdout"
        },
        {
          "output_type": "stream",
          "text": [
            "WARNING:root:Lossy conversion from int16 to uint8. Range [-2048, 1520]. Convert image to uint8 prior to saving to suppress this warning.\n"
          ],
          "name": "stderr"
        },
        {
          "output_type": "stream",
          "text": [
            "Saved.\n",
            "Moving image...\n",
            "Moved.\n",
            "Finished converting images\n",
            "Saving image...\n"
          ],
          "name": "stdout"
        },
        {
          "output_type": "stream",
          "text": [
            "WARNING:root:Lossy conversion from int16 to uint8. Range [-2048, 1543]. Convert image to uint8 prior to saving to suppress this warning.\n"
          ],
          "name": "stderr"
        },
        {
          "output_type": "stream",
          "text": [
            "Saved.\n",
            "Moving image...\n",
            "Moved.\n",
            "Finished converting images\n",
            "Saving image...\n"
          ],
          "name": "stdout"
        },
        {
          "output_type": "stream",
          "text": [
            "WARNING:root:Lossy conversion from int16 to uint8. Range [-2048, 1530]. Convert image to uint8 prior to saving to suppress this warning.\n"
          ],
          "name": "stderr"
        },
        {
          "output_type": "stream",
          "text": [
            "Saved.\n",
            "Moving image...\n",
            "Moved.\n",
            "Finished converting images\n",
            "Saving image...\n"
          ],
          "name": "stdout"
        },
        {
          "output_type": "stream",
          "text": [
            "WARNING:root:Lossy conversion from int16 to uint8. Range [-2048, 1574]. Convert image to uint8 prior to saving to suppress this warning.\n"
          ],
          "name": "stderr"
        },
        {
          "output_type": "stream",
          "text": [
            "Saved.\n",
            "Moving image...\n",
            "Moved.\n",
            "Finished converting images\n",
            "Saving image...\n"
          ],
          "name": "stdout"
        },
        {
          "output_type": "stream",
          "text": [
            "WARNING:root:Lossy conversion from int16 to uint8. Range [-2048, 1698]. Convert image to uint8 prior to saving to suppress this warning.\n"
          ],
          "name": "stderr"
        },
        {
          "output_type": "stream",
          "text": [
            "Saved.\n",
            "Moving image...\n",
            "Moved.\n",
            "Finished converting images\n",
            "Saving image...\n"
          ],
          "name": "stdout"
        },
        {
          "output_type": "stream",
          "text": [
            "WARNING:root:Lossy conversion from int16 to uint8. Range [-2048, 1674]. Convert image to uint8 prior to saving to suppress this warning.\n"
          ],
          "name": "stderr"
        },
        {
          "output_type": "stream",
          "text": [
            "Saved.\n",
            "Moving image...\n",
            "Moved.\n",
            "Finished converting images\n",
            "Saving image...\n"
          ],
          "name": "stdout"
        },
        {
          "output_type": "stream",
          "text": [
            "WARNING:root:Lossy conversion from int16 to uint8. Range [-2048, 1715]. Convert image to uint8 prior to saving to suppress this warning.\n"
          ],
          "name": "stderr"
        },
        {
          "output_type": "stream",
          "text": [
            "Saved.\n",
            "Moving image...\n",
            "Moved.\n",
            "Finished converting images\n",
            "Saving image...\n"
          ],
          "name": "stdout"
        },
        {
          "output_type": "stream",
          "text": [
            "WARNING:root:Lossy conversion from int16 to uint8. Range [-2048, 1651]. Convert image to uint8 prior to saving to suppress this warning.\n"
          ],
          "name": "stderr"
        },
        {
          "output_type": "stream",
          "text": [
            "Saved.\n",
            "Moving image...\n",
            "Moved.\n",
            "Finished converting images\n",
            "Saving image...\n"
          ],
          "name": "stdout"
        },
        {
          "output_type": "stream",
          "text": [
            "WARNING:root:Lossy conversion from int16 to uint8. Range [-2048, 1740]. Convert image to uint8 prior to saving to suppress this warning.\n"
          ],
          "name": "stderr"
        },
        {
          "output_type": "stream",
          "text": [
            "Saved.\n",
            "Moving image...\n",
            "Moved.\n",
            "Finished converting images\n",
            "Saving image...\n"
          ],
          "name": "stdout"
        },
        {
          "output_type": "stream",
          "text": [
            "WARNING:root:Lossy conversion from int16 to uint8. Range [-2048, 1548]. Convert image to uint8 prior to saving to suppress this warning.\n"
          ],
          "name": "stderr"
        },
        {
          "output_type": "stream",
          "text": [
            "Saved.\n",
            "Moving image...\n",
            "Moved.\n",
            "Finished converting images\n",
            "Saving image...\n"
          ],
          "name": "stdout"
        },
        {
          "output_type": "stream",
          "text": [
            "WARNING:root:Lossy conversion from int16 to uint8. Range [-2048, 1542]. Convert image to uint8 prior to saving to suppress this warning.\n"
          ],
          "name": "stderr"
        },
        {
          "output_type": "stream",
          "text": [
            "Saved.\n",
            "Moving image...\n",
            "Moved.\n",
            "Finished converting images\n",
            "Saving image...\n",
            "Saved.\n",
            "Moving image...\n",
            "Moved.\n",
            "Finished converting images\n",
            "study_0250\n"
          ],
          "name": "stdout"
        },
        {
          "output_type": "stream",
          "text": [
            "WARNING:root:Lossy conversion from int16 to uint8. Range [-2048, 1368]. Convert image to uint8 prior to saving to suppress this warning.\n",
            "WARNING:root:Lossy conversion from int16 to uint8. Range [-2048, 1403]. Convert image to uint8 prior to saving to suppress this warning.\n"
          ],
          "name": "stderr"
        },
        {
          "output_type": "stream",
          "text": [
            "3\n",
            "Created ouput directory: /content/drive/MyDrive/Radiology_workshop_monjoy/save_pngs_path/Normal//study_0250\n",
            "48\n",
            "Saving image...\n",
            "Saved.\n",
            "Moving image...\n",
            "Moved.\n",
            "Finished converting images\n",
            "Saving image...\n"
          ],
          "name": "stdout"
        },
        {
          "output_type": "stream",
          "text": [
            "WARNING:root:Lossy conversion from int16 to uint8. Range [-2048, 1305]. Convert image to uint8 prior to saving to suppress this warning.\n",
            "WARNING:root:Lossy conversion from int16 to uint8. Range [-2048, 1319]. Convert image to uint8 prior to saving to suppress this warning.\n"
          ],
          "name": "stderr"
        },
        {
          "output_type": "stream",
          "text": [
            "Saved.\n",
            "Moving image...\n",
            "Moved.\n",
            "Finished converting images\n",
            "Saving image...\n",
            "Saved.\n",
            "Moving image...\n",
            "Moved.\n",
            "Finished converting images\n",
            "Saving image...\n"
          ],
          "name": "stdout"
        },
        {
          "output_type": "stream",
          "text": [
            "WARNING:root:Lossy conversion from int16 to uint8. Range [-2048, 1471]. Convert image to uint8 prior to saving to suppress this warning.\n",
            "WARNING:root:Lossy conversion from int16 to uint8. Range [-2048, 1350]. Convert image to uint8 prior to saving to suppress this warning.\n"
          ],
          "name": "stderr"
        },
        {
          "output_type": "stream",
          "text": [
            "Saved.\n",
            "Moving image...\n",
            "Moved.\n",
            "Finished converting images\n",
            "Saving image...\n",
            "Saved.\n",
            "Moving image...\n",
            "Moved.\n",
            "Finished converting images\n",
            "Saving image...\n",
            "Saved.\n",
            "Moving image...\n",
            "Moved.\n",
            "Finished converting images\n",
            "Saving image...\n"
          ],
          "name": "stdout"
        },
        {
          "output_type": "stream",
          "text": [
            "WARNING:root:Lossy conversion from int16 to uint8. Range [-2048, 1309]. Convert image to uint8 prior to saving to suppress this warning.\n",
            "WARNING:root:Lossy conversion from int16 to uint8. Range [-2048, 1298]. Convert image to uint8 prior to saving to suppress this warning.\n",
            "WARNING:root:Lossy conversion from int16 to uint8. Range [-2048, 1397]. Convert image to uint8 prior to saving to suppress this warning.\n"
          ],
          "name": "stderr"
        },
        {
          "output_type": "stream",
          "text": [
            "Saved.\n",
            "Moving image...\n",
            "Moved.\n",
            "Finished converting images\n",
            "Saving image...\n",
            "Saved.\n",
            "Moving image...\n",
            "Moved.\n",
            "Finished converting images\n",
            "Saving image...\n"
          ],
          "name": "stdout"
        },
        {
          "output_type": "stream",
          "text": [
            "WARNING:root:Lossy conversion from int16 to uint8. Range [-2048, 1288]. Convert image to uint8 prior to saving to suppress this warning.\n",
            "WARNING:root:Lossy conversion from int16 to uint8. Range [-2048, 1386]. Convert image to uint8 prior to saving to suppress this warning.\n",
            "WARNING:root:Lossy conversion from int16 to uint8. Range [-2048, 1389]. Convert image to uint8 prior to saving to suppress this warning.\n"
          ],
          "name": "stderr"
        },
        {
          "output_type": "stream",
          "text": [
            "Saved.\n",
            "Moving image...\n",
            "Moved.\n",
            "Finished converting images\n",
            "Saving image...\n",
            "Saved.\n",
            "Moving image...\n",
            "Moved.\n",
            "Finished converting images\n",
            "Saving image...\n",
            "Saved.\n",
            "Moving image...\n",
            "Moved.\n",
            "Finished converting images\n",
            "Saving image...\n"
          ],
          "name": "stdout"
        },
        {
          "output_type": "stream",
          "text": [
            "WARNING:root:Lossy conversion from int16 to uint8. Range [-2048, 1382]. Convert image to uint8 prior to saving to suppress this warning.\n",
            "WARNING:root:Lossy conversion from int16 to uint8. Range [-2048, 1301]. Convert image to uint8 prior to saving to suppress this warning.\n"
          ],
          "name": "stderr"
        },
        {
          "output_type": "stream",
          "text": [
            "Saved.\n",
            "Moving image...\n",
            "Moved.\n",
            "Finished converting images\n",
            "Saving image...\n",
            "Saved.\n",
            "Moving image...\n",
            "Moved.\n",
            "Finished converting images\n",
            "Saving image...\n"
          ],
          "name": "stdout"
        },
        {
          "output_type": "stream",
          "text": [
            "WARNING:root:Lossy conversion from int16 to uint8. Range [-2048, 1358]. Convert image to uint8 prior to saving to suppress this warning.\n",
            "WARNING:root:Lossy conversion from int16 to uint8. Range [-2048, 1331]. Convert image to uint8 prior to saving to suppress this warning.\n"
          ],
          "name": "stderr"
        },
        {
          "output_type": "stream",
          "text": [
            "Saved.\n",
            "Moving image...\n",
            "Moved.\n",
            "Finished converting images\n",
            "Saving image...\n",
            "Saved.\n",
            "Moving image...\n",
            "Moved.\n",
            "Finished converting images\n",
            "Saving image...\n"
          ],
          "name": "stdout"
        },
        {
          "output_type": "stream",
          "text": [
            "WARNING:root:Lossy conversion from int16 to uint8. Range [-2048, 1472]. Convert image to uint8 prior to saving to suppress this warning.\n",
            "WARNING:root:Lossy conversion from int16 to uint8. Range [-2048, 1381]. Convert image to uint8 prior to saving to suppress this warning.\n"
          ],
          "name": "stderr"
        },
        {
          "output_type": "stream",
          "text": [
            "Saved.\n",
            "Moving image...\n",
            "Moved.\n",
            "Finished converting images\n",
            "Saving image...\n",
            "Saved.\n",
            "Moving image...\n",
            "Moved.\n",
            "Finished converting images\n",
            "Saving image...\n"
          ],
          "name": "stdout"
        },
        {
          "output_type": "stream",
          "text": [
            "WARNING:root:Lossy conversion from int16 to uint8. Range [-2048, 1341]. Convert image to uint8 prior to saving to suppress this warning.\n"
          ],
          "name": "stderr"
        },
        {
          "output_type": "stream",
          "text": [
            "Saved.\n",
            "Moving image...\n",
            "Moved.\n",
            "Finished converting images\n",
            "Saving image...\n"
          ],
          "name": "stdout"
        },
        {
          "output_type": "stream",
          "text": [
            "WARNING:root:Lossy conversion from int16 to uint8. Range [-2048, 1356]. Convert image to uint8 prior to saving to suppress this warning.\n"
          ],
          "name": "stderr"
        },
        {
          "output_type": "stream",
          "text": [
            "Saved.\n",
            "Moving image...\n",
            "Moved.\n",
            "Finished converting images\n",
            "Saving image...\n"
          ],
          "name": "stdout"
        },
        {
          "output_type": "stream",
          "text": [
            "WARNING:root:Lossy conversion from int16 to uint8. Range [-2048, 1284]. Convert image to uint8 prior to saving to suppress this warning.\n"
          ],
          "name": "stderr"
        },
        {
          "output_type": "stream",
          "text": [
            "Saved.\n",
            "Moving image...\n",
            "Moved.\n",
            "Finished converting images\n",
            "Saving image...\n"
          ],
          "name": "stdout"
        },
        {
          "output_type": "stream",
          "text": [
            "WARNING:root:Lossy conversion from int16 to uint8. Range [-2048, 1274]. Convert image to uint8 prior to saving to suppress this warning.\n"
          ],
          "name": "stderr"
        },
        {
          "output_type": "stream",
          "text": [
            "Saved.\n",
            "Moving image...\n",
            "Moved.\n",
            "Finished converting images\n",
            "Saving image...\n",
            "Saved.\n",
            "Moving image...\n",
            "Moved.\n",
            "Finished converting images\n",
            "Saving image...\n"
          ],
          "name": "stdout"
        },
        {
          "output_type": "stream",
          "text": [
            "WARNING:root:Lossy conversion from int16 to uint8. Range [-2048, 1312]. Convert image to uint8 prior to saving to suppress this warning.\n",
            "WARNING:root:Lossy conversion from int16 to uint8. Range [-2048, 1380]. Convert image to uint8 prior to saving to suppress this warning.\n",
            "WARNING:root:Lossy conversion from int16 to uint8. Range [-2048, 1315]. Convert image to uint8 prior to saving to suppress this warning.\n"
          ],
          "name": "stderr"
        },
        {
          "output_type": "stream",
          "text": [
            "Saved.\n",
            "Moving image...\n",
            "Moved.\n",
            "Finished converting images\n",
            "Saving image...\n",
            "Saved.\n",
            "Moving image...\n",
            "Moved.\n",
            "Finished converting images\n",
            "Saving image...\n"
          ],
          "name": "stdout"
        },
        {
          "output_type": "stream",
          "text": [
            "WARNING:root:Lossy conversion from int16 to uint8. Range [-2048, 1333]. Convert image to uint8 prior to saving to suppress this warning.\n"
          ],
          "name": "stderr"
        },
        {
          "output_type": "stream",
          "text": [
            "Saved.\n",
            "Moving image...\n",
            "Moved.\n",
            "Finished converting images\n",
            "Saving image...\n"
          ],
          "name": "stdout"
        },
        {
          "output_type": "stream",
          "text": [
            "WARNING:root:Lossy conversion from int16 to uint8. Range [-2048, 1305]. Convert image to uint8 prior to saving to suppress this warning.\n"
          ],
          "name": "stderr"
        },
        {
          "output_type": "stream",
          "text": [
            "Saved.\n",
            "Moving image...\n",
            "Moved.\n",
            "Finished converting images\n",
            "Saving image...\n"
          ],
          "name": "stdout"
        },
        {
          "output_type": "stream",
          "text": [
            "WARNING:root:Lossy conversion from int16 to uint8. Range [-2048, 1340]. Convert image to uint8 prior to saving to suppress this warning.\n",
            "WARNING:root:Lossy conversion from int16 to uint8. Range [-2048, 1382]. Convert image to uint8 prior to saving to suppress this warning.\n"
          ],
          "name": "stderr"
        },
        {
          "output_type": "stream",
          "text": [
            "Saved.\n",
            "Moving image...\n",
            "Moved.\n",
            "Finished converting images\n",
            "Saving image...\n",
            "Saved.\n",
            "Moving image...\n",
            "Moved.\n",
            "Finished converting images\n",
            "Saving image...\n"
          ],
          "name": "stdout"
        },
        {
          "output_type": "stream",
          "text": [
            "WARNING:root:Lossy conversion from int16 to uint8. Range [-2048, 1399]. Convert image to uint8 prior to saving to suppress this warning.\n",
            "WARNING:root:Lossy conversion from int16 to uint8. Range [-2048, 1433]. Convert image to uint8 prior to saving to suppress this warning.\n"
          ],
          "name": "stderr"
        },
        {
          "output_type": "stream",
          "text": [
            "Saved.\n",
            "Moving image...\n",
            "Moved.\n",
            "Finished converting images\n",
            "Saving image...\n",
            "Saved.\n",
            "Moving image...\n",
            "Moved.\n",
            "Finished converting images\n",
            "Saving image...\n"
          ],
          "name": "stdout"
        },
        {
          "output_type": "stream",
          "text": [
            "WARNING:root:Lossy conversion from int16 to uint8. Range [-2048, 1393]. Convert image to uint8 prior to saving to suppress this warning.\n"
          ],
          "name": "stderr"
        },
        {
          "output_type": "stream",
          "text": [
            "Saved.\n",
            "Moving image...\n",
            "Moved.\n",
            "Finished converting images\n",
            "Saving image...\n"
          ],
          "name": "stdout"
        },
        {
          "output_type": "stream",
          "text": [
            "WARNING:root:Lossy conversion from int16 to uint8. Range [-2048, 1371]. Convert image to uint8 prior to saving to suppress this warning.\n"
          ],
          "name": "stderr"
        },
        {
          "output_type": "stream",
          "text": [
            "Saved.\n",
            "Moving image...\n",
            "Moved.\n",
            "Finished converting images\n",
            "Saving image...\n"
          ],
          "name": "stdout"
        },
        {
          "output_type": "stream",
          "text": [
            "WARNING:root:Lossy conversion from int16 to uint8. Range [-2048, 1495]. Convert image to uint8 prior to saving to suppress this warning.\n",
            "WARNING:root:Lossy conversion from int16 to uint8. Range [-2048, 1536]. Convert image to uint8 prior to saving to suppress this warning.\n"
          ],
          "name": "stderr"
        },
        {
          "output_type": "stream",
          "text": [
            "Saved.\n",
            "Moving image...\n",
            "Moved.\n",
            "Finished converting images\n",
            "Saving image...\n",
            "Saved.\n",
            "Moving image...\n",
            "Moved.\n",
            "Finished converting images\n",
            "Saving image...\n"
          ],
          "name": "stdout"
        },
        {
          "output_type": "stream",
          "text": [
            "WARNING:root:Lossy conversion from int16 to uint8. Range [-2048, 1401]. Convert image to uint8 prior to saving to suppress this warning.\n",
            "WARNING:root:Lossy conversion from int16 to uint8. Range [-2048, 1433]. Convert image to uint8 prior to saving to suppress this warning.\n"
          ],
          "name": "stderr"
        },
        {
          "output_type": "stream",
          "text": [
            "Saved.\n",
            "Moving image...\n",
            "Moved.\n",
            "Finished converting images\n",
            "Saving image...\n",
            "Saved.\n",
            "Moving image...\n",
            "Moved.\n",
            "Finished converting images\n",
            "Saving image...\n"
          ],
          "name": "stdout"
        },
        {
          "output_type": "stream",
          "text": [
            "WARNING:root:Lossy conversion from int16 to uint8. Range [-2048, 1425]. Convert image to uint8 prior to saving to suppress this warning.\n"
          ],
          "name": "stderr"
        },
        {
          "output_type": "stream",
          "text": [
            "Saved.\n",
            "Moving image...\n",
            "Moved.\n",
            "Finished converting images\n",
            "Saving image...\n"
          ],
          "name": "stdout"
        },
        {
          "output_type": "stream",
          "text": [
            "WARNING:root:Lossy conversion from int16 to uint8. Range [-2048, 1470]. Convert image to uint8 prior to saving to suppress this warning.\n",
            "WARNING:root:Lossy conversion from int16 to uint8. Range [-2048, 1507]. Convert image to uint8 prior to saving to suppress this warning.\n"
          ],
          "name": "stderr"
        },
        {
          "output_type": "stream",
          "text": [
            "Saved.\n",
            "Moving image...\n",
            "Moved.\n",
            "Finished converting images\n",
            "Saving image...\n",
            "Saved.\n",
            "Moving image...\n",
            "Moved.\n",
            "Finished converting images\n",
            "Saving image...\n"
          ],
          "name": "stdout"
        },
        {
          "output_type": "stream",
          "text": [
            "WARNING:root:Lossy conversion from int16 to uint8. Range [-2048, 1687]. Convert image to uint8 prior to saving to suppress this warning.\n",
            "WARNING:root:Lossy conversion from int16 to uint8. Range [-2048, 1675]. Convert image to uint8 prior to saving to suppress this warning.\n"
          ],
          "name": "stderr"
        },
        {
          "output_type": "stream",
          "text": [
            "Saved.\n",
            "Moving image...\n",
            "Moved.\n",
            "Finished converting images\n",
            "Saving image...\n",
            "Saved.\n",
            "Moving image...\n",
            "Moved.\n",
            "Finished converting images\n",
            "Saving image...\n"
          ],
          "name": "stdout"
        },
        {
          "output_type": "stream",
          "text": [
            "WARNING:root:Lossy conversion from int16 to uint8. Range [-2048, 1638]. Convert image to uint8 prior to saving to suppress this warning.\n",
            "WARNING:root:Lossy conversion from int16 to uint8. Range [-2048, 1659]. Convert image to uint8 prior to saving to suppress this warning.\n"
          ],
          "name": "stderr"
        },
        {
          "output_type": "stream",
          "text": [
            "Saved.\n",
            "Moving image...\n",
            "Moved.\n",
            "Finished converting images\n",
            "Saving image...\n",
            "Saved.\n",
            "Moving image...\n",
            "Moved.\n",
            "Finished converting images\n",
            "Saving image...\n"
          ],
          "name": "stdout"
        },
        {
          "output_type": "stream",
          "text": [
            "WARNING:root:Lossy conversion from int16 to uint8. Range [-2048, 1677]. Convert image to uint8 prior to saving to suppress this warning.\n"
          ],
          "name": "stderr"
        },
        {
          "output_type": "stream",
          "text": [
            "Saved.\n",
            "Moving image...\n",
            "Moved.\n",
            "Finished converting images\n",
            "Saving image...\n",
            "Saved.\n",
            "Moving image...\n",
            "Moved.\n",
            "Finished converting images\n",
            "Saving image...\n"
          ],
          "name": "stdout"
        },
        {
          "output_type": "stream",
          "text": [
            "WARNING:root:Lossy conversion from int16 to uint8. Range [-2048, 1595]. Convert image to uint8 prior to saving to suppress this warning.\n",
            "WARNING:root:Lossy conversion from int16 to uint8. Range [-2048, 1574]. Convert image to uint8 prior to saving to suppress this warning.\n",
            "WARNING:root:Lossy conversion from int16 to uint8. Range [-2048, 1776]. Convert image to uint8 prior to saving to suppress this warning.\n"
          ],
          "name": "stderr"
        },
        {
          "output_type": "stream",
          "text": [
            "Saved.\n",
            "Moving image...\n",
            "Moved.\n",
            "Finished converting images\n",
            "Saving image...\n",
            "Saved.\n",
            "Moving image...\n",
            "Moved.\n",
            "Finished converting images\n",
            "Saving image...\n",
            "Saved.\n",
            "Moving image...\n",
            "Moved.\n",
            "Finished converting images\n",
            "study_0244\n"
          ],
          "name": "stdout"
        },
        {
          "output_type": "stream",
          "text": [
            "WARNING:root:Lossy conversion from int16 to uint8. Range [-2048, 1276]. Convert image to uint8 prior to saving to suppress this warning.\n",
            "WARNING:root:Lossy conversion from int16 to uint8. Range [-2048, 1213]. Convert image to uint8 prior to saving to suppress this warning.\n"
          ],
          "name": "stderr"
        },
        {
          "output_type": "stream",
          "text": [
            "3\n",
            "Created ouput directory: /content/drive/MyDrive/Radiology_workshop_monjoy/save_pngs_path/Normal//study_0244\n",
            "45\n",
            "Saving image...\n",
            "Saved.\n",
            "Moving image...\n",
            "Moved.\n",
            "Finished converting images\n",
            "Saving image...\n"
          ],
          "name": "stdout"
        },
        {
          "output_type": "stream",
          "text": [
            "WARNING:root:Lossy conversion from int16 to uint8. Range [-2048, 1322]. Convert image to uint8 prior to saving to suppress this warning.\n",
            "WARNING:root:Lossy conversion from int16 to uint8. Range [-2048, 1395]. Convert image to uint8 prior to saving to suppress this warning.\n"
          ],
          "name": "stderr"
        },
        {
          "output_type": "stream",
          "text": [
            "Saved.\n",
            "Moving image...\n",
            "Moved.\n",
            "Finished converting images\n",
            "Saving image...\n",
            "Saved.\n",
            "Moving image...\n",
            "Moved.\n",
            "Finished converting images\n",
            "Saving image...\n"
          ],
          "name": "stdout"
        },
        {
          "output_type": "stream",
          "text": [
            "WARNING:root:Lossy conversion from int16 to uint8. Range [-2048, 1231]. Convert image to uint8 prior to saving to suppress this warning.\n",
            "WARNING:root:Lossy conversion from int16 to uint8. Range [-2048, 1371]. Convert image to uint8 prior to saving to suppress this warning.\n"
          ],
          "name": "stderr"
        },
        {
          "output_type": "stream",
          "text": [
            "Saved.\n",
            "Moving image...\n",
            "Moved.\n",
            "Finished converting images\n",
            "Saving image...\n",
            "Saved.\n",
            "Moving image...\n",
            "Moved.\n",
            "Finished converting images\n",
            "Saving image...\n"
          ],
          "name": "stdout"
        },
        {
          "output_type": "stream",
          "text": [
            "WARNING:root:Lossy conversion from int16 to uint8. Range [-2048, 1252]. Convert image to uint8 prior to saving to suppress this warning.\n",
            "WARNING:root:Lossy conversion from int16 to uint8. Range [-2048, 1307]. Convert image to uint8 prior to saving to suppress this warning.\n"
          ],
          "name": "stderr"
        },
        {
          "output_type": "stream",
          "text": [
            "Saved.\n",
            "Moving image...\n",
            "Moved.\n",
            "Finished converting images\n",
            "Saving image...\n",
            "Saved.\n",
            "Moving image...\n",
            "Moved.\n",
            "Finished converting images\n",
            "Saving image...\n"
          ],
          "name": "stdout"
        },
        {
          "output_type": "stream",
          "text": [
            "WARNING:root:Lossy conversion from int16 to uint8. Range [-2048, 1249]. Convert image to uint8 prior to saving to suppress this warning.\n",
            "WARNING:root:Lossy conversion from int16 to uint8. Range [-2048, 1480]. Convert image to uint8 prior to saving to suppress this warning.\n"
          ],
          "name": "stderr"
        },
        {
          "output_type": "stream",
          "text": [
            "Saved.\n",
            "Moving image...\n",
            "Moved.\n",
            "Finished converting images\n",
            "Saving image...\n",
            "Saved.\n",
            "Moving image...\n",
            "Moved.\n",
            "Finished converting images\n",
            "Saving image...\n"
          ],
          "name": "stdout"
        },
        {
          "output_type": "stream",
          "text": [
            "WARNING:root:Lossy conversion from int16 to uint8. Range [-2048, 1366]. Convert image to uint8 prior to saving to suppress this warning.\n",
            "WARNING:root:Lossy conversion from int16 to uint8. Range [-2048, 1407]. Convert image to uint8 prior to saving to suppress this warning.\n"
          ],
          "name": "stderr"
        },
        {
          "output_type": "stream",
          "text": [
            "Saved.\n",
            "Moving image...\n",
            "Moved.\n",
            "Finished converting images\n",
            "Saving image...\n",
            "Saved.\n",
            "Moving image...\n",
            "Moved.\n",
            "Finished converting images\n",
            "Saving image...\n"
          ],
          "name": "stdout"
        },
        {
          "output_type": "stream",
          "text": [
            "WARNING:root:Lossy conversion from int16 to uint8. Range [-2048, 1202]. Convert image to uint8 prior to saving to suppress this warning.\n"
          ],
          "name": "stderr"
        },
        {
          "output_type": "stream",
          "text": [
            "Saved.\n",
            "Moving image...\n",
            "Moved.\n",
            "Finished converting images\n",
            "Saving image...\n"
          ],
          "name": "stdout"
        },
        {
          "output_type": "stream",
          "text": [
            "WARNING:root:Lossy conversion from int16 to uint8. Range [-2048, 1243]. Convert image to uint8 prior to saving to suppress this warning.\n"
          ],
          "name": "stderr"
        },
        {
          "output_type": "stream",
          "text": [
            "Saved.\n",
            "Moving image...\n",
            "Moved.\n",
            "Finished converting images\n",
            "Saving image...\n"
          ],
          "name": "stdout"
        },
        {
          "output_type": "stream",
          "text": [
            "WARNING:root:Lossy conversion from int16 to uint8. Range [-2048, 1256]. Convert image to uint8 prior to saving to suppress this warning.\n"
          ],
          "name": "stderr"
        },
        {
          "output_type": "stream",
          "text": [
            "Saved.\n",
            "Moving image...\n",
            "Moved.\n",
            "Finished converting images\n",
            "Saving image...\n"
          ],
          "name": "stdout"
        },
        {
          "output_type": "stream",
          "text": [
            "WARNING:root:Lossy conversion from int16 to uint8. Range [-2048, 1354]. Convert image to uint8 prior to saving to suppress this warning.\n"
          ],
          "name": "stderr"
        },
        {
          "output_type": "stream",
          "text": [
            "Saved.\n",
            "Moving image...\n",
            "Moved.\n",
            "Finished converting images\n",
            "Saving image...\n",
            "Saved.\n",
            "Moving image...\n",
            "Moved.\n"
          ],
          "name": "stdout"
        },
        {
          "output_type": "stream",
          "text": [
            "WARNING:root:Lossy conversion from int16 to uint8. Range [-2048, 1258]. Convert image to uint8 prior to saving to suppress this warning.\n"
          ],
          "name": "stderr"
        },
        {
          "output_type": "stream",
          "text": [
            "Finished converting images\n",
            "Saving image...\n"
          ],
          "name": "stdout"
        },
        {
          "output_type": "stream",
          "text": [
            "WARNING:root:Lossy conversion from int16 to uint8. Range [-2048, 1126]. Convert image to uint8 prior to saving to suppress this warning.\n"
          ],
          "name": "stderr"
        },
        {
          "output_type": "stream",
          "text": [
            "Saved.\n",
            "Moving image...\n",
            "Moved.\n",
            "Finished converting images\n",
            "Saving image...\n"
          ],
          "name": "stdout"
        },
        {
          "output_type": "stream",
          "text": [
            "WARNING:root:Lossy conversion from int16 to uint8. Range [-2048, 1371]. Convert image to uint8 prior to saving to suppress this warning.\n"
          ],
          "name": "stderr"
        },
        {
          "output_type": "stream",
          "text": [
            "Saved.\n",
            "Moving image...\n",
            "Moved.\n",
            "Finished converting images\n",
            "Saving image...\n"
          ],
          "name": "stdout"
        },
        {
          "output_type": "stream",
          "text": [
            "WARNING:root:Lossy conversion from int16 to uint8. Range [-2048, 1146]. Convert image to uint8 prior to saving to suppress this warning.\n"
          ],
          "name": "stderr"
        },
        {
          "output_type": "stream",
          "text": [
            "Saved.\n",
            "Moving image...\n",
            "Moved.\n",
            "Finished converting images\n",
            "Saving image...\n",
            "Saved."
          ],
          "name": "stdout"
        },
        {
          "output_type": "stream",
          "text": [
            "WARNING:root:Lossy conversion from int16 to uint8. Range [-2048, 1118]. Convert image to uint8 prior to saving to suppress this warning.\n"
          ],
          "name": "stderr"
        },
        {
          "output_type": "stream",
          "text": [
            "\n",
            "Moving image...\n",
            "Moved.\n",
            "Finished converting images\n",
            "Saving image...\n"
          ],
          "name": "stdout"
        },
        {
          "output_type": "stream",
          "text": [
            "WARNING:root:Lossy conversion from int16 to uint8. Range [-2048, 1366]. Convert image to uint8 prior to saving to suppress this warning.\n"
          ],
          "name": "stderr"
        },
        {
          "output_type": "stream",
          "text": [
            "Saved.\n",
            "Moving image...\n",
            "Moved.\n",
            "Finished converting images\n",
            "Saving image...\n",
            "Saved.\n",
            "Moving image...\n",
            "Moved.\n",
            "Finished converting images\n",
            "Saving image...\n"
          ],
          "name": "stdout"
        },
        {
          "output_type": "stream",
          "text": [
            "WARNING:root:Lossy conversion from int16 to uint8. Range [-2048, 1320]. Convert image to uint8 prior to saving to suppress this warning.\n",
            "WARNING:root:Lossy conversion from int16 to uint8. Range [-2048, 1190]. Convert image to uint8 prior to saving to suppress this warning.\n"
          ],
          "name": "stderr"
        },
        {
          "output_type": "stream",
          "text": [
            "Saved.\n",
            "Moving image...\n",
            "Moved.\n",
            "Finished converting images\n",
            "Saving image...\n"
          ],
          "name": "stdout"
        },
        {
          "output_type": "stream",
          "text": [
            "WARNING:root:Lossy conversion from int16 to uint8. Range [-2048, 1256]. Convert image to uint8 prior to saving to suppress this warning.\n"
          ],
          "name": "stderr"
        },
        {
          "output_type": "stream",
          "text": [
            "Saved.\n",
            "Moving image...\n",
            "Moved.\n",
            "Finished converting images\n",
            "Saving image...\n"
          ],
          "name": "stdout"
        },
        {
          "output_type": "stream",
          "text": [
            "WARNING:root:Lossy conversion from int16 to uint8. Range [-2048, 1304]. Convert image to uint8 prior to saving to suppress this warning.\n"
          ],
          "name": "stderr"
        },
        {
          "output_type": "stream",
          "text": [
            "Saved.\n",
            "Moving image...\n",
            "Moved.\n",
            "Finished converting images\n",
            "Saving image...\n"
          ],
          "name": "stdout"
        },
        {
          "output_type": "stream",
          "text": [
            "WARNING:root:Lossy conversion from int16 to uint8. Range [-2048, 1293]. Convert image to uint8 prior to saving to suppress this warning.\n"
          ],
          "name": "stderr"
        },
        {
          "output_type": "stream",
          "text": [
            "Saved.\n",
            "Moving image...\n",
            "Moved.\n",
            "Finished converting images\n",
            "Saving image...\n"
          ],
          "name": "stdout"
        },
        {
          "output_type": "stream",
          "text": [
            "WARNING:root:Lossy conversion from int16 to uint8. Range [-2048, 1120]. Convert image to uint8 prior to saving to suppress this warning.\n",
            "WARNING:root:Lossy conversion from int16 to uint8. Range [-2048, 1302]. Convert image to uint8 prior to saving to suppress this warning.\n"
          ],
          "name": "stderr"
        },
        {
          "output_type": "stream",
          "text": [
            "Saved.\n",
            "Moving image...\n",
            "Moved.\n",
            "Finished converting images\n",
            "Saving image...\n",
            "Saved.\n",
            "Moving image...\n",
            "Moved.\n",
            "Finished converting images\n",
            "Saving image...\n"
          ],
          "name": "stdout"
        },
        {
          "output_type": "stream",
          "text": [
            "WARNING:root:Lossy conversion from int16 to uint8. Range [-2048, 1334]. Convert image to uint8 prior to saving to suppress this warning.\n"
          ],
          "name": "stderr"
        },
        {
          "output_type": "stream",
          "text": [
            "Saved.\n",
            "Moving image...\n",
            "Moved.\n",
            "Finished converting images\n",
            "Saving image...\n"
          ],
          "name": "stdout"
        },
        {
          "output_type": "stream",
          "text": [
            "WARNING:root:Lossy conversion from int16 to uint8. Range [-2048, 1249]. Convert image to uint8 prior to saving to suppress this warning.\n"
          ],
          "name": "stderr"
        },
        {
          "output_type": "stream",
          "text": [
            "Saved.\n",
            "Moving image...\n",
            "Moved.\n",
            "Finished converting images\n",
            "Saving image...\n"
          ],
          "name": "stdout"
        },
        {
          "output_type": "stream",
          "text": [
            "WARNING:root:Lossy conversion from int16 to uint8. Range [-2048, 1409]. Convert image to uint8 prior to saving to suppress this warning.\n"
          ],
          "name": "stderr"
        },
        {
          "output_type": "stream",
          "text": [
            "Saved.\n",
            "Moving image...\n",
            "Moved.\n",
            "Finished converting images\n",
            "Saving image...\n"
          ],
          "name": "stdout"
        },
        {
          "output_type": "stream",
          "text": [
            "WARNING:root:Lossy conversion from int16 to uint8. Range [-2048, 1432]. Convert image to uint8 prior to saving to suppress this warning.\n"
          ],
          "name": "stderr"
        },
        {
          "output_type": "stream",
          "text": [
            "Saved.\n",
            "Moving image...\n",
            "Moved.\n",
            "Finished converting images\n",
            "Saving image...\n"
          ],
          "name": "stdout"
        },
        {
          "output_type": "stream",
          "text": [
            "WARNING:root:Lossy conversion from int16 to uint8. Range [-2048, 1464]. Convert image to uint8 prior to saving to suppress this warning.\n"
          ],
          "name": "stderr"
        },
        {
          "output_type": "stream",
          "text": [
            "Saved.\n",
            "Moving image...\n",
            "Moved.\n",
            "Finished converting images\n",
            "Saving image...\n"
          ],
          "name": "stdout"
        },
        {
          "output_type": "stream",
          "text": [
            "WARNING:root:Lossy conversion from int16 to uint8. Range [-2048, 1469]. Convert image to uint8 prior to saving to suppress this warning.\n"
          ],
          "name": "stderr"
        },
        {
          "output_type": "stream",
          "text": [
            "Saved.\n",
            "Moving image...\n",
            "Moved.\n",
            "Finished converting images\n",
            "Saving image...\n",
            "Saved.\n",
            "Moving image...\n",
            "Moved.\n",
            "Finished converting images\n",
            "Saving image...\n"
          ],
          "name": "stdout"
        },
        {
          "output_type": "stream",
          "text": [
            "WARNING:root:Lossy conversion from int16 to uint8. Range [-2048, 1398]. Convert image to uint8 prior to saving to suppress this warning.\n",
            "WARNING:root:Lossy conversion from int16 to uint8. Range [-2048, 1337]. Convert image to uint8 prior to saving to suppress this warning.\n"
          ],
          "name": "stderr"
        },
        {
          "output_type": "stream",
          "text": [
            "Saved.\n",
            "Moving image...\n",
            "Moved.\n",
            "Finished converting images\n",
            "Saving image...\n"
          ],
          "name": "stdout"
        },
        {
          "output_type": "stream",
          "text": [
            "WARNING:root:Lossy conversion from int16 to uint8. Range [-2048, 1455]. Convert image to uint8 prior to saving to suppress this warning.\n",
            "WARNING:root:Lossy conversion from int16 to uint8. Range [-2048, 1527]. Convert image to uint8 prior to saving to suppress this warning.\n"
          ],
          "name": "stderr"
        },
        {
          "output_type": "stream",
          "text": [
            "Saved.\n",
            "Moving image...\n",
            "Moved.\n",
            "Finished converting images\n",
            "Saving image...\n",
            "Saved.\n",
            "Moving image...\n",
            "Moved.\n",
            "Finished converting images\n",
            "Saving image...\n"
          ],
          "name": "stdout"
        },
        {
          "output_type": "stream",
          "text": [
            "WARNING:root:Lossy conversion from int16 to uint8. Range [-2048, 1571]. Convert image to uint8 prior to saving to suppress this warning.\n"
          ],
          "name": "stderr"
        },
        {
          "output_type": "stream",
          "text": [
            "Saved.\n",
            "Moving image...\n",
            "Moved.\n",
            "Finished converting images\n",
            "Saving image...\n",
            "Saved."
          ],
          "name": "stdout"
        },
        {
          "output_type": "stream",
          "text": [
            "WARNING:root:Lossy conversion from int16 to uint8. Range [-2048, 1489]. Convert image to uint8 prior to saving to suppress this warning.\n"
          ],
          "name": "stderr"
        },
        {
          "output_type": "stream",
          "text": [
            "\n",
            "Moving image...\n",
            "Moved.\n",
            "Finished converting images\n",
            "Saving image...\n"
          ],
          "name": "stdout"
        },
        {
          "output_type": "stream",
          "text": [
            "WARNING:root:Lossy conversion from int16 to uint8. Range [-2048, 1674]. Convert image to uint8 prior to saving to suppress this warning.\n"
          ],
          "name": "stderr"
        },
        {
          "output_type": "stream",
          "text": [
            "Saved.\n",
            "Moving image...\n",
            "Moved.\n",
            "Finished converting images\n",
            "Saving image...\n"
          ],
          "name": "stdout"
        },
        {
          "output_type": "stream",
          "text": [
            "WARNING:root:Lossy conversion from int16 to uint8. Range [-2048, 1691]. Convert image to uint8 prior to saving to suppress this warning.\n"
          ],
          "name": "stderr"
        },
        {
          "output_type": "stream",
          "text": [
            "Saved.\n",
            "Moving image...\n",
            "Moved.\n",
            "Finished converting images\n",
            "Saving image...\n"
          ],
          "name": "stdout"
        },
        {
          "output_type": "stream",
          "text": [
            "WARNING:root:Lossy conversion from int16 to uint8. Range [-2048, 1636]. Convert image to uint8 prior to saving to suppress this warning.\n"
          ],
          "name": "stderr"
        },
        {
          "output_type": "stream",
          "text": [
            "Saved.\n",
            "Moving image...\n",
            "Moved.\n",
            "Finished converting images\n",
            "Saving image...\n"
          ],
          "name": "stdout"
        },
        {
          "output_type": "stream",
          "text": [
            "WARNING:root:Lossy conversion from int16 to uint8. Range [-2048, 1664]. Convert image to uint8 prior to saving to suppress this warning.\n"
          ],
          "name": "stderr"
        },
        {
          "output_type": "stream",
          "text": [
            "Saved.\n",
            "Moving image...\n",
            "Moved.\n",
            "Finished converting images\n",
            "Saving image...\n",
            "Saved.\n",
            "Moving image...\n",
            "Moved.\n",
            "Finished converting images\n",
            "study_0239\n"
          ],
          "name": "stdout"
        },
        {
          "output_type": "stream",
          "text": [
            "WARNING:root:Lossy conversion from int16 to uint8. Range [-2048, 1214]. Convert image to uint8 prior to saving to suppress this warning.\n"
          ],
          "name": "stderr"
        },
        {
          "output_type": "stream",
          "text": [
            "3\n",
            "Created ouput directory: /content/drive/MyDrive/Radiology_workshop_monjoy/save_pngs_path/Normal//study_0239\n",
            "43\n",
            "Saving image...\n"
          ],
          "name": "stdout"
        },
        {
          "output_type": "stream",
          "text": [
            "WARNING:root:Lossy conversion from int16 to uint8. Range [-2048, 1301]. Convert image to uint8 prior to saving to suppress this warning.\n"
          ],
          "name": "stderr"
        },
        {
          "output_type": "stream",
          "text": [
            "Saved.\n",
            "Moving image...\n",
            "Moved.\n",
            "Finished converting images\n",
            "Saving image...\n"
          ],
          "name": "stdout"
        },
        {
          "output_type": "stream",
          "text": [
            "WARNING:root:Lossy conversion from int16 to uint8. Range [-2048, 1366]. Convert image to uint8 prior to saving to suppress this warning.\n",
            "WARNING:root:Lossy conversion from int16 to uint8. Range [-2048, 1263]. Convert image to uint8 prior to saving to suppress this warning.\n"
          ],
          "name": "stderr"
        },
        {
          "output_type": "stream",
          "text": [
            "Saved.\n",
            "Moving image...\n",
            "Moved.\n",
            "Finished converting images\n",
            "Saving image...\n",
            "Saved.\n",
            "Moving image...\n",
            "Moved.\n",
            "Finished converting images\n",
            "Saving image...\n"
          ],
          "name": "stdout"
        },
        {
          "output_type": "stream",
          "text": [
            "WARNING:root:Lossy conversion from int16 to uint8. Range [-2048, 1183]. Convert image to uint8 prior to saving to suppress this warning.\n",
            "WARNING:root:Lossy conversion from int16 to uint8. Range [-2048, 1333]. Convert image to uint8 prior to saving to suppress this warning.\n"
          ],
          "name": "stderr"
        },
        {
          "output_type": "stream",
          "text": [
            "Saved.\n",
            "Moving image...\n",
            "Moved.\n",
            "Finished converting images\n",
            "Saving image...\n",
            "Saved.\n",
            "Moving image...\n",
            "Moved.\n",
            "Finished converting images\n",
            "Saving image...\n"
          ],
          "name": "stdout"
        },
        {
          "output_type": "stream",
          "text": [
            "WARNING:root:Lossy conversion from int16 to uint8. Range [-2048, 1342]. Convert image to uint8 prior to saving to suppress this warning.\n"
          ],
          "name": "stderr"
        },
        {
          "output_type": "stream",
          "text": [
            "Saved.\n",
            "Moving image...\n",
            "Moved.\n",
            "Finished converting images\n",
            "Saving image...\n"
          ],
          "name": "stdout"
        },
        {
          "output_type": "stream",
          "text": [
            "WARNING:root:Lossy conversion from int16 to uint8. Range [-2048, 1153]. Convert image to uint8 prior to saving to suppress this warning.\n",
            "WARNING:root:Lossy conversion from int16 to uint8. Range [-2048, 1040]. Convert image to uint8 prior to saving to suppress this warning.\n"
          ],
          "name": "stderr"
        },
        {
          "output_type": "stream",
          "text": [
            "Saved.\n",
            "Moving image...\n",
            "Moved.\n",
            "Finished converting images\n",
            "Saving image...\n",
            "Saved.\n",
            "Moving image...\n",
            "Moved.\n",
            "Finished converting images\n",
            "Saving image...\n"
          ],
          "name": "stdout"
        },
        {
          "output_type": "stream",
          "text": [
            "WARNING:root:Lossy conversion from int16 to uint8. Range [-2048, 1302]. Convert image to uint8 prior to saving to suppress this warning.\n",
            "WARNING:root:Lossy conversion from int16 to uint8. Range [-2048, 1343]. Convert image to uint8 prior to saving to suppress this warning.\n"
          ],
          "name": "stderr"
        },
        {
          "output_type": "stream",
          "text": [
            "Saved.\n",
            "Moving image...\n",
            "Moved.\n",
            "Finished converting images\n",
            "Saving image...\n",
            "Saved.\n",
            "Moving image...\n",
            "Moved.\n",
            "Finished converting images\n",
            "Saving image...\n"
          ],
          "name": "stdout"
        },
        {
          "output_type": "stream",
          "text": [
            "WARNING:root:Lossy conversion from int16 to uint8. Range [-2048, 1099]. Convert image to uint8 prior to saving to suppress this warning.\n"
          ],
          "name": "stderr"
        },
        {
          "output_type": "stream",
          "text": [
            "Saved.\n",
            "Moving image...\n",
            "Moved.\n",
            "Finished converting images\n",
            "Saving image...\n"
          ],
          "name": "stdout"
        },
        {
          "output_type": "stream",
          "text": [
            "WARNING:root:Lossy conversion from int16 to uint8. Range [-2048, 1258]. Convert image to uint8 prior to saving to suppress this warning.\n"
          ],
          "name": "stderr"
        },
        {
          "output_type": "stream",
          "text": [
            "Saved.\n",
            "Moving image...\n",
            "Moved.\n",
            "Finished converting images\n",
            "Saving image...\n"
          ],
          "name": "stdout"
        },
        {
          "output_type": "stream",
          "text": [
            "WARNING:root:Lossy conversion from int16 to uint8. Range [-2048, 1215]. Convert image to uint8 prior to saving to suppress this warning.\n"
          ],
          "name": "stderr"
        },
        {
          "output_type": "stream",
          "text": [
            "Saved.\n",
            "Moving image...\n",
            "Moved.\n",
            "Finished converting images\n",
            "Saving image...\n"
          ],
          "name": "stdout"
        },
        {
          "output_type": "stream",
          "text": [
            "WARNING:root:Lossy conversion from int16 to uint8. Range [-2048, 1144]. Convert image to uint8 prior to saving to suppress this warning.\n"
          ],
          "name": "stderr"
        },
        {
          "output_type": "stream",
          "text": [
            "Saved.\n",
            "Moving image...\n",
            "Moved.\n",
            "Finished converting images\n",
            "Saving image...\n"
          ],
          "name": "stdout"
        },
        {
          "output_type": "stream",
          "text": [
            "WARNING:root:Lossy conversion from int16 to uint8. Range [-2048, 1164]. Convert image to uint8 prior to saving to suppress this warning.\n"
          ],
          "name": "stderr"
        },
        {
          "output_type": "stream",
          "text": [
            "Saved.\n",
            "Moving image...\n",
            "Moved.\n",
            "Finished converting images\n",
            "Saving image...\n",
            "Saved."
          ],
          "name": "stdout"
        },
        {
          "output_type": "stream",
          "text": [
            "WARNING:root:Lossy conversion from int16 to uint8. Range [-2048, 1185]. Convert image to uint8 prior to saving to suppress this warning.\n"
          ],
          "name": "stderr"
        },
        {
          "output_type": "stream",
          "text": [
            "\n",
            "Moving image...\n",
            "Moved.\n",
            "Finished converting images\n",
            "Saving image...\n"
          ],
          "name": "stdout"
        },
        {
          "output_type": "stream",
          "text": [
            "WARNING:root:Lossy conversion from int16 to uint8. Range [-2048, 1063]. Convert image to uint8 prior to saving to suppress this warning.\n"
          ],
          "name": "stderr"
        },
        {
          "output_type": "stream",
          "text": [
            "Saved.\n",
            "Moving image...\n",
            "Moved.\n",
            "Finished converting images\n",
            "Saving image...\n"
          ],
          "name": "stdout"
        },
        {
          "output_type": "stream",
          "text": [
            "WARNING:root:Lossy conversion from int16 to uint8. Range [-2048, 917]. Convert image to uint8 prior to saving to suppress this warning.\n"
          ],
          "name": "stderr"
        },
        {
          "output_type": "stream",
          "text": [
            "Saved.\n",
            "Moving image...\n",
            "Moved.\n",
            "Finished converting images\n",
            "Saving image...\n"
          ],
          "name": "stdout"
        },
        {
          "output_type": "stream",
          "text": [
            "WARNING:root:Lossy conversion from int16 to uint8. Range [-2048, 1036]. Convert image to uint8 prior to saving to suppress this warning.\n"
          ],
          "name": "stderr"
        },
        {
          "output_type": "stream",
          "text": [
            "Saved.\n",
            "Moving image...\n",
            "Moved.\n",
            "Finished converting images\n",
            "Saving image...\n"
          ],
          "name": "stdout"
        },
        {
          "output_type": "stream",
          "text": [
            "WARNING:root:Lossy conversion from int16 to uint8. Range [-2048, 1027]. Convert image to uint8 prior to saving to suppress this warning.\n",
            "WARNING:root:Lossy conversion from int16 to uint8. Range [-2048, 1153]. Convert image to uint8 prior to saving to suppress this warning.\n"
          ],
          "name": "stderr"
        },
        {
          "output_type": "stream",
          "text": [
            "Saved.\n",
            "Moving image...\n",
            "Moved.\n",
            "Finished converting images\n",
            "Saving image...\n",
            "Saved.\n",
            "Moving image...\n",
            "Moved.\n",
            "Finished converting images\n",
            "Saving image...\n"
          ],
          "name": "stdout"
        },
        {
          "output_type": "stream",
          "text": [
            "WARNING:root:Lossy conversion from int16 to uint8. Range [-2048, 1171]. Convert image to uint8 prior to saving to suppress this warning.\n",
            "WARNING:root:Lossy conversion from int16 to uint8. Range [-2048, 1079]. Convert image to uint8 prior to saving to suppress this warning.\n"
          ],
          "name": "stderr"
        },
        {
          "output_type": "stream",
          "text": [
            "Saved.\n",
            "Moving image...\n",
            "Moved.\n",
            "Finished converting images\n",
            "Saving image...\n",
            "Saved.\n",
            "Moving image...\n",
            "Moved.\n",
            "Finished converting images\n",
            "Saving image...\n"
          ],
          "name": "stdout"
        },
        {
          "output_type": "stream",
          "text": [
            "WARNING:root:Lossy conversion from int16 to uint8. Range [-2048, 1295]. Convert image to uint8 prior to saving to suppress this warning.\n"
          ],
          "name": "stderr"
        },
        {
          "output_type": "stream",
          "text": [
            "Saved.\n",
            "Moving image...\n",
            "Moved.\n",
            "Finished converting images\n",
            "Saving image...\n"
          ],
          "name": "stdout"
        },
        {
          "output_type": "stream",
          "text": [
            "WARNING:root:Lossy conversion from int16 to uint8. Range [-2048, 1287]. Convert image to uint8 prior to saving to suppress this warning.\n"
          ],
          "name": "stderr"
        },
        {
          "output_type": "stream",
          "text": [
            "Saved.\n",
            "Moving image...\n",
            "Moved.\n",
            "Finished converting images\n",
            "Saving image...\n"
          ],
          "name": "stdout"
        },
        {
          "output_type": "stream",
          "text": [
            "WARNING:root:Lossy conversion from int16 to uint8. Range [-2048, 1413]. Convert image to uint8 prior to saving to suppress this warning.\n"
          ],
          "name": "stderr"
        },
        {
          "output_type": "stream",
          "text": [
            "Saved.\n",
            "Moving image...\n",
            "Moved.\n",
            "Finished converting images\n",
            "Saving image...\n"
          ],
          "name": "stdout"
        },
        {
          "output_type": "stream",
          "text": [
            "WARNING:root:Lossy conversion from int16 to uint8. Range [-2048, 1397]. Convert image to uint8 prior to saving to suppress this warning.\n"
          ],
          "name": "stderr"
        },
        {
          "output_type": "stream",
          "text": [
            "Saved.\n",
            "Moving image...\n",
            "Moved.\n",
            "Finished converting images\n",
            "Saving image...\n",
            "Saved.\n",
            "Moving image...\n",
            "Moved.\n",
            "Finished converting images\n",
            "Saving image...\n"
          ],
          "name": "stdout"
        },
        {
          "output_type": "stream",
          "text": [
            "WARNING:root:Lossy conversion from int16 to uint8. Range [-2048, 1457]. Convert image to uint8 prior to saving to suppress this warning.\n",
            "WARNING:root:Lossy conversion from int16 to uint8. Range [-2048, 1376]. Convert image to uint8 prior to saving to suppress this warning.\n"
          ],
          "name": "stderr"
        },
        {
          "output_type": "stream",
          "text": [
            "Saved.\n",
            "Moving image...\n",
            "Moved.\n",
            "Finished converting images\n",
            "Saving image...\n"
          ],
          "name": "stdout"
        },
        {
          "output_type": "stream",
          "text": [
            "WARNING:root:Lossy conversion from int16 to uint8. Range [-2048, 1236]. Convert image to uint8 prior to saving to suppress this warning.\n"
          ],
          "name": "stderr"
        },
        {
          "output_type": "stream",
          "text": [
            "Saved.\n",
            "Moving image...\n",
            "Moved.\n",
            "Finished converting images\n",
            "Saving image...\n"
          ],
          "name": "stdout"
        },
        {
          "output_type": "stream",
          "text": [
            "WARNING:root:Lossy conversion from int16 to uint8. Range [-2048, 1394]. Convert image to uint8 prior to saving to suppress this warning.\n"
          ],
          "name": "stderr"
        },
        {
          "output_type": "stream",
          "text": [
            "Saved.\n",
            "Moving image...\n",
            "Moved.\n",
            "Finished converting images\n",
            "Saving image...\n"
          ],
          "name": "stdout"
        },
        {
          "output_type": "stream",
          "text": [
            "WARNING:root:Lossy conversion from int16 to uint8. Range [-2048, 1515]. Convert image to uint8 prior to saving to suppress this warning.\n"
          ],
          "name": "stderr"
        },
        {
          "output_type": "stream",
          "text": [
            "Saved.\n",
            "Moving image...\n",
            "Moved.\n",
            "Finished converting images\n",
            "Saving image...\n",
            "Saved.\n",
            "Moving image...\n",
            "Moved.\n",
            "Finished converting images\n",
            "Saving image...\n"
          ],
          "name": "stdout"
        },
        {
          "output_type": "stream",
          "text": [
            "WARNING:root:Lossy conversion from int16 to uint8. Range [-2048, 1567]. Convert image to uint8 prior to saving to suppress this warning.\n",
            "WARNING:root:Lossy conversion from int16 to uint8. Range [-2048, 1410]. Convert image to uint8 prior to saving to suppress this warning.\n",
            "WARNING:root:Lossy conversion from int16 to uint8. Range [-2048, 1319]. Convert image to uint8 prior to saving to suppress this warning.\n"
          ],
          "name": "stderr"
        },
        {
          "output_type": "stream",
          "text": [
            "Saved.\n",
            "Moving image...\n",
            "Moved.\n",
            "Finished converting images\n",
            "Saving image...\n",
            "Saved.\n",
            "Moving image...\n",
            "Moved.\n",
            "Finished converting images\n",
            "Saving image...\n"
          ],
          "name": "stdout"
        },
        {
          "output_type": "stream",
          "text": [
            "WARNING:root:Lossy conversion from int16 to uint8. Range [-2048, 1547]. Convert image to uint8 prior to saving to suppress this warning.\n"
          ],
          "name": "stderr"
        },
        {
          "output_type": "stream",
          "text": [
            "Saved.\n",
            "Moving image...\n",
            "Moved.\n",
            "Finished converting images\n",
            "Saving image...\n"
          ],
          "name": "stdout"
        },
        {
          "output_type": "stream",
          "text": [
            "WARNING:root:Lossy conversion from int16 to uint8. Range [-2048, 1589]. Convert image to uint8 prior to saving to suppress this warning.\n"
          ],
          "name": "stderr"
        },
        {
          "output_type": "stream",
          "text": [
            "Saved.\n",
            "Moving image...\n",
            "Moved.\n",
            "Finished converting images\n",
            "Saving image...\n"
          ],
          "name": "stdout"
        },
        {
          "output_type": "stream",
          "text": [
            "WARNING:root:Lossy conversion from int16 to uint8. Range [-2048, 1622]. Convert image to uint8 prior to saving to suppress this warning.\n"
          ],
          "name": "stderr"
        },
        {
          "output_type": "stream",
          "text": [
            "Saved.\n",
            "Moving image...\n",
            "Moved.\n",
            "Finished converting images\n",
            "Saving image...\n"
          ],
          "name": "stdout"
        },
        {
          "output_type": "stream",
          "text": [
            "WARNING:root:Lossy conversion from int16 to uint8. Range [-2048, 1640]. Convert image to uint8 prior to saving to suppress this warning.\n"
          ],
          "name": "stderr"
        },
        {
          "output_type": "stream",
          "text": [
            "Saved.\n",
            "Moving image...\n",
            "Moved.\n",
            "Finished converting images\n",
            "Saving image...\n",
            "Saved."
          ],
          "name": "stdout"
        },
        {
          "output_type": "stream",
          "text": [
            "WARNING:root:Lossy conversion from int16 to uint8. Range [-2048, 1569]. Convert image to uint8 prior to saving to suppress this warning.\n",
            "WARNING:root:Lossy conversion from int16 to uint8. Range [-2048, 1557]. Convert image to uint8 prior to saving to suppress this warning.\n"
          ],
          "name": "stderr"
        },
        {
          "output_type": "stream",
          "text": [
            "\n",
            "Moving image...\n",
            "Moved.\n",
            "Finished converting images\n",
            "Saving image...\n",
            "Saved.\n",
            "Moving image...\n",
            "Moved.\n",
            "Finished converting images\n",
            "Saving image...\n"
          ],
          "name": "stdout"
        },
        {
          "output_type": "stream",
          "text": [
            "WARNING:root:Lossy conversion from int16 to uint8. Range [-2048, 1876]. Convert image to uint8 prior to saving to suppress this warning.\n"
          ],
          "name": "stderr"
        },
        {
          "output_type": "stream",
          "text": [
            "Saved.\n",
            "Moving image...\n",
            "Moved.\n",
            "Finished converting images\n",
            "Saving image...\n",
            "Saved.\n",
            "Moving image...\n",
            "Moved.\n",
            "Finished converting images\n"
          ],
          "name": "stdout"
        }
      ]
    }
  ]
}